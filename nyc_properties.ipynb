{
 "cells": [
  {
   "cell_type": "markdown",
   "metadata": {},
   "source": [
    "\n",
    "# Learning Pandas using enigma.io's API and datasets.\n",
    "\n",
    "***"
   ]
  },
  {
   "cell_type": "markdown",
   "metadata": {},
   "source": [
    "## Data exploration of NYC property assessment values (2010, 2014).\n",
    "\n",
    "***Note***: Ideally I'd use multiple datasets from different sources that overlap a little, but that also augment each other. \n",
    "\n",
    "That's what makes enigma particularly interesting, the simultaneous \"normalized\" access to datasets of different origins.  \n",
    "\n",
    "But for now, baby Pandas steps, and start with the NYC property assessments dataset, which may allow us to do fun things such as being nosy and see how much the houses in our block have gained in value recently, and how many properties the Scottos own."
   ]
  },
  {
   "cell_type": "code",
   "execution_count": 1,
   "metadata": {
    "collapsed": true
   },
   "outputs": [],
   "source": [
    "%matplotlib inline\n",
    "import pandas as pd\n",
    "import numpy as np"
   ]
  },
  {
   "cell_type": "markdown",
   "metadata": {},
   "source": [
    "\n",
    "\n",
    "## Download the two datasets making use of enigma.io API."
   ]
  },
  {
   "cell_type": "markdown",
   "metadata": {},
   "source": [
    "Go to last cell in this notebook, which shows an initial version of a Python client to enigma.io.\n",
    "To download a dataset, the module containing the client would be invoked like this...\n",
    "\n",
    "      ENV_ENIGMA_APIKEY=xyz ./enigma_client.py us.states.ny.cities.nyc.property.assessment-valuation.avroll.2010\n",
    "      ENV_ENIGMA_APIKEY=xyz ./enigma_client.py us.states.ny.cities.nyc.property.assessment-valuation.avroll.2014"
   ]
  },
  {
   "cell_type": "markdown",
   "metadata": {},
   "source": [
    "## Taking too long to read the csv file into a Pandas DataFrame.\n",
    "\n",
    "### What did we just download? Check-out file sizes, number of rows...\n"
   ]
  },
  {
   "cell_type": "code",
   "execution_count": 2,
   "metadata": {
    "collapsed": false
   },
   "outputs": [
    {
     "name": "stdout",
     "output_type": "stream",
     "text": [
      "Num lines 2010: 1,060,513\n",
      "Num lines 2014: 1,088,351\n",
      "\n",
      "File size 2010: 164,461,696\n",
      "File size 2014: 185,122,823\n"
     ]
    }
   ],
   "source": [
    "import os\n",
    "\n",
    "num_lines_10 = !wc -l nyc_property_assessments/nyc.prop_assess_2010.csv\n",
    "num_lines_14 = !wc -l nyc_property_assessments/nyc.prop_assess_2014.csv\n",
    "print(\"Num lines 2010: {:,}\".format(int(num_lines_10[0].split()[0])))\n",
    "print(\"Num lines 2014: {:,}\".format(int(num_lines_14[0].split()[0])))\n",
    "\n",
    "print()\n",
    "\n",
    "nyc_props_2010_fname = \"nyc_property_assessments/nyc.prop_assess_2010.csv\"\n",
    "nyc_props_2014_fname = \"nyc_property_assessments/nyc.prop_assess_2014.csv\"\n",
    "print(\"File size 2010: {:,}\".format(os.stat(nyc_props_2014_fname).st_size))\n",
    "print(\"File size 2014: {:,}\".format(os.stat(nyc_props_2010_fname).st_size))\n"
   ]
  },
  {
   "cell_type": "markdown",
   "metadata": {},
   "source": [
    "## So, around file sizes of 160MB for 2010 and 185MB for 2014.\n",
    "\n",
    "#### Hmmm, importing these as Pandas DataFrames may thrash my humble laptop/VM.\n",
    "\n",
    "#### Run some tests to get an idea about memory usage.<br>Do multiple read_csv(), increasing the number of rows read in each one.\n",
    "\n",
    "See if memory consumption increases linearly.<br>Project mem usage for max number of rows.\n"
   ]
  },
  {
   "cell_type": "code",
   "execution_count": 3,
   "metadata": {
    "collapsed": false
   },
   "outputs": [
    {
     "name": "stdout",
     "output_type": "stream",
     "text": [
      "\n",
      "\n",
      "====> Data frame info (for 100 rows)\n",
      "====> (check 'memory usage' line)\n",
      "<class 'pandas.core.frame.DataFrame'>\n",
      "Int64Index: 100 entries, 0 to 99\n",
      "Data columns (total 32 columns):\n",
      "bble        100 non-null int64\n",
      "borough     100 non-null object\n",
      "block       100 non-null int64\n",
      "lot         100 non-null int64\n",
      "easement    0 non-null float64\n",
      "owner       36 non-null object\n",
      "bldgcl      100 non-null object\n",
      "taxclass    100 non-null object\n",
      "ltfront     100 non-null int64\n",
      "ltdepth     100 non-null int64\n",
      "ext         0 non-null float64\n",
      "stories     100 non-null int64\n",
      "fullval     100 non-null float64\n",
      "avland      100 non-null float64\n",
      "avtot       100 non-null float64\n",
      "exland      100 non-null float64\n",
      "extot       100 non-null float64\n",
      "excd1       98 non-null float64\n",
      "staddr      100 non-null object\n",
      "zip         99 non-null float64\n",
      "exmptcl     0 non-null float64\n",
      "bldfront    100 non-null int64\n",
      "blddepth    100 non-null int64\n",
      "avland2     99 non-null float64\n",
      "avtot2      99 non-null float64\n",
      "exland2     98 non-null float64\n",
      "extot2      98 non-null float64\n",
      "excd2       0 non-null float64\n",
      "period      100 non-null object\n",
      "year        100 non-null object\n",
      "valtype     100 non-null object\n",
      "serialid    100 non-null int64\n",
      "dtypes: float64(15), int64(9), object(8)\n",
      "memory usage: 25.8+ KB\n",
      "\n",
      "\n",
      "====> Data frame info (for 1,000 rows)\n",
      "====> (check 'memory usage' line)\n",
      "<class 'pandas.core.frame.DataFrame'>\n",
      "Int64Index: 1000 entries, 0 to 999\n",
      "Data columns (total 32 columns):\n",
      "bble        1000 non-null object\n",
      "borough     1000 non-null object\n",
      "block       1000 non-null int64\n",
      "lot         1000 non-null int64\n",
      "easement    4 non-null object\n",
      "owner       920 non-null object\n",
      "bldgcl      1000 non-null object\n",
      "taxclass    1000 non-null object\n",
      "ltfront     1000 non-null int64\n",
      "ltdepth     1000 non-null int64\n",
      "ext         3 non-null object\n",
      "stories     974 non-null float64\n",
      "fullval     1000 non-null float64\n",
      "avland      1000 non-null float64\n",
      "avtot       1000 non-null float64\n",
      "exland      1000 non-null float64\n",
      "extot       1000 non-null float64\n",
      "excd1       440 non-null float64\n",
      "staddr      999 non-null object\n",
      "zip         994 non-null float64\n",
      "exmptcl     29 non-null object\n",
      "bldfront    1000 non-null int64\n",
      "blddepth    1000 non-null int64\n",
      "avland2     798 non-null float64\n",
      "avtot2      798 non-null float64\n",
      "exland2     377 non-null float64\n",
      "extot2      378 non-null float64\n",
      "excd2       8 non-null float64\n",
      "period      1000 non-null object\n",
      "year        1000 non-null object\n",
      "valtype     1000 non-null object\n",
      "serialid    1000 non-null int64\n",
      "dtypes: float64(13), int64(7), object(12)\n",
      "memory usage: 257.8+ KB\n",
      "\n",
      "\n",
      "====> Data frame info (for 10,000 rows)\n",
      "====> (check 'memory usage' line)\n",
      "<class 'pandas.core.frame.DataFrame'>\n",
      "Int64Index: 10000 entries, 0 to 9999\n",
      "Data columns (total 32 columns):\n",
      "bble        10000 non-null float64\n",
      "borough     10000 non-null object\n",
      "block       10000 non-null int64\n",
      "lot         10000 non-null int64\n",
      "easement    8 non-null object\n",
      "owner       9242 non-null object\n",
      "bldgcl      10000 non-null object\n",
      "taxclass    10000 non-null object\n",
      "ltfront     10000 non-null int64\n",
      "ltdepth     10000 non-null int64\n",
      "ext         416 non-null object\n",
      "stories     9804 non-null float64\n",
      "fullval     10000 non-null float64\n",
      "avland      10000 non-null float64\n",
      "avtot       10000 non-null float64\n",
      "exland      10000 non-null float64\n",
      "extot       10000 non-null float64\n",
      "excd1       3684 non-null float64\n",
      "staddr      9997 non-null object\n",
      "zip         9972 non-null float64\n",
      "exmptcl     167 non-null object\n",
      "bldfront    10000 non-null int64\n",
      "blddepth    10000 non-null int64\n",
      "avland2     8977 non-null float64\n",
      "avtot2      8977 non-null float64\n",
      "exland2     2576 non-null float64\n",
      "extot2      3345 non-null float64\n",
      "excd2       349 non-null float64\n",
      "period      10000 non-null object\n",
      "year        10000 non-null object\n",
      "valtype     10000 non-null object\n",
      "serialid    10000 non-null int64\n",
      "dtypes: float64(14), int64(7), object(11)\n",
      "memory usage: 2.5+ MB\n",
      "\n",
      "\n",
      "====> Data frame info (for 100,000 rows)\n",
      "====> (check 'memory usage' line)\n",
      "<class 'pandas.core.frame.DataFrame'>\n",
      "Int64Index: 100000 entries, 0 to 99999\n",
      "Data columns (total 32 columns):\n",
      "bble        100000 non-null object\n",
      "borough     100000 non-null object\n",
      "block       100000 non-null int64\n",
      "lot         100000 non-null int64\n",
      "easement    277 non-null object\n",
      "owner       97799 non-null object\n",
      "bldgcl      100000 non-null object\n",
      "taxclass    100000 non-null object\n",
      "ltfront     100000 non-null int64\n",
      "ltdepth     100000 non-null int64\n",
      "ext         35723 non-null object\n",
      "stories     95538 non-null float64\n",
      "fullval     100000 non-null float64\n",
      "avland      100000 non-null float64\n",
      "avtot       100000 non-null float64\n",
      "exland      100000 non-null float64\n",
      "extot       100000 non-null float64\n",
      "excd1       61983 non-null float64\n",
      "staddr      99946 non-null object\n",
      "zip         97620 non-null float64\n",
      "exmptcl     912 non-null object\n",
      "bldfront    100000 non-null int64\n",
      "blddepth    100000 non-null int64\n",
      "avland2     18753 non-null float64\n",
      "avtot2      18753 non-null float64\n",
      "exland2     6063 non-null float64\n",
      "extot2      7830 non-null float64\n",
      "excd2       8084 non-null float64\n",
      "period      100000 non-null object\n",
      "year        100000 non-null object\n",
      "valtype     100000 non-null object\n",
      "serialid    100000 non-null int64\n",
      "dtypes: float64(13), int64(7), object(12)\n",
      "memory usage: 25.2+ MB\n"
     ]
    },
    {
     "name": "stderr",
     "output_type": "stream",
     "text": [
      "/home/jds/.pyvenvs/liveresume/lib/python3.4/site-packages/pandas/io/parsers.py:1164: DtypeWarning: Columns (0,4) have mixed types. Specify dtype option on import or set low_memory=False.\n",
      "  data = self._reader.read(nrows)\n"
     ]
    }
   ],
   "source": [
    "# Choose chunks of lines from different sections of the csv file\n",
    "# so that they are not always from the beginning of the file.\n",
    "# (just in case row sizes progressively increase/decrease/change)\n",
    "\n",
    "# reminder: 2010 file: 700k lines\n",
    "from collections import OrderedDict\n",
    "\n",
    "dfs_info = OrderedDict()\n",
    "dfs_info[100]  = dict(numrows=100,  rowstart=1024*1)\n",
    "dfs_info[1000] = dict(numrows=1000, rowstart=1024*10)\n",
    "dfs_info[10000] = dict(numrows=10000, rowstart=1024*100)\n",
    "dfs_info[100000] = dict(numrows=100000, rowstart=1024*500)\n",
    "\n",
    "for df_info in dfs_info.values():\n",
    "    numrows, rowstart = df_info[\"numrows\"], df_info[\"rowstart\"]\n",
    "    df_info[\"df\"] = pd.read_csv(nyc_props_2010_fname, header=0,\n",
    "                                skiprows=range(1,rowstart+1), nrows=numrows)\n",
    "    print(\"\\n\\n====> Data frame info (for {:,} rows)\\n\"\n",
    "          \"====> (check 'memory usage' line)\".format(numrows))\n",
    "    df_info[\"df\"].info()\n",
    "\n",
    "\n",
    "# won't need previous test DataFrames - indicate that we can free that memory...\n",
    "del dfs_info\n"
   ]
  },
  {
   "cell_type": "markdown",
   "metadata": {
    "collapsed": false
   },
   "source": [
    "***\n",
    "\n",
    "## So, it does increase linearly (25kB/100 rows, 250kB/1kr ... 25MB/100krows).<br>For 1M rows, that'll be around 250MB RAM (per dataset). \n",
    "\n",
    "Playing with both full datasets/DataFrames simultaneously (2010 and 2014) will be a bit slow in my laptop.<br>Explore one dataset at a time to start with..."
   ]
  },
  {
   "cell_type": "markdown",
   "metadata": {},
   "source": [
    "***\n",
    "## Let's start by using a subset of the 2010 csv file to explore the schema.<br>Select all rows where the zip code is 11231 (Carroll Gardens, Brooklyn).\n",
    "\n",
    "#####Use the linux csvgrep util to select zip cols that match 11231."
   ]
  },
  {
   "cell_type": "code",
   "execution_count": 4,
   "metadata": {
    "collapsed": false
   },
   "outputs": [],
   "source": [
    "props_2010_11231_fname = \"nyc_property_assessments/2010_zip11231.csv\"\n",
    "\n",
    "if not os.path.exists(props_2010_11231_fname):\n",
    "    print(\"Creating 11231 csv file...\")\n",
    "    !csvgrep -c zip -r \"11231\" nyc_property_assessments/nyc.prop_assess_2010.csv > nyc_property_assessments/props_2010_zip11231.csv\n"
   ]
  },
  {
   "cell_type": "markdown",
   "metadata": {},
   "source": [
    "##Start exploring the data/schema."
   ]
  },
  {
   "cell_type": "code",
   "execution_count": 5,
   "metadata": {
    "collapsed": false,
    "scrolled": true
   },
   "outputs": [],
   "source": [
    "df10_11231 = pd.read_csv(props_2010_11231_fname)"
   ]
  },
  {
   "cell_type": "markdown",
   "metadata": {},
   "source": [
    "### Confirm we filtered correctly. Also, how many rows/properties in 11231? "
   ]
  },
  {
   "cell_type": "code",
   "execution_count": 6,
   "metadata": {
    "collapsed": false
   },
   "outputs": [
    {
     "name": "stdout",
     "output_type": "stream",
     "text": [
      "df.shape:  (6260, 32)\n",
      "Confirm we filtered correctly. Num rows where zip==11231:  6260\n"
     ]
    }
   ],
   "source": [
    "print(\"df.shape: \", df10_11231.shape)\n",
    "print(\"Confirm we filtered correctly. Num rows where zip==11231: \", \n",
    "      len(df10_11231.zip == 11231))\n"
   ]
  },
  {
   "cell_type": "markdown",
   "metadata": {},
   "source": [
    "###OK, generating a subset csv file is useful. Let's make it a more generic util func.\n",
    "\n",
    "Pass in a colname (\"zip\") and a pattern we want to match (11231),\n",
    "and create a new subset csv file, matching the search criteria."
   ]
  },
  {
   "cell_type": "code",
   "execution_count": 7,
   "metadata": {
    "collapsed": true
   },
   "outputs": [],
   "source": [
    "import os\n",
    "def create_subset_csv(colname, regex_str, orig_csv_fname, new_csv_fname=None):\n",
    "    assert os.path.exists(orig_csv_fname)\n",
    "    \n",
    "    if not new_csv_fname:\n",
    "        orig_split = os.path.split(orig_csv_fname)\n",
    "        new_csv_fname = \"{col}_{reg}__{orig}\".format(\n",
    "            col=colname, reg=regex_str, orig=orig_split[-1])\n",
    "        new_full_name = os.path.join(orig_split[0], new_csv_fname)\n",
    "\n",
    "    if not os.path.exists(new_full_name):\n",
    "        os.system('csvgrep -c {col} -r \"{reg}\" {orig} > {new}'.format(\n",
    "            col=colname, reg=regex_str, orig=orig_csv_fname, new=new_full_name))\n",
    "    return new_full_name\n"
   ]
  },
  {
   "cell_type": "code",
   "execution_count": 8,
   "metadata": {
    "collapsed": false
   },
   "outputs": [
    {
     "name": "stdout",
     "output_type": "stream",
     "text": [
      "<class 'pandas.core.frame.DataFrame'>\n",
      "Int64Index: 6260 entries, 0 to 6259\n",
      "Data columns (total 32 columns):\n",
      "bble        6260 non-null float64\n",
      "borough     6260 non-null object\n",
      "block       6260 non-null int64\n",
      "lot         6260 non-null int64\n",
      "easement    5 non-null object\n",
      "owner       6087 non-null object\n",
      "bldgcl      6260 non-null object\n",
      "taxclass    6260 non-null object\n",
      "ltfront     6260 non-null int64\n",
      "ltdepth     6260 non-null int64\n",
      "ext         474 non-null object\n",
      "stories     5744 non-null float64\n",
      "fullval     6260 non-null float64\n",
      "avland      6260 non-null float64\n",
      "avtot       6260 non-null float64\n",
      "exland      6260 non-null float64\n",
      "extot       6260 non-null float64\n",
      "excd1       2823 non-null float64\n",
      "staddr      6260 non-null object\n",
      "zip         6260 non-null int64\n",
      "exmptcl     180 non-null object\n",
      "bldfront    6260 non-null int64\n",
      "blddepth    6260 non-null int64\n",
      "avland2     1991 non-null float64\n",
      "avtot2      1991 non-null float64\n",
      "exland2     533 non-null float64\n",
      "extot2      786 non-null float64\n",
      "excd2       332 non-null float64\n",
      "period      6260 non-null object\n",
      "year        6260 non-null object\n",
      "valtype     6260 non-null object\n",
      "serialid    6260 non-null int64\n",
      "dtypes: float64(13), int64(8), object(11)\n",
      "memory usage: 1.6+ MB\n"
     ]
    }
   ],
   "source": [
    "# let's use it to re-generate the 11231 zip subset \n",
    "# and confirm via df.info() that the result is equivalent...\n",
    "new_fname = create_subset_csv(\"zip\", \"11231\", \n",
    "                              \"nyc_property_assessments/nyc.prop_assess_2010.csv\")\n",
    "\n",
    "df10_zip11231 = pd.read_csv(new_fname)\n",
    "df10_zip11231.info()"
   ]
  },
  {
   "cell_type": "markdown",
   "metadata": {},
   "source": [
    "## Cool, that worked. Some cleanup from previous work above..."
   ]
  },
  {
   "cell_type": "code",
   "execution_count": 9,
   "metadata": {
    "collapsed": false
   },
   "outputs": [],
   "source": [
    "# some cleanup; delete previous dataframes that we won't use anymore\n",
    "# frees mem and prevents inadvertent references to them in subsequent cells (guilty!)\n",
    "del props_2010_11231_fname\n",
    "del df10_11231"
   ]
  },
  {
   "cell_type": "markdown",
   "metadata": {},
   "source": [
    "## Ok, some data exploration..."
   ]
  },
  {
   "cell_type": "markdown",
   "metadata": {},
   "source": [
    "### What are the columns?"
   ]
  },
  {
   "cell_type": "code",
   "execution_count": 10,
   "metadata": {
    "collapsed": false
   },
   "outputs": [
    {
     "data": {
      "text/plain": [
       "Index(['bble', 'borough', 'block', 'lot', 'easement', 'owner', 'bldgcl', 'taxclass', 'ltfront', 'ltdepth', 'ext', 'stories', 'fullval', 'avland', 'avtot', 'exland', 'extot', 'excd1', 'staddr', 'zip', 'exmptcl', 'bldfront', 'blddepth', 'avland2', 'avtot2', 'exland2', 'extot2', 'excd2', 'period', 'year', 'valtype', 'serialid'], dtype='object')"
      ]
     },
     "execution_count": 10,
     "metadata": {},
     "output_type": "execute_result"
    }
   ],
   "source": [
    "df10_zip11231.columns"
   ]
  },
  {
   "cell_type": "markdown",
   "metadata": {},
   "source": [
    "### Make the column info more visually friendly."
   ]
  },
  {
   "cell_type": "code",
   "execution_count": 11,
   "metadata": {
    "collapsed": false
   },
   "outputs": [
    {
     "name": "stdout",
     "output_type": "stream",
     "text": [
      "\n",
      "Column names...\n",
      "\n",
      "avland    avland2   avtot     avtot2    bble      \n",
      "blddepth  bldfront  bldgcl    block     borough   easement  \n",
      "excd1     excd2     exland    exland2   exmptcl   ext       \n",
      "extot     extot2    fullval   lot       ltdepth   ltfront   \n",
      "owner     period    serialid  staddr    stories   taxclass  \n",
      "valtype   year      zip       \n"
     ]
    }
   ],
   "source": [
    "# Column names not that visually clear; make them easier to read...\n",
    "def prettify_colnames(df, cols_per_row=7):\n",
    "    cols = sorted(df.columns)\n",
    "    colsize = 2 + max(len(colname) for colname in cols)\n",
    "    outstr = \"\"\n",
    "    for ix, colname in enumerate(cols):\n",
    "        outstr += \"{nl}{cn:{sz}}\".format(\n",
    "            nl = \"\" if (ix+1) % cols_per_row else \"\\n\", cn=colname, sz=colsize)\n",
    "    return outstr\n",
    "\n",
    "# try again...\n",
    "print(\"\\nColumn names...\\n\\n{}\".format(prettify_colnames(df10_zip11231, 6)))"
   ]
  },
  {
   "cell_type": "markdown",
   "metadata": {},
   "source": [
    "## What do these column headers mean!? Kind of cryptic names...\n",
    "\n",
    "### Navigate enigma.io website. <br>You can click on \"Description\" for any table/dataset.<br>A modal window pops up.<br> You can choose to \"export\" the column descriptions as a file.\n",
    "\n",
    "\n",
    "Downloaded it, unzipped it. It contains 2 files...\n",
    "\n",
    "     table-info.csv\n",
    "     column-info.csv\n",
    "     "
   ]
  },
  {
   "cell_type": "markdown",
   "metadata": {},
   "source": [
    "### Read the column-info.csv file."
   ]
  },
  {
   "cell_type": "code",
   "execution_count": 12,
   "metadata": {
    "collapsed": false
   },
   "outputs": [
    {
     "data": {
      "text/html": [
       "<div style=\"max-height:1000px;max-width:1500px;overflow:auto;\">\n",
       "<table border=\"1\" class=\"dataframe\">\n",
       "  <thead>\n",
       "    <tr style=\"text-align: right;\">\n",
       "      <th></th>\n",
       "      <th>Column Name</th>\n",
       "      <th>Column Description</th>\n",
       "      <th>Column API ID</th>\n",
       "      <th>Column Type</th>\n",
       "    </tr>\n",
       "  </thead>\n",
       "  <tbody>\n",
       "    <tr>\n",
       "      <th>0</th>\n",
       "      <td>Year</td>\n",
       "      <td>Year</td>\n",
       "      <td>year</td>\n",
       "      <td>type_varchar</td>\n",
       "    </tr>\n",
       "    <tr>\n",
       "      <th>1</th>\n",
       "      <td>BBLE</td>\n",
       "      <td>Concatenation of Borough, Block, Lot, &amp; Easement</td>\n",
       "      <td>bble</td>\n",
       "      <td>type_varchar</td>\n",
       "    </tr>\n",
       "    <tr>\n",
       "      <th>2</th>\n",
       "      <td>Owner</td>\n",
       "      <td>Owner</td>\n",
       "      <td>owner</td>\n",
       "      <td>type_varchar</td>\n",
       "    </tr>\n",
       "    <tr>\n",
       "      <th>3</th>\n",
       "      <td>Street Address</td>\n",
       "      <td>Street Address</td>\n",
       "      <td>staddr</td>\n",
       "      <td>type_varchar</td>\n",
       "    </tr>\n",
       "    <tr>\n",
       "      <th>4</th>\n",
       "      <td>Block</td>\n",
       "      <td>Valid Block Ranges By Borough: Manhattan - [1 ...</td>\n",
       "      <td>block</td>\n",
       "      <td>type_varchar</td>\n",
       "    </tr>\n",
       "  </tbody>\n",
       "</table>\n",
       "</div>"
      ],
      "text/plain": [
       "      Column Name                                 Column Description  \\\n",
       "0            Year                                               Year   \n",
       "1            BBLE   Concatenation of Borough, Block, Lot, & Easement   \n",
       "2           Owner                                              Owner   \n",
       "3  Street Address                                     Street Address   \n",
       "4           Block  Valid Block Ranges By Borough: Manhattan - [1 ...   \n",
       "\n",
       "  Column API ID   Column Type  \n",
       "0          year  type_varchar  \n",
       "1          bble  type_varchar  \n",
       "2         owner  type_varchar  \n",
       "3        staddr  type_varchar  \n",
       "4         block  type_varchar  "
      ]
     },
     "execution_count": 12,
     "metadata": {},
     "output_type": "execute_result"
    }
   ],
   "source": [
    "colinfo_df = pd.read_csv(\"nyc_property_assessments/2010-column-info.csv\")\n",
    "colinfo_df.head()"
   ]
  },
  {
   "cell_type": "code",
   "execution_count": 13,
   "metadata": {
    "collapsed": false
   },
   "outputs": [
    {
     "name": "stdout",
     "output_type": "stream",
     "text": [
      "<class 'pandas.core.frame.DataFrame'>\n",
      "Int64Index: 32 entries, 0 to 31\n",
      "Data columns (total 4 columns):\n",
      "Column Name           32 non-null object\n",
      "Column Description    32 non-null object\n",
      "Column API ID         32 non-null object\n",
      "Column Type           32 non-null object\n",
      "dtypes: object(4)\n",
      "memory usage: 1.2+ KB\n"
     ]
    }
   ],
   "source": [
    "# peek\n",
    "colinfo_df.info()"
   ]
  },
  {
   "cell_type": "code",
   "execution_count": 14,
   "metadata": {
    "collapsed": false
   },
   "outputs": [
    {
     "name": "stdout",
     "output_type": "stream",
     "text": [
      "number of cols in dataset:  32\n",
      "number of columns described in the column-info file:  32\n"
     ]
    }
   ],
   "source": [
    "print(\"number of cols in dataset: \", len(df10_zip11231.columns))\n",
    "print(\"number of columns described in the column-info file: \", colinfo_df.shape[0])"
   ]
  },
  {
   "cell_type": "markdown",
   "metadata": {},
   "source": [
    "### Cool, every column in the dataset is described!"
   ]
  },
  {
   "cell_type": "code",
   "execution_count": 15,
   "metadata": {
    "collapsed": false
   },
   "outputs": [
    {
     "data": {
      "text/html": [
       "<div style=\"max-height:1000px;max-width:1500px;overflow:auto;\">\n",
       "<table border=\"1\" class=\"dataframe\">\n",
       "  <thead>\n",
       "    <tr style=\"text-align: right;\">\n",
       "      <th></th>\n",
       "      <th>Column API ID</th>\n",
       "      <th>Column Description</th>\n",
       "      <th>Column Type</th>\n",
       "    </tr>\n",
       "  </thead>\n",
       "  <tbody>\n",
       "    <tr>\n",
       "      <th>8</th>\n",
       "      <td>avland</td>\n",
       "      <td>Actual Land Value</td>\n",
       "      <td>type_numeric</td>\n",
       "    </tr>\n",
       "    <tr>\n",
       "      <th>26</th>\n",
       "      <td>avland2</td>\n",
       "      <td>Transitional Land Value</td>\n",
       "      <td>type_numeric</td>\n",
       "    </tr>\n",
       "    <tr>\n",
       "      <th>9</th>\n",
       "      <td>avtot</td>\n",
       "      <td>Actual Total Value</td>\n",
       "      <td>type_numeric</td>\n",
       "    </tr>\n",
       "    <tr>\n",
       "      <th>27</th>\n",
       "      <td>avtot2</td>\n",
       "      <td>Transitional Total Value</td>\n",
       "      <td>type_numeric</td>\n",
       "    </tr>\n",
       "    <tr>\n",
       "      <th>1</th>\n",
       "      <td>bble</td>\n",
       "      <td>Concatenation of Borough, Block, Lot, &amp; Easement</td>\n",
       "      <td>type_varchar</td>\n",
       "    </tr>\n",
       "    <tr>\n",
       "      <th>25</th>\n",
       "      <td>blddepth</td>\n",
       "      <td>Building Depth in Feet</td>\n",
       "      <td>type_numeric</td>\n",
       "    </tr>\n",
       "    <tr>\n",
       "      <th>24</th>\n",
       "      <td>bldfront</td>\n",
       "      <td>Building Frontage in Feet</td>\n",
       "      <td>type_numeric</td>\n",
       "    </tr>\n",
       "    <tr>\n",
       "      <th>14</th>\n",
       "      <td>bldgcl</td>\n",
       "      <td>Building Class - See form listing a descriptio...</td>\n",
       "      <td>type_varchar</td>\n",
       "    </tr>\n",
       "    <tr>\n",
       "      <th>4</th>\n",
       "      <td>block</td>\n",
       "      <td>Valid Block Ranges By Borough: Manhattan - [1 ...</td>\n",
       "      <td>type_varchar</td>\n",
       "    </tr>\n",
       "    <tr>\n",
       "      <th>13</th>\n",
       "      <td>borough</td>\n",
       "      <td>[1] - Manhattan [2] - Bronx [3] - Brooklyn [4]...</td>\n",
       "      <td>type_varchar</td>\n",
       "    </tr>\n",
       "    <tr>\n",
       "      <th>10</th>\n",
       "      <td>easement</td>\n",
       "      <td>[SPACE] - Indicates the lot has no easement. [...</td>\n",
       "      <td>type_varchar</td>\n",
       "    </tr>\n",
       "    <tr>\n",
       "      <th>22</th>\n",
       "      <td>excd1</td>\n",
       "      <td>Exemption Code - 1</td>\n",
       "      <td>type_varchar</td>\n",
       "    </tr>\n",
       "    <tr>\n",
       "      <th>30</th>\n",
       "      <td>excd2</td>\n",
       "      <td>Exemption Code 2</td>\n",
       "      <td>type_varchar</td>\n",
       "    </tr>\n",
       "    <tr>\n",
       "      <th>11</th>\n",
       "      <td>exland</td>\n",
       "      <td>Actual Exempt Land Value</td>\n",
       "      <td>type_numeric</td>\n",
       "    </tr>\n",
       "    <tr>\n",
       "      <th>28</th>\n",
       "      <td>exland2</td>\n",
       "      <td>Transitional Exempt Land Value</td>\n",
       "      <td>type_numeric</td>\n",
       "    </tr>\n",
       "    <tr>\n",
       "      <th>23</th>\n",
       "      <td>exmptcl</td>\n",
       "      <td>Exempt Class used for fully exempt properties ...</td>\n",
       "      <td>type_varchar</td>\n",
       "    </tr>\n",
       "    <tr>\n",
       "      <th>17</th>\n",
       "      <td>ext</td>\n",
       "      <td>[E] - Extension [G] - Garage [EG] - Extension ...</td>\n",
       "      <td>type_varchar</td>\n",
       "    </tr>\n",
       "    <tr>\n",
       "      <th>12</th>\n",
       "      <td>extot</td>\n",
       "      <td>Actual Exempt Land Total</td>\n",
       "      <td>type_numeric</td>\n",
       "    </tr>\n",
       "    <tr>\n",
       "      <th>29</th>\n",
       "      <td>extot2</td>\n",
       "      <td>Transitional Exempt Land Total</td>\n",
       "      <td>type_numeric</td>\n",
       "    </tr>\n",
       "    <tr>\n",
       "      <th>7</th>\n",
       "      <td>fullval</td>\n",
       "      <td>If not zero, new total market value of property.</td>\n",
       "      <td>type_numeric</td>\n",
       "    </tr>\n",
       "    <tr>\n",
       "      <th>6</th>\n",
       "      <td>lot</td>\n",
       "      <td>Unique Number Within Borough/Block</td>\n",
       "      <td>type_varchar</td>\n",
       "    </tr>\n",
       "    <tr>\n",
       "      <th>16</th>\n",
       "      <td>ltdepth</td>\n",
       "      <td>Lot Depth in Feet</td>\n",
       "      <td>type_numeric</td>\n",
       "    </tr>\n",
       "    <tr>\n",
       "      <th>15</th>\n",
       "      <td>ltfront</td>\n",
       "      <td>Lot Frontage in Feet</td>\n",
       "      <td>type_numeric</td>\n",
       "    </tr>\n",
       "    <tr>\n",
       "      <th>2</th>\n",
       "      <td>owner</td>\n",
       "      <td>Owner</td>\n",
       "      <td>type_varchar</td>\n",
       "    </tr>\n",
       "    <tr>\n",
       "      <th>21</th>\n",
       "      <td>period</td>\n",
       "      <td>Period</td>\n",
       "      <td>type_varchar</td>\n",
       "    </tr>\n",
       "    <tr>\n",
       "      <th>31</th>\n",
       "      <td>serialid</td>\n",
       "      <td>Serialid</td>\n",
       "      <td>type_numeric</td>\n",
       "    </tr>\n",
       "    <tr>\n",
       "      <th>3</th>\n",
       "      <td>staddr</td>\n",
       "      <td>Street Address</td>\n",
       "      <td>type_varchar</td>\n",
       "    </tr>\n",
       "    <tr>\n",
       "      <th>19</th>\n",
       "      <td>stories</td>\n",
       "      <td>Stories</td>\n",
       "      <td>type_numeric</td>\n",
       "    </tr>\n",
       "    <tr>\n",
       "      <th>18</th>\n",
       "      <td>taxclass</td>\n",
       "      <td>[1] : 1-3 Unit Residences [1A] : 1-3 Story Con...</td>\n",
       "      <td>type_varchar</td>\n",
       "    </tr>\n",
       "    <tr>\n",
       "      <th>20</th>\n",
       "      <td>valtype</td>\n",
       "      <td>[1] - The parcel's values are reflected in ano...</td>\n",
       "      <td>type_varchar</td>\n",
       "    </tr>\n",
       "    <tr>\n",
       "      <th>0</th>\n",
       "      <td>year</td>\n",
       "      <td>Year</td>\n",
       "      <td>type_varchar</td>\n",
       "    </tr>\n",
       "    <tr>\n",
       "      <th>5</th>\n",
       "      <td>zip</td>\n",
       "      <td>Zip Code</td>\n",
       "      <td>type_varchar</td>\n",
       "    </tr>\n",
       "  </tbody>\n",
       "</table>\n",
       "</div>"
      ],
      "text/plain": [
       "   Column API ID                                 Column Description  \\\n",
       "8         avland                                  Actual Land Value   \n",
       "26       avland2                            Transitional Land Value   \n",
       "9          avtot                                 Actual Total Value   \n",
       "27        avtot2                           Transitional Total Value   \n",
       "1           bble   Concatenation of Borough, Block, Lot, & Easement   \n",
       "25      blddepth                             Building Depth in Feet   \n",
       "24      bldfront                          Building Frontage in Feet   \n",
       "14        bldgcl  Building Class - See form listing a descriptio...   \n",
       "4          block  Valid Block Ranges By Borough: Manhattan - [1 ...   \n",
       "13       borough  [1] - Manhattan [2] - Bronx [3] - Brooklyn [4]...   \n",
       "10      easement  [SPACE] - Indicates the lot has no easement. [...   \n",
       "22         excd1                                 Exemption Code - 1   \n",
       "30         excd2                                   Exemption Code 2   \n",
       "11        exland                           Actual Exempt Land Value   \n",
       "28       exland2                     Transitional Exempt Land Value   \n",
       "23       exmptcl  Exempt Class used for fully exempt properties ...   \n",
       "17           ext  [E] - Extension [G] - Garage [EG] - Extension ...   \n",
       "12         extot                           Actual Exempt Land Total   \n",
       "29        extot2                     Transitional Exempt Land Total   \n",
       "7        fullval   If not zero, new total market value of property.   \n",
       "6            lot                 Unique Number Within Borough/Block   \n",
       "16       ltdepth                                  Lot Depth in Feet   \n",
       "15       ltfront                               Lot Frontage in Feet   \n",
       "2          owner                                              Owner   \n",
       "21        period                                             Period   \n",
       "31      serialid                                           Serialid   \n",
       "3         staddr                                     Street Address   \n",
       "19       stories                                            Stories   \n",
       "18      taxclass  [1] : 1-3 Unit Residences [1A] : 1-3 Story Con...   \n",
       "20       valtype  [1] - The parcel's values are reflected in ano...   \n",
       "0           year                                               Year   \n",
       "5            zip                                           Zip Code   \n",
       "\n",
       "     Column Type  \n",
       "8   type_numeric  \n",
       "26  type_numeric  \n",
       "9   type_numeric  \n",
       "27  type_numeric  \n",
       "1   type_varchar  \n",
       "25  type_numeric  \n",
       "24  type_numeric  \n",
       "14  type_varchar  \n",
       "4   type_varchar  \n",
       "13  type_varchar  \n",
       "10  type_varchar  \n",
       "22  type_varchar  \n",
       "30  type_varchar  \n",
       "11  type_numeric  \n",
       "28  type_numeric  \n",
       "23  type_varchar  \n",
       "17  type_varchar  \n",
       "12  type_numeric  \n",
       "29  type_numeric  \n",
       "7   type_numeric  \n",
       "6   type_varchar  \n",
       "16  type_numeric  \n",
       "15  type_numeric  \n",
       "2   type_varchar  \n",
       "21  type_varchar  \n",
       "31  type_numeric  \n",
       "3   type_varchar  \n",
       "19  type_numeric  \n",
       "18  type_varchar  \n",
       "20  type_varchar  \n",
       "0   type_varchar  \n",
       "5   type_varchar  "
      ]
     },
     "execution_count": 15,
     "metadata": {},
     "output_type": "execute_result"
    }
   ],
   "source": [
    "# display description for all cols\n",
    "pd.set_option(\"max_rows\", 50)\n",
    "colinfo_df.ix[:, [\"Column API ID\", \"Column Description\", \"Column Type\"]].sort(\"Column API ID\")\n"
   ]
  },
  {
   "cell_type": "code",
   "execution_count": 16,
   "metadata": {
    "collapsed": false
   },
   "outputs": [
    {
     "data": {
      "text/html": [
       "<div style=\"max-height:1000px;max-width:1500px;overflow:auto;\">\n",
       "<table border=\"1\" class=\"dataframe\">\n",
       "  <thead>\n",
       "    <tr style=\"text-align: right;\">\n",
       "      <th></th>\n",
       "      <th>avland</th>\n",
       "      <th>avland2</th>\n",
       "      <th>avtot</th>\n",
       "      <th>avtot2</th>\n",
       "      <th>bble</th>\n",
       "      <th>blddepth</th>\n",
       "      <th>bldfront</th>\n",
       "      <th>bldgcl</th>\n",
       "      <th>block</th>\n",
       "      <th>borough</th>\n",
       "      <th>easement</th>\n",
       "      <th>excd1</th>\n",
       "      <th>excd2</th>\n",
       "      <th>exland</th>\n",
       "      <th>exland2</th>\n",
       "      <th>exmptcl</th>\n",
       "      <th>ext</th>\n",
       "      <th>extot</th>\n",
       "      <th>extot2</th>\n",
       "      <th>fullval</th>\n",
       "      <th>lot</th>\n",
       "      <th>ltdepth</th>\n",
       "      <th>ltfront</th>\n",
       "      <th>owner</th>\n",
       "      <th>period</th>\n",
       "      <th>serialid</th>\n",
       "      <th>staddr</th>\n",
       "      <th>stories</th>\n",
       "      <th>taxclass</th>\n",
       "      <th>valtype</th>\n",
       "      <th>year</th>\n",
       "      <th>zip</th>\n",
       "    </tr>\n",
       "  </thead>\n",
       "  <tbody>\n",
       "    <tr>\n",
       "      <th>0</th>\n",
       "      <td>0</td>\n",
       "      <td>NaN</td>\n",
       "      <td>0</td>\n",
       "      <td>NaN</td>\n",
       "      <td>3004097502</td>\n",
       "      <td>0</td>\n",
       "      <td>0</td>\n",
       "      <td>R0</td>\n",
       "      <td>409</td>\n",
       "      <td>BROOKLYN</td>\n",
       "      <td>NaN</td>\n",
       "      <td>NaN</td>\n",
       "      <td>NaN</td>\n",
       "      <td>0</td>\n",
       "      <td>NaN</td>\n",
       "      <td>NaN</td>\n",
       "      <td>NaN</td>\n",
       "      <td>0</td>\n",
       "      <td>NaN</td>\n",
       "      <td>0</td>\n",
       "      <td>7502</td>\n",
       "      <td>100</td>\n",
       "      <td>20</td>\n",
       "      <td>NaN</td>\n",
       "      <td>FINAL</td>\n",
       "      <td>246026</td>\n",
       "      <td>91 DOUGLASS STREET</td>\n",
       "      <td>NaN</td>\n",
       "      <td>2</td>\n",
       "      <td>AC-TR</td>\n",
       "      <td>2009/10</td>\n",
       "      <td>11231</td>\n",
       "    </tr>\n",
       "    <tr>\n",
       "      <th>1</th>\n",
       "      <td>267</td>\n",
       "      <td>267</td>\n",
       "      <td>3498</td>\n",
       "      <td>2563</td>\n",
       "      <td>3004211044</td>\n",
       "      <td>0</td>\n",
       "      <td>0</td>\n",
       "      <td>R5</td>\n",
       "      <td>421</td>\n",
       "      <td>BROOKLYN</td>\n",
       "      <td>NaN</td>\n",
       "      <td>NaN</td>\n",
       "      <td>NaN</td>\n",
       "      <td>0</td>\n",
       "      <td>NaN</td>\n",
       "      <td>NaN</td>\n",
       "      <td>NaN</td>\n",
       "      <td>0</td>\n",
       "      <td>NaN</td>\n",
       "      <td>7774</td>\n",
       "      <td>1044</td>\n",
       "      <td>0</td>\n",
       "      <td>0</td>\n",
       "      <td>NaN</td>\n",
       "      <td>FINAL</td>\n",
       "      <td>246896</td>\n",
       "      <td>344 DE GRAW STREET</td>\n",
       "      <td>NaN</td>\n",
       "      <td>4</td>\n",
       "      <td>AC-TR</td>\n",
       "      <td>2009/10</td>\n",
       "      <td>11231</td>\n",
       "    </tr>\n",
       "    <tr>\n",
       "      <th>2</th>\n",
       "      <td>0</td>\n",
       "      <td>NaN</td>\n",
       "      <td>0</td>\n",
       "      <td>NaN</td>\n",
       "      <td>3004217501</td>\n",
       "      <td>44</td>\n",
       "      <td>107</td>\n",
       "      <td>R0</td>\n",
       "      <td>421</td>\n",
       "      <td>BROOKLYN</td>\n",
       "      <td>NaN</td>\n",
       "      <td>NaN</td>\n",
       "      <td>NaN</td>\n",
       "      <td>0</td>\n",
       "      <td>NaN</td>\n",
       "      <td>NaN</td>\n",
       "      <td>NaN</td>\n",
       "      <td>0</td>\n",
       "      <td>NaN</td>\n",
       "      <td>0</td>\n",
       "      <td>7501</td>\n",
       "      <td>100</td>\n",
       "      <td>125</td>\n",
       "      <td>NaN</td>\n",
       "      <td>FINAL</td>\n",
       "      <td>247042</td>\n",
       "      <td>344 DE GRAW STREET</td>\n",
       "      <td>6</td>\n",
       "      <td>2</td>\n",
       "      <td>AC-TR</td>\n",
       "      <td>2009/10</td>\n",
       "      <td>11231</td>\n",
       "    </tr>\n",
       "    <tr>\n",
       "      <th>3</th>\n",
       "      <td>0</td>\n",
       "      <td>NaN</td>\n",
       "      <td>0</td>\n",
       "      <td>NaN</td>\n",
       "      <td>3003190009</td>\n",
       "      <td>0</td>\n",
       "      <td>0</td>\n",
       "      <td>D7</td>\n",
       "      <td>319</td>\n",
       "      <td>BROOKLYN</td>\n",
       "      <td>NaN</td>\n",
       "      <td>NaN</td>\n",
       "      <td>NaN</td>\n",
       "      <td>0</td>\n",
       "      <td>NaN</td>\n",
       "      <td>NaN</td>\n",
       "      <td>NaN</td>\n",
       "      <td>0</td>\n",
       "      <td>NaN</td>\n",
       "      <td>0</td>\n",
       "      <td>9</td>\n",
       "      <td>97</td>\n",
       "      <td>19</td>\n",
       "      <td>POSTGRADUATE CNTR MEN</td>\n",
       "      <td>FINAL</td>\n",
       "      <td>256645</td>\n",
       "      <td>169 COLUMBIA STREET</td>\n",
       "      <td>NaN</td>\n",
       "      <td>2</td>\n",
       "      <td>AC-TR</td>\n",
       "      <td>2009/10</td>\n",
       "      <td>11231</td>\n",
       "    </tr>\n",
       "    <tr>\n",
       "      <th>4</th>\n",
       "      <td>0</td>\n",
       "      <td>NaN</td>\n",
       "      <td>0</td>\n",
       "      <td>NaN</td>\n",
       "      <td>3003367502</td>\n",
       "      <td>0</td>\n",
       "      <td>0</td>\n",
       "      <td>R0</td>\n",
       "      <td>336</td>\n",
       "      <td>BROOKLYN</td>\n",
       "      <td>NaN</td>\n",
       "      <td>NaN</td>\n",
       "      <td>NaN</td>\n",
       "      <td>0</td>\n",
       "      <td>NaN</td>\n",
       "      <td>NaN</td>\n",
       "      <td>NaN</td>\n",
       "      <td>0</td>\n",
       "      <td>NaN</td>\n",
       "      <td>0</td>\n",
       "      <td>7502</td>\n",
       "      <td>100</td>\n",
       "      <td>61</td>\n",
       "      <td>NaN</td>\n",
       "      <td>FINAL</td>\n",
       "      <td>256719</td>\n",
       "      <td>156 SACKETT STREET</td>\n",
       "      <td>6</td>\n",
       "      <td>2</td>\n",
       "      <td>AC-TR</td>\n",
       "      <td>2009/10</td>\n",
       "      <td>11231</td>\n",
       "    </tr>\n",
       "  </tbody>\n",
       "</table>\n",
       "</div>"
      ],
      "text/plain": [
       "   avland  avland2  avtot  avtot2        bble  blddepth  bldfront bldgcl  \\\n",
       "0       0      NaN      0     NaN  3004097502         0         0     R0   \n",
       "1     267      267   3498    2563  3004211044         0         0     R5   \n",
       "2       0      NaN      0     NaN  3004217501        44       107     R0   \n",
       "3       0      NaN      0     NaN  3003190009         0         0     D7   \n",
       "4       0      NaN      0     NaN  3003367502         0         0     R0   \n",
       "\n",
       "   block   borough easement  excd1  excd2  exland  exland2 exmptcl  ext  \\\n",
       "0    409  BROOKLYN      NaN    NaN    NaN       0      NaN     NaN  NaN   \n",
       "1    421  BROOKLYN      NaN    NaN    NaN       0      NaN     NaN  NaN   \n",
       "2    421  BROOKLYN      NaN    NaN    NaN       0      NaN     NaN  NaN   \n",
       "3    319  BROOKLYN      NaN    NaN    NaN       0      NaN     NaN  NaN   \n",
       "4    336  BROOKLYN      NaN    NaN    NaN       0      NaN     NaN  NaN   \n",
       "\n",
       "   extot  extot2  fullval   lot  ltdepth  ltfront                  owner  \\\n",
       "0      0     NaN        0  7502      100       20                    NaN   \n",
       "1      0     NaN     7774  1044        0        0                    NaN   \n",
       "2      0     NaN        0  7501      100      125                    NaN   \n",
       "3      0     NaN        0     9       97       19  POSTGRADUATE CNTR MEN   \n",
       "4      0     NaN        0  7502      100       61                    NaN   \n",
       "\n",
       "  period  serialid               staddr  stories taxclass valtype     year  \\\n",
       "0  FINAL    246026   91 DOUGLASS STREET      NaN        2   AC-TR  2009/10   \n",
       "1  FINAL    246896   344 DE GRAW STREET      NaN        4   AC-TR  2009/10   \n",
       "2  FINAL    247042   344 DE GRAW STREET        6        2   AC-TR  2009/10   \n",
       "3  FINAL    256645  169 COLUMBIA STREET      NaN        2   AC-TR  2009/10   \n",
       "4  FINAL    256719   156 SACKETT STREET        6        2   AC-TR  2009/10   \n",
       "\n",
       "     zip  \n",
       "0  11231  \n",
       "1  11231  \n",
       "2  11231  \n",
       "3  11231  \n",
       "4  11231  "
      ]
     },
     "execution_count": 16,
     "metadata": {},
     "output_type": "execute_result"
    }
   ],
   "source": [
    "# Reminder of what the real data looks like, also w/ cols sorted alphab.\n",
    "pd.set_option('max_columns', 50)\n",
    "df10_zip11231.head().ix[:, sorted(df10_zip11231.columns)]\n"
   ]
  },
  {
   "cell_type": "markdown",
   "metadata": {},
   "source": [
    "### Select what seems like a useful subset of the 32 columns.<br> We'll use this col subset for our data exploration."
   ]
  },
  {
   "cell_type": "code",
   "execution_count": 17,
   "metadata": {
    "collapsed": false
   },
   "outputs": [],
   "source": [
    "# these columns seem interesting \n",
    "# (owner, street name & number, value, lot front/depth in ft., num of stories, ...)\n",
    "colnames_10 = ['owner',\n",
    "               'fullval',\n",
    "               'zip',\n",
    "               'staddr',\n",
    "               'ltfront',\n",
    "               'ltdepth',\n",
    "               'stories',\n",
    "               'easement']\n",
    "\n",
    "# index the descr table by the API name...\n",
    "cidx10 = colinfo_df.set_index(\"Column API ID\")\n",
    "\n",
    "# map the cryptic dataset colnames to a more user-friendly name\n",
    "# (preserve the col order listed above)\n",
    "cols_subset = OrderedDict()\n",
    "for cn in colnames_10:\n",
    "    cols_subset[cn] = cidx10.ix[cn][\"Column Name\"].strip()\n",
    "\n",
    "# rename cols of interest\n",
    "#tmp_renamed = df10_zip11231.rename(columns = cols_subset)\n",
    "df10_zip11231_subcols = df10_zip11231.rename(columns = cols_subset)\n",
    "\n",
    "# and drop all other cols\n",
    "all_cols = set(df10_zip11231.columns)\n",
    "df10_zip11231_subcols = df10_zip11231_subcols.drop(all_cols - set(cols_subset.keys()), axis=1)\n",
    "df10_zip11231_subcols = df10_zip11231_subcols.reindex_axis(cols_subset.values(), axis=1)"
   ]
  },
  {
   "cell_type": "code",
   "execution_count": 18,
   "metadata": {
    "collapsed": false
   },
   "outputs": [
    {
     "data": {
      "text/plain": [
       "Index(['Owner', 'Full Value', 'Zip', 'Street Address', 'Lot Frontage', 'Lot Depth', 'Stories', 'Easement'], dtype='object')"
      ]
     },
     "execution_count": 18,
     "metadata": {},
     "output_type": "execute_result"
    }
   ],
   "source": [
    "df10_zip11231_subcols.columns"
   ]
  },
  {
   "cell_type": "code",
   "execution_count": 19,
   "metadata": {
    "collapsed": false
   },
   "outputs": [
    {
     "data": {
      "text/html": [
       "<div style=\"max-height:1000px;max-width:1500px;overflow:auto;\">\n",
       "<table border=\"1\" class=\"dataframe\">\n",
       "  <thead>\n",
       "    <tr style=\"text-align: right;\">\n",
       "      <th></th>\n",
       "      <th>Owner</th>\n",
       "      <th>Full Value</th>\n",
       "      <th>Zip</th>\n",
       "      <th>Street Address</th>\n",
       "      <th>Lot Frontage</th>\n",
       "      <th>Lot Depth</th>\n",
       "      <th>Stories</th>\n",
       "      <th>Easement</th>\n",
       "    </tr>\n",
       "  </thead>\n",
       "  <tbody>\n",
       "    <tr>\n",
       "      <th>100</th>\n",
       "      <td>SOUTH BKLYN RENEWALAS</td>\n",
       "      <td>630000</td>\n",
       "      <td>11231</td>\n",
       "      <td>149 COLUMBIA STREET</td>\n",
       "      <td>26</td>\n",
       "      <td>76</td>\n",
       "      <td>4</td>\n",
       "      <td>NaN</td>\n",
       "    </tr>\n",
       "    <tr>\n",
       "      <th>101</th>\n",
       "      <td>ZAHA AHMAD</td>\n",
       "      <td>841000</td>\n",
       "      <td>11231</td>\n",
       "      <td>147A COLUMBIA STREET</td>\n",
       "      <td>18</td>\n",
       "      <td>97</td>\n",
       "      <td>4</td>\n",
       "      <td>NaN</td>\n",
       "    </tr>\n",
       "    <tr>\n",
       "      <th>102</th>\n",
       "      <td>ZAHA T AHMAD</td>\n",
       "      <td>548000</td>\n",
       "      <td>11231</td>\n",
       "      <td>147 COLUMBIA STREET</td>\n",
       "      <td>18</td>\n",
       "      <td>97</td>\n",
       "      <td>4</td>\n",
       "      <td>NaN</td>\n",
       "    </tr>\n",
       "    <tr>\n",
       "      <th>103</th>\n",
       "      <td>JACK L. IRWIN</td>\n",
       "      <td>665000</td>\n",
       "      <td>11231</td>\n",
       "      <td>145 COLUMBIA STREET</td>\n",
       "      <td>19</td>\n",
       "      <td>97</td>\n",
       "      <td>4</td>\n",
       "      <td>NaN</td>\n",
       "    </tr>\n",
       "    <tr>\n",
       "      <th>104</th>\n",
       "      <td>SOUTH BKLYN RENEWALAS</td>\n",
       "      <td>581000</td>\n",
       "      <td>11231</td>\n",
       "      <td>143 COLUMBIA STREET</td>\n",
       "      <td>19</td>\n",
       "      <td>97</td>\n",
       "      <td>4</td>\n",
       "      <td>NaN</td>\n",
       "    </tr>\n",
       "    <tr>\n",
       "      <th>105</th>\n",
       "      <td>CASANOVA, SAHYLI</td>\n",
       "      <td>1193000</td>\n",
       "      <td>11231</td>\n",
       "      <td>139 COLUMBIA STREET</td>\n",
       "      <td>18</td>\n",
       "      <td>97</td>\n",
       "      <td>3</td>\n",
       "      <td>NaN</td>\n",
       "    </tr>\n",
       "  </tbody>\n",
       "</table>\n",
       "</div>"
      ],
      "text/plain": [
       "                     Owner  Full Value    Zip        Street Address  \\\n",
       "100  SOUTH BKLYN RENEWALAS      630000  11231   149 COLUMBIA STREET   \n",
       "101             ZAHA AHMAD      841000  11231  147A COLUMBIA STREET   \n",
       "102           ZAHA T AHMAD      548000  11231   147 COLUMBIA STREET   \n",
       "103          JACK L. IRWIN      665000  11231   145 COLUMBIA STREET   \n",
       "104  SOUTH BKLYN RENEWALAS      581000  11231   143 COLUMBIA STREET   \n",
       "105       CASANOVA, SAHYLI     1193000  11231   139 COLUMBIA STREET   \n",
       "\n",
       "     Lot Frontage  Lot Depth  Stories Easement  \n",
       "100            26         76        4      NaN  \n",
       "101            18         97        4      NaN  \n",
       "102            18         97        4      NaN  \n",
       "103            19         97        4      NaN  \n",
       "104            19         97        4      NaN  \n",
       "105            18         97        3      NaN  "
      ]
     },
     "execution_count": 19,
     "metadata": {},
     "output_type": "execute_result"
    }
   ],
   "source": [
    "# let's try these new column names, should make table easier to decode.\n",
    "df10_zip11231_subcols.ix[100:105]"
   ]
  },
  {
   "cell_type": "markdown",
   "metadata": {
    "collapsed": true
   },
   "source": [
    "## OK, enough column cleanup for now. Explore the table's contents.\n",
    "\n",
    "## Delete the subset dataframe that we used to investigate the columns.<br>And go for it, read the full 2010 dataset."
   ]
  },
  {
   "cell_type": "code",
   "execution_count": 20,
   "metadata": {
    "collapsed": true
   },
   "outputs": [],
   "source": [
    "del df10_zip11231\n",
    "del df10_zip11231_subcols\n",
    "\n",
    "# col 0 (\"bble\") is generating warnings during the read (mixed dtypes). Be specific.\n",
    "df2010 = pd.read_csv(nyc_props_2010_fname, dtype={'bble': object})"
   ]
  },
  {
   "cell_type": "markdown",
   "metadata": {},
   "source": [
    "### And do the column reduction + renaming."
   ]
  },
  {
   "cell_type": "code",
   "execution_count": 21,
   "metadata": {
    "collapsed": false
   },
   "outputs": [],
   "source": [
    "# rename cols of interest; drop all others; reindex\n",
    "all_cols = set(df2010.columns)\n",
    "df2010_subcols = df2010.rename(columns = cols_subset)\n",
    "df2010_subcols = df2010_subcols.drop(all_cols - set(cols_subset.keys()), axis=1)\n",
    "df2010_subcols = df2010_subcols.reindex_axis(cols_subset.values(), axis=1)\n",
    "\n",
    "del df2010"
   ]
  },
  {
   "cell_type": "markdown",
   "metadata": {},
   "source": [
    "###From the 2010 df.info() below<br><br>Around 1M rows <br><br>We had projected ~ 250MB RAM for the full table (32 cols).<br>Note that having cut the num of cols to 7, proportionally reduced the mem size - great!<br><br>Most columns are mostly populated.<br>Others are not, but make sense (4600 easements).<br>Assessment value ($) is a float which is good for stats calculations (also, ints for feet values).<br><br>So, overall, looks pretty clean. Good start."
   ]
  },
  {
   "cell_type": "code",
   "execution_count": 22,
   "metadata": {
    "collapsed": false
   },
   "outputs": [
    {
     "name": "stdout",
     "output_type": "stream",
     "text": [
      "===> df2010_subcols shape: (1060512, 8) \n",
      "\n",
      "\n",
      "<class 'pandas.core.frame.DataFrame'>\n",
      "Int64Index: 1060512 entries, 0 to 1060511\n",
      "Data columns (total 8 columns):\n",
      "Owner             1029890 non-null object\n",
      "Full Value        1060512 non-null float64\n",
      "Zip               1030018 non-null float64\n",
      "Street Address    1059833 non-null object\n",
      "Lot Frontage      1060512 non-null int64\n",
      "Lot Depth         1060512 non-null int64\n",
      "Stories           1003082 non-null float64\n",
      "Easement          4615 non-null object\n",
      "dtypes: float64(3), int64(2), object(3)\n",
      "memory usage: 72.8+ MB\n"
     ]
    }
   ],
   "source": [
    "print(\"===> df2010_subcols shape:\", df2010_subcols.shape, \"\\n\\n\")\n",
    "\n",
    "df2010_subcols.info()"
   ]
  },
  {
   "cell_type": "markdown",
   "metadata": {},
   "source": [
    "### Quick overview of the cols' aggregates."
   ]
  },
  {
   "cell_type": "code",
   "execution_count": 23,
   "metadata": {
    "collapsed": false
   },
   "outputs": [
    {
     "data": {
      "text/html": [
       "<div style=\"max-height:1000px;max-width:1500px;overflow:auto;\">\n",
       "<table border=\"1\" class=\"dataframe\">\n",
       "  <thead>\n",
       "    <tr style=\"text-align: right;\">\n",
       "      <th></th>\n",
       "      <th>Full Value</th>\n",
       "      <th>Zip</th>\n",
       "      <th>Lot Frontage</th>\n",
       "      <th>Lot Depth</th>\n",
       "      <th>Stories</th>\n",
       "    </tr>\n",
       "  </thead>\n",
       "  <tbody>\n",
       "    <tr>\n",
       "      <th>count</th>\n",
       "      <td>1.060512e+06</td>\n",
       "      <td>1030018.000000</td>\n",
       "      <td>1060512.000000</td>\n",
       "      <td>1060512.000000</td>\n",
       "      <td>1003082.000000</td>\n",
       "    </tr>\n",
       "    <tr>\n",
       "      <th>mean</th>\n",
       "      <td>8.809222e+05</td>\n",
       "      <td>10924.934832</td>\n",
       "      <td>36.774087</td>\n",
       "      <td>89.517267</td>\n",
       "      <td>4.937013</td>\n",
       "    </tr>\n",
       "    <tr>\n",
       "      <th>std</th>\n",
       "      <td>1.151490e+07</td>\n",
       "      <td>527.595805</td>\n",
       "      <td>73.531873</td>\n",
       "      <td>76.386993</td>\n",
       "      <td>8.310756</td>\n",
       "    </tr>\n",
       "    <tr>\n",
       "      <th>min</th>\n",
       "      <td>0.000000e+00</td>\n",
       "      <td>10001.000000</td>\n",
       "      <td>0.000000</td>\n",
       "      <td>0.000000</td>\n",
       "      <td>1.000000</td>\n",
       "    </tr>\n",
       "    <tr>\n",
       "      <th>25%</th>\n",
       "      <td>3.230000e+05</td>\n",
       "      <td>10314.000000</td>\n",
       "      <td>19.000000</td>\n",
       "      <td>82.000000</td>\n",
       "      <td>2.000000</td>\n",
       "    </tr>\n",
       "    <tr>\n",
       "      <th>50%</th>\n",
       "      <td>4.680000e+05</td>\n",
       "      <td>11214.000000</td>\n",
       "      <td>25.000000</td>\n",
       "      <td>100.000000</td>\n",
       "      <td>2.000000</td>\n",
       "    </tr>\n",
       "    <tr>\n",
       "      <th>75%</th>\n",
       "      <td>6.350000e+05</td>\n",
       "      <td>11364.000000</td>\n",
       "      <td>40.000000</td>\n",
       "      <td>100.000000</td>\n",
       "      <td>3.000000</td>\n",
       "    </tr>\n",
       "    <tr>\n",
       "      <th>max</th>\n",
       "      <td>6.045000e+09</td>\n",
       "      <td>33803.000000</td>\n",
       "      <td>9999.000000</td>\n",
       "      <td>9999.000000</td>\n",
       "      <td>119.000000</td>\n",
       "    </tr>\n",
       "  </tbody>\n",
       "</table>\n",
       "</div>"
      ],
      "text/plain": [
       "         Full Value             Zip    Lot Frontage       Lot Depth  \\\n",
       "count  1.060512e+06  1030018.000000  1060512.000000  1060512.000000   \n",
       "mean   8.809222e+05    10924.934832       36.774087       89.517267   \n",
       "std    1.151490e+07      527.595805       73.531873       76.386993   \n",
       "min    0.000000e+00    10001.000000        0.000000        0.000000   \n",
       "25%    3.230000e+05    10314.000000       19.000000       82.000000   \n",
       "50%    4.680000e+05    11214.000000       25.000000      100.000000   \n",
       "75%    6.350000e+05    11364.000000       40.000000      100.000000   \n",
       "max    6.045000e+09    33803.000000     9999.000000     9999.000000   \n",
       "\n",
       "              Stories  \n",
       "count  1003082.000000  \n",
       "mean         4.937013  \n",
       "std          8.310756  \n",
       "min          1.000000  \n",
       "25%          2.000000  \n",
       "50%          2.000000  \n",
       "75%          3.000000  \n",
       "max        119.000000  "
      ]
     },
     "execution_count": 23,
     "metadata": {},
     "output_type": "execute_result"
    }
   ],
   "source": [
    "# 2010\n",
    "df2010_subcols.describe()\n"
   ]
  },
  {
   "cell_type": "code",
   "execution_count": null,
   "metadata": {
    "collapsed": true
   },
   "outputs": [],
   "source": []
  },
  {
   "cell_type": "code",
   "execution_count": null,
   "metadata": {
    "collapsed": true
   },
   "outputs": [],
   "source": []
  },
  {
   "cell_type": "markdown",
   "metadata": {},
   "source": [
    "# ====  Everything below is work-in-progress / incomplete ====\n",
    "# ====  Everything below is work-in-progress / incomplete ====\n",
    "# ====  Everything below is work-in-progress / incomplete ====\n"
   ]
  },
  {
   "cell_type": "code",
   "execution_count": null,
   "metadata": {
    "collapsed": true
   },
   "outputs": [],
   "source": []
  },
  {
   "cell_type": "code",
   "execution_count": null,
   "metadata": {
    "collapsed": true
   },
   "outputs": [],
   "source": []
  },
  {
   "cell_type": "markdown",
   "metadata": {},
   "source": [
    "## Let's group by street. Which streets have the highest property values?"
   ]
  },
  {
   "cell_type": "code",
   "execution_count": 22,
   "metadata": {
    "collapsed": false
   },
   "outputs": [
    {
     "name": "stdout",
     "output_type": "stream",
     "text": [
      "===> 2010, zip 11231: top 10 street cnt:\n",
      "\n",
      " Street\n",
      "PRESIDENT STREET    202\n",
      "UNION STREET        190\n",
      "SACKETT STREET      174\n",
      "CARROLL STREET      158\n",
      "CLINTON STREET      140\n",
      "DE GRAW STREET      123\n",
      "COLUMBIA STREET     120\n",
      "2 STREET            120\n",
      "COURT STREET        101\n",
      "VAN BRUNT STREET     85\n",
      "dtype: int64\n",
      "\n",
      "\n",
      "===> 2010, zip 11231: top max value, per street:\n",
      "\n",
      " Street\n",
      "PRESIDENT STREET    3534000\n",
      "CLINTON STREET      3511000\n",
      "TOMPKINS PLACE      3445000\n",
      "KANE STREET         3177000\n",
      "2 PLACE             3027000\n",
      "1 PLACE             2967000\n",
      "SACKETT STREET      2886000\n",
      "3 PLACE             2829000\n",
      "DE GRAW STREET      2794000\n",
      "HENRY STREET        2730000\n",
      "Name: Current Total Market Value, dtype: float64\n",
      "\n",
      "\n",
      "===> 2010, zip 11231: top mean value, per street:\n",
      "\n",
      " Street\n",
      "TOMPKINS PLACE    2268656.190476\n",
      "2 PLACE           1935108.935484\n",
      "KANE STREET       1820101.538462\n",
      "STRONG PLACE      1794903.703704\n",
      "1 PLACE           1679558.823529\n",
      "CLINTON STREET    1668341.371429\n",
      "3 PLACE           1610765.476190\n",
      "4 PLACE           1417353.114754\n",
      "HENRY STREET      1382829.787234\n",
      "DE GRAW STREET    1353026.146341\n",
      "Name: Current Total Market Value, dtype: float64\n"
     ]
    }
   ],
   "source": [
    "pd.set_option(\"display.max_rows\", 50)\n",
    "\n",
    "grp09_str = df10_zip11231_subcols.groupby(\"Street\")\n",
    "\n",
    "\n",
    "print(\"===> 2010, zip 11231: top 10 street cnt:\\n\\n\", \n",
    "      grp09_str.size().order(ascending=False)[:10])\n",
    "\n",
    "max09_str = grp09_str[\"Current Total Market Value\"].max().order(ascending=False)\n",
    "mean09_str = grp09_str[\"Current Total Market Value\"].mean().order(ascending=False)\n",
    "\n",
    "\n",
    "print(\"\\n\\n===> 2010, zip 11231: top max value, per street:\\n\\n\", max09_str[:10])\n",
    "print(\"\\n\\n===> 2010, zip 11231: top mean value, per street:\\n\\n\", mean09_str[:10])\n",
    "\n"
   ]
  },
  {
   "cell_type": "code",
   "execution_count": 23,
   "metadata": {
    "collapsed": false
   },
   "outputs": [
    {
     "data": {
      "text/plain": [
       "(array([  0.,  10.,  20.,  30.,  40.,  50.,  60.]),\n",
       " <a list of 7 Text xticklabel objects>)"
      ]
     },
     "execution_count": 23,
     "metadata": {},
     "output_type": "execute_result"
    },
    {
     "data": {
      "image/png": "[encoded data removed]",
      "text/plain": [
       "<matplotlib.figure.Figure at 0x7f01940afa20>"
      ]
     },
     "metadata": {},
     "output_type": "display_data"
    }
   ],
   "source": [
    "import matplotlib.pyplot as plt\n",
    "\n",
    "max09_str.plot(label=\"max values\")\n",
    "mean09_str.plot(label=\"mean values\")\n",
    "\n",
    "plt.legend(loc=\"best\")\n",
    "plt.title(\"Property values, grouped by street.\")\n",
    "plt.xticks(rotation=90)\n"
   ]
  },
  {
   "cell_type": "markdown",
   "metadata": {
    "collapsed": true
   },
   "source": [
    "## Let's choose the street with the highest standard deviation<br>Haves and nots."
   ]
  },
  {
   "cell_type": "code",
   "execution_count": 24,
   "metadata": {
    "collapsed": false
   },
   "outputs": [
    {
     "data": {
      "text/plain": [
       "Street\n",
       "KANE STREET         678945.611802\n",
       "TOMPKINS PLACE      677017.691262\n",
       "RAPELYE STREET      619836.806479\n",
       "CLINTON STREET      619010.685420\n",
       "BUTLER STREET       597896.937914\n",
       "CARROLL STREET      578602.890832\n",
       "PRESIDENT STREET    578519.788763\n",
       "DE GRAW STREET      534861.894670\n",
       "UNION STREET        524319.869057\n",
       "2 PLACE             495189.824648\n",
       "Name: Current Total Market Value, dtype: float64"
      ]
     },
     "execution_count": 24,
     "metadata": {},
     "output_type": "execute_result"
    }
   ],
   "source": [
    "grp09_str[\"Current Total Market Value\"].std().order(ascending=False)[:10]\n"
   ]
  },
  {
   "cell_type": "markdown",
   "metadata": {},
   "source": [
    "### The block party at the 200's is where you wanna be."
   ]
  },
  {
   "cell_type": "code",
   "execution_count": 194,
   "metadata": {
    "collapsed": false
   },
   "outputs": [
    {
     "data": {
      "text/html": [
       "<div style=\"max-height:1000px;max-width:1500px;overflow:auto;\">\n",
       "<table border=\"1\" class=\"dataframe\">\n",
       "  <thead>\n",
       "    <tr style=\"text-align: right;\">\n",
       "      <th></th>\n",
       "      <th>Current Total Market Value</th>\n",
       "      <th>Owner</th>\n",
       "      <th>Lowest House Number</th>\n",
       "    </tr>\n",
       "  </thead>\n",
       "  <tbody>\n",
       "    <tr>\n",
       "      <th>24</th>\n",
       "      <td>3177000</td>\n",
       "      <td>JAMES BODE</td>\n",
       "      <td>000000000235</td>\n",
       "    </tr>\n",
       "    <tr>\n",
       "      <th>23</th>\n",
       "      <td>2911000</td>\n",
       "      <td>CARA GAVIN</td>\n",
       "      <td>000000000239</td>\n",
       "    </tr>\n",
       "    <tr>\n",
       "      <th>31</th>\n",
       "      <td>2824000</td>\n",
       "      <td>DONALD P SCHENK</td>\n",
       "      <td>000000000219</td>\n",
       "    </tr>\n",
       "    <tr>\n",
       "      <th>28</th>\n",
       "      <td>2809000</td>\n",
       "      <td>THOMAS O BOUCHER</td>\n",
       "      <td>000000000225</td>\n",
       "    </tr>\n",
       "    <tr>\n",
       "      <th>29</th>\n",
       "      <td>2809000</td>\n",
       "      <td>MELAMED, MARK A</td>\n",
       "      <td>000000000223</td>\n",
       "    </tr>\n",
       "    <tr>\n",
       "      <th>...</th>\n",
       "      <td>...</td>\n",
       "      <td>...</td>\n",
       "      <td>...</td>\n",
       "    </tr>\n",
       "    <tr>\n",
       "      <th>49</th>\n",
       "      <td>1022000</td>\n",
       "      <td>KANAS, JENNIFER</td>\n",
       "      <td>000000000090</td>\n",
       "    </tr>\n",
       "    <tr>\n",
       "      <th>15</th>\n",
       "      <td>994000</td>\n",
       "      <td>BILGER, KARINA</td>\n",
       "      <td>000000000129</td>\n",
       "    </tr>\n",
       "    <tr>\n",
       "      <th>3</th>\n",
       "      <td>837000</td>\n",
       "      <td>SUTTON ALBERT</td>\n",
       "      <td>000000000111</td>\n",
       "    </tr>\n",
       "    <tr>\n",
       "      <th>100</th>\n",
       "      <td>781000</td>\n",
       "      <td>MILDE, CLAIBORNE</td>\n",
       "      <td>000000000140</td>\n",
       "    </tr>\n",
       "    <tr>\n",
       "      <th>16</th>\n",
       "      <td>83000</td>\n",
       "      <td>DCAS</td>\n",
       "      <td>NaN</td>\n",
       "    </tr>\n",
       "  </tbody>\n",
       "</table>\n",
       "<p>52 rows × 3 columns</p>\n",
       "</div>"
      ],
      "text/plain": [
       "     Current Total Market Value             Owner Lowest House Number\n",
       "24                      3177000        JAMES BODE        000000000235\n",
       "23                      2911000        CARA GAVIN        000000000239\n",
       "31                      2824000   DONALD P SCHENK        000000000219\n",
       "28                      2809000  THOMAS O BOUCHER        000000000225\n",
       "29                      2809000   MELAMED, MARK A        000000000223\n",
       "..                          ...               ...                 ...\n",
       "49                      1022000   KANAS, JENNIFER        000000000090\n",
       "15                       994000    BILGER, KARINA        000000000129\n",
       "3                        837000     SUTTON ALBERT        000000000111\n",
       "100                      781000  MILDE, CLAIBORNE        000000000140\n",
       "16                        83000              DCAS                 NaN\n",
       "\n",
       "[52 rows x 3 columns]"
      ]
     },
     "execution_count": 194,
     "metadata": {},
     "output_type": "execute_result"
    }
   ],
   "source": [
    "df10_zip11231_subcols.columns\n",
    "\n",
    "kane_std = df10_zip11231_subcols[df10_zip11231_subcols.Street == \"KANE STREET\"][\n",
    "        [\"Current Total Market Value\", \"Owner\", \"Lowest House Number\", \"Units\", \"Lot Frontage\", \"Lot Depth\" ]].\\\n",
    "        sort_index(by=\"Current Total Market Value\", ascending=False)\n",
    "pd.set_option(\"display.max_rows\", 10)\n",
    "kane_std"
   ]
  },
  {
   "cell_type": "code",
   "execution_count": null,
   "metadata": {
    "collapsed": true
   },
   "outputs": [],
   "source": []
  },
  {
   "cell_type": "code",
   "execution_count": null,
   "metadata": {
    "collapsed": true
   },
   "outputs": [],
   "source": []
  },
  {
   "cell_type": "code",
   "execution_count": 25,
   "metadata": {
    "collapsed": false
   },
   "outputs": [
    {
     "data": {
      "text/plain": [
       "ValuesView(OrderedDict([('owner', 'Owner'), ('fullval', 'Full Value'), ('staddr', 'Street Address'), ('ltfront', 'Lot Frontage'), ('ltdepth', 'Lot Depth'), ('stories', 'Stories'), ('easement', 'Easement')]))"
      ]
     },
     "execution_count": 25,
     "metadata": {},
     "output_type": "execute_result"
    }
   ],
   "source": [
    "cols_subset.values()"
   ]
  },
  {
   "cell_type": "code",
   "execution_count": 30,
   "metadata": {
    "collapsed": false
   },
   "outputs": [
    {
     "data": {
      "text/html": [
       "<div style=\"max-height:1000px;max-width:1500px;overflow:auto;\">\n",
       "<table border=\"1\" class=\"dataframe\">\n",
       "  <thead>\n",
       "    <tr style=\"text-align: right;\">\n",
       "      <th></th>\n",
       "      <th>Current Total Market Value</th>\n",
       "      <th>Owner</th>\n",
       "      <th>Lowest House Number</th>\n",
       "      <th>Units</th>\n",
       "      <th>Lot Frontage (Ft.)</th>\n",
       "      <th>Lot Depth (Ft.)</th>\n",
       "    </tr>\n",
       "  </thead>\n",
       "  <tbody>\n",
       "    <tr>\n",
       "      <th>24</th>\n",
       "      <td>3177000</td>\n",
       "      <td>JAMES BODE</td>\n",
       "      <td>000000000235</td>\n",
       "      <td>1</td>\n",
       "      <td>24.00</td>\n",
       "      <td>99.00</td>\n",
       "    </tr>\n",
       "    <tr>\n",
       "      <th>23</th>\n",
       "      <td>2911000</td>\n",
       "      <td>CARA GAVIN</td>\n",
       "      <td>000000000239</td>\n",
       "      <td>3</td>\n",
       "      <td>26.00</td>\n",
       "      <td>99.83</td>\n",
       "    </tr>\n",
       "    <tr>\n",
       "      <th>31</th>\n",
       "      <td>2824000</td>\n",
       "      <td>DONALD P SCHENK</td>\n",
       "      <td>000000000219</td>\n",
       "      <td>3</td>\n",
       "      <td>22.00</td>\n",
       "      <td>100.00</td>\n",
       "    </tr>\n",
       "    <tr>\n",
       "      <th>28</th>\n",
       "      <td>2809000</td>\n",
       "      <td>THOMAS O BOUCHER</td>\n",
       "      <td>000000000225</td>\n",
       "      <td>2</td>\n",
       "      <td>25.00</td>\n",
       "      <td>100.00</td>\n",
       "    </tr>\n",
       "    <tr>\n",
       "      <th>29</th>\n",
       "      <td>2809000</td>\n",
       "      <td>MELAMED, MARK A</td>\n",
       "      <td>000000000223</td>\n",
       "      <td>3</td>\n",
       "      <td>25.00</td>\n",
       "      <td>100.00</td>\n",
       "    </tr>\n",
       "    <tr>\n",
       "      <th>...</th>\n",
       "      <td>...</td>\n",
       "      <td>...</td>\n",
       "      <td>...</td>\n",
       "      <td>...</td>\n",
       "      <td>...</td>\n",
       "      <td>...</td>\n",
       "    </tr>\n",
       "    <tr>\n",
       "      <th>49</th>\n",
       "      <td>1022000</td>\n",
       "      <td>KANAS, JENNIFER</td>\n",
       "      <td>000000000090</td>\n",
       "      <td>3</td>\n",
       "      <td>22.00</td>\n",
       "      <td>80.50</td>\n",
       "    </tr>\n",
       "    <tr>\n",
       "      <th>15</th>\n",
       "      <td>994000</td>\n",
       "      <td>BILGER, KARINA</td>\n",
       "      <td>000000000129</td>\n",
       "      <td>2</td>\n",
       "      <td>21.00</td>\n",
       "      <td>44.00</td>\n",
       "    </tr>\n",
       "    <tr>\n",
       "      <th>3</th>\n",
       "      <td>837000</td>\n",
       "      <td>SUTTON ALBERT</td>\n",
       "      <td>000000000111</td>\n",
       "      <td>0</td>\n",
       "      <td>21.33</td>\n",
       "      <td>94.83</td>\n",
       "    </tr>\n",
       "    <tr>\n",
       "      <th>100</th>\n",
       "      <td>781000</td>\n",
       "      <td>MILDE, CLAIBORNE</td>\n",
       "      <td>000000000140</td>\n",
       "      <td>1</td>\n",
       "      <td>30.00</td>\n",
       "      <td>30.00</td>\n",
       "    </tr>\n",
       "    <tr>\n",
       "      <th>16</th>\n",
       "      <td>83000</td>\n",
       "      <td>DCAS</td>\n",
       "      <td>NaN</td>\n",
       "      <td>0</td>\n",
       "      <td>6.00</td>\n",
       "      <td>49.00</td>\n",
       "    </tr>\n",
       "  </tbody>\n",
       "</table>\n",
       "<p>52 rows × 6 columns</p>\n",
       "</div>"
      ],
      "text/plain": [
       "     Current Total Market Value             Owner Lowest House Number  Units  \\\n",
       "24                      3177000        JAMES BODE        000000000235      1   \n",
       "23                      2911000        CARA GAVIN        000000000239      3   \n",
       "31                      2824000   DONALD P SCHENK        000000000219      3   \n",
       "28                      2809000  THOMAS O BOUCHER        000000000225      2   \n",
       "29                      2809000   MELAMED, MARK A        000000000223      3   \n",
       "..                          ...               ...                 ...    ...   \n",
       "49                      1022000   KANAS, JENNIFER        000000000090      3   \n",
       "15                       994000    BILGER, KARINA        000000000129      2   \n",
       "3                        837000     SUTTON ALBERT        000000000111      0   \n",
       "100                      781000  MILDE, CLAIBORNE        000000000140      1   \n",
       "16                        83000              DCAS                 NaN      0   \n",
       "\n",
       "     Lot Frontage (Ft.)  Lot Depth (Ft.)  \n",
       "24                24.00            99.00  \n",
       "23                26.00            99.83  \n",
       "31                22.00           100.00  \n",
       "28                25.00           100.00  \n",
       "29                25.00           100.00  \n",
       "..                  ...              ...  \n",
       "49                22.00            80.50  \n",
       "15                21.00            44.00  \n",
       "3                 21.33            94.83  \n",
       "100               30.00            30.00  \n",
       "16                 6.00            49.00  \n",
       "\n",
       "[52 rows x 6 columns]"
      ]
     },
     "execution_count": 30,
     "metadata": {},
     "output_type": "execute_result"
    }
   ],
   "source": [
    "df10_zip11231_subcols.columns\n",
    "\n",
    "\n",
    "kane_std = df10_zip11231_subcols[df10_zip11231_subcols.Street == \"KANE STREET\"][\n",
    "        [\"Current Total Market Value\", \"Owner\", \"Lowest House Number\", \"Units\", \"Lot Frontage (Ft.)\", \"Lot Depth (Ft.)\" ]].\\\n",
    "        sort_index(by=\"Current Total Market Value\", ascending=False)\n",
    "pd.set_option(\"display.max_rows\", 10)\n",
    "kane_std"
   ]
  },
  {
   "cell_type": "code",
   "execution_count": null,
   "metadata": {
    "collapsed": true
   },
   "outputs": [],
   "source": []
  },
  {
   "cell_type": "code",
   "execution_count": null,
   "metadata": {
    "collapsed": true
   },
   "outputs": [],
   "source": []
  },
  {
   "cell_type": "markdown",
   "metadata": {
    "collapsed": true
   },
   "source": [
    "# python client for enigma.io API - for now it just provides \"export\" support"
   ]
  },
  {
   "cell_type": "code",
   "execution_count": 31,
   "metadata": {
    "collapsed": false
   },
   "outputs": [
    {
     "name": "stdout",
     "output_type": "stream",
     "text": [
      "Please set your env var \"ENV_ENIGMA_APIKEY\"\n"
     ]
    },
    {
     "ename": "SystemExit",
     "evalue": "1",
     "output_type": "error",
     "traceback": [
      "An exception has occurred, use %tb to see the full traceback.\n",
      "\u001b[1;31mSystemExit\u001b[0m\u001b[1;31m:\u001b[0m 1\n"
     ]
    },
    {
     "name": "stderr",
     "output_type": "stream",
     "text": [
      "To exit: use 'exit', 'quit', or Ctrl-D.\n"
     ]
    }
   ],
   "source": [
    "#!/usr/bin/env python\n",
    "\n",
    "import os\n",
    "import sys\n",
    "import time\n",
    "import argparse\n",
    "import requests\n",
    "from requests import RequestException\n",
    "\n",
    "ARGPARSER = argparse.ArgumentParser()\n",
    "ARGPARSER.add_argument(\"datapath\")\n",
    "ARGPARSER.add_argument(\"-o\", \"--outfname\", dest=\"outfname\", required=False)\n",
    "\n",
    "\n",
    "class EnigmaClient:\n",
    "    ENIG_RETCODE_SUCCESS = 0\n",
    "    ENIG_RETCODE_TIMEOUT = 1\n",
    "    ENIG_RETCODE_ERROR   = 2\n",
    "\n",
    "    _QUERY_TEMPLATE = \"https://api.enigma.io/v2/{op}/{key}/{datapath}/{params}\"\n",
    "    _EXPORTAPI_MAX_SECS_TIMEOUT = 120\n",
    "    _EXPORTAPI_POLL_SECS_INTERVAL = 1\n",
    "    _EXPORTAPI_CHUNK_SIZE = 1024 * 64\n",
    "\n",
    "    def __init__(self, apikey):\n",
    "        self.apikey = apikey\n",
    "\n",
    "\n",
    "    # Tables are exported as Gzipped CSV files. \n",
    "    # \n",
    "    # Exports of large tables may take some time, so exports are processed\n",
    "    # asynchronously.\n",
    "    # \n",
    "    # When the export API is called, an export is queued and the API immediately\n",
    "    # returns a URL pointing to the future location of the exported file. Users\n",
    "    # should poll the URL until the file becomes available.\n",
    "    # \n",
    "    # Note: this is a synchronous call. Caller waits (up to max_secs_timeout)\n",
    "    #       until data is made available by Enigma backend, and then downloaded.\n",
    "    #       Caller should check err_code if the export fails.\n",
    "    # \n",
    "    # Returns one of: ENIG_RETCODE_SUCCESS, ENIG_RETCODE_TIMEOUT, ENIG_RETCODE_ERROR\n",
    "    # \n",
    "    def export(self, datapath, parameters=None,\n",
    "               max_secs_timeout=None, outfname=None):\n",
    "\n",
    "        query_str = self._QUERY_TEMPLATE.format(op=\"export\", key=self.apikey,\n",
    "                                                datapath=datapath, params=\"\")\n",
    "        # make a query, which sends back the URL that we'll have to poll\n",
    "        # until it eventually responds back with the gzipped csv file.\n",
    "        resp = requests.get(query_str)\n",
    "        resp_json = resp.json()\n",
    "        export_url = resp_json[\"export_url\"]\n",
    "\n",
    "        if not outfname:\n",
    "            # derive it from the URL\n",
    "            outfname = export_url[export_url.strip(\"/\").rfind(\"/\")+1:]\n",
    "            if \"?\" in outfname:\n",
    "                outfname = outfname[:outfname.rfind(\"?\")]\n",
    "\n",
    "        return self._download_file(export_url, outfname)\n",
    "        \n",
    "    def _download_file(self, export_url, outfname):\n",
    "        timeout_secs_remaining = self._EXPORTAPI_MAX_SECS_TIMEOUT\n",
    "        poll_time_interval = self._EXPORTAPI_POLL_SECS_INTERVAL\n",
    "\n",
    "        completed = False\n",
    "        print(\"About to attempt exporting export URL: {}\".format(export_url))\n",
    "        while (not completed) and (timeout_secs_remaining > 0):\n",
    "            print(\"Retries timeout remaining: {} secs\".format(timeout_secs_remaining))\n",
    "            try:\n",
    "                resp = requests.get(export_url, stream=True)\n",
    "                if resp.ok is True:\n",
    "                    with open(outfname, 'wb') as fout:\n",
    "                        for chunk in resp.iter_content(\n",
    "                                chunk_size=self._EXPORTAPI_CHUNK_SIZE): \n",
    "                            if chunk: # filter out keep-alive new chunks\n",
    "                                fout.write(chunk)\n",
    "                                fout.flush()\n",
    "                    completed = True\n",
    "                else:\n",
    "                    print(\"Still polling. Response status_code: {} - Reason: {}\".format(\n",
    "                        resp.status_code, resp.reason))\n",
    "            except Exception as exc:\n",
    "                print(\"exc: {}\".format(exc))\n",
    "            finally:\n",
    "                if not completed:\n",
    "                    time.sleep(poll_time_interval)\n",
    "                    timeout_secs_remaining -= poll_time_interval\n",
    "\n",
    "        if completed is True:\n",
    "            return self.ENIG_RETCODE_SUCCESS\n",
    "        elif timeout_secs_remaining < 0:\n",
    "            return self.ENIG_RETCODE_TIMEOUT\n",
    "        else:\n",
    "            return self.ENIG_RETCODE_ERROR\n",
    "\n",
    "        \n",
    "def main(apikey, args):\n",
    "    # just getting started. For now there's only functionality to \"export\".\n",
    "    client = EnigmaClient(apikey)\n",
    "    client.export(args.datapath, outfname=args.outfname)\n",
    "\n",
    "\n",
    "if __name__ == \"__main__\":\n",
    "    apikey = os.getenv(\"ENV_ENIGMA_APIKEY\")\n",
    "    if not apikey:\n",
    "        print('Please set your env var \"ENV_ENIGMA_APIKEY\"')\n",
    "        sys.exit(1)\n",
    "    \n",
    "    main(apikey, ARGPARSER.parse_args())\n"
   ]
  },
  {
   "cell_type": "code",
   "execution_count": null,
   "metadata": {
    "collapsed": true
   },
   "outputs": [],
   "source": []
  }
 ],
 "metadata": {
  "kernelspec": {
   "display_name": "Python 3",
   "language": "python",
   "name": "python3"
  },
  "language_info": {
   "codemirror_mode": {
    "name": "ipython",
    "version": 3
   },
   "file_extension": ".py",
   "mimetype": "text/x-python",
   "name": "python",
   "nbconvert_exporter": "python",
   "pygments_lexer": "ipython3",
   "version": "3.4.3"
  }
 },
 "nbformat": 4,
 "nbformat_minor": 0
}
