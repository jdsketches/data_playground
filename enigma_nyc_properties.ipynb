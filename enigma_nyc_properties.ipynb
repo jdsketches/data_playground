{
 "cells": [
  {
   "cell_type": "markdown",
   "metadata": {},
   "source": [
    "\n",
    "# Learning Pandas using Enigma.io's API and datasets.\n",
    "\n",
    "***"
   ]
  },
  {
   "cell_type": "markdown",
   "metadata": {},
   "source": [
    "## Data exploration of NYC property assessment values (2010, 2014).\n",
    "\n",
    "-------------\n",
    "***Note***: Ideally I'd use multiple datasets from different sources that overlap a little, but that also augment each other.<br>That's what makes enigma particularly interesting, the simultaneous \"normalized\" access to datasets of different origins.  \n",
    "\n",
    "But for now, baby learning Pandas steps, and start with the NYC property assessments dataset, which may allow us to do fun things such as being nosy and see how much the houses in our block have gained in value recently, and how many properties the Scottos own."
   ]
  },
  {
   "cell_type": "code",
   "execution_count": 3,
   "metadata": {
    "collapsed": true
   },
   "outputs": [],
   "source": [
    "%matplotlib inline\n",
    "import pandas as pd\n",
    "import numpy as np"
   ]
  },
  {
   "cell_type": "markdown",
   "metadata": {},
   "source": [
    "\n",
    "\n",
    "## Download the two datasets making use of enigma.io API."
   ]
  },
  {
   "cell_type": "markdown",
   "metadata": {},
   "source": [
    "Go to last cell in this notebook, which shows an initial version of a Python client to enigma.io.\n",
    "To download a dataset, the module containing the client would be invoked like this...\n",
    "\n",
    "     ENV_ENIGMA_APIKEY=xyz ./enigma_client.py us.states.ny.cities.nyc.property.assessment-valuation.avroll.2010\n",
    "     ENV_ENIGMA_APIKEY=xyz ./enigma_client.py us.states.ny.cities.nyc.property.assessment-valuation.avroll.2014\n"
   ]
  },
  {
   "cell_type": "markdown",
   "metadata": {},
   "source": [
    "## Taking too long to read the csv file into a Pandas DataFrame.\n",
    "\n",
    "### What did we just download? Check-out file sizes, number of rows...\n"
   ]
  },
  {
   "cell_type": "code",
   "execution_count": 4,
   "metadata": {
    "collapsed": false
   },
   "outputs": [
    {
     "name": "stdout",
     "output_type": "stream",
     "text": [
      "Num lines 2010: 1,060,513\n",
      "Num lines 2014: 1,088,351\n",
      "\n",
      "File size 2010: 164,461,696\n",
      "File size 2014: 185,122,823\n"
     ]
    }
   ],
   "source": [
    "import os\n",
    "\n",
    "num_lines_10 = !wc -l data/nyc_property_assessments/nyc.prop_assess_2010.csv\n",
    "num_lines_14 = !wc -l data/nyc_property_assessments/nyc.prop_assess_2014.csv\n",
    "print(\"Num lines 2010: {:,}\".format(int(num_lines_10[0].split()[0])))\n",
    "print(\"Num lines 2014: {:,}\".format(int(num_lines_14[0].split()[0])))\n",
    "\n",
    "print()\n",
    "\n",
    "nyc_props_2010_fname = \"data/nyc_property_assessments/nyc.prop_assess_2010.csv\"\n",
    "nyc_props_2014_fname = \"data/nyc_property_assessments/nyc.prop_assess_2014.csv\"\n",
    "print(\"File size 2010: {:,}\".format(os.stat(nyc_props_2014_fname).st_size))\n",
    "print(\"File size 2014: {:,}\".format(os.stat(nyc_props_2010_fname).st_size))\n"
   ]
  },
  {
   "cell_type": "markdown",
   "metadata": {},
   "source": [
    "## So, file sizes of around 160MB for 2010 and 185MB for 2014.\n",
    "\n",
    "#### Hmmm, importing these as Pandas DataFrames may thrash my humble laptop/VM.\n",
    "\n",
    "#### Run some tests to get an idea about memory usage.<br>Do multiple read_csv(), increasing the number of rows read in each one.\n",
    "\n",
    "See if memory consumption increases linearly.<br>Project mem usage for max number of rows.\n",
    "\n",
    "\n",
    "***\n",
    "\n",
    "## So, after running the script below, memory does increase linearly<br>(25kB/100 rows, 250kB/1kr ... 25MB/100krows).<br>For 1M rows, that'll be around 250MB RAM (per dataset). \n",
    "\n",
    "Playing with both full datasets/DataFrames simultaneously (2010 and 2014) will be a bit slow in my laptop.<br>Explore one dataset at a time to start with..."
   ]
  },
  {
   "cell_type": "code",
   "execution_count": 5,
   "metadata": {
    "collapsed": false
   },
   "outputs": [
    {
     "name": "stdout",
     "output_type": "stream",
     "text": [
      "\n",
      "\n",
      "====> Data frame info (for 100 rows)\n",
      "=======> (check the last line: 'memory usage')\n",
      "<class 'pandas.core.frame.DataFrame'>\n",
      "Int64Index: 100 entries, 0 to 99\n",
      "Data columns (total 32 columns):\n",
      "bble        100 non-null int64\n",
      "borough     100 non-null object\n",
      "block       100 non-null int64\n",
      "lot         100 non-null int64\n",
      "easement    0 non-null float64\n",
      "owner       36 non-null object\n",
      "bldgcl      100 non-null object\n",
      "taxclass    100 non-null object\n",
      "ltfront     100 non-null int64\n",
      "ltdepth     100 non-null int64\n",
      "ext         0 non-null float64\n",
      "stories     100 non-null int64\n",
      "fullval     100 non-null float64\n",
      "avland      100 non-null float64\n",
      "avtot       100 non-null float64\n",
      "exland      100 non-null float64\n",
      "extot       100 non-null float64\n",
      "excd1       98 non-null float64\n",
      "staddr      100 non-null object\n",
      "zip         99 non-null float64\n",
      "exmptcl     0 non-null float64\n",
      "bldfront    100 non-null int64\n",
      "blddepth    100 non-null int64\n",
      "avland2     99 non-null float64\n",
      "avtot2      99 non-null float64\n",
      "exland2     98 non-null float64\n",
      "extot2      98 non-null float64\n",
      "excd2       0 non-null float64\n",
      "period      100 non-null object\n",
      "year        100 non-null object\n",
      "valtype     100 non-null object\n",
      "serialid    100 non-null int64\n",
      "dtypes: float64(15), int64(9), object(8)\n",
      "memory usage: 25.8+ KB\n",
      "\n",
      "\n",
      "====> Data frame info (for 1,000 rows)\n",
      "=======> (check the last line: 'memory usage')\n",
      "<class 'pandas.core.frame.DataFrame'>\n",
      "Int64Index: 1000 entries, 0 to 999\n",
      "Data columns (total 32 columns):\n",
      "bble        1000 non-null object\n",
      "borough     1000 non-null object\n",
      "block       1000 non-null int64\n",
      "lot         1000 non-null int64\n",
      "easement    4 non-null object\n",
      "owner       920 non-null object\n",
      "bldgcl      1000 non-null object\n",
      "taxclass    1000 non-null object\n",
      "ltfront     1000 non-null int64\n",
      "ltdepth     1000 non-null int64\n",
      "ext         3 non-null object\n",
      "stories     974 non-null float64\n",
      "fullval     1000 non-null float64\n",
      "avland      1000 non-null float64\n",
      "avtot       1000 non-null float64\n",
      "exland      1000 non-null float64\n",
      "extot       1000 non-null float64\n",
      "excd1       440 non-null float64\n",
      "staddr      999 non-null object\n",
      "zip         994 non-null float64\n",
      "exmptcl     29 non-null object\n",
      "bldfront    1000 non-null int64\n",
      "blddepth    1000 non-null int64\n",
      "avland2     798 non-null float64\n",
      "avtot2      798 non-null float64\n",
      "exland2     377 non-null float64\n",
      "extot2      378 non-null float64\n",
      "excd2       8 non-null float64\n",
      "period      1000 non-null object\n",
      "year        1000 non-null object\n",
      "valtype     1000 non-null object\n",
      "serialid    1000 non-null int64\n",
      "dtypes: float64(13), int64(7), object(12)\n",
      "memory usage: 257.8+ KB\n",
      "\n",
      "\n",
      "====> Data frame info (for 10,000 rows)\n",
      "=======> (check the last line: 'memory usage')\n",
      "<class 'pandas.core.frame.DataFrame'>\n",
      "Int64Index: 10000 entries, 0 to 9999\n",
      "Data columns (total 32 columns):\n",
      "bble        10000 non-null float64\n",
      "borough     10000 non-null object\n",
      "block       10000 non-null int64\n",
      "lot         10000 non-null int64\n",
      "easement    8 non-null object\n",
      "owner       9242 non-null object\n",
      "bldgcl      10000 non-null object\n",
      "taxclass    10000 non-null object\n",
      "ltfront     10000 non-null int64\n",
      "ltdepth     10000 non-null int64\n",
      "ext         416 non-null object\n",
      "stories     9804 non-null float64\n",
      "fullval     10000 non-null float64\n",
      "avland      10000 non-null float64\n",
      "avtot       10000 non-null float64\n",
      "exland      10000 non-null float64\n",
      "extot       10000 non-null float64\n",
      "excd1       3684 non-null float64\n",
      "staddr      9997 non-null object\n",
      "zip         9972 non-null float64\n",
      "exmptcl     167 non-null object\n",
      "bldfront    10000 non-null int64\n",
      "blddepth    10000 non-null int64\n",
      "avland2     8977 non-null float64\n",
      "avtot2      8977 non-null float64\n",
      "exland2     2576 non-null float64\n",
      "extot2      3345 non-null float64\n",
      "excd2       349 non-null float64\n",
      "period      10000 non-null object\n",
      "year        10000 non-null object\n",
      "valtype     10000 non-null object\n",
      "serialid    10000 non-null int64\n",
      "dtypes: float64(14), int64(7), object(11)\n",
      "memory usage: 2.5+ MB\n",
      "\n",
      "\n",
      "====> Data frame info (for 100,000 rows)\n",
      "=======> (check the last line: 'memory usage')\n",
      "<class 'pandas.core.frame.DataFrame'>\n",
      "Int64Index: 100000 entries, 0 to 99999\n",
      "Data columns (total 32 columns):\n",
      "bble        100000 non-null object\n",
      "borough     100000 non-null object\n",
      "block       100000 non-null int64\n",
      "lot         100000 non-null int64\n",
      "easement    277 non-null object\n",
      "owner       97799 non-null object\n",
      "bldgcl      100000 non-null object\n",
      "taxclass    100000 non-null object\n",
      "ltfront     100000 non-null int64\n",
      "ltdepth     100000 non-null int64\n",
      "ext         35723 non-null object\n",
      "stories     95538 non-null float64\n",
      "fullval     100000 non-null float64\n",
      "avland      100000 non-null float64\n",
      "avtot       100000 non-null float64\n",
      "exland      100000 non-null float64\n",
      "extot       100000 non-null float64\n",
      "excd1       61983 non-null float64\n",
      "staddr      99946 non-null object\n",
      "zip         97620 non-null float64\n",
      "exmptcl     912 non-null object\n",
      "bldfront    100000 non-null int64\n",
      "blddepth    100000 non-null int64\n",
      "avland2     18753 non-null float64\n",
      "avtot2      18753 non-null float64\n",
      "exland2     6063 non-null float64\n",
      "extot2      7830 non-null float64\n",
      "excd2       8084 non-null float64\n",
      "period      100000 non-null object\n",
      "year        100000 non-null object\n",
      "valtype     100000 non-null object\n",
      "serialid    100000 non-null int64\n",
      "dtypes: float64(13), int64(7), object(12)\n",
      "memory usage: 25.2+ MB\n"
     ]
    },
    {
     "name": "stderr",
     "output_type": "stream",
     "text": [
      "/home/jds/.pyvenvs/liveresume/lib/python3.4/site-packages/pandas/io/parsers.py:1164: DtypeWarning: Columns (0,4) have mixed types. Specify dtype option on import or set low_memory=False.\n",
      "  data = self._reader.read(nrows)\n"
     ]
    }
   ],
   "source": [
    "# Choose chunks of lines from different sections of the csv file\n",
    "# so that they are not always from the beginning of the file.\n",
    "# (just in case row sizes progressively increase/decrease/change)\n",
    "\n",
    "# reminder: 2010 file: 700k lines\n",
    "from collections import OrderedDict\n",
    "\n",
    "dfs_info = OrderedDict()\n",
    "dfs_info[100]  = dict(numrows=100,  rowstart=1024*1)\n",
    "dfs_info[1000] = dict(numrows=1000, rowstart=1024*10)\n",
    "dfs_info[10000] = dict(numrows=10000, rowstart=1024*100)\n",
    "dfs_info[100000] = dict(numrows=100000, rowstart=1024*500)\n",
    "\n",
    "for df_info in dfs_info.values():\n",
    "    numrows, rowstart = df_info[\"numrows\"], df_info[\"rowstart\"]\n",
    "    df_info[\"df\"] = pd.read_csv(nyc_props_2010_fname, header=0,\n",
    "                                skiprows=range(1,rowstart+1), nrows=numrows)\n",
    "    print(\"\\n\\n\"\n",
    "          \"====> Data frame info (for {:,} rows)\\n\"\n",
    "          \"=======> (check the last line: 'memory usage')\".format(numrows))\n",
    "    df_info[\"df\"].info()\n",
    "\n",
    "\n",
    "# won't need previous test DataFrames - indicate that we can free that memory...\n",
    "del dfs_info\n"
   ]
  },
  {
   "cell_type": "markdown",
   "metadata": {},
   "source": [
    "***\n",
    "## Let's start by using a subset of the 2010 csv file to explore the schema.<br>Select all rows where the zip code is 11231 (Carroll Gardens, Brooklyn).\n",
    "\n",
    "#####Use the linux csvgrep util to select zip cols that match 11231."
   ]
  },
  {
   "cell_type": "code",
   "execution_count": 6,
   "metadata": {
    "collapsed": false
   },
   "outputs": [],
   "source": [
    "props_2010_11231_fname = \"data/nyc_property_assessments/2010_zip11231.csv\"\n",
    "\n",
    "if not os.path.exists(props_2010_11231_fname):\n",
    "    print(\"Creating 11231 csv file...\")\n",
    "    !csvgrep -c zip -r \"11231\" data/nyc_property_assessments/nyc.prop_assess_2010.csv > data/nyc_property_assessments/props_2010_zip11231.csv\n"
   ]
  },
  {
   "cell_type": "markdown",
   "metadata": {},
   "source": [
    "##Start exploring the data/schema."
   ]
  },
  {
   "cell_type": "code",
   "execution_count": 7,
   "metadata": {
    "collapsed": false,
    "scrolled": true
   },
   "outputs": [],
   "source": [
    "df10_11231 = pd.read_csv(props_2010_11231_fname)"
   ]
  },
  {
   "cell_type": "markdown",
   "metadata": {},
   "source": [
    "### Confirm we filtered correctly. Also, how many rows/properties in 11231? "
   ]
  },
  {
   "cell_type": "code",
   "execution_count": 8,
   "metadata": {
    "collapsed": false
   },
   "outputs": [
    {
     "name": "stdout",
     "output_type": "stream",
     "text": [
      "df.shape:  (6260, 32)\n",
      "Confirm we filtered correctly. Num rows where zip==11231:  6260\n"
     ]
    }
   ],
   "source": [
    "print(\"df.shape: \", df10_11231.shape)\n",
    "print(\"Confirm we filtered correctly. Num rows where zip==11231: \", \n",
    "      len(df10_11231.zip == 11231))\n"
   ]
  },
  {
   "cell_type": "markdown",
   "metadata": {},
   "source": [
    "###OK, generating a subset csv file is useful. Let's make it a more generic util func.\n",
    "\n",
    "Pass in a colname (\"zip\") and a pattern we want to match (11231),\n",
    "and create a new subset csv file, matching the search criteria."
   ]
  },
  {
   "cell_type": "code",
   "execution_count": 9,
   "metadata": {
    "collapsed": true
   },
   "outputs": [],
   "source": [
    "import os\n",
    "def create_subset_csv(colname, regex_str, orig_csv_fname, new_csv_fname=None):\n",
    "    assert os.path.exists(orig_csv_fname)\n",
    "    \n",
    "    if not new_csv_fname:\n",
    "        orig_split = os.path.split(orig_csv_fname)\n",
    "        new_csv_fname = \"{col}_{reg}__{orig}\".format(\n",
    "            col=colname, reg=regex_str, orig=orig_split[-1])\n",
    "        new_full_name = os.path.join(orig_split[0], new_csv_fname)\n",
    "\n",
    "    if not os.path.exists(new_full_name):\n",
    "        os.system('csvgrep -c {col} -r \"{reg}\" {orig} > {new}'.format(\n",
    "            col=colname, reg=regex_str, orig=orig_csv_fname, new=new_full_name))\n",
    "    return new_full_name\n"
   ]
  },
  {
   "cell_type": "code",
   "execution_count": 10,
   "metadata": {
    "collapsed": false
   },
   "outputs": [
    {
     "name": "stdout",
     "output_type": "stream",
     "text": [
      "<class 'pandas.core.frame.DataFrame'>\n",
      "Int64Index: 6260 entries, 0 to 6259\n",
      "Data columns (total 32 columns):\n",
      "bble        6260 non-null float64\n",
      "borough     6260 non-null object\n",
      "block       6260 non-null int64\n",
      "lot         6260 non-null int64\n",
      "easement    5 non-null object\n",
      "owner       6087 non-null object\n",
      "bldgcl      6260 non-null object\n",
      "taxclass    6260 non-null object\n",
      "ltfront     6260 non-null int64\n",
      "ltdepth     6260 non-null int64\n",
      "ext         474 non-null object\n",
      "stories     5744 non-null float64\n",
      "fullval     6260 non-null float64\n",
      "avland      6260 non-null float64\n",
      "avtot       6260 non-null float64\n",
      "exland      6260 non-null float64\n",
      "extot       6260 non-null float64\n",
      "excd1       2823 non-null float64\n",
      "staddr      6260 non-null object\n",
      "zip         6260 non-null int64\n",
      "exmptcl     180 non-null object\n",
      "bldfront    6260 non-null int64\n",
      "blddepth    6260 non-null int64\n",
      "avland2     1991 non-null float64\n",
      "avtot2      1991 non-null float64\n",
      "exland2     533 non-null float64\n",
      "extot2      786 non-null float64\n",
      "excd2       332 non-null float64\n",
      "period      6260 non-null object\n",
      "year        6260 non-null object\n",
      "valtype     6260 non-null object\n",
      "serialid    6260 non-null int64\n",
      "dtypes: float64(13), int64(8), object(11)\n",
      "memory usage: 1.6+ MB\n"
     ]
    }
   ],
   "source": [
    "# let's use it to re-generate the 11231 zip subset \n",
    "# and confirm via df.info() that the result is equivalent...\n",
    "new_fname = create_subset_csv(\"zip\", \"11231\", \n",
    "                              \"data/nyc_property_assessments/nyc.prop_assess_2010.csv\")\n",
    "\n",
    "df10_zip11231 = pd.read_csv(new_fname)\n",
    "df10_zip11231.info()"
   ]
  },
  {
   "cell_type": "markdown",
   "metadata": {},
   "source": [
    "## Cool, that worked. Some cleanup from previous work above..."
   ]
  },
  {
   "cell_type": "code",
   "execution_count": 11,
   "metadata": {
    "collapsed": false
   },
   "outputs": [],
   "source": [
    "# some cleanup; delete previous dataframes that we won't use anymore\n",
    "# frees mem and prevents inadvertent references to them in subsequent cells (guilty!)\n",
    "del props_2010_11231_fname\n",
    "del df10_11231"
   ]
  },
  {
   "cell_type": "markdown",
   "metadata": {},
   "source": [
    "## Some data exploration..."
   ]
  },
  {
   "cell_type": "markdown",
   "metadata": {},
   "source": [
    "### What are the columns?"
   ]
  },
  {
   "cell_type": "code",
   "execution_count": 12,
   "metadata": {
    "collapsed": false
   },
   "outputs": [
    {
     "data": {
      "text/plain": [
       "Index(['bble', 'borough', 'block', 'lot', 'easement', 'owner', 'bldgcl', 'taxclass', 'ltfront', 'ltdepth', 'ext', 'stories', 'fullval', 'avland', 'avtot', 'exland', 'extot', 'excd1', 'staddr', 'zip', 'exmptcl', 'bldfront', 'blddepth', 'avland2', 'avtot2', 'exland2', 'extot2', 'excd2', 'period', 'year', 'valtype', 'serialid'], dtype='object')"
      ]
     },
     "execution_count": 12,
     "metadata": {},
     "output_type": "execute_result"
    }
   ],
   "source": [
    "df10_zip11231.columns"
   ]
  },
  {
   "cell_type": "markdown",
   "metadata": {},
   "source": [
    "### Make the column info more visually friendly."
   ]
  },
  {
   "cell_type": "code",
   "execution_count": 13,
   "metadata": {
    "collapsed": false
   },
   "outputs": [
    {
     "name": "stdout",
     "output_type": "stream",
     "text": [
      "\n",
      "Column names...\n",
      "\n",
      "avland    avland2   avtot     avtot2    bble      \n",
      "blddepth  bldfront  bldgcl    block     borough   easement  \n",
      "excd1     excd2     exland    exland2   exmptcl   ext       \n",
      "extot     extot2    fullval   lot       ltdepth   ltfront   \n",
      "owner     period    serialid  staddr    stories   taxclass  \n",
      "valtype   year      zip       \n"
     ]
    }
   ],
   "source": [
    "# Column names not that visually clear; make them easier to read...\n",
    "def prettify_colnames(df, cols_per_row=7):\n",
    "    cols = sorted(df.columns)\n",
    "    colsize = 2 + max(len(colname) for colname in cols)\n",
    "    outstr = \"\"\n",
    "    for ix, colname in enumerate(cols):\n",
    "        outstr += \"{nl}{cn:{sz}}\".format(\n",
    "            nl = \"\" if (ix+1) % cols_per_row else \"\\n\", cn=colname, sz=colsize)\n",
    "    return outstr\n",
    "\n",
    "# try again...\n",
    "print(\"\\nColumn names...\\n\\n{}\".format(prettify_colnames(df10_zip11231, 6)))"
   ]
  },
  {
   "cell_type": "markdown",
   "metadata": {},
   "source": [
    "## What do these column headers mean!? Kind of cryptic names...\n",
    "\n",
    "### Navigate enigma.io website. <br>You can click on \"Description\" for any table/dataset.<br>A modal window pops up.<br> You can choose to \"export\" the column descriptions as a file.\n",
    "\n",
    "\n",
    "Downloaded it, unzipped it. It contains 2 files...\n",
    "\n",
    "     table-info.csv\n",
    "     column-info.csv\n",
    "     "
   ]
  },
  {
   "cell_type": "markdown",
   "metadata": {},
   "source": [
    "### Read the column-info.csv file."
   ]
  },
  {
   "cell_type": "code",
   "execution_count": 14,
   "metadata": {
    "collapsed": false
   },
   "outputs": [
    {
     "data": {
      "text/html": [
       "<div style=\"max-height:1000px;max-width:1500px;overflow:auto;\">\n",
       "<table border=\"1\" class=\"dataframe\">\n",
       "  <thead>\n",
       "    <tr style=\"text-align: right;\">\n",
       "      <th></th>\n",
       "      <th>Column Name</th>\n",
       "      <th>Column Description</th>\n",
       "      <th>Column API ID</th>\n",
       "      <th>Column Type</th>\n",
       "    </tr>\n",
       "  </thead>\n",
       "  <tbody>\n",
       "    <tr>\n",
       "      <th>0</th>\n",
       "      <td>Year</td>\n",
       "      <td>Year</td>\n",
       "      <td>year</td>\n",
       "      <td>type_varchar</td>\n",
       "    </tr>\n",
       "    <tr>\n",
       "      <th>1</th>\n",
       "      <td>BBLE</td>\n",
       "      <td>Concatenation of Borough, Block, Lot, &amp; Easement</td>\n",
       "      <td>bble</td>\n",
       "      <td>type_varchar</td>\n",
       "    </tr>\n",
       "    <tr>\n",
       "      <th>2</th>\n",
       "      <td>Owner</td>\n",
       "      <td>Owner</td>\n",
       "      <td>owner</td>\n",
       "      <td>type_varchar</td>\n",
       "    </tr>\n",
       "    <tr>\n",
       "      <th>3</th>\n",
       "      <td>Street Address</td>\n",
       "      <td>Street Address</td>\n",
       "      <td>staddr</td>\n",
       "      <td>type_varchar</td>\n",
       "    </tr>\n",
       "    <tr>\n",
       "      <th>4</th>\n",
       "      <td>Block</td>\n",
       "      <td>Valid Block Ranges By Borough: Manhattan - [1 ...</td>\n",
       "      <td>block</td>\n",
       "      <td>type_varchar</td>\n",
       "    </tr>\n",
       "  </tbody>\n",
       "</table>\n",
       "</div>"
      ],
      "text/plain": [
       "      Column Name                                 Column Description  \\\n",
       "0            Year                                               Year   \n",
       "1            BBLE   Concatenation of Borough, Block, Lot, & Easement   \n",
       "2           Owner                                              Owner   \n",
       "3  Street Address                                     Street Address   \n",
       "4           Block  Valid Block Ranges By Borough: Manhattan - [1 ...   \n",
       "\n",
       "  Column API ID   Column Type  \n",
       "0          year  type_varchar  \n",
       "1          bble  type_varchar  \n",
       "2         owner  type_varchar  \n",
       "3        staddr  type_varchar  \n",
       "4         block  type_varchar  "
      ]
     },
     "execution_count": 14,
     "metadata": {},
     "output_type": "execute_result"
    }
   ],
   "source": [
    "colinfo_df = pd.read_csv(\"data/nyc_property_assessments/2010-column-info.csv\")\n",
    "colinfo_df.head()"
   ]
  },
  {
   "cell_type": "code",
   "execution_count": 15,
   "metadata": {
    "collapsed": false
   },
   "outputs": [
    {
     "name": "stdout",
     "output_type": "stream",
     "text": [
      "<class 'pandas.core.frame.DataFrame'>\n",
      "Int64Index: 32 entries, 0 to 31\n",
      "Data columns (total 4 columns):\n",
      "Column Name           32 non-null object\n",
      "Column Description    32 non-null object\n",
      "Column API ID         32 non-null object\n",
      "Column Type           32 non-null object\n",
      "dtypes: object(4)\n",
      "memory usage: 1.2+ KB\n"
     ]
    }
   ],
   "source": [
    "# peek\n",
    "colinfo_df.info()"
   ]
  },
  {
   "cell_type": "code",
   "execution_count": 16,
   "metadata": {
    "collapsed": false
   },
   "outputs": [
    {
     "name": "stdout",
     "output_type": "stream",
     "text": [
      "number of cols in dataset:  32\n",
      "number of columns described in the column-info file:  32\n"
     ]
    }
   ],
   "source": [
    "print(\"number of cols in dataset: \", len(df10_zip11231.columns))\n",
    "print(\"number of columns described in the column-info file: \", colinfo_df.shape[0])"
   ]
  },
  {
   "cell_type": "markdown",
   "metadata": {},
   "source": [
    "### Cool, every column in the dataset is described!"
   ]
  },
  {
   "cell_type": "code",
   "execution_count": 17,
   "metadata": {
    "collapsed": false
   },
   "outputs": [
    {
     "data": {
      "text/html": [
       "<div style=\"max-height:1000px;max-width:1500px;overflow:auto;\">\n",
       "<table border=\"1\" class=\"dataframe\">\n",
       "  <thead>\n",
       "    <tr style=\"text-align: right;\">\n",
       "      <th></th>\n",
       "      <th>Column API ID</th>\n",
       "      <th>Column Description</th>\n",
       "      <th>Column Type</th>\n",
       "    </tr>\n",
       "  </thead>\n",
       "  <tbody>\n",
       "    <tr>\n",
       "      <th>8</th>\n",
       "      <td>avland</td>\n",
       "      <td>Actual Land Value</td>\n",
       "      <td>type_numeric</td>\n",
       "    </tr>\n",
       "    <tr>\n",
       "      <th>26</th>\n",
       "      <td>avland2</td>\n",
       "      <td>Transitional Land Value</td>\n",
       "      <td>type_numeric</td>\n",
       "    </tr>\n",
       "    <tr>\n",
       "      <th>9</th>\n",
       "      <td>avtot</td>\n",
       "      <td>Actual Total Value</td>\n",
       "      <td>type_numeric</td>\n",
       "    </tr>\n",
       "    <tr>\n",
       "      <th>27</th>\n",
       "      <td>avtot2</td>\n",
       "      <td>Transitional Total Value</td>\n",
       "      <td>type_numeric</td>\n",
       "    </tr>\n",
       "    <tr>\n",
       "      <th>1</th>\n",
       "      <td>bble</td>\n",
       "      <td>Concatenation of Borough, Block, Lot, &amp; Easement</td>\n",
       "      <td>type_varchar</td>\n",
       "    </tr>\n",
       "    <tr>\n",
       "      <th>25</th>\n",
       "      <td>blddepth</td>\n",
       "      <td>Building Depth in Feet</td>\n",
       "      <td>type_numeric</td>\n",
       "    </tr>\n",
       "    <tr>\n",
       "      <th>24</th>\n",
       "      <td>bldfront</td>\n",
       "      <td>Building Frontage in Feet</td>\n",
       "      <td>type_numeric</td>\n",
       "    </tr>\n",
       "    <tr>\n",
       "      <th>14</th>\n",
       "      <td>bldgcl</td>\n",
       "      <td>Building Class - See form listing a descriptio...</td>\n",
       "      <td>type_varchar</td>\n",
       "    </tr>\n",
       "    <tr>\n",
       "      <th>4</th>\n",
       "      <td>block</td>\n",
       "      <td>Valid Block Ranges By Borough: Manhattan - [1 ...</td>\n",
       "      <td>type_varchar</td>\n",
       "    </tr>\n",
       "    <tr>\n",
       "      <th>13</th>\n",
       "      <td>borough</td>\n",
       "      <td>[1] - Manhattan [2] - Bronx [3] - Brooklyn [4]...</td>\n",
       "      <td>type_varchar</td>\n",
       "    </tr>\n",
       "    <tr>\n",
       "      <th>10</th>\n",
       "      <td>easement</td>\n",
       "      <td>[SPACE] - Indicates the lot has no easement. [...</td>\n",
       "      <td>type_varchar</td>\n",
       "    </tr>\n",
       "    <tr>\n",
       "      <th>22</th>\n",
       "      <td>excd1</td>\n",
       "      <td>Exemption Code - 1</td>\n",
       "      <td>type_varchar</td>\n",
       "    </tr>\n",
       "    <tr>\n",
       "      <th>30</th>\n",
       "      <td>excd2</td>\n",
       "      <td>Exemption Code 2</td>\n",
       "      <td>type_varchar</td>\n",
       "    </tr>\n",
       "    <tr>\n",
       "      <th>11</th>\n",
       "      <td>exland</td>\n",
       "      <td>Actual Exempt Land Value</td>\n",
       "      <td>type_numeric</td>\n",
       "    </tr>\n",
       "    <tr>\n",
       "      <th>28</th>\n",
       "      <td>exland2</td>\n",
       "      <td>Transitional Exempt Land Value</td>\n",
       "      <td>type_numeric</td>\n",
       "    </tr>\n",
       "    <tr>\n",
       "      <th>23</th>\n",
       "      <td>exmptcl</td>\n",
       "      <td>Exempt Class used for fully exempt properties ...</td>\n",
       "      <td>type_varchar</td>\n",
       "    </tr>\n",
       "    <tr>\n",
       "      <th>17</th>\n",
       "      <td>ext</td>\n",
       "      <td>[E] - Extension [G] - Garage [EG] - Extension ...</td>\n",
       "      <td>type_varchar</td>\n",
       "    </tr>\n",
       "    <tr>\n",
       "      <th>12</th>\n",
       "      <td>extot</td>\n",
       "      <td>Actual Exempt Land Total</td>\n",
       "      <td>type_numeric</td>\n",
       "    </tr>\n",
       "    <tr>\n",
       "      <th>29</th>\n",
       "      <td>extot2</td>\n",
       "      <td>Transitional Exempt Land Total</td>\n",
       "      <td>type_numeric</td>\n",
       "    </tr>\n",
       "    <tr>\n",
       "      <th>7</th>\n",
       "      <td>fullval</td>\n",
       "      <td>If not zero, new total market value of property.</td>\n",
       "      <td>type_numeric</td>\n",
       "    </tr>\n",
       "    <tr>\n",
       "      <th>6</th>\n",
       "      <td>lot</td>\n",
       "      <td>Unique Number Within Borough/Block</td>\n",
       "      <td>type_varchar</td>\n",
       "    </tr>\n",
       "    <tr>\n",
       "      <th>16</th>\n",
       "      <td>ltdepth</td>\n",
       "      <td>Lot Depth in Feet</td>\n",
       "      <td>type_numeric</td>\n",
       "    </tr>\n",
       "    <tr>\n",
       "      <th>15</th>\n",
       "      <td>ltfront</td>\n",
       "      <td>Lot Frontage in Feet</td>\n",
       "      <td>type_numeric</td>\n",
       "    </tr>\n",
       "    <tr>\n",
       "      <th>2</th>\n",
       "      <td>owner</td>\n",
       "      <td>Owner</td>\n",
       "      <td>type_varchar</td>\n",
       "    </tr>\n",
       "    <tr>\n",
       "      <th>21</th>\n",
       "      <td>period</td>\n",
       "      <td>Period</td>\n",
       "      <td>type_varchar</td>\n",
       "    </tr>\n",
       "    <tr>\n",
       "      <th>31</th>\n",
       "      <td>serialid</td>\n",
       "      <td>Serialid</td>\n",
       "      <td>type_numeric</td>\n",
       "    </tr>\n",
       "    <tr>\n",
       "      <th>3</th>\n",
       "      <td>staddr</td>\n",
       "      <td>Street Address</td>\n",
       "      <td>type_varchar</td>\n",
       "    </tr>\n",
       "    <tr>\n",
       "      <th>19</th>\n",
       "      <td>stories</td>\n",
       "      <td>Stories</td>\n",
       "      <td>type_numeric</td>\n",
       "    </tr>\n",
       "    <tr>\n",
       "      <th>18</th>\n",
       "      <td>taxclass</td>\n",
       "      <td>[1] : 1-3 Unit Residences [1A] : 1-3 Story Con...</td>\n",
       "      <td>type_varchar</td>\n",
       "    </tr>\n",
       "    <tr>\n",
       "      <th>20</th>\n",
       "      <td>valtype</td>\n",
       "      <td>[1] - The parcel's values are reflected in ano...</td>\n",
       "      <td>type_varchar</td>\n",
       "    </tr>\n",
       "    <tr>\n",
       "      <th>0</th>\n",
       "      <td>year</td>\n",
       "      <td>Year</td>\n",
       "      <td>type_varchar</td>\n",
       "    </tr>\n",
       "    <tr>\n",
       "      <th>5</th>\n",
       "      <td>zip</td>\n",
       "      <td>Zip Code</td>\n",
       "      <td>type_varchar</td>\n",
       "    </tr>\n",
       "  </tbody>\n",
       "</table>\n",
       "</div>"
      ],
      "text/plain": [
       "   Column API ID                                 Column Description  \\\n",
       "8         avland                                  Actual Land Value   \n",
       "26       avland2                            Transitional Land Value   \n",
       "9          avtot                                 Actual Total Value   \n",
       "27        avtot2                           Transitional Total Value   \n",
       "1           bble   Concatenation of Borough, Block, Lot, & Easement   \n",
       "25      blddepth                             Building Depth in Feet   \n",
       "24      bldfront                          Building Frontage in Feet   \n",
       "14        bldgcl  Building Class - See form listing a descriptio...   \n",
       "4          block  Valid Block Ranges By Borough: Manhattan - [1 ...   \n",
       "13       borough  [1] - Manhattan [2] - Bronx [3] - Brooklyn [4]...   \n",
       "10      easement  [SPACE] - Indicates the lot has no easement. [...   \n",
       "22         excd1                                 Exemption Code - 1   \n",
       "30         excd2                                   Exemption Code 2   \n",
       "11        exland                           Actual Exempt Land Value   \n",
       "28       exland2                     Transitional Exempt Land Value   \n",
       "23       exmptcl  Exempt Class used for fully exempt properties ...   \n",
       "17           ext  [E] - Extension [G] - Garage [EG] - Extension ...   \n",
       "12         extot                           Actual Exempt Land Total   \n",
       "29        extot2                     Transitional Exempt Land Total   \n",
       "7        fullval   If not zero, new total market value of property.   \n",
       "6            lot                 Unique Number Within Borough/Block   \n",
       "16       ltdepth                                  Lot Depth in Feet   \n",
       "15       ltfront                               Lot Frontage in Feet   \n",
       "2          owner                                              Owner   \n",
       "21        period                                             Period   \n",
       "31      serialid                                           Serialid   \n",
       "3         staddr                                     Street Address   \n",
       "19       stories                                            Stories   \n",
       "18      taxclass  [1] : 1-3 Unit Residences [1A] : 1-3 Story Con...   \n",
       "20       valtype  [1] - The parcel's values are reflected in ano...   \n",
       "0           year                                               Year   \n",
       "5            zip                                           Zip Code   \n",
       "\n",
       "     Column Type  \n",
       "8   type_numeric  \n",
       "26  type_numeric  \n",
       "9   type_numeric  \n",
       "27  type_numeric  \n",
       "1   type_varchar  \n",
       "25  type_numeric  \n",
       "24  type_numeric  \n",
       "14  type_varchar  \n",
       "4   type_varchar  \n",
       "13  type_varchar  \n",
       "10  type_varchar  \n",
       "22  type_varchar  \n",
       "30  type_varchar  \n",
       "11  type_numeric  \n",
       "28  type_numeric  \n",
       "23  type_varchar  \n",
       "17  type_varchar  \n",
       "12  type_numeric  \n",
       "29  type_numeric  \n",
       "7   type_numeric  \n",
       "6   type_varchar  \n",
       "16  type_numeric  \n",
       "15  type_numeric  \n",
       "2   type_varchar  \n",
       "21  type_varchar  \n",
       "31  type_numeric  \n",
       "3   type_varchar  \n",
       "19  type_numeric  \n",
       "18  type_varchar  \n",
       "20  type_varchar  \n",
       "0   type_varchar  \n",
       "5   type_varchar  "
      ]
     },
     "execution_count": 17,
     "metadata": {},
     "output_type": "execute_result"
    }
   ],
   "source": [
    "# display description for all cols\n",
    "pd.set_option(\"max_rows\", 50)\n",
    "colinfo_df.ix[:, [\"Column API ID\", \"Column Description\", \"Column Type\"]].sort(\"Column API ID\")\n"
   ]
  },
  {
   "cell_type": "code",
   "execution_count": 18,
   "metadata": {
    "collapsed": false
   },
   "outputs": [
    {
     "data": {
      "text/html": [
       "<div style=\"max-height:1000px;max-width:1500px;overflow:auto;\">\n",
       "<table border=\"1\" class=\"dataframe\">\n",
       "  <thead>\n",
       "    <tr style=\"text-align: right;\">\n",
       "      <th></th>\n",
       "      <th>avland</th>\n",
       "      <th>avland2</th>\n",
       "      <th>avtot</th>\n",
       "      <th>avtot2</th>\n",
       "      <th>bble</th>\n",
       "      <th>blddepth</th>\n",
       "      <th>bldfront</th>\n",
       "      <th>bldgcl</th>\n",
       "      <th>block</th>\n",
       "      <th>borough</th>\n",
       "      <th>easement</th>\n",
       "      <th>excd1</th>\n",
       "      <th>excd2</th>\n",
       "      <th>exland</th>\n",
       "      <th>exland2</th>\n",
       "      <th>exmptcl</th>\n",
       "      <th>ext</th>\n",
       "      <th>extot</th>\n",
       "      <th>extot2</th>\n",
       "      <th>fullval</th>\n",
       "      <th>lot</th>\n",
       "      <th>ltdepth</th>\n",
       "      <th>ltfront</th>\n",
       "      <th>owner</th>\n",
       "      <th>period</th>\n",
       "      <th>serialid</th>\n",
       "      <th>staddr</th>\n",
       "      <th>stories</th>\n",
       "      <th>taxclass</th>\n",
       "      <th>valtype</th>\n",
       "      <th>year</th>\n",
       "      <th>zip</th>\n",
       "    </tr>\n",
       "  </thead>\n",
       "  <tbody>\n",
       "    <tr>\n",
       "      <th>0</th>\n",
       "      <td>0</td>\n",
       "      <td>NaN</td>\n",
       "      <td>0</td>\n",
       "      <td>NaN</td>\n",
       "      <td>3004097502</td>\n",
       "      <td>0</td>\n",
       "      <td>0</td>\n",
       "      <td>R0</td>\n",
       "      <td>409</td>\n",
       "      <td>BROOKLYN</td>\n",
       "      <td>NaN</td>\n",
       "      <td>NaN</td>\n",
       "      <td>NaN</td>\n",
       "      <td>0</td>\n",
       "      <td>NaN</td>\n",
       "      <td>NaN</td>\n",
       "      <td>NaN</td>\n",
       "      <td>0</td>\n",
       "      <td>NaN</td>\n",
       "      <td>0</td>\n",
       "      <td>7502</td>\n",
       "      <td>100</td>\n",
       "      <td>20</td>\n",
       "      <td>NaN</td>\n",
       "      <td>FINAL</td>\n",
       "      <td>246026</td>\n",
       "      <td>91 DOUGLASS STREET</td>\n",
       "      <td>NaN</td>\n",
       "      <td>2</td>\n",
       "      <td>AC-TR</td>\n",
       "      <td>2009/10</td>\n",
       "      <td>11231</td>\n",
       "    </tr>\n",
       "    <tr>\n",
       "      <th>1</th>\n",
       "      <td>267</td>\n",
       "      <td>267</td>\n",
       "      <td>3498</td>\n",
       "      <td>2563</td>\n",
       "      <td>3004211044</td>\n",
       "      <td>0</td>\n",
       "      <td>0</td>\n",
       "      <td>R5</td>\n",
       "      <td>421</td>\n",
       "      <td>BROOKLYN</td>\n",
       "      <td>NaN</td>\n",
       "      <td>NaN</td>\n",
       "      <td>NaN</td>\n",
       "      <td>0</td>\n",
       "      <td>NaN</td>\n",
       "      <td>NaN</td>\n",
       "      <td>NaN</td>\n",
       "      <td>0</td>\n",
       "      <td>NaN</td>\n",
       "      <td>7774</td>\n",
       "      <td>1044</td>\n",
       "      <td>0</td>\n",
       "      <td>0</td>\n",
       "      <td>NaN</td>\n",
       "      <td>FINAL</td>\n",
       "      <td>246896</td>\n",
       "      <td>344 DE GRAW STREET</td>\n",
       "      <td>NaN</td>\n",
       "      <td>4</td>\n",
       "      <td>AC-TR</td>\n",
       "      <td>2009/10</td>\n",
       "      <td>11231</td>\n",
       "    </tr>\n",
       "    <tr>\n",
       "      <th>2</th>\n",
       "      <td>0</td>\n",
       "      <td>NaN</td>\n",
       "      <td>0</td>\n",
       "      <td>NaN</td>\n",
       "      <td>3004217501</td>\n",
       "      <td>44</td>\n",
       "      <td>107</td>\n",
       "      <td>R0</td>\n",
       "      <td>421</td>\n",
       "      <td>BROOKLYN</td>\n",
       "      <td>NaN</td>\n",
       "      <td>NaN</td>\n",
       "      <td>NaN</td>\n",
       "      <td>0</td>\n",
       "      <td>NaN</td>\n",
       "      <td>NaN</td>\n",
       "      <td>NaN</td>\n",
       "      <td>0</td>\n",
       "      <td>NaN</td>\n",
       "      <td>0</td>\n",
       "      <td>7501</td>\n",
       "      <td>100</td>\n",
       "      <td>125</td>\n",
       "      <td>NaN</td>\n",
       "      <td>FINAL</td>\n",
       "      <td>247042</td>\n",
       "      <td>344 DE GRAW STREET</td>\n",
       "      <td>6</td>\n",
       "      <td>2</td>\n",
       "      <td>AC-TR</td>\n",
       "      <td>2009/10</td>\n",
       "      <td>11231</td>\n",
       "    </tr>\n",
       "    <tr>\n",
       "      <th>3</th>\n",
       "      <td>0</td>\n",
       "      <td>NaN</td>\n",
       "      <td>0</td>\n",
       "      <td>NaN</td>\n",
       "      <td>3003190009</td>\n",
       "      <td>0</td>\n",
       "      <td>0</td>\n",
       "      <td>D7</td>\n",
       "      <td>319</td>\n",
       "      <td>BROOKLYN</td>\n",
       "      <td>NaN</td>\n",
       "      <td>NaN</td>\n",
       "      <td>NaN</td>\n",
       "      <td>0</td>\n",
       "      <td>NaN</td>\n",
       "      <td>NaN</td>\n",
       "      <td>NaN</td>\n",
       "      <td>0</td>\n",
       "      <td>NaN</td>\n",
       "      <td>0</td>\n",
       "      <td>9</td>\n",
       "      <td>97</td>\n",
       "      <td>19</td>\n",
       "      <td>POSTGRADUATE CNTR MEN</td>\n",
       "      <td>FINAL</td>\n",
       "      <td>256645</td>\n",
       "      <td>169 COLUMBIA STREET</td>\n",
       "      <td>NaN</td>\n",
       "      <td>2</td>\n",
       "      <td>AC-TR</td>\n",
       "      <td>2009/10</td>\n",
       "      <td>11231</td>\n",
       "    </tr>\n",
       "    <tr>\n",
       "      <th>4</th>\n",
       "      <td>0</td>\n",
       "      <td>NaN</td>\n",
       "      <td>0</td>\n",
       "      <td>NaN</td>\n",
       "      <td>3003367502</td>\n",
       "      <td>0</td>\n",
       "      <td>0</td>\n",
       "      <td>R0</td>\n",
       "      <td>336</td>\n",
       "      <td>BROOKLYN</td>\n",
       "      <td>NaN</td>\n",
       "      <td>NaN</td>\n",
       "      <td>NaN</td>\n",
       "      <td>0</td>\n",
       "      <td>NaN</td>\n",
       "      <td>NaN</td>\n",
       "      <td>NaN</td>\n",
       "      <td>0</td>\n",
       "      <td>NaN</td>\n",
       "      <td>0</td>\n",
       "      <td>7502</td>\n",
       "      <td>100</td>\n",
       "      <td>61</td>\n",
       "      <td>NaN</td>\n",
       "      <td>FINAL</td>\n",
       "      <td>256719</td>\n",
       "      <td>156 SACKETT STREET</td>\n",
       "      <td>6</td>\n",
       "      <td>2</td>\n",
       "      <td>AC-TR</td>\n",
       "      <td>2009/10</td>\n",
       "      <td>11231</td>\n",
       "    </tr>\n",
       "  </tbody>\n",
       "</table>\n",
       "</div>"
      ],
      "text/plain": [
       "   avland  avland2  avtot  avtot2        bble  blddepth  bldfront bldgcl  \\\n",
       "0       0      NaN      0     NaN  3004097502         0         0     R0   \n",
       "1     267      267   3498    2563  3004211044         0         0     R5   \n",
       "2       0      NaN      0     NaN  3004217501        44       107     R0   \n",
       "3       0      NaN      0     NaN  3003190009         0         0     D7   \n",
       "4       0      NaN      0     NaN  3003367502         0         0     R0   \n",
       "\n",
       "   block   borough easement  excd1  excd2  exland  exland2 exmptcl  ext  \\\n",
       "0    409  BROOKLYN      NaN    NaN    NaN       0      NaN     NaN  NaN   \n",
       "1    421  BROOKLYN      NaN    NaN    NaN       0      NaN     NaN  NaN   \n",
       "2    421  BROOKLYN      NaN    NaN    NaN       0      NaN     NaN  NaN   \n",
       "3    319  BROOKLYN      NaN    NaN    NaN       0      NaN     NaN  NaN   \n",
       "4    336  BROOKLYN      NaN    NaN    NaN       0      NaN     NaN  NaN   \n",
       "\n",
       "   extot  extot2  fullval   lot  ltdepth  ltfront                  owner  \\\n",
       "0      0     NaN        0  7502      100       20                    NaN   \n",
       "1      0     NaN     7774  1044        0        0                    NaN   \n",
       "2      0     NaN        0  7501      100      125                    NaN   \n",
       "3      0     NaN        0     9       97       19  POSTGRADUATE CNTR MEN   \n",
       "4      0     NaN        0  7502      100       61                    NaN   \n",
       "\n",
       "  period  serialid               staddr  stories taxclass valtype     year  \\\n",
       "0  FINAL    246026   91 DOUGLASS STREET      NaN        2   AC-TR  2009/10   \n",
       "1  FINAL    246896   344 DE GRAW STREET      NaN        4   AC-TR  2009/10   \n",
       "2  FINAL    247042   344 DE GRAW STREET        6        2   AC-TR  2009/10   \n",
       "3  FINAL    256645  169 COLUMBIA STREET      NaN        2   AC-TR  2009/10   \n",
       "4  FINAL    256719   156 SACKETT STREET        6        2   AC-TR  2009/10   \n",
       "\n",
       "     zip  \n",
       "0  11231  \n",
       "1  11231  \n",
       "2  11231  \n",
       "3  11231  \n",
       "4  11231  "
      ]
     },
     "execution_count": 18,
     "metadata": {},
     "output_type": "execute_result"
    }
   ],
   "source": [
    "# Reminder of what the real data looks like, also w/ cols sorted alphab.\n",
    "pd.set_option('max_columns', 50)\n",
    "df10_zip11231.head().ix[:, sorted(df10_zip11231.columns)]\n"
   ]
  },
  {
   "cell_type": "markdown",
   "metadata": {},
   "source": [
    "### Select what seems like a useful subset of the 32 columns.<br> We'll use this col subset for our data exploration."
   ]
  },
  {
   "cell_type": "code",
   "execution_count": 19,
   "metadata": {
    "collapsed": false
   },
   "outputs": [],
   "source": [
    "# these columns seem interesting \n",
    "# (owner, street name & number, value, lot front/depth in ft., num of stories, ...)\n",
    "colnames_10 = ['owner',\n",
    "               'fullval',\n",
    "               'zip',\n",
    "               'staddr',\n",
    "               'ltfront',\n",
    "               'ltdepth',\n",
    "               'stories',\n",
    "               'easement']\n",
    "\n",
    "colnames_10.append('taxclass')\n",
    "#############\n",
    "### note from the future!!\n",
    "### it turns out that the \"taxclass\" columns is useful...\n",
    "#############\n",
    "#\n",
    "# had to go fishing for info re: tax class to see if it may be\n",
    "# a relevant column. it will be, to distinguish between residential\n",
    "# vs. rental vs. utility vs ...\n",
    "#\n",
    "# http://www1.nyc.gov/site/finance/taxes/definitions-of-property-assessment-terms.page\n",
    "#\n",
    "#####\n",
    "#\n",
    "## Tax Class:  Property in NYC is divided into 4 classes:\n",
    "##\n",
    "## - Class 1: Most residential property of up to three units (family\n",
    "##     homes and small stores or offices with one or two apartments\n",
    "##     attached), and most condominiums that are not more than three\n",
    "##     stories.\n",
    "##\n",
    "## - Class 2: All other property that is not in Class 1 and is\n",
    "##       primarily residential (rentals, cooperatives and\n",
    "##       condominiums). Class 2 includes:\n",
    "##   * Sub-Class 2a  (4 -  6 unit rental building);\n",
    "##   * Sub-Class 2b  (7 - 10 unit rental building);\n",
    "##   * Sub-Class 2c  (2 - 10 unit cooperative or condominium); and\n",
    "##   * Class 2  (11 units or more).\n",
    "##\n",
    "## - Class 3: Most utility property.\n",
    "##\n",
    "## - Class 4: All commercial and industrial properties, such as\n",
    "##     office, retail, factory buildings and all other properties not\n",
    "##     included in tax classes 1, 2 or 3.\n",
    "##\n",
    "######\n",
    "\n",
    "\n",
    "\n",
    "# index the descr table by the API name...\n",
    "cidx10 = colinfo_df.set_index(\"Column API ID\")\n",
    "\n",
    "# map the cryptic dataset colnames to a more user-friendly name\n",
    "# (preserve the col order listed above)\n",
    "from collections import OrderedDict\n",
    "cols_subset = OrderedDict()\n",
    "for cn in colnames_10:\n",
    "    cols_subset[cn] = cidx10.ix[cn][\"Column Name\"].strip()\n",
    "\n",
    "# rename cols of interest\n",
    "#tmp_renamed = df10_zip11231.rename(columns = cols_subset)\n",
    "df10_zip11231_subcols = df10_zip11231.rename(columns = cols_subset)\n",
    "\n",
    "# and drop all other cols\n",
    "all_cols = set(df10_zip11231.columns)\n",
    "df10_zip11231_subcols = df10_zip11231_subcols.drop(all_cols - set(cols_subset.keys()), axis=1)\n",
    "df10_zip11231_subcols = df10_zip11231_subcols.reindex_axis(cols_subset.values(), axis=1)"
   ]
  },
  {
   "cell_type": "code",
   "execution_count": 20,
   "metadata": {
    "collapsed": false
   },
   "outputs": [
    {
     "data": {
      "text/plain": [
       "Index(['Owner', 'Full Value', 'Zip', 'Street Address', 'Lot Frontage', 'Lot Depth', 'Stories', 'Easement', 'Tax Class'], dtype='object')"
      ]
     },
     "execution_count": 20,
     "metadata": {},
     "output_type": "execute_result"
    }
   ],
   "source": [
    "df10_zip11231_subcols.columns"
   ]
  },
  {
   "cell_type": "code",
   "execution_count": 21,
   "metadata": {
    "collapsed": false
   },
   "outputs": [
    {
     "data": {
      "text/html": [
       "<div style=\"max-height:1000px;max-width:1500px;overflow:auto;\">\n",
       "<table border=\"1\" class=\"dataframe\">\n",
       "  <thead>\n",
       "    <tr style=\"text-align: right;\">\n",
       "      <th></th>\n",
       "      <th>Owner</th>\n",
       "      <th>Full Value</th>\n",
       "      <th>Zip</th>\n",
       "      <th>Street Address</th>\n",
       "      <th>Lot Frontage</th>\n",
       "      <th>Lot Depth</th>\n",
       "      <th>Stories</th>\n",
       "      <th>Easement</th>\n",
       "      <th>Tax Class</th>\n",
       "    </tr>\n",
       "  </thead>\n",
       "  <tbody>\n",
       "    <tr>\n",
       "      <th>100</th>\n",
       "      <td>SOUTH BKLYN RENEWALAS</td>\n",
       "      <td>630000</td>\n",
       "      <td>11231</td>\n",
       "      <td>149 COLUMBIA STREET</td>\n",
       "      <td>26</td>\n",
       "      <td>76</td>\n",
       "      <td>4</td>\n",
       "      <td>NaN</td>\n",
       "      <td>2B</td>\n",
       "    </tr>\n",
       "    <tr>\n",
       "      <th>101</th>\n",
       "      <td>ZAHA AHMAD</td>\n",
       "      <td>841000</td>\n",
       "      <td>11231</td>\n",
       "      <td>147A COLUMBIA STREET</td>\n",
       "      <td>18</td>\n",
       "      <td>97</td>\n",
       "      <td>4</td>\n",
       "      <td>NaN</td>\n",
       "      <td>2B</td>\n",
       "    </tr>\n",
       "    <tr>\n",
       "      <th>102</th>\n",
       "      <td>ZAHA T AHMAD</td>\n",
       "      <td>548000</td>\n",
       "      <td>11231</td>\n",
       "      <td>147 COLUMBIA STREET</td>\n",
       "      <td>18</td>\n",
       "      <td>97</td>\n",
       "      <td>4</td>\n",
       "      <td>NaN</td>\n",
       "      <td>2B</td>\n",
       "    </tr>\n",
       "    <tr>\n",
       "      <th>103</th>\n",
       "      <td>JACK L. IRWIN</td>\n",
       "      <td>665000</td>\n",
       "      <td>11231</td>\n",
       "      <td>145 COLUMBIA STREET</td>\n",
       "      <td>19</td>\n",
       "      <td>97</td>\n",
       "      <td>4</td>\n",
       "      <td>NaN</td>\n",
       "      <td>2A</td>\n",
       "    </tr>\n",
       "    <tr>\n",
       "      <th>104</th>\n",
       "      <td>SOUTH BKLYN RENEWALAS</td>\n",
       "      <td>581000</td>\n",
       "      <td>11231</td>\n",
       "      <td>143 COLUMBIA STREET</td>\n",
       "      <td>19</td>\n",
       "      <td>97</td>\n",
       "      <td>4</td>\n",
       "      <td>NaN</td>\n",
       "      <td>2B</td>\n",
       "    </tr>\n",
       "    <tr>\n",
       "      <th>105</th>\n",
       "      <td>CASANOVA, SAHYLI</td>\n",
       "      <td>1193000</td>\n",
       "      <td>11231</td>\n",
       "      <td>139 COLUMBIA STREET</td>\n",
       "      <td>18</td>\n",
       "      <td>97</td>\n",
       "      <td>3</td>\n",
       "      <td>NaN</td>\n",
       "      <td>1</td>\n",
       "    </tr>\n",
       "  </tbody>\n",
       "</table>\n",
       "</div>"
      ],
      "text/plain": [
       "                     Owner  Full Value    Zip        Street Address  \\\n",
       "100  SOUTH BKLYN RENEWALAS      630000  11231   149 COLUMBIA STREET   \n",
       "101             ZAHA AHMAD      841000  11231  147A COLUMBIA STREET   \n",
       "102           ZAHA T AHMAD      548000  11231   147 COLUMBIA STREET   \n",
       "103          JACK L. IRWIN      665000  11231   145 COLUMBIA STREET   \n",
       "104  SOUTH BKLYN RENEWALAS      581000  11231   143 COLUMBIA STREET   \n",
       "105       CASANOVA, SAHYLI     1193000  11231   139 COLUMBIA STREET   \n",
       "\n",
       "     Lot Frontage  Lot Depth  Stories Easement Tax Class  \n",
       "100            26         76        4      NaN        2B  \n",
       "101            18         97        4      NaN        2B  \n",
       "102            18         97        4      NaN        2B  \n",
       "103            19         97        4      NaN        2A  \n",
       "104            19         97        4      NaN        2B  \n",
       "105            18         97        3      NaN         1  "
      ]
     },
     "execution_count": 21,
     "metadata": {},
     "output_type": "execute_result"
    }
   ],
   "source": [
    "# let's try these new column names, should make table easier to decode.\n",
    "df10_zip11231_subcols.ix[100:105]"
   ]
  },
  {
   "cell_type": "code",
   "execution_count": 22,
   "metadata": {
    "collapsed": false
   },
   "outputs": [
    {
     "data": {
      "text/plain": [
       "['Owner',\n",
       " 'Full Value',\n",
       " 'Zip',\n",
       " 'Street Address',\n",
       " 'Lot Frontage',\n",
       " 'Lot Depth',\n",
       " 'Stories',\n",
       " 'Easement',\n",
       " 'Tax Class']"
      ]
     },
     "execution_count": 22,
     "metadata": {},
     "output_type": "execute_result"
    }
   ],
   "source": [
    "# let's put the new (long-named) columns in a list so that\n",
    "# we don't have to type them every time...\n",
    "cols_to_show = list(cidx10.ix[colnames_10]['Column Name'])\n",
    "cols_to_show"
   ]
  },
  {
   "cell_type": "markdown",
   "metadata": {
    "collapsed": true
   },
   "source": [
    "## OK, enough column cleanup for now. Explore the table's contents.\n",
    "\n",
    "## Delete the subset dataframe that we used to investigate the columns.<br>And go for it, read the full 2010 dataset."
   ]
  },
  {
   "cell_type": "code",
   "execution_count": 23,
   "metadata": {
    "collapsed": false
   },
   "outputs": [
    {
     "name": "stdout",
     "output_type": "stream",
     "text": [
      "CPU times: user 4.4 s, sys: 5.96 s, total: 10.4 s\n",
      "Wall time: 10.4 s\n"
     ]
    }
   ],
   "source": [
    "%%time\n",
    "\n",
    "del df10_zip11231\n",
    "del df10_zip11231_subcols\n",
    "\n",
    "# col 0 (\"bble\") is generating warnings during the read (mixed dtypes). Be specific.\n",
    "df2010 = pd.read_csv(nyc_props_2010_fname, dtype={'bble': object})"
   ]
  },
  {
   "cell_type": "markdown",
   "metadata": {},
   "source": [
    "### And do the column reduction + renaming."
   ]
  },
  {
   "cell_type": "code",
   "execution_count": 24,
   "metadata": {
    "collapsed": false
   },
   "outputs": [],
   "source": [
    "# rename cols of interest; drop all others; reindex\n",
    "all_cols = set(df2010.columns)\n",
    "df2010_subcols = df2010.rename(columns = cols_subset)\n",
    "df2010_subcols = df2010_subcols.drop(all_cols - set(cols_subset.keys()), axis=1)\n",
    "df2010_subcols = df2010_subcols.reindex_axis(cols_subset.values(), axis=1)\n",
    "\n",
    "del df2010"
   ]
  },
  {
   "cell_type": "markdown",
   "metadata": {},
   "source": [
    "###From the 2010 df.info() below<br><br>Around 1M rows <br><br>We had projected ~ 250MB RAM for the full table (32 cols).<br>Note that having cut the num of cols, proportionally reduced the mem size - great!<br><br>Most columns are mostly populated.<br>Others are not, but make sense (4600 easements).<br>Assessment value ($) is a float which is good for stats calculations (also, ints for feet values).<br><br>So, overall, looks pretty clean. Good start."
   ]
  },
  {
   "cell_type": "code",
   "execution_count": 25,
   "metadata": {
    "collapsed": false
   },
   "outputs": [
    {
     "name": "stdout",
     "output_type": "stream",
     "text": [
      "===> df2010_subcols shape: (1060512, 9) \n",
      "\n",
      "\n",
      "<class 'pandas.core.frame.DataFrame'>\n",
      "Int64Index: 1060512 entries, 0 to 1060511\n",
      "Data columns (total 9 columns):\n",
      "Owner             1029890 non-null object\n",
      "Full Value        1060512 non-null float64\n",
      "Zip               1030018 non-null float64\n",
      "Street Address    1059833 non-null object\n",
      "Lot Frontage      1060512 non-null int64\n",
      "Lot Depth         1060512 non-null int64\n",
      "Stories           1003082 non-null float64\n",
      "Easement          4615 non-null object\n",
      "Tax Class         1060512 non-null object\n",
      "dtypes: float64(3), int64(2), object(4)\n",
      "memory usage: 80.9+ MB\n"
     ]
    }
   ],
   "source": [
    "print(\"===> df2010_subcols shape:\", df2010_subcols.shape, \"\\n\\n\")\n",
    "\n",
    "df2010_subcols.info()"
   ]
  },
  {
   "cell_type": "markdown",
   "metadata": {},
   "source": [
    "### Quick overview of the cols' aggregates."
   ]
  },
  {
   "cell_type": "code",
   "execution_count": 26,
   "metadata": {
    "collapsed": false
   },
   "outputs": [
    {
     "data": {
      "text/html": [
       "<div style=\"max-height:1000px;max-width:1500px;overflow:auto;\">\n",
       "<table border=\"1\" class=\"dataframe\">\n",
       "  <thead>\n",
       "    <tr style=\"text-align: right;\">\n",
       "      <th></th>\n",
       "      <th>Full Value</th>\n",
       "      <th>Zip</th>\n",
       "      <th>Lot Frontage</th>\n",
       "      <th>Lot Depth</th>\n",
       "      <th>Stories</th>\n",
       "    </tr>\n",
       "  </thead>\n",
       "  <tbody>\n",
       "    <tr>\n",
       "      <th>count</th>\n",
       "      <td>1.060512e+06</td>\n",
       "      <td>1030018.000000</td>\n",
       "      <td>1060512.000000</td>\n",
       "      <td>1060512.000000</td>\n",
       "      <td>1003082.000000</td>\n",
       "    </tr>\n",
       "    <tr>\n",
       "      <th>mean</th>\n",
       "      <td>8.809222e+05</td>\n",
       "      <td>10924.934832</td>\n",
       "      <td>36.774087</td>\n",
       "      <td>89.517267</td>\n",
       "      <td>4.937013</td>\n",
       "    </tr>\n",
       "    <tr>\n",
       "      <th>std</th>\n",
       "      <td>1.151490e+07</td>\n",
       "      <td>527.595805</td>\n",
       "      <td>73.531873</td>\n",
       "      <td>76.386993</td>\n",
       "      <td>8.310756</td>\n",
       "    </tr>\n",
       "    <tr>\n",
       "      <th>min</th>\n",
       "      <td>0.000000e+00</td>\n",
       "      <td>10001.000000</td>\n",
       "      <td>0.000000</td>\n",
       "      <td>0.000000</td>\n",
       "      <td>1.000000</td>\n",
       "    </tr>\n",
       "    <tr>\n",
       "      <th>25%</th>\n",
       "      <td>3.230000e+05</td>\n",
       "      <td>10314.000000</td>\n",
       "      <td>19.000000</td>\n",
       "      <td>82.000000</td>\n",
       "      <td>2.000000</td>\n",
       "    </tr>\n",
       "    <tr>\n",
       "      <th>50%</th>\n",
       "      <td>4.680000e+05</td>\n",
       "      <td>11214.000000</td>\n",
       "      <td>25.000000</td>\n",
       "      <td>100.000000</td>\n",
       "      <td>2.000000</td>\n",
       "    </tr>\n",
       "    <tr>\n",
       "      <th>75%</th>\n",
       "      <td>6.350000e+05</td>\n",
       "      <td>11364.000000</td>\n",
       "      <td>40.000000</td>\n",
       "      <td>100.000000</td>\n",
       "      <td>3.000000</td>\n",
       "    </tr>\n",
       "    <tr>\n",
       "      <th>max</th>\n",
       "      <td>6.045000e+09</td>\n",
       "      <td>33803.000000</td>\n",
       "      <td>9999.000000</td>\n",
       "      <td>9999.000000</td>\n",
       "      <td>119.000000</td>\n",
       "    </tr>\n",
       "  </tbody>\n",
       "</table>\n",
       "</div>"
      ],
      "text/plain": [
       "         Full Value             Zip    Lot Frontage       Lot Depth  \\\n",
       "count  1.060512e+06  1030018.000000  1060512.000000  1060512.000000   \n",
       "mean   8.809222e+05    10924.934832       36.774087       89.517267   \n",
       "std    1.151490e+07      527.595805       73.531873       76.386993   \n",
       "min    0.000000e+00    10001.000000        0.000000        0.000000   \n",
       "25%    3.230000e+05    10314.000000       19.000000       82.000000   \n",
       "50%    4.680000e+05    11214.000000       25.000000      100.000000   \n",
       "75%    6.350000e+05    11364.000000       40.000000      100.000000   \n",
       "max    6.045000e+09    33803.000000     9999.000000     9999.000000   \n",
       "\n",
       "              Stories  \n",
       "count  1003082.000000  \n",
       "mean         4.937013  \n",
       "std          8.310756  \n",
       "min          1.000000  \n",
       "25%          2.000000  \n",
       "50%          2.000000  \n",
       "75%          3.000000  \n",
       "max        119.000000  "
      ]
     },
     "execution_count": 26,
     "metadata": {},
     "output_type": "execute_result"
    }
   ],
   "source": [
    "df2010_subcols.describe()"
   ]
  },
  {
   "cell_type": "markdown",
   "metadata": {},
   "source": [
    "## Let's filter by zip code, and explore the property values in that area."
   ]
  },
  {
   "cell_type": "code",
   "execution_count": 27,
   "metadata": {
    "collapsed": false
   },
   "outputs": [
    {
     "name": "stdout",
     "output_type": "stream",
     "text": [
      "<class 'pandas.core.frame.DataFrame'>\n",
      "Int64Index: 6260 entries, 246025 to 356568\n",
      "Data columns (total 9 columns):\n",
      "Owner             6087 non-null object\n",
      "Full Value        6260 non-null float64\n",
      "Zip               6260 non-null float64\n",
      "Street Address    6260 non-null object\n",
      "Lot Frontage      6260 non-null int64\n",
      "Lot Depth         6260 non-null int64\n",
      "Stories           5744 non-null float64\n",
      "Easement          5 non-null object\n",
      "Tax Class         6260 non-null object\n",
      "dtypes: float64(3), int64(2), object(4)\n",
      "memory usage: 489.1+ KB\n"
     ]
    }
   ],
   "source": [
    "df11231 = df2010_subcols[df2010_subcols.Zip == 11231]\n",
    "\n",
    "df11231.info()"
   ]
  },
  {
   "cell_type": "markdown",
   "metadata": {},
   "source": [
    "### Around 6200 properties. Let's see which are the highest valued."
   ]
  },
  {
   "cell_type": "code",
   "execution_count": 28,
   "metadata": {
    "collapsed": false
   },
   "outputs": [
    {
     "data": {
      "text/html": [
       "<div style=\"max-height:1000px;max-width:1500px;overflow:auto;\">\n",
       "<table border=\"1\" class=\"dataframe\">\n",
       "  <thead>\n",
       "    <tr style=\"text-align: right;\">\n",
       "      <th></th>\n",
       "      <th>Owner</th>\n",
       "      <th>Full Value</th>\n",
       "      <th>Zip</th>\n",
       "      <th>Street Address</th>\n",
       "      <th>Lot Frontage</th>\n",
       "      <th>Lot Depth</th>\n",
       "      <th>Stories</th>\n",
       "      <th>Easement</th>\n",
       "      <th>Tax Class</th>\n",
       "    </tr>\n",
       "  </thead>\n",
       "  <tbody>\n",
       "    <tr>\n",
       "      <th>264568</th>\n",
       "      <td>DEPT RE-CITY OF NY</td>\n",
       "      <td>100200000</td>\n",
       "      <td>11231</td>\n",
       "      <td>118 CONOVER STREET</td>\n",
       "      <td>326</td>\n",
       "      <td>725</td>\n",
       "      <td>1</td>\n",
       "      <td>NaN</td>\n",
       "      <td>4</td>\n",
       "    </tr>\n",
       "    <tr>\n",
       "      <th>265587</th>\n",
       "      <td>ONE BEARD STREET, LLC</td>\n",
       "      <td>42600000</td>\n",
       "      <td>11231</td>\n",
       "      <td>21 BEARD STREET</td>\n",
       "      <td>720</td>\n",
       "      <td>141</td>\n",
       "      <td>3</td>\n",
       "      <td>NaN</td>\n",
       "      <td>4</td>\n",
       "    </tr>\n",
       "    <tr>\n",
       "      <th>260478</th>\n",
       "      <td>BOARD OF EDUCATION</td>\n",
       "      <td>30600000</td>\n",
       "      <td>11231</td>\n",
       "      <td>610 HENRY STREET</td>\n",
       "      <td>437</td>\n",
       "      <td>172</td>\n",
       "      <td>4</td>\n",
       "      <td>NaN</td>\n",
       "      <td>4</td>\n",
       "    </tr>\n",
       "    <tr>\n",
       "      <th>263476</th>\n",
       "      <td>BOARD OF EDUCATION</td>\n",
       "      <td>21500000</td>\n",
       "      <td>11231</td>\n",
       "      <td>242 CARROLL STREET</td>\n",
       "      <td>325</td>\n",
       "      <td>201</td>\n",
       "      <td>3</td>\n",
       "      <td>NaN</td>\n",
       "      <td>4</td>\n",
       "    </tr>\n",
       "    <tr>\n",
       "      <th>265586</th>\n",
       "      <td>640 COLUMBIA LLC</td>\n",
       "      <td>20685000</td>\n",
       "      <td>11231</td>\n",
       "      <td>640 COLUMBIA STREET</td>\n",
       "      <td>660</td>\n",
       "      <td>300</td>\n",
       "      <td>NaN</td>\n",
       "      <td>NaN</td>\n",
       "      <td>4</td>\n",
       "    </tr>\n",
       "    <tr>\n",
       "      <th>...</th>\n",
       "      <td>...</td>\n",
       "      <td>...</td>\n",
       "      <td>...</td>\n",
       "      <td>...</td>\n",
       "      <td>...</td>\n",
       "      <td>...</td>\n",
       "      <td>...</td>\n",
       "      <td>...</td>\n",
       "      <td>...</td>\n",
       "    </tr>\n",
       "    <tr>\n",
       "      <th>259249</th>\n",
       "      <td>NaN</td>\n",
       "      <td>0</td>\n",
       "      <td>11231</td>\n",
       "      <td>72 PRESIDENT STREET</td>\n",
       "      <td>200</td>\n",
       "      <td>145</td>\n",
       "      <td>2</td>\n",
       "      <td>NaN</td>\n",
       "      <td>2</td>\n",
       "    </tr>\n",
       "    <tr>\n",
       "      <th>264404</th>\n",
       "      <td>NaN</td>\n",
       "      <td>0</td>\n",
       "      <td>11231</td>\n",
       "      <td>529 COURT STREET</td>\n",
       "      <td>80</td>\n",
       "      <td>99</td>\n",
       "      <td>6</td>\n",
       "      <td>NaN</td>\n",
       "      <td>2</td>\n",
       "    </tr>\n",
       "    <tr>\n",
       "      <th>264405</th>\n",
       "      <td>NaN</td>\n",
       "      <td>0</td>\n",
       "      <td>11231</td>\n",
       "      <td>202 WEST 9 STREET</td>\n",
       "      <td>25</td>\n",
       "      <td>100</td>\n",
       "      <td>4</td>\n",
       "      <td>NaN</td>\n",
       "      <td>2</td>\n",
       "    </tr>\n",
       "    <tr>\n",
       "      <th>259124</th>\n",
       "      <td>NaN</td>\n",
       "      <td>0</td>\n",
       "      <td>11231</td>\n",
       "      <td>284 SACKETT STREET</td>\n",
       "      <td>25</td>\n",
       "      <td>100</td>\n",
       "      <td>4</td>\n",
       "      <td>NaN</td>\n",
       "      <td>2</td>\n",
       "    </tr>\n",
       "    <tr>\n",
       "      <th>246025</th>\n",
       "      <td>NaN</td>\n",
       "      <td>0</td>\n",
       "      <td>11231</td>\n",
       "      <td>91 DOUGLASS STREET</td>\n",
       "      <td>20</td>\n",
       "      <td>100</td>\n",
       "      <td>NaN</td>\n",
       "      <td>NaN</td>\n",
       "      <td>2</td>\n",
       "    </tr>\n",
       "  </tbody>\n",
       "</table>\n",
       "<p>6260 rows × 9 columns</p>\n",
       "</div>"
      ],
      "text/plain": [
       "                        Owner  Full Value    Zip       Street Address  \\\n",
       "264568     DEPT RE-CITY OF NY   100200000  11231   118 CONOVER STREET   \n",
       "265587  ONE BEARD STREET, LLC    42600000  11231      21 BEARD STREET   \n",
       "260478     BOARD OF EDUCATION    30600000  11231     610 HENRY STREET   \n",
       "263476     BOARD OF EDUCATION    21500000  11231   242 CARROLL STREET   \n",
       "265586       640 COLUMBIA LLC    20685000  11231  640 COLUMBIA STREET   \n",
       "...                       ...         ...    ...                  ...   \n",
       "259249                    NaN           0  11231  72 PRESIDENT STREET   \n",
       "264404                    NaN           0  11231     529 COURT STREET   \n",
       "264405                    NaN           0  11231    202 WEST 9 STREET   \n",
       "259124                    NaN           0  11231   284 SACKETT STREET   \n",
       "246025                    NaN           0  11231   91 DOUGLASS STREET   \n",
       "\n",
       "        Lot Frontage  Lot Depth  Stories Easement Tax Class  \n",
       "264568           326        725        1      NaN         4  \n",
       "265587           720        141        3      NaN         4  \n",
       "260478           437        172        4      NaN         4  \n",
       "263476           325        201        3      NaN         4  \n",
       "265586           660        300      NaN      NaN         4  \n",
       "...              ...        ...      ...      ...       ...  \n",
       "259249           200        145        2      NaN         2  \n",
       "264404            80         99        6      NaN         2  \n",
       "264405            25        100        4      NaN         2  \n",
       "259124            25        100        4      NaN         2  \n",
       "246025            20        100      NaN      NaN         2  \n",
       "\n",
       "[6260 rows x 9 columns]"
      ]
     },
     "execution_count": 28,
     "metadata": {},
     "output_type": "execute_result"
    }
   ],
   "source": [
    "pd.set_option(\"max_rows\", 10)\n",
    "df11231[cols_to_show].sort(\"Full Value\", ascending=False)\n"
   ]
  },
  {
   "cell_type": "markdown",
   "metadata": {},
   "source": [
    "## So, 100M  dlrs for the top dog. So who is at 118 Conover St.?\n",
    "\n",
    "https://goo.gl/maps/YwxCG\n",
    "\n",
    "### Makes sense, the shipping ports in Red Hook.\n",
    "\n",
    "****\n",
    "\n",
    "###Let's try to compare values of properties that are of a similar category.<br>Make an arbitrary definition of what a \"residential house\" is.\n",
    "\n",
    "<ol>\n",
    "   <li> Cap the square footage to <= 3000 </li>\n",
    "   <li> Cap the property's num of stories to <= 3 </li>\n",
    "   <li> Tax Class == 1</li>\n",
    "</ol>\n"
   ]
  },
  {
   "cell_type": "markdown",
   "metadata": {},
   "source": [
    "### Add a synthetic column to our  dataframe: total square footage."
   ]
  },
  {
   "cell_type": "code",
   "execution_count": 29,
   "metadata": {
    "collapsed": false
   },
   "outputs": [
    {
     "name": "stderr",
     "output_type": "stream",
     "text": [
      "/home/jds/.pyvenvs/liveresume/lib/python3.4/site-packages/IPython/kernel/__main__.py:1: SettingWithCopyWarning: \n",
      "A value is trying to be set on a copy of a slice from a DataFrame.\n",
      "Try using .loc[row_indexer,col_indexer] = value instead\n",
      "\n",
      "See the the caveats in the documentation: http://pandas.pydata.org/pandas-docs/stable/indexing.html#indexing-view-versus-copy\n",
      "  if __name__ == '__main__':\n"
     ]
    }
   ],
   "source": [
    "df11231[\"SquareFt\"] = np.round(df11231[\"Lot Frontage\"] * df11231[\"Lot Depth\"])\n",
    "cols_to_show.append(\"SquareFt\")\n"
   ]
  },
  {
   "cell_type": "markdown",
   "metadata": {},
   "source": [
    "### Using our \"residential house\" definition\", let's see how it would<br>affect the number of rows filtered out...\n",
    "\n",
    "### It seems to make sense, from 6200 total down to 2271 \"residentials\"."
   ]
  },
  {
   "cell_type": "code",
   "execution_count": 30,
   "metadata": {
    "collapsed": false
   },
   "outputs": [
    {
     "data": {
      "text/plain": [
       "((6260, 10), (5196, 10), (4040, 10), (2366, 10), (2271, 10))"
      ]
     },
     "execution_count": 30,
     "metadata": {},
     "output_type": "execute_result"
    }
   ],
   "source": [
    "# Reminder: \"residential\" = (sq ftage <= 3000) and (stories <= 3) and (tax class == 1)\n",
    "\n",
    "# let's look at the numbers... how much each condition affects the num of rows filtered \n",
    "\n",
    "(df11231.shape, \n",
    " df11231[df11231.SquareFt <= 3000].shape, \n",
    " df11231[df11231.Stories <= 3].shape,\n",
    " df11231[df11231[\"Tax Class\"] == \"1\"].shape,\n",
    " df11231[(df11231.SquareFt <= 3000) & \n",
    "         (df11231.Stories <= 3) & \n",
    "         (df11231[\"Tax Class\"] == \"1\")].shape)\n"
   ]
  },
  {
   "cell_type": "code",
   "execution_count": 31,
   "metadata": {
    "collapsed": false
   },
   "outputs": [
    {
     "data": {
      "text/plain": [
       "1     2366\n",
       "4     1173\n",
       "2A     920\n",
       "2      918\n",
       "1A     298\n",
       "2C     254\n",
       "2B     219\n",
       "1B      80\n",
       "1C      27\n",
       "3        5\n",
       "dtype: int64"
      ]
     },
     "execution_count": 31,
     "metadata": {},
     "output_type": "execute_result"
    }
   ],
   "source": [
    "# double check\n",
    "df11231[\"Tax Class\"].value_counts()"
   ]
  },
  {
   "cell_type": "markdown",
   "metadata": {
    "collapsed": true
   },
   "source": [
    "### Let's create a 11231-residential dataframe and re-do the property valuations..."
   ]
  },
  {
   "cell_type": "code",
   "execution_count": 32,
   "metadata": {
    "collapsed": false
   },
   "outputs": [],
   "source": [
    "df11231_houses = df11231[(df11231.SquareFt <= 3000) & \n",
    "                         (df11231.Stories <= 3) & \n",
    "                         (df11231[\"Tax Class\"] == \"1\")]"
   ]
  },
  {
   "cell_type": "markdown",
   "metadata": {},
   "source": [
    "### That's better.<br>The Red Hook port and other government owned props are gone.<br>And... the houses along Kane and Tompkins, right next the Synagogue rise to the top  :-)"
   ]
  },
  {
   "cell_type": "code",
   "execution_count": 33,
   "metadata": {
    "collapsed": false
   },
   "outputs": [
    {
     "data": {
      "text/html": [
       "<div style=\"max-height:1000px;max-width:1500px;overflow:auto;\">\n",
       "<table border=\"1\" class=\"dataframe\">\n",
       "  <thead>\n",
       "    <tr style=\"text-align: right;\">\n",
       "      <th></th>\n",
       "      <th>Owner</th>\n",
       "      <th>Full Value</th>\n",
       "      <th>Zip</th>\n",
       "      <th>Street Address</th>\n",
       "      <th>Lot Frontage</th>\n",
       "      <th>Lot Depth</th>\n",
       "      <th>Stories</th>\n",
       "      <th>Easement</th>\n",
       "      <th>Tax Class</th>\n",
       "      <th>SquareFt</th>\n",
       "    </tr>\n",
       "  </thead>\n",
       "  <tbody>\n",
       "    <tr>\n",
       "      <th>257693</th>\n",
       "      <td>FORMAN, ELIZABETH A</td>\n",
       "      <td>3610000</td>\n",
       "      <td>11231</td>\n",
       "      <td>249 KANE STREET</td>\n",
       "      <td>23</td>\n",
       "      <td>99</td>\n",
       "      <td>3</td>\n",
       "      <td>NaN</td>\n",
       "      <td>1</td>\n",
       "      <td>2277</td>\n",
       "    </tr>\n",
       "    <tr>\n",
       "      <th>258481</th>\n",
       "      <td>SHARON E HUMPHREYS</td>\n",
       "      <td>3600000</td>\n",
       "      <td>11231</td>\n",
       "      <td>36 TOMPKINS PLACE</td>\n",
       "      <td>20</td>\n",
       "      <td>112</td>\n",
       "      <td>3</td>\n",
       "      <td>NaN</td>\n",
       "      <td>1</td>\n",
       "      <td>2240</td>\n",
       "    </tr>\n",
       "    <tr>\n",
       "      <th>258517</th>\n",
       "      <td>ADAIR JAMES R</td>\n",
       "      <td>3430000</td>\n",
       "      <td>11231</td>\n",
       "      <td>23 TOMPKINS PLACE</td>\n",
       "      <td>25</td>\n",
       "      <td>112</td>\n",
       "      <td>3</td>\n",
       "      <td>NaN</td>\n",
       "      <td>1</td>\n",
       "      <td>2800</td>\n",
       "    </tr>\n",
       "    <tr>\n",
       "      <th>258514</th>\n",
       "      <td>MICHAEL FAY</td>\n",
       "      <td>3370000</td>\n",
       "      <td>11231</td>\n",
       "      <td>31 TOMPKINS PLACE</td>\n",
       "      <td>22</td>\n",
       "      <td>112</td>\n",
       "      <td>3</td>\n",
       "      <td>NaN</td>\n",
       "      <td>1</td>\n",
       "      <td>2464</td>\n",
       "    </tr>\n",
       "    <tr>\n",
       "      <th>258816</th>\n",
       "      <td>PITT, ERIC</td>\n",
       "      <td>3290000</td>\n",
       "      <td>11231</td>\n",
       "      <td>286 DE GRAW STREET</td>\n",
       "      <td>30</td>\n",
       "      <td>100</td>\n",
       "      <td>3</td>\n",
       "      <td>NaN</td>\n",
       "      <td>1</td>\n",
       "      <td>3000</td>\n",
       "    </tr>\n",
       "    <tr>\n",
       "      <th>...</th>\n",
       "      <td>...</td>\n",
       "      <td>...</td>\n",
       "      <td>...</td>\n",
       "      <td>...</td>\n",
       "      <td>...</td>\n",
       "      <td>...</td>\n",
       "      <td>...</td>\n",
       "      <td>...</td>\n",
       "      <td>...</td>\n",
       "      <td>...</td>\n",
       "    </tr>\n",
       "    <tr>\n",
       "      <th>265120</th>\n",
       "      <td>WAKIN, LAWRENCE</td>\n",
       "      <td>84600</td>\n",
       "      <td>11231</td>\n",
       "      <td>186 RICHARDS STREET</td>\n",
       "      <td>20</td>\n",
       "      <td>84</td>\n",
       "      <td>3</td>\n",
       "      <td>NaN</td>\n",
       "      <td>1</td>\n",
       "      <td>1680</td>\n",
       "    </tr>\n",
       "    <tr>\n",
       "      <th>262374</th>\n",
       "      <td>FELTON, DAVID R</td>\n",
       "      <td>0</td>\n",
       "      <td>11231</td>\n",
       "      <td>359 DE GRAW STREET</td>\n",
       "      <td>20</td>\n",
       "      <td>100</td>\n",
       "      <td>3</td>\n",
       "      <td>NaN</td>\n",
       "      <td>1</td>\n",
       "      <td>2000</td>\n",
       "    </tr>\n",
       "    <tr>\n",
       "      <th>263047</th>\n",
       "      <td>277 PRESIDENT, LLC</td>\n",
       "      <td>0</td>\n",
       "      <td>11231</td>\n",
       "      <td>276 PRESIDENT STREET</td>\n",
       "      <td>17</td>\n",
       "      <td>100</td>\n",
       "      <td>3</td>\n",
       "      <td>NaN</td>\n",
       "      <td>1</td>\n",
       "      <td>1700</td>\n",
       "    </tr>\n",
       "    <tr>\n",
       "      <th>265305</th>\n",
       "      <td>LAMBERTI, ANGELO</td>\n",
       "      <td>0</td>\n",
       "      <td>11231</td>\n",
       "      <td>83 DIKEMAN STREET</td>\n",
       "      <td>22</td>\n",
       "      <td>50</td>\n",
       "      <td>3</td>\n",
       "      <td>NaN</td>\n",
       "      <td>1</td>\n",
       "      <td>1100</td>\n",
       "    </tr>\n",
       "    <tr>\n",
       "      <th>263030</th>\n",
       "      <td>332 UNION STREET,LLC</td>\n",
       "      <td>0</td>\n",
       "      <td>11231</td>\n",
       "      <td>332 UNION STREET</td>\n",
       "      <td>20</td>\n",
       "      <td>100</td>\n",
       "      <td>3</td>\n",
       "      <td>NaN</td>\n",
       "      <td>1</td>\n",
       "      <td>2000</td>\n",
       "    </tr>\n",
       "  </tbody>\n",
       "</table>\n",
       "<p>2271 rows × 10 columns</p>\n",
       "</div>"
      ],
      "text/plain": [
       "                       Owner  Full Value    Zip        Street Address  \\\n",
       "257693   FORMAN, ELIZABETH A     3610000  11231       249 KANE STREET   \n",
       "258481    SHARON E HUMPHREYS     3600000  11231     36 TOMPKINS PLACE   \n",
       "258517         ADAIR JAMES R     3430000  11231     23 TOMPKINS PLACE   \n",
       "258514           MICHAEL FAY     3370000  11231     31 TOMPKINS PLACE   \n",
       "258816            PITT, ERIC     3290000  11231    286 DE GRAW STREET   \n",
       "...                      ...         ...    ...                   ...   \n",
       "265120       WAKIN, LAWRENCE       84600  11231   186 RICHARDS STREET   \n",
       "262374       FELTON, DAVID R           0  11231    359 DE GRAW STREET   \n",
       "263047    277 PRESIDENT, LLC           0  11231  276 PRESIDENT STREET   \n",
       "265305      LAMBERTI, ANGELO           0  11231     83 DIKEMAN STREET   \n",
       "263030  332 UNION STREET,LLC           0  11231      332 UNION STREET   \n",
       "\n",
       "        Lot Frontage  Lot Depth  Stories Easement Tax Class  SquareFt  \n",
       "257693            23         99        3      NaN         1      2277  \n",
       "258481            20        112        3      NaN         1      2240  \n",
       "258517            25        112        3      NaN         1      2800  \n",
       "258514            22        112        3      NaN         1      2464  \n",
       "258816            30        100        3      NaN         1      3000  \n",
       "...              ...        ...      ...      ...       ...       ...  \n",
       "265120            20         84        3      NaN         1      1680  \n",
       "262374            20        100        3      NaN         1      2000  \n",
       "263047            17        100        3      NaN         1      1700  \n",
       "265305            22         50        3      NaN         1      1100  \n",
       "263030            20        100        3      NaN         1      2000  \n",
       "\n",
       "[2271 rows x 10 columns]"
      ]
     },
     "execution_count": 33,
     "metadata": {},
     "output_type": "execute_result"
    }
   ],
   "source": [
    "df11231_houses[cols_to_show].sort(\"Full Value\", ascending=False)"
   ]
  },
  {
   "cell_type": "markdown",
   "metadata": {},
   "source": [
    "## How about NYC-wide?<br>Let's select the subset of \"residential houses\" and find top values."
   ]
  },
  {
   "cell_type": "code",
   "execution_count": 34,
   "metadata": {
    "collapsed": true
   },
   "outputs": [],
   "source": [
    "# add the total sq.footage column\n",
    "df2010_subcols[\"SquareFt\"] = np.round(df2010_subcols[\"Lot Frontage\"] * df2010_subcols[\"Lot Depth\"])\n"
   ]
  },
  {
   "cell_type": "code",
   "execution_count": 35,
   "metadata": {
    "collapsed": false
   },
   "outputs": [
    {
     "data": {
      "text/plain": [
       "((1060512, 10), (703278, 10), (775157, 10), (660053, 10), (427471, 10))"
      ]
     },
     "execution_count": 35,
     "metadata": {},
     "output_type": "execute_result"
    }
   ],
   "source": [
    "# make sure numbers after filtering criteria are applied would make sense\n",
    "\n",
    "(df2010_subcols.shape, \n",
    " df2010_subcols[df2010_subcols.SquareFt <= 3000].shape, \n",
    " df2010_subcols[df2010_subcols.Stories <= 3].shape,\n",
    " df2010_subcols[df2010_subcols[\"Tax Class\"] == \"1\"].shape,\n",
    " df2010_subcols[(df2010_subcols.SquareFt <= 3000) & \n",
    "                (df2010_subcols.Stories <= 3) & \n",
    "                (df2010_subcols[\"Tax Class\"] == \"1\")].shape)\n"
   ]
  },
  {
   "cell_type": "code",
   "execution_count": 36,
   "metadata": {
    "collapsed": false
   },
   "outputs": [],
   "source": [
    "# new \"houses\" dataframe\n",
    "df2010_houses = df2010_subcols[(df2010_subcols.SquareFt <= 3000) & \n",
    "                               (df2010_subcols.Stories <= 3) &\n",
    "                               (df2010_subcols[\"Tax Class\"] == \"1\")]\n",
    "\n"
   ]
  },
  {
   "cell_type": "markdown",
   "metadata": {},
   "source": [
    "### And, Upper East Side @ historic 73rd Street tops the 2010 list below...\n",
    "\n",
    "*** https://en.wikipedia.org/wiki/East_73rd_Street_Historic_District ***\n",
    "\n",
    "*** https://goo.gl/maps/JlrQ6 ***\n",
    "\n",
    "------------------\n",
    "\n",
    "*** With #2, facing the East River, not a bad spot either...<br> http://www.nytimes.com/2008/05/25/realestate/25deal1.html ***"
   ]
  },
  {
   "cell_type": "code",
   "execution_count": 37,
   "metadata": {
    "collapsed": false,
    "scrolled": true
   },
   "outputs": [
    {
     "data": {
      "text/html": [
       "<div style=\"max-height:1000px;max-width:1500px;overflow:auto;\">\n",
       "<table border=\"1\" class=\"dataframe\">\n",
       "  <thead>\n",
       "    <tr style=\"text-align: right;\">\n",
       "      <th></th>\n",
       "      <th>Owner</th>\n",
       "      <th>Full Value</th>\n",
       "      <th>Zip</th>\n",
       "      <th>Street Address</th>\n",
       "      <th>Lot Frontage</th>\n",
       "      <th>Lot Depth</th>\n",
       "      <th>Stories</th>\n",
       "      <th>Easement</th>\n",
       "      <th>Tax Class</th>\n",
       "      <th>SquareFt</th>\n",
       "    </tr>\n",
       "  </thead>\n",
       "  <tbody>\n",
       "    <tr>\n",
       "      <th>98611</th>\n",
       "      <td>USDAN, ADAM</td>\n",
       "      <td>13200000</td>\n",
       "      <td>10021</td>\n",
       "      <td>161 EAST 73 STREET</td>\n",
       "      <td>25</td>\n",
       "      <td>102</td>\n",
       "      <td>3</td>\n",
       "      <td>NaN</td>\n",
       "      <td>1</td>\n",
       "      <td>2550</td>\n",
       "    </tr>\n",
       "    <tr>\n",
       "      <th>94452</th>\n",
       "      <td>7 SUTTON SQUARE, LLC</td>\n",
       "      <td>12900000</td>\n",
       "      <td>10022</td>\n",
       "      <td>7 SUTTON SQUARE</td>\n",
       "      <td>16</td>\n",
       "      <td>75</td>\n",
       "      <td>3</td>\n",
       "      <td>NaN</td>\n",
       "      <td>1</td>\n",
       "      <td>1200</td>\n",
       "    </tr>\n",
       "    <tr>\n",
       "      <th>68546</th>\n",
       "      <td>JANN S WENNER</td>\n",
       "      <td>12200000</td>\n",
       "      <td>10023</td>\n",
       "      <td>27 WEST 74 STREET</td>\n",
       "      <td>25</td>\n",
       "      <td>109</td>\n",
       "      <td>3</td>\n",
       "      <td>NaN</td>\n",
       "      <td>1</td>\n",
       "      <td>2725</td>\n",
       "    </tr>\n",
       "    <tr>\n",
       "      <th>31551</th>\n",
       "      <td>SACKHEIM, CARL</td>\n",
       "      <td>12200000</td>\n",
       "      <td>10014</td>\n",
       "      <td>689 WASHINGTON STREET</td>\n",
       "      <td>22</td>\n",
       "      <td>65</td>\n",
       "      <td>3</td>\n",
       "      <td>NaN</td>\n",
       "      <td>1</td>\n",
       "      <td>1430</td>\n",
       "    </tr>\n",
       "    <tr>\n",
       "      <th>41583</th>\n",
       "      <td>859 BROADWAY LLC</td>\n",
       "      <td>11600000</td>\n",
       "      <td>10003</td>\n",
       "      <td>859 BROADWAY</td>\n",
       "      <td>25</td>\n",
       "      <td>108</td>\n",
       "      <td>3</td>\n",
       "      <td>NaN</td>\n",
       "      <td>1</td>\n",
       "      <td>2700</td>\n",
       "    </tr>\n",
       "    <tr>\n",
       "      <th>24665</th>\n",
       "      <td>DRAW VENTURES, LLC</td>\n",
       "      <td>11000000</td>\n",
       "      <td>10014</td>\n",
       "      <td>196 WEST HOUSTON STREET</td>\n",
       "      <td>25</td>\n",
       "      <td>108</td>\n",
       "      <td>3</td>\n",
       "      <td>NaN</td>\n",
       "      <td>1</td>\n",
       "      <td>2700</td>\n",
       "    </tr>\n",
       "    <tr>\n",
       "      <th>29964</th>\n",
       "      <td>CARL J PUCCI</td>\n",
       "      <td>10800000</td>\n",
       "      <td>10014</td>\n",
       "      <td>33 PERRY STREET</td>\n",
       "      <td>25</td>\n",
       "      <td>95</td>\n",
       "      <td>3</td>\n",
       "      <td>NaN</td>\n",
       "      <td>1</td>\n",
       "      <td>2375</td>\n",
       "    </tr>\n",
       "    <tr>\n",
       "      <th>31455</th>\n",
       "      <td>BE BOI LAND TRUST</td>\n",
       "      <td>10640000</td>\n",
       "      <td>10014</td>\n",
       "      <td>271 WEST 10 STREET</td>\n",
       "      <td>27</td>\n",
       "      <td>97</td>\n",
       "      <td>3</td>\n",
       "      <td>NaN</td>\n",
       "      <td>1</td>\n",
       "      <td>2619</td>\n",
       "    </tr>\n",
       "    <tr>\n",
       "      <th>98298</th>\n",
       "      <td>DONNA F. BARNETT</td>\n",
       "      <td>10600000</td>\n",
       "      <td>10021</td>\n",
       "      <td>163 EAST 70 STREET</td>\n",
       "      <td>25</td>\n",
       "      <td>100</td>\n",
       "      <td>3</td>\n",
       "      <td>NaN</td>\n",
       "      <td>1</td>\n",
       "      <td>2500</td>\n",
       "    </tr>\n",
       "    <tr>\n",
       "      <th>30205</th>\n",
       "      <td>SI/TMF PRODUCTIONS IN</td>\n",
       "      <td>10400000</td>\n",
       "      <td>10011</td>\n",
       "      <td>251 WEST 13 STREET</td>\n",
       "      <td>25</td>\n",
       "      <td>103</td>\n",
       "      <td>3</td>\n",
       "      <td>NaN</td>\n",
       "      <td>1</td>\n",
       "      <td>2575</td>\n",
       "    </tr>\n",
       "    <tr>\n",
       "      <th>26799</th>\n",
       "      <td>CINZANO, ENRICO MARON</td>\n",
       "      <td>10255000</td>\n",
       "      <td>10011</td>\n",
       "      <td>40 WEST 10 STREET</td>\n",
       "      <td>24</td>\n",
       "      <td>92</td>\n",
       "      <td>3</td>\n",
       "      <td>NaN</td>\n",
       "      <td>1</td>\n",
       "      <td>2208</td>\n",
       "    </tr>\n",
       "    <tr>\n",
       "      <th>97901</th>\n",
       "      <td>126 EAST 66TH STREET</td>\n",
       "      <td>9990000</td>\n",
       "      <td>10065</td>\n",
       "      <td>126 EAST 66 STREET</td>\n",
       "      <td>28</td>\n",
       "      <td>100</td>\n",
       "      <td>3</td>\n",
       "      <td>NaN</td>\n",
       "      <td>1</td>\n",
       "      <td>2800</td>\n",
       "    </tr>\n",
       "    <tr>\n",
       "      <th>33293</th>\n",
       "      <td>LEONARD A FORMATO</td>\n",
       "      <td>9990000</td>\n",
       "      <td>10001</td>\n",
       "      <td>509 WEST 27 STREET</td>\n",
       "      <td>25</td>\n",
       "      <td>98</td>\n",
       "      <td>3</td>\n",
       "      <td>NaN</td>\n",
       "      <td>1</td>\n",
       "      <td>2450</td>\n",
       "    </tr>\n",
       "    <tr>\n",
       "      <th>96719</th>\n",
       "      <td>SHABTAI BENNY</td>\n",
       "      <td>9810000</td>\n",
       "      <td>10075</td>\n",
       "      <td>870 PARK AVENUE</td>\n",
       "      <td>25</td>\n",
       "      <td>100</td>\n",
       "      <td>3</td>\n",
       "      <td>NaN</td>\n",
       "      <td>1</td>\n",
       "      <td>2500</td>\n",
       "    </tr>\n",
       "    <tr>\n",
       "      <th>46235</th>\n",
       "      <td>GEORGE C WOLFE</td>\n",
       "      <td>9720000</td>\n",
       "      <td>10003</td>\n",
       "      <td>128 EAST 19 STREET</td>\n",
       "      <td>23</td>\n",
       "      <td>104</td>\n",
       "      <td>3</td>\n",
       "      <td>NaN</td>\n",
       "      <td>1</td>\n",
       "      <td>2392</td>\n",
       "    </tr>\n",
       "    <tr>\n",
       "      <th>30757</th>\n",
       "      <td>61 ACQUISITION CORP.</td>\n",
       "      <td>9685000</td>\n",
       "      <td>10014</td>\n",
       "      <td>61 BANK STREET</td>\n",
       "      <td>25</td>\n",
       "      <td>108</td>\n",
       "      <td>2</td>\n",
       "      <td>NaN</td>\n",
       "      <td>1</td>\n",
       "      <td>2700</td>\n",
       "    </tr>\n",
       "    <tr>\n",
       "      <th>32166</th>\n",
       "      <td>LEDINILTON MOREIRA</td>\n",
       "      <td>9630000</td>\n",
       "      <td>10014</td>\n",
       "      <td>38 BETHUNE STREET</td>\n",
       "      <td>22</td>\n",
       "      <td>80</td>\n",
       "      <td>3</td>\n",
       "      <td>NaN</td>\n",
       "      <td>1</td>\n",
       "      <td>1760</td>\n",
       "    </tr>\n",
       "    <tr>\n",
       "      <th>82575</th>\n",
       "      <td>MOGUL,JESS,E</td>\n",
       "      <td>9630000</td>\n",
       "      <td>10024</td>\n",
       "      <td>326 WEST 87 STREET</td>\n",
       "      <td>20</td>\n",
       "      <td>100</td>\n",
       "      <td>3</td>\n",
       "      <td>NaN</td>\n",
       "      <td>1</td>\n",
       "      <td>2000</td>\n",
       "    </tr>\n",
       "    <tr>\n",
       "      <th>98948</th>\n",
       "      <td>BROOKLER, KENNETH H M</td>\n",
       "      <td>9540000</td>\n",
       "      <td>10075</td>\n",
       "      <td>111 EAST 77 STREET</td>\n",
       "      <td>25</td>\n",
       "      <td>102</td>\n",
       "      <td>3</td>\n",
       "      <td>NaN</td>\n",
       "      <td>1</td>\n",
       "      <td>2550</td>\n",
       "    </tr>\n",
       "    <tr>\n",
       "      <th>98048</th>\n",
       "      <td>GAGOSIAN, LARRY</td>\n",
       "      <td>9540000</td>\n",
       "      <td>10021</td>\n",
       "      <td>147 EAST 69 STREET</td>\n",
       "      <td>25</td>\n",
       "      <td>100</td>\n",
       "      <td>3</td>\n",
       "      <td>NaN</td>\n",
       "      <td>1</td>\n",
       "      <td>2500</td>\n",
       "    </tr>\n",
       "  </tbody>\n",
       "</table>\n",
       "</div>"
      ],
      "text/plain": [
       "                       Owner  Full Value    Zip           Street Address  \\\n",
       "98611            USDAN, ADAM    13200000  10021       161 EAST 73 STREET   \n",
       "94452   7 SUTTON SQUARE, LLC    12900000  10022          7 SUTTON SQUARE   \n",
       "68546          JANN S WENNER    12200000  10023        27 WEST 74 STREET   \n",
       "31551         SACKHEIM, CARL    12200000  10014    689 WASHINGTON STREET   \n",
       "41583       859 BROADWAY LLC    11600000  10003             859 BROADWAY   \n",
       "24665     DRAW VENTURES, LLC    11000000  10014  196 WEST HOUSTON STREET   \n",
       "29964           CARL J PUCCI    10800000  10014          33 PERRY STREET   \n",
       "31455      BE BOI LAND TRUST    10640000  10014       271 WEST 10 STREET   \n",
       "98298       DONNA F. BARNETT    10600000  10021       163 EAST 70 STREET   \n",
       "30205  SI/TMF PRODUCTIONS IN    10400000  10011       251 WEST 13 STREET   \n",
       "26799  CINZANO, ENRICO MARON    10255000  10011        40 WEST 10 STREET   \n",
       "97901   126 EAST 66TH STREET     9990000  10065       126 EAST 66 STREET   \n",
       "33293      LEONARD A FORMATO     9990000  10001       509 WEST 27 STREET   \n",
       "96719          SHABTAI BENNY     9810000  10075          870 PARK AVENUE   \n",
       "46235         GEORGE C WOLFE     9720000  10003       128 EAST 19 STREET   \n",
       "30757   61 ACQUISITION CORP.     9685000  10014           61 BANK STREET   \n",
       "32166     LEDINILTON MOREIRA     9630000  10014        38 BETHUNE STREET   \n",
       "82575           MOGUL,JESS,E     9630000  10024       326 WEST 87 STREET   \n",
       "98948  BROOKLER, KENNETH H M     9540000  10075       111 EAST 77 STREET   \n",
       "98048        GAGOSIAN, LARRY     9540000  10021       147 EAST 69 STREET   \n",
       "\n",
       "       Lot Frontage  Lot Depth  Stories Easement Tax Class  SquareFt  \n",
       "98611            25        102        3      NaN         1      2550  \n",
       "94452            16         75        3      NaN         1      1200  \n",
       "68546            25        109        3      NaN         1      2725  \n",
       "31551            22         65        3      NaN         1      1430  \n",
       "41583            25        108        3      NaN         1      2700  \n",
       "24665            25        108        3      NaN         1      2700  \n",
       "29964            25         95        3      NaN         1      2375  \n",
       "31455            27         97        3      NaN         1      2619  \n",
       "98298            25        100        3      NaN         1      2500  \n",
       "30205            25        103        3      NaN         1      2575  \n",
       "26799            24         92        3      NaN         1      2208  \n",
       "97901            28        100        3      NaN         1      2800  \n",
       "33293            25         98        3      NaN         1      2450  \n",
       "96719            25        100        3      NaN         1      2500  \n",
       "46235            23        104        3      NaN         1      2392  \n",
       "30757            25        108        2      NaN         1      2700  \n",
       "32166            22         80        3      NaN         1      1760  \n",
       "82575            20        100        3      NaN         1      2000  \n",
       "98948            25        102        3      NaN         1      2550  \n",
       "98048            25        100        3      NaN         1      2500  "
      ]
     },
     "execution_count": 37,
     "metadata": {},
     "output_type": "execute_result"
    }
   ],
   "source": [
    "pd.set_option(\"max_rows\", 20)\n",
    "df2010_houses[cols_to_show].sort(\"Full Value\", ascending=False)[:20]"
   ]
  },
  {
   "cell_type": "code",
   "execution_count": 38,
   "metadata": {
    "collapsed": true
   },
   "outputs": [],
   "source": [
    "# we'll keep working w/ the city-wide table\n",
    "# Let python know that it can g.collect the 11231 objects.\n",
    "del df11231\n",
    "del df11231_houses"
   ]
  },
  {
   "cell_type": "code",
   "execution_count": null,
   "metadata": {
    "collapsed": true
   },
   "outputs": [],
   "source": []
  },
  {
   "cell_type": "code",
   "execution_count": null,
   "metadata": {
    "collapsed": true
   },
   "outputs": [],
   "source": []
  },
  {
   "cell_type": "code",
   "execution_count": null,
   "metadata": {
    "collapsed": true
   },
   "outputs": [],
   "source": []
  },
  {
   "cell_type": "markdown",
   "metadata": {},
   "source": [
    "# ====  Everything below is work-in-progress / incomplete ====\n",
    "# ====  Everything below is work-in-progress / incomplete ====\n",
    "# ====  Everything below is work-in-progress / incomplete ====\n"
   ]
  },
  {
   "cell_type": "code",
   "execution_count": null,
   "metadata": {
    "collapsed": true
   },
   "outputs": [],
   "source": []
  },
  {
   "cell_type": "code",
   "execution_count": null,
   "metadata": {
    "collapsed": true
   },
   "outputs": [],
   "source": []
  },
  {
   "cell_type": "code",
   "execution_count": null,
   "metadata": {
    "collapsed": true
   },
   "outputs": [],
   "source": []
  },
  {
   "cell_type": "markdown",
   "metadata": {},
   "source": [
    "### Park Slope: ZIP code with highest count of houses >= $\\\\$$1M \n",
    "https://goo.gl/maps/u7mkv"
   ]
  },
  {
   "cell_type": "code",
   "execution_count": 39,
   "metadata": {
    "collapsed": false
   },
   "outputs": [
    {
     "data": {
      "text/plain": [
       "11215    3468\n",
       "11217    1639\n",
       "11231    1295\n",
       "11238    1025\n",
       "11201     914\n",
       "10014     497\n",
       "11205     463\n",
       "11219     363\n",
       "11223     320\n",
       "11204     259\n",
       "dtype: int64"
      ]
     },
     "execution_count": 39,
     "metadata": {},
     "output_type": "execute_result"
    }
   ],
   "source": [
    "# any type of property > $1M; count how many in each zip code\n",
    "# Park Slope!\n",
    "df2010_subcols[df2010_subcols[\"Full Value\"] >= 1e6].Zip.value_counts()\n",
    "\n",
    "# only for houses -> Park Slope\n",
    "df2010_houses[df2010_houses[\"Full Value\"] >= 1e6].Zip.value_counts().head(10)\n"
   ]
  },
  {
   "cell_type": "markdown",
   "metadata": {},
   "source": [
    "### West Village (10014): ZIP code with highest count of houses > 5M\n",
    "https://goo.gl/maps/ZYCX6"
   ]
  },
  {
   "cell_type": "code",
   "execution_count": 40,
   "metadata": {
    "collapsed": false
   },
   "outputs": [
    {
     "data": {
      "text/plain": [
       "10014    120\n",
       "10011     88\n",
       "10024     85\n",
       "10128     42\n",
       "10003     41\n",
       "10065     32\n",
       "10028     31\n",
       "10025     30\n",
       "10021     26\n",
       "10023     24\n",
       "dtype: int64"
      ]
     },
     "execution_count": 40,
     "metadata": {},
     "output_type": "execute_result"
    }
   ],
   "source": [
    "# any type >= $5M -> Upper West Side, Upper East Side\n",
    "df2010_subcols[df2010_subcols[\"Full Value\"] >= 5e6].Zip.value_counts()\n",
    "\n",
    "# only for houses: West Village.\n",
    "df2010_houses[df2010_houses[\"Full Value\"] >= 5e6].Zip.value_counts().head(10)"
   ]
  },
  {
   "cell_type": "code",
   "execution_count": null,
   "metadata": {
    "collapsed": true
   },
   "outputs": [],
   "source": []
  },
  {
   "cell_type": "code",
   "execution_count": null,
   "metadata": {
    "collapsed": true
   },
   "outputs": [],
   "source": []
  },
  {
   "cell_type": "code",
   "execution_count": 41,
   "metadata": {
    "collapsed": false
   },
   "outputs": [
    {
     "data": {
      "text/plain": [
       "<matplotlib.axes._subplots.AxesSubplot at 0x7fa85d26ab70>"
      ]
     },
     "execution_count": 41,
     "metadata": {},
     "output_type": "execute_result"
    },
    {
     "data": {
      "image/png": "[encoded data removed]",
      "text/plain": [
       "<matplotlib.figure.Figure at 0x7fa863d10b70>"
      ]
     },
     "metadata": {},
     "output_type": "display_data"
    },
    {
     "data": {
      "image/png": "[encoded data removed]",
      "text/plain": [
       "<matplotlib.figure.Figure at 0x7fa863d10438>"
      ]
     },
     "metadata": {},
     "output_type": "display_data"
    }
   ],
   "source": [
    "#df2010_houses[df2010_houses.Zip < 11300].plot(y=\"Full Value\", x=\"Zip\", kind=\"scatter\")\n",
    "\n",
    "df2010_houses[df2010_houses[\"Full Value\"] >= 1e6].plot(y=\"Full Value\", x=\"Zip\", kind=\"scatter\", title=\"1M\")\n",
    "df2010_houses[df2010_houses[\"Full Value\"] >= 5e6].plot(y=\"Full Value\", x=\"Zip\", kind=\"scatter\", title=\"5M\")\n",
    "\n"
   ]
  },
  {
   "cell_type": "code",
   "execution_count": null,
   "metadata": {
    "collapsed": true
   },
   "outputs": [],
   "source": []
  },
  {
   "cell_type": "code",
   "execution_count": 42,
   "metadata": {
    "collapsed": false
   },
   "outputs": [
    {
     "data": {
      "text/plain": [
       "DEUTSCHE BANK NATIONA    299\n",
       "NEW YORK CITY HOUSING    196\n",
       "U.S. BANK NATIONAL AS    113\n",
       "WELLS FARGO BANK, N.A     91\n",
       "HSBC BANK USA, NATION     72\n",
       "HOUSING PRESERVATION      66\n",
       "FEDERAL NATIONAL MORT     60\n",
       "SECRETARY OF HOUSING      56\n",
       "NYC PARTNERSHIP HOUSI     54\n",
       "FEDERAL HOME LOAN MOR     50\n",
       "NYC HOUSING AUTHORITY     49\n",
       "NYC PARTNERSHIP HDFC      47\n",
       "RESTORED HOMES HOUSIN     34\n",
       "US BANK NATIONAL ASSO     34\n",
       "THE BANK OF NEW YORK      32\n",
       "HSBC BANK USA, N.A.       30\n",
       "CLINTON GRAHAM            29\n",
       "WASHINGTON MUTUAL BAN     28\n",
       "LASALLE BANK NATIONAL     28\n",
       "M.S.B. DEVELOPMENT CO     26\n",
       "dtype: int64"
      ]
     },
     "execution_count": 42,
     "metadata": {},
     "output_type": "execute_result"
    }
   ],
   "source": [
    "df2010_houses.Owner.value_counts().head(20)"
   ]
  },
  {
   "cell_type": "code",
   "execution_count": null,
   "metadata": {
    "collapsed": true
   },
   "outputs": [],
   "source": []
  },
  {
   "cell_type": "code",
   "execution_count": null,
   "metadata": {
    "collapsed": true
   },
   "outputs": [],
   "source": []
  },
  {
   "cell_type": "code",
   "execution_count": 43,
   "metadata": {
    "collapsed": true
   },
   "outputs": [],
   "source": [
    "### ???????????????????????????????\n",
    "### ???????????????????????????????\n",
    "### ???????????????????????????????\n",
    "\n",
    "zip_counts = df2010_subcols.Zip.value_counts() > 1000\n",
    "\n",
    "#df2010_subcols[df2010_subcols.Zip.value_counts() > 1000]\n",
    "\n"
   ]
  },
  {
   "cell_type": "code",
   "execution_count": null,
   "metadata": {
    "collapsed": true
   },
   "outputs": [],
   "source": []
  },
  {
   "cell_type": "code",
   "execution_count": null,
   "metadata": {
    "collapsed": true
   },
   "outputs": [],
   "source": []
  },
  {
   "cell_type": "markdown",
   "metadata": {
    "collapsed": true
   },
   "source": [
    "# python client for enigma.io API - for now it just provides \"export\" support"
   ]
  },
  {
   "cell_type": "code",
   "execution_count": 31,
   "metadata": {
    "collapsed": false
   },
   "outputs": [
    {
     "name": "stdout",
     "output_type": "stream",
     "text": [
      "Please set your env var \"ENV_ENIGMA_APIKEY\"\n"
     ]
    },
    {
     "ename": "SystemExit",
     "evalue": "1",
     "output_type": "error",
     "traceback": [
      "An exception has occurred, use %tb to see the full traceback.\n",
      "\u001b[1;31mSystemExit\u001b[0m\u001b[1;31m:\u001b[0m 1\n"
     ]
    },
    {
     "name": "stderr",
     "output_type": "stream",
     "text": [
      "To exit: use 'exit', 'quit', or Ctrl-D.\n"
     ]
    }
   ],
   "source": [
    "#!/usr/bin/env python\n",
    "\n",
    "import os\n",
    "import sys\n",
    "import time\n",
    "import argparse\n",
    "import requests\n",
    "from requests import RequestException\n",
    "\n",
    "ARGPARSER = argparse.ArgumentParser()\n",
    "ARGPARSER.add_argument(\"datapath\")\n",
    "ARGPARSER.add_argument(\"-o\", \"--outfname\", dest=\"outfname\", required=False)\n",
    "\n",
    "\n",
    "class EnigmaClient:\n",
    "    ENIG_RETCODE_SUCCESS = 0\n",
    "    ENIG_RETCODE_TIMEOUT = 1\n",
    "    ENIG_RETCODE_ERROR   = 2\n",
    "\n",
    "    _QUERY_TEMPLATE = \"https://api.enigma.io/v2/{op}/{key}/{datapath}/{params}\"\n",
    "    _EXPORTAPI_MAX_SECS_TIMEOUT = 120\n",
    "    _EXPORTAPI_POLL_SECS_INTERVAL = 1\n",
    "    _EXPORTAPI_CHUNK_SIZE = 1024 * 64\n",
    "\n",
    "    def __init__(self, apikey):\n",
    "        self.apikey = apikey\n",
    "\n",
    "\n",
    "    # Tables are exported as Gzipped CSV files. \n",
    "    # \n",
    "    # Exports of large tables may take some time, so exports are processed\n",
    "    # asynchronously.\n",
    "    # \n",
    "    # When the export API is called, an export is queued and the API immediately\n",
    "    # returns a URL pointing to the future location of the exported file. Users\n",
    "    # should poll the URL until the file becomes available.\n",
    "    # \n",
    "    # Note: this is a synchronous call. Caller waits (up to max_secs_timeout)\n",
    "    #       until data is made available by Enigma backend, and then downloaded.\n",
    "    #       Caller should check err_code if the export fails.\n",
    "    # \n",
    "    # Returns one of: ENIG_RETCODE_SUCCESS, ENIG_RETCODE_TIMEOUT, ENIG_RETCODE_ERROR\n",
    "    # \n",
    "    def export(self, datapath, parameters=None,\n",
    "               max_secs_timeout=None, outfname=None):\n",
    "\n",
    "        query_str = self._QUERY_TEMPLATE.format(op=\"export\", key=self.apikey,\n",
    "                                                datapath=datapath, params=\"\")\n",
    "        # make a query, which sends back the URL that we'll have to poll\n",
    "        # until it eventually responds back with the gzipped csv file.\n",
    "        resp = requests.get(query_str)\n",
    "        resp_json = resp.json()\n",
    "        export_url = resp_json[\"export_url\"]\n",
    "\n",
    "        if not outfname:\n",
    "            # derive it from the URL\n",
    "            outfname = export_url[export_url.strip(\"/\").rfind(\"/\")+1:]\n",
    "            if \"?\" in outfname:\n",
    "                outfname = outfname[:outfname.rfind(\"?\")]\n",
    "\n",
    "        return self._download_file(export_url, outfname)\n",
    "        \n",
    "    def _download_file(self, export_url, outfname):\n",
    "        timeout_secs_remaining = self._EXPORTAPI_MAX_SECS_TIMEOUT\n",
    "        poll_time_interval = self._EXPORTAPI_POLL_SECS_INTERVAL\n",
    "\n",
    "        completed = False\n",
    "        print(\"About to attempt exporting export URL: {}\".format(export_url))\n",
    "        while (not completed) and (timeout_secs_remaining > 0):\n",
    "            print(\"Retries timeout remaining: {} secs\".format(timeout_secs_remaining))\n",
    "            try:\n",
    "                resp = requests.get(export_url, stream=True)\n",
    "                if resp.ok is True:\n",
    "                    with open(outfname, 'wb') as fout:\n",
    "                        for chunk in resp.iter_content(\n",
    "                                chunk_size=self._EXPORTAPI_CHUNK_SIZE): \n",
    "                            if chunk: # filter out keep-alive new chunks\n",
    "                                fout.write(chunk)\n",
    "                                fout.flush()\n",
    "                    completed = True\n",
    "                else:\n",
    "                    print(\"Still polling. Response status_code: {} - Reason: {}\".format(\n",
    "                        resp.status_code, resp.reason))\n",
    "            except Exception as exc:\n",
    "                print(\"exc: {}\".format(exc))\n",
    "            finally:\n",
    "                if not completed:\n",
    "                    time.sleep(poll_time_interval)\n",
    "                    timeout_secs_remaining -= poll_time_interval\n",
    "\n",
    "        if completed is True:\n",
    "            return self.ENIG_RETCODE_SUCCESS\n",
    "        elif timeout_secs_remaining < 0:\n",
    "            return self.ENIG_RETCODE_TIMEOUT\n",
    "        else:\n",
    "            return self.ENIG_RETCODE_ERROR\n",
    "\n",
    "        \n",
    "def main(apikey, args):\n",
    "    # just getting started. For now there's only functionality to \"export\".\n",
    "    client = EnigmaClient(apikey)\n",
    "    client.export(args.datapath, outfname=args.outfname)\n",
    "\n",
    "\n",
    "if __name__ == \"__main__\":\n",
    "    apikey = os.getenv(\"ENV_ENIGMA_APIKEY\")\n",
    "    if not apikey:\n",
    "        print('Please set your env var \"ENV_ENIGMA_APIKEY\"')\n",
    "        sys.exit(1)\n",
    "    \n",
    "    main(apikey, ARGPARSER.parse_args())\n"
   ]
  },
  {
   "cell_type": "code",
   "execution_count": null,
   "metadata": {
    "collapsed": true
   },
   "outputs": [],
   "source": []
  }
 ],
 "metadata": {
  "kernelspec": {
   "display_name": "Python 3",
   "language": "python",
   "name": "python3"
  },
  "language_info": {
   "codemirror_mode": {
    "name": "ipython",
    "version": 3
   },
   "file_extension": ".py",
   "mimetype": "text/x-python",
   "name": "python",
   "nbconvert_exporter": "python",
   "pygments_lexer": "ipython3",
   "version": "3.4.3"
  }
 },
 "nbformat": 4,
 "nbformat_minor": 0
}
