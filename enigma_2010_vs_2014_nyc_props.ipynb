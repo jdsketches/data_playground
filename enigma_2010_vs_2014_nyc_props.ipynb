{
 "cells": [
  {
   "cell_type": "markdown",
   "metadata": {},
   "source": [
    "# Learning Pandas using Enigma.io's API and datasets."
   ]
  },
  {
   "cell_type": "markdown",
   "metadata": {},
   "source": [
    "\n",
    "##This notebook uses Pandas to explore datasets exported from Enigma.<br>It serves 2 goals:\n",
    "\n",
    "### 1. Learn Pandas: apply the concepts learned in these Pandas tutorials to new datasets:\n",
    "  - Wes McKinney's \"Data analysis in Python with pandas.\"  (https://youtu.be/w26x-z-BdWQ)\n",
    "  - Greg Reda's \"Translating SQL to pandas. And back.\" (https://youtu.be/1uVWjdAbgBg)\n",
    "  - Sarah Guido \"Hands-on Data Analysis with Python.\" (https://youtu.be/L4Hbv4ugUWk)\n",
    "\n",
    "### 2. Become familiar with some of Enigma.io's content, services, tools:\n",
    "\n",
    "- Its website, currently available datasets, typical schema & metadata of the datasets, Enigma API, etc.\n",
    "\n",
    "\n",
    "*** Note (7/02/2014): this is still a \"live\" doc. More test queries being added.***"
   ]
  },
  {
   "cell_type": "markdown",
   "metadata": {},
   "source": [
    "##Note about the datasets:\n",
    "Ideally I'd use different classes of datasets: datasets that overlap through some columns, but that also augment each other.\n",
    "\n",
    "Making datasets from different origins available on a common \"Enigma\" plane, and providing normalized access and tools (exploratory, analytical, predictive) is what makes Enigma particularly interesting.\n",
    "\n",
    "But at this point my main objective is to learn Pandas, and therefore baby Pandas steps. Start with datasets that provide information about NYC property assessments (2010, 2012, 2014).\n",
    "\n",
    "---"
   ]
  },
  {
   "cell_type": "markdown",
   "metadata": {},
   "source": [
    "##Some of the work that follows:\n",
    "\n",
    "- Downloaded the datasets from Enigma, using an initial version of a Python client which provides support for the \"export\" API (last cell in this notebook).\n",
    "- Initial exploration of the dataset: memory, number of rows, schema format.\n",
    "- Column/schema cleanup: renaming cols to make them easier to read, dropping some, adding \"synthetic\" ones, etc.\n",
    "- Performed a series of \"just wondering\" queries.<br>(search for ***\"New Query\"***; each section starts with this header)\n",
    "  * highest/lowest valued properties per zip code; per zip/block, etc.\n",
    "  * who owns the most real estate (hint: Deutschland not just powerful at soccer).\n",
    "  * zips with most properties valued around $ 1M? 5M? (hint: Park Slopers doing well, but can't keep up)\n",
    "  * zip codes with highest ownership change in the 2010 - 2014 timeframe.\n",
    "  * are new properties (2014 relative to 2010) concentrated in particular areas?\n",
    "  * and, more being added..."
   ]
  },
  {
   "cell_type": "code",
   "execution_count": 1,
   "metadata": {
    "collapsed": true
   },
   "outputs": [],
   "source": [
    "%matplotlib inline\n",
    "import pandas as pd\n",
    "import numpy as np"
   ]
  },
  {
   "cell_type": "markdown",
   "metadata": {},
   "source": [
    "\n",
    "\n",
    "## Download the datasets making use of enigma.io API."
   ]
  },
  {
   "cell_type": "markdown",
   "metadata": {},
   "source": [
    "Go to last cell in this notebook, which shows an initial version of a Python client to enigma.io.<br>To download the datasets, the module containing the client would be invoked like this...\n",
    "\n",
    "     ENV_ENIGMA_APIKEY=xyz ./enigma_client.py ...nyc.assessment-valuation.avroll.2010\n",
    "     ENV_ENIGMA_APIKEY=xyz ./enigma_client.py ...nyc.assessment-valuation.avroll.2014\n",
    "     \n",
    "*** Note: *** the specific datasets downloaded were: \n",
    "\n",
    "* us.states.ny.cities.nyc.property.assessment-valuation.avroll.2010\n",
    "* us.states.ny.cities.nyc.property.assessment-valuation.avroll.2014"
   ]
  },
  {
   "cell_type": "markdown",
   "metadata": {},
   "source": [
    "## These will be our datasets: NYC property assessments from 2010, 2012 and 2014."
   ]
  },
  {
   "cell_type": "code",
   "execution_count": 2,
   "metadata": {
    "collapsed": false
   },
   "outputs": [],
   "source": [
    "import os\n",
    "from collections import defaultdict\n",
    "\n",
    "#### leave out 2012 for now (too much memory for my humble laptop)\n",
    "# datasets_years = (2010, 2012, 2014)\n",
    "# dataset_csv_files = [\"nyc.prop_assess_2010.csv\",\n",
    "#                      \"nyc.prop_assess_2012.csv\",\n",
    "#                      \"nyc.prop_assess_2014.csv\",]\n",
    "datasets_years = (2010, 2014)\n",
    "data_dirname = \"./data/nyc_property_assessments\"\n",
    "dataset_csv_files = [\"nyc.prop_assess_2010.csv\",\n",
    "                     \"nyc.prop_assess_2014.csv\"]\n",
    "\n",
    "# Use a dict to store info for each dataset (the dict's keys are the years)\n",
    "# (dataset csv filename, dataframe handle, etc.)\n",
    "datasets_info = defaultdict(dict)\n",
    "\n",
    "# for now the only info for each dataset is its csv fname\n",
    "# more info will be added.\n",
    "for dataset_keyname, fname in zip(datasets_years, dataset_csv_files):\n",
    "    datasets_info[dataset_keyname][\"csv_file\"] = os.path.join(data_dirname, fname)"
   ]
  },
  {
   "cell_type": "markdown",
   "metadata": {},
   "source": [
    "## Get an initial idea of what we have. File sizes & number of rows."
   ]
  },
  {
   "cell_type": "code",
   "execution_count": 3,
   "metadata": {
    "collapsed": false
   },
   "outputs": [
    {
     "name": "stdout",
     "output_type": "stream",
     "text": [
      "Info for file ./data/nyc_property_assessments/nyc.prop_assess_2010.csv:\n",
      "   Number of rows: 1,060,513\n",
      "   File size:      185,122,823\n",
      "\n",
      "Info for file ./data/nyc_property_assessments/nyc.prop_assess_2014.csv:\n",
      "   Number of rows: 1,088,351\n",
      "   File size:      164,461,696\n",
      "\n"
     ]
    }
   ],
   "source": [
    "import os\n",
    "\n",
    "for dset in datasets_info.values():\n",
    "    fname = dset[\"csv_file\"]\n",
    "    wc_info = !wc -l $fname\n",
    "    print(\"Info for file {}:\".format(fname))\n",
    "    print(\"   Number of rows: {:,}\".format(int(wc_info[0].split()[0])))\n",
    "    print(\"   File size:      {:,}\".format(os.stat(fname).st_size))\n",
    "    print()"
   ]
  },
  {
   "cell_type": "markdown",
   "metadata": {},
   "source": [
    "## Read the datasets into Pandas DataFrames."
   ]
  },
  {
   "cell_type": "code",
   "execution_count": 4,
   "metadata": {
    "collapsed": false
   },
   "outputs": [
    {
     "name": "stdout",
     "output_type": "stream",
     "text": [
      "CPU times: user 7.55 s, sys: 1.6 s, total: 9.14 s\n",
      "Wall time: 9.19 s\n"
     ]
    }
   ],
   "source": [
    "%%time\n",
    "# Some cols generating warnings during the read (mixed dtypes). Be specific.\n",
    "for dset_key in datasets_info.keys():\n",
    "    dset = datasets_info[dset_key]\n",
    "    dset[\"df\"] = pd.read_csv(dset[\"csv_file\"], dtype={\"bble\": object, \"easement\": object})"
   ]
  },
  {
   "cell_type": "markdown",
   "metadata": {},
   "source": [
    "## Some schema exploration..."
   ]
  },
  {
   "cell_type": "markdown",
   "metadata": {},
   "source": [
    "***\n",
    "\n",
    "### <<< <a id=\"cols_start\">START OF COLUMNS PROCESSING</a> >>>\n",
    "\n",
    "### The cells that follow operate on the dataframes' columns<br>(renaming, dropping some, adding new ones, \"cleaning\" cols of dtype \"string\", etc.). \n",
    "\n",
    "To skip to the last of these cells, search for [\"END OF COLUMNS PROCESSING\"](#cols_end).\n",
    "\n",
    "*** Note: *** these adjustments to the columns is the result of the intial work done in a previous notebook; it contains comments about why I perform these add/del/modifications - \"enigma_nyc_properties_2010.ipynb\")."
   ]
  },
  {
   "cell_type": "code",
   "execution_count": 5,
   "metadata": {
    "collapsed": false
   },
   "outputs": [],
   "source": [
    "# we'll be using each dataset's dataframe handle (df) frequently\n",
    "# Provide a small util func/generator to return back each dataset's (year, df)\n",
    "from collections import namedtuple\n",
    "DFInfo = namedtuple('DFInfo', ['year', 'df'])\n",
    "def _dfs():\n",
    "    for dset_year in datasets_info.keys():\n",
    "        dfi = DFInfo(dset_year, datasets_info[dset_year][\"df\"])\n",
    "        yield dfi"
   ]
  },
  {
   "cell_type": "markdown",
   "metadata": {},
   "source": [
    "### What are the dataframe's columns?"
   ]
  },
  {
   "cell_type": "code",
   "execution_count": 6,
   "metadata": {
    "collapsed": false
   },
   "outputs": [
    {
     "name": "stdout",
     "output_type": "stream",
     "text": [
      "\n",
      "\n",
      "Dataset 2010 columns...\n",
      "avland    avland2   avtot     avtot2    bble      blddepth  \n",
      "bldfront  bldgcl    block     borough   easement  excd1     excd2     \n",
      "exland    exland2   exmptcl   ext       extot     extot2    fullval   \n",
      "lot       ltdepth   ltfront   owner     period    serialid  staddr    \n",
      "stories   taxclass  valtype   year      zip       \n",
      "\n",
      "\n",
      "Dataset 2014 columns...\n",
      "avland    avland2   avtot     avtot2    b         bble      \n",
      "blddepth  bldfront  bldgcl    block     easement  excd1     excd2     \n",
      "exland    exland2   exmptcl   ext       extot     extot2    fullval   \n",
      "lot       ltdepth   ltfront   owner     period    serialid  staddr    \n",
      "stories   taxclass  valtype   year      zip       \n"
     ]
    }
   ],
   "source": [
    "# Column names not that visually clear; make them easier to read...\n",
    "def prettify_colnames(columns, cols_per_row=7):\n",
    "    cols = sorted(columns)\n",
    "    colsize = 2 + max(len(colname) for colname in cols)\n",
    "    outstr = \"\"\n",
    "    for ix, colname in enumerate(cols):\n",
    "        outstr += \"{newline}{cn:{sz}}\".format(\n",
    "            newline=\"\" if (ix+1) % cols_per_row else \"\\n\", cn=colname, sz=colsize)\n",
    "    return outstr\n",
    "\n",
    "for dfi in _dfs():\n",
    "    print(\"\\n\\nDataset {} columns...\\n{}\".format(dfi.year, prettify_colnames(dfi.df.columns)))"
   ]
  },
  {
   "cell_type": "markdown",
   "metadata": {},
   "source": [
    "## What do these column headers mean?! Kind of cryptic names...\n",
    "\n",
    "### Navigate enigma.io website. <br>You can click on \"Description\" for any table/dataset.<br>A modal window pops up.<br> You can choose to \"export\" the column descriptions as a file.\n",
    "\n",
    "Downloaded it, unzipped it. It contains 2 files...\n",
    "\n",
    "     table-info.csv\n",
    "     column-info.csv     "
   ]
  },
  {
   "cell_type": "markdown",
   "metadata": {},
   "source": [
    "### Read the column-info.csv file."
   ]
  },
  {
   "cell_type": "code",
   "execution_count": 7,
   "metadata": {
    "collapsed": false
   },
   "outputs": [],
   "source": [
    "## 2012 out for now...\n",
    "#columns_csv_files = [\"2010-column-info.csv\", \"2010-column-info.csv\", ]\n",
    "columns_csv_files = [\"2010-column-info.csv\", \"2014-column-info.csv\"]\n",
    "\n",
    "for dataset_keyname, fname in zip(datasets_years, columns_csv_files):\n",
    "    fname = os.path.join(data_dirname, fname)\n",
    "    datasets_info[dataset_keyname][\"cols_csv_file\"] = fname\n",
    "    datasets_info[dataset_keyname][\"cols_df\"] = pd.read_csv(fname)"
   ]
  },
  {
   "cell_type": "markdown",
   "metadata": {},
   "source": [
    "### Get some info about the columns.<br>Make sure schemas/cols across years contain the same columns we'll use later."
   ]
  },
  {
   "cell_type": "code",
   "execution_count": 8,
   "metadata": {
    "collapsed": false
   },
   "outputs": [
    {
     "name": "stdout",
     "output_type": "stream",
     "text": [
      "\n",
      "\n",
      "===========> Cols for year: 2010\n",
      "<class 'pandas.core.frame.DataFrame'>\n",
      "Int64Index: 32 entries, 0 to 31\n",
      "Data columns (total 4 columns):\n",
      "Column Name           32 non-null object\n",
      "Column Description    32 non-null object\n",
      "Column API ID         32 non-null object\n",
      "Column Type           32 non-null object\n",
      "dtypes: object(4)\n",
      "memory usage: 1.2+ KB\n",
      "\n",
      "\n",
      "===========> Cols for year: 2014\n",
      "<class 'pandas.core.frame.DataFrame'>\n",
      "Int64Index: 32 entries, 0 to 31\n",
      "Data columns (total 4 columns):\n",
      "Column Name           32 non-null object\n",
      "Column Description    32 non-null object\n",
      "Column API ID         32 non-null object\n",
      "Column Type           32 non-null object\n",
      "dtypes: object(4)\n",
      "memory usage: 1.2+ KB\n"
     ]
    }
   ],
   "source": [
    "for ds_key in datasets_info:\n",
    "    print(\"\\n\\n===========> Cols for year: {}\".format(ds_key))\n",
    "    datasets_info[ds_key][\"cols_df\"].info()"
   ]
  },
  {
   "cell_type": "markdown",
   "metadata": {},
   "source": [
    "### All ok if the various datasets contain the same columns except for the renaming of (\"borough\" <=> \"b\")."
   ]
  },
  {
   "cell_type": "code",
   "execution_count": 9,
   "metadata": {
    "collapsed": false
   },
   "outputs": [],
   "source": [
    "# Stop if columns are not what we expect.\n",
    "reference_set = {col for col in datasets_info[2014][\"cols_df\"][\"Column API ID\"]}\n",
    "\n",
    "for dset_key in datasets_info:\n",
    "    diff = reference_set ^ {col for col in datasets_info[dset_key][\"cols_df\"][\"Column API ID\"]}\n",
    "    assert len(diff - {'b', 'borough'}) == 0"
   ]
  },
  {
   "cell_type": "markdown",
   "metadata": {},
   "source": [
    "### Select what seems like a useful subset of the 32 columns.<br> We'll use this col subset for our data exploration."
   ]
  },
  {
   "cell_type": "code",
   "execution_count": 10,
   "metadata": {
    "collapsed": false
   },
   "outputs": [],
   "source": [
    "# these columns seem interesting \n",
    "# (owner, street name & number, value, lot front/depth in ft., num of stories, ...)\n",
    "colnames = [\"owner\",\n",
    "            \"fullval\",\n",
    "            \"zip\",\n",
    "            \"block\",\n",
    "            \"staddr\",\n",
    "            \"ltfront\",\n",
    "            \"ltdepth\",\n",
    "            \"stories\",\n",
    "            \"taxclass\",\n",
    "            \"easement\"]\n",
    "\n",
    "# index the descr table by the cryptic API name (use 2014 colnames table as a ref.).\n",
    "cidx = datasets_info[2014][\"cols_df\"].set_index(\"Column API ID\")\n",
    "\n",
    "# map the cryptic dataset colnames to more user-friendly names\n",
    "# (preserve the col order listed above)\n",
    "from collections import OrderedDict\n",
    "cols_subset = OrderedDict()\n",
    "for cn in colnames:\n",
    "    cols_subset[cn] = cidx.ix[cn][\"Column Name\"].strip()"
   ]
  },
  {
   "cell_type": "markdown",
   "metadata": {},
   "source": [
    "###Rename columns of interest.<br>Drop all others.<br>Reindex the (reduced + renamed) columns<br>(display in order shown in colnames list above)."
   ]
  },
  {
   "cell_type": "code",
   "execution_count": 11,
   "metadata": {
    "collapsed": true
   },
   "outputs": [],
   "source": [
    "def drop_some_cols(df, cols_subset):\n",
    "    all_cols = set(df.columns)\n",
    "    df_cols_reduced = df.drop(all_cols - set(cols_subset), axis=1)\n",
    "    return df_cols_reduced\n",
    "\n",
    "def rename_some_cols(df, cols_subset):\n",
    "    df_renamed = df.rename(columns = cols_subset)\n",
    "    return df_renamed\n",
    "\n",
    "def reindex_cols(df, ordered_cols):\n",
    "    df_reindexed = df.reindex_axis(ordered_cols, axis=1)\n",
    "    return df_reindexed\n",
    "\n",
    "for dfinfo in _dfs():\n",
    "    df_subset = drop_some_cols(dfinfo.df, cols_subset.keys())\n",
    "    df_subset = rename_some_cols(df_subset, cols_subset)\n",
    "    # remember that cols_subset is an OrderedDict (already in the order we want)\n",
    "    df_subset = reindex_cols(df_subset, cols_subset.values())\n",
    "    \n",
    "    datasets_info[dfinfo.year][\"dfsub\"] = df_subset\n",
    "\n",
    "# don't accumulate unneeded large objects\n",
    "del df_subset"
   ]
  },
  {
   "cell_type": "code",
   "execution_count": 12,
   "metadata": {
    "collapsed": true
   },
   "outputs": [],
   "source": [
    "# repeat utility func to make it easeier to get at subset df handle.\n",
    "DFInfo = namedtuple('DFInfo', ['year', 'dfsub'])\n",
    "def _subdfs():\n",
    "    for dset_year in datasets_info.keys():\n",
    "        dfi = DFInfo(dset_year, datasets_info[dset_year][\"dfsub\"])\n",
    "        yield dfi"
   ]
  },
  {
   "cell_type": "markdown",
   "metadata": {},
   "source": [
    "## Facilitate operating on some \"string\" columns (owner, address)."
   ]
  },
  {
   "cell_type": "code",
   "execution_count": 13,
   "metadata": {
    "collapsed": false
   },
   "outputs": [],
   "source": [
    "normalize_str_colnames = [\"Owner\", \"Street Address\"]\n",
    "\n",
    "def strip_and_upper(s):\n",
    "     return s.strip().upper()\n",
    "\n",
    "for dfinfo in _subdfs():\n",
    "    for colname in normalize_str_colnames:\n",
    "        dfinfo.dfsub[colname].fillna(\"\", inplace=True)\n",
    "        dfinfo.dfsub[colname] = dfinfo.dfsub[colname].map(strip_and_upper)"
   ]
  },
  {
   "cell_type": "markdown",
   "metadata": {},
   "source": [
    "## Let's create a column that displays the \"Full Value\" column in a human-friendly format.\n"
   ]
  },
  {
   "cell_type": "code",
   "execution_count": 14,
   "metadata": {
    "collapsed": false
   },
   "outputs": [],
   "source": [
    "for dfinfo in _subdfs():\n",
    "    dfinfo.dfsub[\"FullValueUX\"] = dfinfo.dfsub[\"Full Value\"].map(\"${:,.0f}\".format)"
   ]
  },
  {
   "cell_type": "code",
   "execution_count": 15,
   "metadata": {
    "collapsed": true
   },
   "outputs": [],
   "source": [
    "# Let's put the new (long-named) columns in a list so that\n",
    "# we don't have to type them every time...\n",
    "cols_to_show = list(cidx.ix[cols_subset.keys()][\"Column Name\"])\n",
    "\n",
    "# and insert the formatted FullValueUX as a leading col \n",
    "# (put unformatted as last one - don't drop it - we need it for float ops)\n",
    "cols_to_show[1:2] = [\"FullValueUX\"]\n",
    "cols_to_show.append(\"Full Value\")"
   ]
  },
  {
   "cell_type": "markdown",
   "metadata": {},
   "source": [
    "## Add synthetic total square footage column."
   ]
  },
  {
   "cell_type": "code",
   "execution_count": 16,
   "metadata": {
    "collapsed": true
   },
   "outputs": [],
   "source": [
    "for dfinfo in _subdfs():\n",
    "    dfinfo.dfsub[\"SquareFt\"] = np.round(dfinfo.dfsub[\"Lot Frontage\"] * dfinfo.dfsub[\"Lot Depth\"])\n",
    "cols_to_show.append(\"SquareFt\")"
   ]
  },
  {
   "cell_type": "markdown",
   "metadata": {},
   "source": [
    "##Create an arbitrary definition of what a \"residential house\" is.\n",
    "\n",
    "###Used to make queries that apply more to residential than commercial properties.\n",
    "\n",
    "<ol>\n",
    "   <li> Cap the square footage to <= 3000 </li>\n",
    "   <li> Cap the property's num of stories to <= 3 </li>\n",
    "   <li> Tax Class == 1</li>\n",
    "</ol>\n"
   ]
  },
  {
   "cell_type": "markdown",
   "metadata": {},
   "source": [
    "##Add synthetic \"residential\" column (True, False)."
   ]
  },
  {
   "cell_type": "code",
   "execution_count": 17,
   "metadata": {
    "collapsed": true
   },
   "outputs": [],
   "source": [
    "for dfinfo in _subdfs():\n",
    "    dfinfo.dfsub[\"Residential\"] = ((dfinfo.dfsub.SquareFt <= 3000) & \n",
    "                                   (dfinfo.dfsub.Stories <= 3) & \n",
    "                                   (dfinfo.dfsub[\"Tax Class\"] == \"1\"))\n",
    "    \n",
    "cols_to_show.append(\"Residential\")"
   ]
  },
  {
   "cell_type": "markdown",
   "metadata": {
    "collapsed": true
   },
   "source": [
    "***\n",
    "\n",
    "### <<< <a id=\"cols_end\">END OF COLUMNS PROCESSING</a> >>>\n",
    "\n",
    "*** or, jump back to the [Start of Columns Processing](#cols_start) ***\n",
    "\n",
    "***"
   ]
  },
  {
   "cell_type": "markdown",
   "metadata": {
    "collapsed": true
   },
   "source": [
    "### DataFrames info: datasets look ok...\n",
    "* most rows x cols are populated\n",
    "* easements column quite sparse, which makes sense\n",
    "* around 100MBytes per DF"
   ]
  },
  {
   "cell_type": "code",
   "execution_count": 18,
   "metadata": {
    "collapsed": false,
    "scrolled": true
   },
   "outputs": [
    {
     "name": "stdout",
     "output_type": "stream",
     "text": [
      "\n",
      "\n",
      "========> DataFrame info for year 2010\n",
      "<class 'pandas.core.frame.DataFrame'>\n",
      "Int64Index: 1060512 entries, 0 to 1060511\n",
      "Data columns (total 13 columns):\n",
      "Owner             1060512 non-null object\n",
      "Full Value        1060512 non-null float64\n",
      "Zip               1030018 non-null float64\n",
      "Block             1060512 non-null int64\n",
      "Street Address    1060512 non-null object\n",
      "Lot Frontage      1060512 non-null int64\n",
      "Lot Depth         1060512 non-null int64\n",
      "Stories           1003082 non-null float64\n",
      "Tax Class         1060512 non-null object\n",
      "Easement          4615 non-null object\n",
      "FullValueUX       1060512 non-null object\n",
      "SquareFt          1060512 non-null int64\n",
      "Residential       1060512 non-null bool\n",
      "dtypes: bool(1), float64(3), int64(4), object(5)\n",
      "memory usage: 106.2+ MB\n",
      "\n",
      "\n",
      "========> DataFrame info for year 2014\n",
      "<class 'pandas.core.frame.DataFrame'>\n",
      "Int64Index: 1088350 entries, 0 to 1088349\n",
      "Data columns (total 13 columns):\n",
      "Owner             1088350 non-null object\n",
      "Full Value        1088350 non-null int64\n",
      "Zip               1060293 non-null float64\n",
      "Block             1088350 non-null int64\n",
      "Street Address    1088350 non-null object\n",
      "Lot Frontage      1088350 non-null int64\n",
      "Lot Depth         1088350 non-null int64\n",
      "Stories           1032390 non-null float64\n",
      "Tax Class         1088350 non-null object\n",
      "Easement          4603 non-null object\n",
      "FullValueUX       1088350 non-null object\n",
      "SquareFt          1088350 non-null int64\n",
      "Residential       1088350 non-null bool\n",
      "dtypes: bool(1), float64(2), int64(5), object(5)\n",
      "memory usage: 109.0+ MB\n"
     ]
    }
   ],
   "source": [
    "for dfinfo in _subdfs():\n",
    "    print(\"\\n\\n========> DataFrame info for year {}\".format(dfinfo.year))\n",
    "    dfinfo.dfsub.info()"
   ]
  },
  {
   "cell_type": "markdown",
   "metadata": {
    "collapsed": true
   },
   "source": [
    "##  Schema cleanup done for now.<br>Start some data exploration and queries."
   ]
  },
  {
   "cell_type": "code",
   "execution_count": 19,
   "metadata": {
    "collapsed": true
   },
   "outputs": [],
   "source": [
    "# shortcuts for the dataframes we'll use often\n",
    "# (the DFs which are cleaned, column-subsets of the whole-set)\n",
    "df10 = datasets_info[2010][\"dfsub\"]\n",
    "df14 = datasets_info[2014][\"dfsub\"]\n",
    "\n",
    "# also create dataframe shortcuts for residential-only properties.\n",
    "df10res = df10[df10.Residential]\n",
    "df14res = df14[df14.Residential]"
   ]
  },
  {
   "cell_type": "code",
   "execution_count": 20,
   "metadata": {
    "collapsed": false
   },
   "outputs": [
    {
     "data": {
      "text/html": [
       "<div style=\"max-height:1000px;max-width:1500px;overflow:auto;\">\n",
       "<table border=\"1\" class=\"dataframe\">\n",
       "  <thead>\n",
       "    <tr style=\"text-align: right;\">\n",
       "      <th></th>\n",
       "      <th>Owner</th>\n",
       "      <th>Full Value</th>\n",
       "      <th>Zip</th>\n",
       "      <th>Block</th>\n",
       "      <th>Street Address</th>\n",
       "      <th>Lot Frontage</th>\n",
       "      <th>Lot Depth</th>\n",
       "      <th>Stories</th>\n",
       "      <th>Tax Class</th>\n",
       "      <th>Easement</th>\n",
       "      <th>FullValueUX</th>\n",
       "      <th>SquareFt</th>\n",
       "      <th>Residential</th>\n",
       "    </tr>\n",
       "  </thead>\n",
       "  <tbody>\n",
       "    <tr>\n",
       "      <th>80196</th>\n",
       "      <td>HUDSON WATERFRONT ASS</td>\n",
       "      <td>28190524</td>\n",
       "      <td>10025</td>\n",
       "      <td>1171</td>\n",
       "      <td>400 RIVERSIDE DRIVE</td>\n",
       "      <td>271</td>\n",
       "      <td>436</td>\n",
       "      <td>NaN</td>\n",
       "      <td>4</td>\n",
       "      <td>NaN</td>\n",
       "      <td>$28,190,524</td>\n",
       "      <td>118156</td>\n",
       "      <td>False</td>\n",
       "    </tr>\n",
       "    <tr>\n",
       "      <th>82962</th>\n",
       "      <td>311 W 76TH ST OWNERS</td>\n",
       "      <td>2508000</td>\n",
       "      <td>10025</td>\n",
       "      <td>1185</td>\n",
       "      <td>311 RIVERSIDE DRIVE</td>\n",
       "      <td>18</td>\n",
       "      <td>102</td>\n",
       "      <td>4</td>\n",
       "      <td>2C</td>\n",
       "      <td>NaN</td>\n",
       "      <td>$2,508,000</td>\n",
       "      <td>1836</td>\n",
       "      <td>False</td>\n",
       "    </tr>\n",
       "    <tr>\n",
       "      <th>83746</th>\n",
       "      <td>NEW YORK CITY HOUSING</td>\n",
       "      <td>22365000</td>\n",
       "      <td>10025</td>\n",
       "      <td>1205</td>\n",
       "      <td>641 COLUMBUS AVENUE</td>\n",
       "      <td>201</td>\n",
       "      <td>175</td>\n",
       "      <td>22</td>\n",
       "      <td>2</td>\n",
       "      <td>NaN</td>\n",
       "      <td>$22,365,000</td>\n",
       "      <td>35175</td>\n",
       "      <td>False</td>\n",
       "    </tr>\n",
       "  </tbody>\n",
       "</table>\n",
       "</div>"
      ],
      "text/plain": [
       "                       Owner  Full Value    Zip  Block       Street Address  \\\n",
       "80196  HUDSON WATERFRONT ASS    28190524  10025   1171  400 RIVERSIDE DRIVE   \n",
       "82962   311 W 76TH ST OWNERS     2508000  10025   1185  311 RIVERSIDE DRIVE   \n",
       "83746  NEW YORK CITY HOUSING    22365000  10025   1205  641 COLUMBUS AVENUE   \n",
       "\n",
       "       Lot Frontage  Lot Depth  Stories Tax Class Easement  FullValueUX  \\\n",
       "80196           271        436      NaN         4      NaN  $28,190,524   \n",
       "82962            18        102        4        2C      NaN   $2,508,000   \n",
       "83746           201        175       22         2      NaN  $22,365,000   \n",
       "\n",
       "       SquareFt Residential  \n",
       "80196    118156       False  \n",
       "82962      1836       False  \n",
       "83746     35175       False  "
      ]
     },
     "execution_count": 20,
     "metadata": {},
     "output_type": "execute_result"
    }
   ],
   "source": [
    "# and a reminder of what these DFs look like...\n",
    "# in this cell, all properties (Residential or not)\n",
    "# (choose a sample zip code (e.g. upper west side))\n",
    "df14[df14.Zip == 10025].head(3)"
   ]
  },
  {
   "cell_type": "code",
   "execution_count": 21,
   "metadata": {
    "collapsed": false
   },
   "outputs": [
    {
     "data": {
      "text/html": [
       "<div style=\"max-height:1000px;max-width:1500px;overflow:auto;\">\n",
       "<table border=\"1\" class=\"dataframe\">\n",
       "  <thead>\n",
       "    <tr style=\"text-align: right;\">\n",
       "      <th></th>\n",
       "      <th>Owner</th>\n",
       "      <th>Full Value</th>\n",
       "      <th>Zip</th>\n",
       "      <th>Block</th>\n",
       "      <th>Street Address</th>\n",
       "      <th>Lot Frontage</th>\n",
       "      <th>Lot Depth</th>\n",
       "      <th>Stories</th>\n",
       "      <th>Tax Class</th>\n",
       "      <th>Easement</th>\n",
       "      <th>FullValueUX</th>\n",
       "      <th>SquareFt</th>\n",
       "      <th>Residential</th>\n",
       "    </tr>\n",
       "  </thead>\n",
       "  <tbody>\n",
       "    <tr>\n",
       "      <th>83752</th>\n",
       "      <td>JOHN WEHBA</td>\n",
       "      <td>4287000</td>\n",
       "      <td>10025</td>\n",
       "      <td>1206</td>\n",
       "      <td>71 WEST 92 STREET</td>\n",
       "      <td>20</td>\n",
       "      <td>100</td>\n",
       "      <td>3</td>\n",
       "      <td>1</td>\n",
       "      <td>NaN</td>\n",
       "      <td>$4,287,000</td>\n",
       "      <td>2000</td>\n",
       "      <td>True</td>\n",
       "    </tr>\n",
       "    <tr>\n",
       "      <th>83753</th>\n",
       "      <td>FERN J KHAN</td>\n",
       "      <td>4081000</td>\n",
       "      <td>10025</td>\n",
       "      <td>1206</td>\n",
       "      <td>69 WEST 92 STREET</td>\n",
       "      <td>20</td>\n",
       "      <td>100</td>\n",
       "      <td>3</td>\n",
       "      <td>1</td>\n",
       "      <td>NaN</td>\n",
       "      <td>$4,081,000</td>\n",
       "      <td>2000</td>\n",
       "      <td>True</td>\n",
       "    </tr>\n",
       "    <tr>\n",
       "      <th>83754</th>\n",
       "      <td>LORRAINE HENRICKS</td>\n",
       "      <td>1247000</td>\n",
       "      <td>10025</td>\n",
       "      <td>1206</td>\n",
       "      <td>67 WEST 92 STREET</td>\n",
       "      <td>20</td>\n",
       "      <td>100</td>\n",
       "      <td>3</td>\n",
       "      <td>1</td>\n",
       "      <td>NaN</td>\n",
       "      <td>$1,247,000</td>\n",
       "      <td>2000</td>\n",
       "      <td>True</td>\n",
       "    </tr>\n",
       "  </tbody>\n",
       "</table>\n",
       "</div>"
      ],
      "text/plain": [
       "                   Owner  Full Value    Zip  Block     Street Address  \\\n",
       "83752         JOHN WEHBA     4287000  10025   1206  71 WEST 92 STREET   \n",
       "83753        FERN J KHAN     4081000  10025   1206  69 WEST 92 STREET   \n",
       "83754  LORRAINE HENRICKS     1247000  10025   1206  67 WEST 92 STREET   \n",
       "\n",
       "       Lot Frontage  Lot Depth  Stories Tax Class Easement FullValueUX  \\\n",
       "83752            20        100        3         1      NaN  $4,287,000   \n",
       "83753            20        100        3         1      NaN  $4,081,000   \n",
       "83754            20        100        3         1      NaN  $1,247,000   \n",
       "\n",
       "       SquareFt Residential  \n",
       "83752      2000        True  \n",
       "83753      2000        True  \n",
       "83754      2000        True  "
      ]
     },
     "execution_count": 21,
     "metadata": {},
     "output_type": "execute_result"
    }
   ],
   "source": [
    "# and in this cell, show the residential-only subset DF\n",
    "df14res[df14res.Zip == 10025].head(3)"
   ]
  },
  {
   "cell_type": "markdown",
   "metadata": {},
   "source": [
    "# Start of queries section.\n",
    "\n",
    "##Each query will be preceded by a \"New Query\" header."
   ]
  },
  {
   "cell_type": "markdown",
   "metadata": {
    "collapsed": true
   },
   "source": [
    "---\n",
    "## ===> New Query:\n",
    "\n",
    "### Let's get a visual idea of where in the spectrum of zip-codes lie high-valued houses.<br>Scatter plot of zip codes with residential houses with values greater than 1M, 5M.\n",
    "*** (plenty of Park Slope in the 1M range, but can't keep up...)***"
   ]
  },
  {
   "cell_type": "code",
   "execution_count": 22,
   "metadata": {
    "collapsed": false
   },
   "outputs": [
    {
     "name": "stdout",
     "output_type": "stream",
     "text": [
      "\n",
      "\n",
      "2014: zip codes with most (count) houses > $1M: Park Slope area\n",
      "\n",
      "11215    3468\n",
      "11217    1639\n",
      "11231    1295\n",
      "11238    1025\n",
      "11201     914\n",
      "\n",
      "\n",
      "2014: zip codes with most (count) houses > $5M: 10014/West Village area\n",
      "\n",
      "10014    315\n",
      "10011    131\n",
      "10065     53\n",
      "10024     49\n",
      "10128     46\n"
     ]
    },
    {
     "data": {
      "image/png": "[encoded data removed]",
      "text/plain": [
       "<matplotlib.figure.Figure at 0x7fc973ebfb70>"
      ]
     },
     "metadata": {},
     "output_type": "display_data"
    }
   ],
   "source": [
    "from matplotlib import pyplot as plt\n",
    "\n",
    "# plot a figure containing 2x2 subplots (2010/14 x $1m/$5M)\n",
    "fig, ((ax10_1M, ax10_5M), (ax14_1M, ax14_5M)) = plt.subplots(2, 2)\n",
    "\n",
    "# 2010 subplots\n",
    "df10res[df10res[\"Full Value\"] >= 1e6].plot(\n",
    "    ax=ax10_1M, y=\"Full Value\", x=\"Zip\", kind=\"scatter\", title=\"2010 1M\", rot=90)\n",
    "df10res[df10res[\"Full Value\"] >= 5e6].plot(\n",
    "    ax=ax10_5M, y=\"Full Value\", x=\"Zip\", kind=\"scatter\", title=\"2010 5M\", rot=90)\n",
    "\n",
    "# 2014 subplots\n",
    "df14res[df14res[\"Full Value\"] >= 1e6].plot(\n",
    "    ax=ax14_1M, y=\"Full Value\", x=\"Zip\", kind=\"scatter\", title=\"2014 1M\", rot=90)\n",
    "df14res[df14res[\"Full Value\"] >= 5e6].plot(\n",
    "    ax=ax14_5M, y=\"Full Value\", x=\"Zip\", kind=\"scatter\", title=\"2014 5M\", rot=90)\n",
    "\n",
    "### Print sample tabular info.\n",
    "# Houses > $1M; count how many in each zip code\n",
    "print(\"\\n\\n2014: zip codes with most (count) houses > $1M: Park Slope area\\n\\n{}\".format(\n",
    "    df10res[df10res[\"Full Value\"] >= 1e6].Zip.value_counts().head(5).to_string()))\n",
    "\n",
    "# Houses > $5M; count how many in each zip code\n",
    "print(\"\\n\\n2014: zip codes with most (count) houses > $5M: 10014/West Village area\\n\\n{}\".format(\n",
    "    df14res[df14res[\"Full Value\"] >= 5e6].Zip.value_counts().head(5).to_string()))\n"
   ]
  },
  {
   "cell_type": "markdown",
   "metadata": {},
   "source": [
    "## ===> New Query:\n",
    "\n",
    "### Test the \"Residential\" column that we added.<br>(top residential vs. non-residential properties in Red Hook area.)\n",
    " \n",
    "\n",
    "Which properties top the list in a particular zip code (11231) with/without the Residential filter applied?\n",
    "\n",
    "*** Result below: ***\n",
    "The \"all properties\" listing is topped by the shipping port in Red Hook and other government properties with Tax Class = 4.<br>The \"residential\" listings are topped along residential Clinton, Kane and Tompkins streets, right next the Synagogue :)\n",
    "\n",
    "### Good enough filtering criterion.<br>This will allow us to do \"residential-only\" type of queries."
   ]
  },
  {
   "cell_type": "code",
   "execution_count": 23,
   "metadata": {
    "collapsed": false
   },
   "outputs": [
    {
     "name": "stdout",
     "output_type": "stream",
     "text": [
      "2010 top 10 values (all properties) in zip=11231\n",
      "\n",
      "         FullValueUX                  Owner       Street Address Tax Class\n",
      "264568  $100,200,000     DEPT RE-CITY OF NY   118 CONOVER STREET         4\n",
      "265587   $42,600,000  ONE BEARD STREET, LLC      21 BEARD STREET         4\n",
      "260478   $30,600,000     BOARD OF EDUCATION     610 HENRY STREET         4\n",
      "263476   $21,500,000     BOARD OF EDUCATION   242 CARROLL STREET         4\n",
      "265586   $20,685,000       640 COLUMBIA LLC  640 COLUMBIA STREET         4\n",
      "265591   $13,460,000  GOWANUS INDUSTRIAL PA  685 COLUMBIA STREET         4\n",
      "265588   $13,371,600  THOR 280 RICHARDS STR  280 RICHARDS STREET         4\n",
      "265044   $13,100,000    183 LORRAINE STREET  183 LORRAINE STREET         4\n",
      "\n",
      "\n",
      "2010 top 10 values (residential only) in zip=11231\n",
      "\n",
      "       FullValueUX                Owner      Street Address Tax Class\n",
      "257693  $3,610,000  FORMAN, ELIZABETH A     249 KANE STREET         1\n",
      "258481  $3,600,000   SHARON E HUMPHREYS   36 TOMPKINS PLACE         1\n",
      "258517  $3,430,000        ADAIR JAMES R   23 TOMPKINS PLACE         1\n",
      "258514  $3,370,000          MICHAEL FAY   31 TOMPKINS PLACE         1\n",
      "258816  $3,290,000           PITT, ERIC  286 DE GRAW STREET         1\n",
      "257699  $3,230,000           JAMES BODE     235 KANE STREET         1\n",
      "260218  $3,200,000    PIPITONE DOMINICK          75 2 PLACE         1\n",
      "257697  $3,200,000  SHELANSKI MICHAEL L     241 KANE STREET         1\n"
     ]
    }
   ],
   "source": [
    "# Choose 11231 (Red Hook/Gowanus,/Carroll Gardens area in Brooklyn).\n",
    "df10_11231 = df10[df10.Zip == 11231].sort(\"Full Value\", ascending=False)\n",
    "df14_11231 = df14[df14.Zip == 11231].sort(\"Full Value\", ascending=False)\n",
    "\n",
    "cols_to_print = [\"FullValueUX\", \"Owner\", \"Street Address\", \"Tax Class\"]\n",
    "\n",
    "print(\"2010 top 10 values (all properties) in zip=11231\\n\\n{}\".format(\n",
    "        df10_11231[:8][cols_to_print].to_string()))\n",
    "print(\"\\n\\n2010 top 10 values (residential only) in zip=11231\\n\\n{}\".format(\n",
    "        df10_11231[df10_11231.Residential==True][:8][cols_to_print].to_string()))\n",
    "\n",
    "\n",
    "# let's inform engine that it can garb.collect dataframes we won't use anymore\n",
    "del df10_11231\n",
    "del df14_11231"
   ]
  },
  {
   "cell_type": "markdown",
   "metadata": {
    "collapsed": true
   },
   "source": [
    "---\n",
    "## ===> New Query:\n",
    "##How many residential properties changed ownership between 2010 & 2014.\n",
    "\n",
    "###OK, here's the plan, impefect and subjective, to get at these \"house changed-hands\" numbers:\n",
    "* We start with 2 separate datasets (DataFrames)\n",
    "  - df10res: 2010 residential properties\n",
    "  - df14res: 2014 residential properties\n",
    "* Join these 2 dataframes to create a new one: df1014res_owners\n",
    "* df1014res_owners will contain the 2 joined Owner columns: Owner_10 & Owner_14\n",
    "* Normalize these Owner columns, so that \"HOORNBEEK, FRANK D\" is the same as \"FRANK HOORNBEEK\"\n",
    "* Definition of a matching property (2010 vs. 2014); \n",
    "  - it's the same property in the 2 DataFrames if these cols match: \n",
    "  - \"Zip\" and \"Street Address\"\n",
    "* Once we have the joined DF (df1014res_owners) then we simply compare, for each row/residence, whether the normalized Owner_10 column matches the Owner_14 column.\n",
    "* The rows that are not the same represent a change in ownership.\n",
    "* Later we could use this resulting DF data to perform further, more insightful queries. For example, try to identify \"migratory/relocation/displacement\" patterns: did sellers in a particular Zip, move en-masse, as a group, to a new \"target\" location; and are they part of a larger domino effect type of pattern?.\n",
    "* But for now, the first step: generate the new df1014res_owners DataFrame."
   ]
  },
  {
   "cell_type": "markdown",
   "metadata": {},
   "source": [
    "***\n",
    "\n",
    "### Start by using a smaller test/sample dataset to verify that what we are doing is correct. <br>The full dataset takes a while to compute and manipulate.<br>Also, it contains so many rows that it's difficult to see what's going on.\n",
    "\n",
    "\n",
    "*** The smaller sample dataframe will consist of properties in zip-code 11231 and block 460. ***"
   ]
  },
  {
   "cell_type": "code",
   "execution_count": 24,
   "metadata": {
    "collapsed": false
   },
   "outputs": [],
   "source": [
    "df10res_sml = df10[(df10.Zip == 11231) & (df10.Block == 460) & (df10.Residential == True)]\n",
    "df14res_sml = df14[(df14.Zip == 11231) & (df14.Block == 460) & (df14.Residential == True)]\n",
    "\n",
    "## Create a joined dataframe:\n",
    "# \n",
    "#  - join on (zip, addr) columns, and add the \"block\" and \"owner\" columns.\n",
    "#  - we end-up with table like this...\n",
    "# \n",
    "#    Index   \"Zip\"  \"Block\"  \"Street Address\"   \"Owner_2010\"   \"Owner_2014\"\n",
    "#    -----   -----  -------  ----------------   ------------   ------------\n",
    "##\n",
    "\n",
    "# include these columns from the source DFs used to generate merged/joined DataFrame\n",
    "# (Block is not needed for the small/test joined DF, but will be needed for the final DF)\n",
    "cols_of_interest = [\"Zip\", \"Block\", \"Street Address\", \"Owner\"]\n",
    "\n",
    "# do the merge: 2010 is the left side of the join (i.e. ignore new 2014 properties)\n",
    "df1014res_owners = pd.merge(left=df10res_sml[cols_of_interest],\n",
    "                            right=df14res_sml[cols_of_interest],\n",
    "                            on=[\"Zip\", \"Street Address\"],\n",
    "                            how=\"inner\",\n",
    "                            suffixes=(\"_10\", \"_14\"))"
   ]
  },
  {
   "cell_type": "markdown",
   "metadata": {},
   "source": [
    "###Nice sample size: 49 rows/residences in this 11231/Carroll Gardens 460 block."
   ]
  },
  {
   "cell_type": "code",
   "execution_count": 25,
   "metadata": {
    "collapsed": false
   },
   "outputs": [
    {
     "name": "stdout",
     "output_type": "stream",
     "text": [
      "Shape (rows, cols) of 2010 sample DataFrame: (49, 13)\n",
      "Shape (rows, cols) of 2014 sample DataFrame: (50, 13)\n",
      "Shape (rows, cols) of joined sample DataFrame: (49, 6)\n"
     ]
    }
   ],
   "source": [
    "print(\"Shape (rows, cols) of 2010 sample DataFrame: {}\".format(df10res_sml.shape))\n",
    "print(\"Shape (rows, cols) of 2014 sample DataFrame: {}\".format(df14res_sml.shape))\n",
    "print(\"Shape (rows, cols) of joined sample DataFrame: {}\".format(df1014res_owners.shape))"
   ]
  },
  {
   "cell_type": "markdown",
   "metadata": {},
   "source": [
    "## Let's take a head() peek at what we got (things look good):\n",
    "\n",
    "###Data looks right: most properties have the same owner.<br>But there's the occasional change. For example:\n",
    "*** #12 on 2 Street has a new owner: \"LEVY, JENNIFER\" (index 3 in the last/joined dataframe) ***"
   ]
  },
  {
   "cell_type": "code",
   "execution_count": 26,
   "metadata": {
    "collapsed": false
   },
   "outputs": [
    {
     "name": "stdout",
     "output_type": "stream",
     "text": [
      "\n",
      "2010 sample rows \n",
      "\n",
      "       Street Address               Owner\n",
      "263765    10 2 STREET  DELLE CAVE, JOSEPH\n",
      "263766    12 2 STREET       JONES, ARTHUR\n",
      "263767    14 2 STREET     PHILIP CASTAGNA\n",
      "263763     6 2 STREET        SNOW,JAMES,R\n",
      "263764     8 2 STREET         DAVID WOLIN\n",
      "\n",
      "\n",
      "2014 sample rows \n",
      "\n",
      "       Street Address               Owner\n",
      "273507    10 2 STREET  DELLE CAVE, JOSEPH\n",
      "273508    12 2 STREET      LEVY, JENNIFER\n",
      "184688    54 2 STREET         LLOYD JAGAI\n",
      "273505     6 2 STREET        SNOW,JAMES,R\n",
      "273506     8 2 STREET         DAVID WOLIN\n",
      "\n",
      "\n",
      "2010/14 joined sample rows \n",
      "\n",
      "  Street Address            Owner_10            Owner_14\n",
      "2    10 2 STREET  DELLE CAVE, JOSEPH  DELLE CAVE, JOSEPH\n",
      "3    12 2 STREET       JONES, ARTHUR      LEVY, JENNIFER\n",
      "4    14 2 STREET     PHILIP CASTAGNA     PHILIP CASTAGNA\n",
      "0     6 2 STREET        SNOW,JAMES,R        SNOW,JAMES,R\n",
      "1     8 2 STREET         DAVID WOLIN         DAVID WOLIN\n"
     ]
    }
   ],
   "source": [
    "# Let's see what we got. Compare the shape (num of props) of the 2010 vs. 2014 vs. merged DFs\n",
    "print(\"\\n2010 sample rows \\n\\n{}\".format(df10res_sml.head(5).sort(\"Street Address\")[[\"Street Address\", \"Owner\"]].to_string()))\n",
    "print(\"\\n\\n2014 sample rows \\n\\n{}\".format(df14res_sml.head(5).sort(\"Street Address\")[[\"Street Address\", \"Owner\"]]))\n",
    "print(\"\\n\\n2010/14 joined sample rows \\n\\n{}\".format(df1014res_owners.head(5).sort(\"Street Address\")[[\"Street Address\", \"Owner_10\", \"Owner_14\"]]))"
   ]
  },
  {
   "cell_type": "markdown",
   "metadata": {},
   "source": [
    "## Perform the comparison to get a list of the houses w/ new owners.\n",
    "\n",
    "### Out of the 49 houses in that block (zip=11231, block=460), we get 17 new owners.\n",
    "\n",
    "But if we look closer at the names (Owner_10 vs. Owner_14), we see that <br>some of these rows whow up as new owners as the result of minor text differences.<br><br>For example #16 \"FILOMENA PERUFFO\" vs. \"PERUFFO, FILOMENA\".\n"
   ]
  },
  {
   "cell_type": "code",
   "execution_count": 27,
   "metadata": {
    "collapsed": false
   },
   "outputs": [
    {
     "data": {
      "text/html": [
       "<div style=\"max-height:1000px;max-width:1500px;overflow:auto;\">\n",
       "<table border=\"1\" class=\"dataframe\">\n",
       "  <thead>\n",
       "    <tr style=\"text-align: right;\">\n",
       "      <th></th>\n",
       "      <th>Street Address</th>\n",
       "      <th>Owner_10</th>\n",
       "      <th>Owner_14</th>\n",
       "    </tr>\n",
       "  </thead>\n",
       "  <tbody>\n",
       "    <tr>\n",
       "      <th>3</th>\n",
       "      <td>12 2 STREET</td>\n",
       "      <td>JONES, ARTHUR</td>\n",
       "      <td>LEVY, JENNIFER</td>\n",
       "    </tr>\n",
       "    <tr>\n",
       "      <th>11</th>\n",
       "      <td>30 2 STREET</td>\n",
       "      <td>MESSING JEANNE E</td>\n",
       "      <td>WALSH, FREDERICK M</td>\n",
       "    </tr>\n",
       "    <tr>\n",
       "      <th>12</th>\n",
       "      <td>32 2 STREET</td>\n",
       "      <td>BRACCO ANN</td>\n",
       "      <td>CLAUSEN, DAVID</td>\n",
       "    </tr>\n",
       "    <tr>\n",
       "      <th>13</th>\n",
       "      <td>34 2 STREET</td>\n",
       "      <td>PAULY PHILIP J</td>\n",
       "      <td>BOGART, MICHELE H</td>\n",
       "    </tr>\n",
       "    <tr>\n",
       "      <th>16</th>\n",
       "      <td>40 2 STREET</td>\n",
       "      <td>FILOMENA PERUFFO</td>\n",
       "      <td>PERUFFO, FILOMENA</td>\n",
       "    </tr>\n",
       "    <tr>\n",
       "      <th>17</th>\n",
       "      <td>42 2 STREET</td>\n",
       "      <td>MALVASIO JOHN J JR</td>\n",
       "      <td>MALVASIO, JOHN III</td>\n",
       "    </tr>\n",
       "    <tr>\n",
       "      <th>18</th>\n",
       "      <td>44 2 STREET</td>\n",
       "      <td>MR LOUIS CONA</td>\n",
       "      <td>CONA, LOUIS</td>\n",
       "    </tr>\n",
       "    <tr>\n",
       "      <th>19</th>\n",
       "      <td>46 2 STREET</td>\n",
       "      <td>A DE SALVO</td>\n",
       "      <td>DE SALVO, JEAN</td>\n",
       "    </tr>\n",
       "    <tr>\n",
       "      <th>24</th>\n",
       "      <td>56 2 STREET</td>\n",
       "      <td>MURO CARMINE</td>\n",
       "      <td>MURO ANNETTE</td>\n",
       "    </tr>\n",
       "    <tr>\n",
       "      <th>25</th>\n",
       "      <td>58 2 STREET</td>\n",
       "      <td>ANELLO MATTEO</td>\n",
       "      <td>FRANCESCA WENELL, TRU</td>\n",
       "    </tr>\n",
       "    <tr>\n",
       "      <th>27</th>\n",
       "      <td>62 2 STREET</td>\n",
       "      <td>DEGN, DEIDRA</td>\n",
       "      <td>HOANG, MIMI</td>\n",
       "    </tr>\n",
       "    <tr>\n",
       "      <th>30</th>\n",
       "      <td>45 3 STREET</td>\n",
       "      <td>HARALD HUSUM</td>\n",
       "      <td>HUSUM, HARALD</td>\n",
       "    </tr>\n",
       "    <tr>\n",
       "      <th>31</th>\n",
       "      <td>43 3 STREET</td>\n",
       "      <td>ODETTE ROLSETH</td>\n",
       "      <td>BEL, MARIA JOSE</td>\n",
       "    </tr>\n",
       "    <tr>\n",
       "      <th>37</th>\n",
       "      <td>31 3 STREET</td>\n",
       "      <td>MARY PACE</td>\n",
       "      <td>PACE, MICHAEL</td>\n",
       "    </tr>\n",
       "    <tr>\n",
       "      <th>41</th>\n",
       "      <td>23 3 STREET</td>\n",
       "      <td>A HAGENBERG</td>\n",
       "      <td>HAGENBERG, MARYANNE</td>\n",
       "    </tr>\n",
       "    <tr>\n",
       "      <th>43</th>\n",
       "      <td>19 3 STREET</td>\n",
       "      <td>CHRISTIANSEN, AMY</td>\n",
       "      <td>GRAY, JAMES A</td>\n",
       "    </tr>\n",
       "    <tr>\n",
       "      <th>45</th>\n",
       "      <td>15 3 STREET</td>\n",
       "      <td>JEFFREY MONTE</td>\n",
       "      <td>HARIDI, SAMAA</td>\n",
       "    </tr>\n",
       "  </tbody>\n",
       "</table>\n",
       "</div>"
      ],
      "text/plain": [
       "   Street Address            Owner_10               Owner_14\n",
       "3     12 2 STREET       JONES, ARTHUR         LEVY, JENNIFER\n",
       "11    30 2 STREET    MESSING JEANNE E     WALSH, FREDERICK M\n",
       "12    32 2 STREET          BRACCO ANN         CLAUSEN, DAVID\n",
       "13    34 2 STREET      PAULY PHILIP J      BOGART, MICHELE H\n",
       "16    40 2 STREET    FILOMENA PERUFFO      PERUFFO, FILOMENA\n",
       "17    42 2 STREET  MALVASIO JOHN J JR     MALVASIO, JOHN III\n",
       "18    44 2 STREET       MR LOUIS CONA            CONA, LOUIS\n",
       "19    46 2 STREET          A DE SALVO         DE SALVO, JEAN\n",
       "24    56 2 STREET        MURO CARMINE           MURO ANNETTE\n",
       "25    58 2 STREET       ANELLO MATTEO  FRANCESCA WENELL, TRU\n",
       "27    62 2 STREET        DEGN, DEIDRA            HOANG, MIMI\n",
       "30    45 3 STREET        HARALD HUSUM          HUSUM, HARALD\n",
       "31    43 3 STREET      ODETTE ROLSETH        BEL, MARIA JOSE\n",
       "37    31 3 STREET           MARY PACE          PACE, MICHAEL\n",
       "41    23 3 STREET         A HAGENBERG    HAGENBERG, MARYANNE\n",
       "43    19 3 STREET   CHRISTIANSEN, AMY          GRAY, JAMES A\n",
       "45    15 3 STREET       JEFFREY MONTE          HARIDI, SAMAA"
      ]
     },
     "execution_count": 27,
     "metadata": {},
     "output_type": "execute_result"
    }
   ],
   "source": [
    "naive_owner_comp = (df1014res_owners.Owner_10 != df1014res_owners.Owner_14)\n",
    "df1014res_owners[naive_owner_comp][[\"Street Address\", \"Owner_10\", \"Owner_14\"]]"
   ]
  },
  {
   "cell_type": "markdown",
   "metadata": {},
   "source": [
    "## Let's create a better name comparison.<br>Even simple compare improvements yield better results.\n",
    "\n",
    "Create a customized string comparison func that will get applied to each <br>(row x Owner_10) and (row x Owner_14) cell.\n",
    "<br><br>\n",
    "Use a regex to find valid names, and remove all punctuation, extraneous spaces, etc.\n",
    "<br>\n",
    "Create a set() with the resulting valid names and do set() comparisone between columns.\n",
    "<br><br>\n",
    "For example, both strings \"FILOMENA PERUFFO\" and \"PERUFFO, FILOMENA\"\n",
    "<br>\n",
    "will yield the same set(): {'FILOMENA', 'PERUFFO'}.\n",
    "\n",
    "### Create the customized compare func and apply it to re-generate the diffs."
   ]
  },
  {
   "cell_type": "code",
   "execution_count": 28,
   "metadata": {
    "collapsed": false
   },
   "outputs": [
    {
     "data": {
      "text/html": [
       "<div style=\"max-height:1000px;max-width:1500px;overflow:auto;\">\n",
       "<table border=\"1\" class=\"dataframe\">\n",
       "  <thead>\n",
       "    <tr style=\"text-align: right;\">\n",
       "      <th></th>\n",
       "      <th>Street Address</th>\n",
       "      <th>Owner_10</th>\n",
       "      <th>Owner_14</th>\n",
       "    </tr>\n",
       "  </thead>\n",
       "  <tbody>\n",
       "    <tr>\n",
       "      <th>3</th>\n",
       "      <td>12 2 STREET</td>\n",
       "      <td>JONES, ARTHUR</td>\n",
       "      <td>LEVY, JENNIFER</td>\n",
       "    </tr>\n",
       "    <tr>\n",
       "      <th>11</th>\n",
       "      <td>30 2 STREET</td>\n",
       "      <td>MESSING JEANNE E</td>\n",
       "      <td>WALSH, FREDERICK M</td>\n",
       "    </tr>\n",
       "    <tr>\n",
       "      <th>12</th>\n",
       "      <td>32 2 STREET</td>\n",
       "      <td>BRACCO ANN</td>\n",
       "      <td>CLAUSEN, DAVID</td>\n",
       "    </tr>\n",
       "    <tr>\n",
       "      <th>13</th>\n",
       "      <td>34 2 STREET</td>\n",
       "      <td>PAULY PHILIP J</td>\n",
       "      <td>BOGART, MICHELE H</td>\n",
       "    </tr>\n",
       "    <tr>\n",
       "      <th>17</th>\n",
       "      <td>42 2 STREET</td>\n",
       "      <td>MALVASIO JOHN J JR</td>\n",
       "      <td>MALVASIO, JOHN III</td>\n",
       "    </tr>\n",
       "    <tr>\n",
       "      <th>19</th>\n",
       "      <td>46 2 STREET</td>\n",
       "      <td>A DE SALVO</td>\n",
       "      <td>DE SALVO, JEAN</td>\n",
       "    </tr>\n",
       "    <tr>\n",
       "      <th>24</th>\n",
       "      <td>56 2 STREET</td>\n",
       "      <td>MURO CARMINE</td>\n",
       "      <td>MURO ANNETTE</td>\n",
       "    </tr>\n",
       "    <tr>\n",
       "      <th>25</th>\n",
       "      <td>58 2 STREET</td>\n",
       "      <td>ANELLO MATTEO</td>\n",
       "      <td>FRANCESCA WENELL, TRU</td>\n",
       "    </tr>\n",
       "    <tr>\n",
       "      <th>27</th>\n",
       "      <td>62 2 STREET</td>\n",
       "      <td>DEGN, DEIDRA</td>\n",
       "      <td>HOANG, MIMI</td>\n",
       "    </tr>\n",
       "    <tr>\n",
       "      <th>31</th>\n",
       "      <td>43 3 STREET</td>\n",
       "      <td>ODETTE ROLSETH</td>\n",
       "      <td>BEL, MARIA JOSE</td>\n",
       "    </tr>\n",
       "    <tr>\n",
       "      <th>37</th>\n",
       "      <td>31 3 STREET</td>\n",
       "      <td>MARY PACE</td>\n",
       "      <td>PACE, MICHAEL</td>\n",
       "    </tr>\n",
       "    <tr>\n",
       "      <th>41</th>\n",
       "      <td>23 3 STREET</td>\n",
       "      <td>A HAGENBERG</td>\n",
       "      <td>HAGENBERG, MARYANNE</td>\n",
       "    </tr>\n",
       "    <tr>\n",
       "      <th>43</th>\n",
       "      <td>19 3 STREET</td>\n",
       "      <td>CHRISTIANSEN, AMY</td>\n",
       "      <td>GRAY, JAMES A</td>\n",
       "    </tr>\n",
       "    <tr>\n",
       "      <th>45</th>\n",
       "      <td>15 3 STREET</td>\n",
       "      <td>JEFFREY MONTE</td>\n",
       "      <td>HARIDI, SAMAA</td>\n",
       "    </tr>\n",
       "  </tbody>\n",
       "</table>\n",
       "</div>"
      ],
      "text/plain": [
       "   Street Address            Owner_10               Owner_14\n",
       "3     12 2 STREET       JONES, ARTHUR         LEVY, JENNIFER\n",
       "11    30 2 STREET    MESSING JEANNE E     WALSH, FREDERICK M\n",
       "12    32 2 STREET          BRACCO ANN         CLAUSEN, DAVID\n",
       "13    34 2 STREET      PAULY PHILIP J      BOGART, MICHELE H\n",
       "17    42 2 STREET  MALVASIO JOHN J JR     MALVASIO, JOHN III\n",
       "19    46 2 STREET          A DE SALVO         DE SALVO, JEAN\n",
       "24    56 2 STREET        MURO CARMINE           MURO ANNETTE\n",
       "25    58 2 STREET       ANELLO MATTEO  FRANCESCA WENELL, TRU\n",
       "27    62 2 STREET        DEGN, DEIDRA            HOANG, MIMI\n",
       "31    43 3 STREET      ODETTE ROLSETH        BEL, MARIA JOSE\n",
       "37    31 3 STREET           MARY PACE          PACE, MICHAEL\n",
       "41    23 3 STREET         A HAGENBERG    HAGENBERG, MARYANNE\n",
       "43    19 3 STREET   CHRISTIANSEN, AMY          GRAY, JAMES A\n",
       "45    15 3 STREET       JEFFREY MONTE          HARIDI, SAMAA"
      ]
     },
     "execution_count": 28,
     "metadata": {},
     "output_type": "execute_result"
    }
   ],
   "source": [
    "import re\n",
    "\n",
    "names_to_include = re.compile(\"\\w{2,}\")\n",
    "\n",
    "def owner_name_cleanup(owner_str):\n",
    "    return (set(names_to_include.findall(owner_str)) - \n",
    "            {\"MR\", \"MRS\", \"MS\", \"MISS\", \"DR\"})\n",
    "\n",
    "improved_comp = (df1014res_owners.Owner_10.apply(owner_name_cleanup) != \\\n",
    "                 df1014res_owners.Owner_14.apply(owner_name_cleanup))\n",
    "\n",
    "df1014res_owners[improved_comp][[\"Street Address\", \"Owner_10\", \"Owner_14\"]]"
   ]
  },
  {
   "cell_type": "markdown",
   "metadata": {},
   "source": [
    "## Good enough for government work.\n",
    "\n",
    "### Let's generate the full-set/city-wide joined table."
   ]
  },
  {
   "cell_type": "code",
   "execution_count": 29,
   "metadata": {
    "collapsed": false
   },
   "outputs": [
    {
     "data": {
      "text/plain": [
       "((427471, 13), (428665, 13))"
      ]
     },
     "execution_count": 29,
     "metadata": {},
     "output_type": "execute_result"
    }
   ],
   "source": [
    "# some cleanup: done with small/test subsets\n",
    "del df10res_sml\n",
    "del df14res_sml\n",
    "\n",
    "# and a reminder of the full dataset shapes (around 400k rows about to be merged)\n",
    "(df10res.shape, df14res.shape)"
   ]
  },
  {
   "cell_type": "code",
   "execution_count": 30,
   "metadata": {
    "collapsed": false
   },
   "outputs": [],
   "source": [
    "# do the full merge: 2010 is the left side of the join (i.e. ignore new 2014 properties)\n",
    "cols_of_interest = {\"Zip\", \"Block\", \"Street Address\", \"Owner\"}\n",
    "df1014res_owners = pd.merge(left=df10res[list(cols_of_interest)],\n",
    "                            right=df14res[list(cols_of_interest - {\"Block\"})],\n",
    "                            on=[\"Zip\", \"Street Address\"],\n",
    "                            how=\"inner\",\n",
    "                            suffixes=(\"_10\", \"_14\"))"
   ]
  },
  {
   "cell_type": "code",
   "execution_count": 31,
   "metadata": {
    "collapsed": false
   },
   "outputs": [
    {
     "name": "stdout",
     "output_type": "stream",
     "text": [
      "(424426, 5)\n"
     ]
    }
   ],
   "source": [
    "# what do have? looks ok, most of the left/2010 (zip, addrs) were inner-merged successfully\n",
    "print(df1014res_owners.shape)"
   ]
  },
  {
   "cell_type": "markdown",
   "metadata": {},
   "source": [
    "### A quick validation of the merge.\n",
    "\n",
    "Out of the full merge, display the slice corresponding to the zip/block (11231/460)<br>\n",
    "that we used above and that we are familiar with.<br>\n",
    "Make sure we still see the same data."
   ]
  },
  {
   "cell_type": "code",
   "execution_count": 32,
   "metadata": {
    "collapsed": false
   },
   "outputs": [
    {
     "name": "stdout",
     "output_type": "stream",
     "text": [
      "(49, 5)\n"
     ]
    },
    {
     "data": {
      "text/html": [
       "<div style=\"max-height:1000px;max-width:1500px;overflow:auto;\">\n",
       "<table border=\"1\" class=\"dataframe\">\n",
       "  <thead>\n",
       "    <tr style=\"text-align: right;\">\n",
       "      <th></th>\n",
       "      <th>Zip</th>\n",
       "      <th>Street Address</th>\n",
       "      <th>Owner_10</th>\n",
       "      <th>Owner_14</th>\n",
       "    </tr>\n",
       "  </thead>\n",
       "  <tbody>\n",
       "    <tr>\n",
       "      <th>54722</th>\n",
       "      <td>11231</td>\n",
       "      <td>6 2 STREET</td>\n",
       "      <td>SNOW,JAMES,R</td>\n",
       "      <td>SNOW,JAMES,R</td>\n",
       "    </tr>\n",
       "    <tr>\n",
       "      <th>54723</th>\n",
       "      <td>11231</td>\n",
       "      <td>8 2 STREET</td>\n",
       "      <td>DAVID WOLIN</td>\n",
       "      <td>DAVID WOLIN</td>\n",
       "    </tr>\n",
       "    <tr>\n",
       "      <th>54724</th>\n",
       "      <td>11231</td>\n",
       "      <td>10 2 STREET</td>\n",
       "      <td>DELLE CAVE, JOSEPH</td>\n",
       "      <td>DELLE CAVE, JOSEPH</td>\n",
       "    </tr>\n",
       "    <tr>\n",
       "      <th>54725</th>\n",
       "      <td>11231</td>\n",
       "      <td>12 2 STREET</td>\n",
       "      <td>JONES, ARTHUR</td>\n",
       "      <td>LEVY, JENNIFER</td>\n",
       "    </tr>\n",
       "    <tr>\n",
       "      <th>54726</th>\n",
       "      <td>11231</td>\n",
       "      <td>14 2 STREET</td>\n",
       "      <td>PHILIP CASTAGNA</td>\n",
       "      <td>PHILIP CASTAGNA</td>\n",
       "    </tr>\n",
       "  </tbody>\n",
       "</table>\n",
       "</div>"
      ],
      "text/plain": [
       "         Zip Street Address            Owner_10            Owner_14\n",
       "54722  11231     6 2 STREET        SNOW,JAMES,R        SNOW,JAMES,R\n",
       "54723  11231     8 2 STREET         DAVID WOLIN         DAVID WOLIN\n",
       "54724  11231    10 2 STREET  DELLE CAVE, JOSEPH  DELLE CAVE, JOSEPH\n",
       "54725  11231    12 2 STREET       JONES, ARTHUR      LEVY, JENNIFER\n",
       "54726  11231    14 2 STREET     PHILIP CASTAGNA     PHILIP CASTAGNA"
      ]
     },
     "execution_count": 32,
     "metadata": {},
     "output_type": "execute_result"
    }
   ],
   "source": [
    "# cool: still 49 merged entries\n",
    "print(df1014res_owners[(df1014res_owners.Zip == 11231) & \n",
    "                       (df1014res_owners.Block == 460)].shape)\n",
    "\n",
    "# and, the usual suspects\n",
    "df1014res_owners[(df1014res_owners.Zip == 11231) & \n",
    "                 (df1014res_owners.Block == 460)].head()[[\"Zip\", \"Street Address\", \"Owner_10\", \"Owner_14\"]]"
   ]
  },
  {
   "cell_type": "markdown",
   "metadata": {},
   "source": [
    "## And finally, generate the full table containing all residences<br>that had a change of ownership from 2010 vs. 2014."
   ]
  },
  {
   "cell_type": "code",
   "execution_count": 33,
   "metadata": {
    "collapsed": false
   },
   "outputs": [],
   "source": [
    "##############  reminder of what the compare util looks like\n",
    "import re\n",
    "\n",
    "names_to_include = re.compile(\"\\w{2,}\")\n",
    "def owner_name_cleanup(owner_str):\n",
    "    return (set(names_to_include.findall(owner_str)) - \n",
    "            {\"MR\", \"MRS\", \"MS\", \"MISS\", \"DR\"})\n",
    "\n",
    "improved_comp = (df1014res_owners.Owner_10.apply(owner_name_cleanup) != \\\n",
    "                 df1014res_owners.Owner_14.apply(owner_name_cleanup))\n",
    "###########  reminder of what the compare util looks like\n",
    "\n",
    "df1014res_owner_change = df1014res_owners[improved_comp]"
   ]
  },
  {
   "cell_type": "code",
   "execution_count": 34,
   "metadata": {
    "collapsed": false
   },
   "outputs": [
    {
     "name": "stdout",
     "output_type": "stream",
     "text": [
      "From 2010 to 2014, 110,467 residences have new owners (out of 424,426 total).\n"
     ]
    }
   ],
   "source": [
    "print(\"From 2010 to 2014, {:,} residences have new owners (out of {:,} total).\".format(\n",
    "        df1014res_owner_change.shape[0], df1014res_owners.shape[0]))"
   ]
  },
  {
   "cell_type": "markdown",
   "metadata": {},
   "source": [
    "## Playing with Pandas: various ways to group, slice, view the data...\n",
    "\n",
    "### In general, lots of ownership turnover in Southern Brooklyn.\n",
    "\n",
    "### And what's with zip code 11234, a far-away outlier?\n",
    "\n",
    "Indeed, in the news recently...<br>\n",
    "http://www.thejewishweek.com/news/new-york/orthodox-influx-remaking-marine-park"
   ]
  },
  {
   "cell_type": "code",
   "execution_count": 35,
   "metadata": {
    "collapsed": false
   },
   "outputs": [
    {
     "name": "stdout",
     "output_type": "stream",
     "text": [
      "            Street Address               Owner_10               Owner_14\n",
      "Zip                                                                     \n",
      "10001   450 WEST 25 STREET     AMARGER, CHRISTINE   450 WEST 25TH STREET\n",
      "10001   351 WEST 30 STREET           MOORE, PETER  NOEL BLAIR AS CO-TRUS\n",
      "10002  246 ELDRIDGE STREET  THE ROBERT CROZIER RE  ROBERT CROZIER AS TRU\n",
      "10002   85 DIVISION STREET  INTER LOYAL PROPERTIE    TAN-TAN ENTERP INC\u0001\n",
      "10002    88 CLINTON STREET  WILLIAM GOTTLIEB REAL         88 CLINTON LLC\n",
      "\n",
      "Zip\n",
      "11234    3486\n",
      "11385    2474\n",
      "11229    2319\n",
      "11236    2226\n",
      "11223    2053\n",
      "11204    1962\n",
      "11214    1921\n",
      "11379    1877\n",
      "dtype: int64\n",
      "\n",
      "Zip    Block\n",
      "11229  7405     123\n",
      "11235  7422      96\n",
      "10463  5909      93\n",
      "11235  7441      86\n",
      "10306  4478      83\n",
      "11214  6461      77\n",
      "10309  7596      70\n",
      "10304  2925      66\n",
      "dtype: int64\n"
     ]
    }
   ],
   "source": [
    "# index and sort by zip...\n",
    "df1014res_owner_change_ixzip = df1014res_owner_change.set_index(\"Zip\").sort_index()\n",
    "print(df1014res_owner_change_ixzip.head()[[\"Street Address\", \"Owner_10\", \"Owner_14\"]])\n",
    "print()\n",
    "\n",
    "# groupby zip\n",
    "grpbyzip_own_change = df1014res_owner_change.groupby(\"Zip\")\n",
    "print(grpbyzip_own_change.size().order(ascending=False).head(8))\n",
    "print()\n",
    "\n",
    "# groupby (zip, block)\n",
    "grpbyzipblk_own_change = df1014res_owner_change.groupby([\"Zip\", \"Block\"])\n",
    "print(grpbyzipblk_own_change.size().order(ascending=False).head(8))"
   ]
  },
  {
   "cell_type": "code",
   "execution_count": 36,
   "metadata": {
    "collapsed": false
   },
   "outputs": [
    {
     "data": {
      "text/plain": [
       "<matplotlib.axes._subplots.AxesSubplot at 0x7fc9ab134588>"
      ]
     },
     "execution_count": 36,
     "metadata": {},
     "output_type": "execute_result"
    },
    {
     "data": {
      "image/png": "[encoded data removed]",
      "text/plain": [
       "<matplotlib.figure.Figure at 0x7fc965390e10>"
      ]
     },
     "metadata": {},
     "output_type": "display_data"
    }
   ],
   "source": [
    "# histogram...\n",
    "grpbyzip_own_change.size().order(\n",
    "    ascending=False).iloc[:].plot(kind=\"hist\", \n",
    "                                  bins=50,\n",
    "                                  title=\"Ownership change count (e.g. 1 zip had 3500 changes)\")\n",
    "                                                                "
   ]
  },
  {
   "cell_type": "markdown",
   "metadata": {
    "collapsed": true
   },
   "source": [
    "## So, that count of 3486 ownership change in 11234 seems high. But we have no idea relative to what total number of properties in that zip code.\n",
    "\n",
    "### All these house ownership change totals per zip are more meaningful<br>if the cnt figure is relative to the total number of properties in the zip<br>(percent ownership change per zip).\n",
    "\n",
    "###Let's calculate the highest percent change zip codes."
   ]
  },
  {
   "cell_type": "code",
   "execution_count": 37,
   "metadata": {
    "collapsed": false
   },
   "outputs": [
    {
     "name": "stdout",
     "output_type": "stream",
     "text": [
      "\n",
      "\n",
      " ****************************************\n",
      "Series shape for ownership change count per zip: \n",
      "(167,)\n",
      "\n",
      "Series sample for ownership change count per zip: \n",
      "Zip\n",
      "11234    3486\n",
      "11235    1386\n",
      "11236    2226\n",
      "11237     335\n",
      "dtype: int64\n",
      "\n",
      "\n",
      " ****************************************\n",
      "Series shape for total properties count per zip: \n",
      "(172,)\n",
      "\n",
      "Series sample for total properties count per zip: \n",
      "Zip\n",
      "11234    14643\n",
      "11235     5031\n",
      "11236    11371\n",
      "11237     1530\n",
      "dtype: int64\n"
     ]
    }
   ],
   "source": [
    "# We already have the series with the ownership change count:\n",
    "print(\"\\n\\n\", 40*\"*\")\n",
    "print(\"Series shape for ownership change count per zip: \\n{}\".format(\n",
    "        grpbyzip_own_change.size().shape))\n",
    "print()\n",
    "print(\"Series sample for ownership change count per zip: \\n{}\".format(\n",
    "            grpbyzip_own_change.size().ix[11234:11237]))\n",
    "\n",
    "\n",
    "# Let's create another Series, containing the total count of residential props per zip.\n",
    "series_tot_zipcnt = df10res.groupby(\"Zip\").size()\n",
    "print(\"\\n\\n\", 40*\"*\")\n",
    "print(\"Series shape for total properties count per zip: \\n{}\".format(\n",
    "        series_tot_zipcnt.shape))\n",
    "print()\n",
    "print(\"Series sample for total properties count per zip: \\n{}\".format(\n",
    "            series_tot_zipcnt.ix[11234:11237]))"
   ]
  },
  {
   "cell_type": "markdown",
   "metadata": {},
   "source": [
    "## Ok the numbers above look correct (11234 zip code: total=14643, change=3486).\n",
    "\n",
    "###Also, it looks like 5 zips (172 - 167) did not have any changes in the 2010->2015 time-span.\n",
    "\n",
    "### Let's put the 2 series (total, change) as side-by-side columns a single DataFrame."
   ]
  },
  {
   "cell_type": "code",
   "execution_count": 40,
   "metadata": {
    "collapsed": false
   },
   "outputs": [
    {
     "name": "stdout",
     "output_type": "stream",
     "text": [
      "\n",
      "\n",
      " ****************************************\n",
      "DataFrame shape (tot vs. change) per zip: \n",
      "(172, 2)\n",
      "\n",
      "DataFrame sample (tot vs. change) per zip: \n",
      "       change_zip_cnt  total_zip_cnt\n",
      "Zip                                 \n",
      "11234            3486          14643\n",
      "11235            1386           5031\n",
      "11236            2226          11371\n",
      "11237             335           1530\n"
     ]
    }
   ],
   "source": [
    "zip_cmp_series = {\"total_zip_cnt\": series_tot_zipcnt,\n",
    "                  \"change_zip_cnt\": grpbyzip_own_change.size()}\n",
    "\n",
    "zip_cmp = pd.DataFrame(zip_cmp_series)\n",
    "\n",
    "## and confirm that the DF looks right...\n",
    "print(\"\\n\\n\", 40*\"*\")\n",
    "print(\"DataFrame shape (tot vs. change) per zip: \\n{}\".format(\n",
    "       zip_cmp.shape))\n",
    "print()\n",
    "print(\"DataFrame sample (tot vs. change) per zip: \\n{}\".format(\n",
    "       zip_cmp.ix[11234:11237]))"
   ]
  },
  {
   "cell_type": "code",
   "execution_count": 41,
   "metadata": {
    "collapsed": false
   },
   "outputs": [
    {
     "ename": "NameError",
     "evalue": "name 'dzip_cmp' is not defined",
     "output_type": "error",
     "traceback": [
      "\u001b[1;31m---------------------------------------------------------------------------\u001b[0m",
      "\u001b[1;31mNameError\u001b[0m                                 Traceback (most recent call last)",
      "\u001b[1;32m<ipython-input-41-9293de3d7a13>\u001b[0m in \u001b[0;36m<module>\u001b[1;34m()\u001b[0m\n\u001b[1;32m----> 1\u001b[1;33m \u001b[0mpct_change\u001b[0m \u001b[1;33m=\u001b[0m \u001b[1;33m(\u001b[0m\u001b[0mdzip_cmp\u001b[0m\u001b[1;33m.\u001b[0m\u001b[0mchange_zip_cnt\u001b[0m \u001b[1;33m*\u001b[0m \u001b[1;36m100\u001b[0m\u001b[1;33m)\u001b[0m \u001b[1;33m/\u001b[0m \u001b[0mdzip_cmp\u001b[0m\u001b[1;33m.\u001b[0m\u001b[0mtot_zip_cnt\u001b[0m\u001b[1;33m\u001b[0m\u001b[0m\n\u001b[0m\u001b[0;32m      2\u001b[0m \u001b[0mprint\u001b[0m\u001b[1;33m(\u001b[0m\u001b[1;34m\"Percent change for each zip (Series) - shape: \\n\"\u001b[0m\u001b[1;33m,\u001b[0m \u001b[0mpct_change\u001b[0m\u001b[1;33m.\u001b[0m\u001b[0mshape\u001b[0m\u001b[1;33m)\u001b[0m\u001b[1;33m\u001b[0m\u001b[0m\n\u001b[0;32m      3\u001b[0m \u001b[0mpct_change\u001b[0m\u001b[1;33m.\u001b[0m\u001b[0mdropna\u001b[0m\u001b[1;33m(\u001b[0m\u001b[0minplace\u001b[0m\u001b[1;33m=\u001b[0m\u001b[1;32mTrue\u001b[0m\u001b[1;33m)\u001b[0m\u001b[1;33m\u001b[0m\u001b[0m\n\u001b[0;32m      4\u001b[0m \u001b[0mprint\u001b[0m\u001b[1;33m(\u001b[0m\u001b[1;34m\"After dropping NaN rows: \\n\"\u001b[0m\u001b[1;33m,\u001b[0m \u001b[0mpct_change\u001b[0m\u001b[1;33m.\u001b[0m\u001b[0mshape\u001b[0m\u001b[1;33m)\u001b[0m\u001b[1;33m\u001b[0m\u001b[0m\n\u001b[0;32m      5\u001b[0m \u001b[0mpct_change\u001b[0m\u001b[1;33m.\u001b[0m\u001b[0morder\u001b[0m\u001b[1;33m(\u001b[0m\u001b[0mascending\u001b[0m\u001b[1;33m=\u001b[0m\u001b[1;32mFalse\u001b[0m\u001b[1;33m,\u001b[0m \u001b[0minplace\u001b[0m\u001b[1;33m=\u001b[0m\u001b[1;32mTrue\u001b[0m\u001b[1;33m)\u001b[0m\u001b[1;33m\u001b[0m\u001b[0m\n",
      "\u001b[1;31mNameError\u001b[0m: name 'dzip_cmp' is not defined"
     ]
    }
   ],
   "source": [
    "pct_change = (dzip_cmp.change_zip_cnt * 100) / dzip_cmp.tot_zip_cnt\n",
    "print(\"Percent change for each zip (Series) - shape: \\n\", pct_change.shape)\n",
    "pct_change.dropna(inplace=True)\n",
    "print(\"After dropping NaN rows: \\n\", pct_change.shape)\n",
    "pct_change.order(ascending=False, inplace=True)\n",
    "\n",
    "# let's make sure the calculation was setup correctly\n",
    "# saul good,man\n",
    "print(\"\\nSpot checking: zip 11234...\")\n",
    "print(dzip_cmp.ix[11234:11236]) # reminder of the 11234 vals\n",
    "print(\"\\nComputed vs. manually check % change for 11234 -> all good\")\n",
    "print(pct_change[11234])\n",
    "print(\"manual: \", 3486*100/14627)\n",
    "\n",
    "# 100% turnover!\n",
    "# yep, 1 prop in that zip will do it\n",
    "print(\"\\nhead() -> zips with top % values -> 100% ?!\")\n",
    "print(pct_change.head())\n",
    "print(\"\\nHow many props in this 10038 zip? \", series_tot_zipcnt[10038])\n"
   ]
  },
  {
   "cell_type": "code",
   "execution_count": 42,
   "metadata": {
    "collapsed": false
   },
   "outputs": [
    {
     "name": "stdout",
     "output_type": "stream",
     "text": [
      "Let's exclude zips with few number of properties...\n",
      "pre cut: (172,)\n",
      "post cut: (150,)\n"
     ]
    }
   ],
   "source": [
    "# lt's put an arbitrary inclusion limit:\n",
    "# only consider zips with 50+ props\n",
    "print(\"Let's exclude zips with few number of properties...\")\n",
    "print(\"pre cut:\", series_tot_zipcnt.shape)\n",
    "series_tot_zipcnt = series_tot_zipcnt[series_tot_zipcnt >= 50]\n",
    "print(\"post cut:\", series_tot_zipcnt.shape)"
   ]
  },
  {
   "cell_type": "code",
   "execution_count": 43,
   "metadata": {
    "collapsed": false
   },
   "outputs": [
    {
     "name": "stdout",
     "output_type": "stream",
     "text": [
      "Try again: head() -> zips with top % values: \n",
      "\n",
      "Zip\n",
      "10021    42.187500\n",
      "10024    37.398374\n",
      "10014    33.935743\n",
      "10463    33.614331\n",
      "10025    33.027523\n",
      "dtype: float64\n",
      "\n",
      "Let's add the pct change Series as a column to the compare DataFrame\n",
      "Spot check our well known 11234 zip -> looks good.\n"
     ]
    },
    {
     "data": {
      "text/html": [
       "<div style=\"max-height:1000px;max-width:1500px;overflow:auto;\">\n",
       "<table border=\"1\" class=\"dataframe\">\n",
       "  <thead>\n",
       "    <tr style=\"text-align: right;\">\n",
       "      <th></th>\n",
       "      <th>total_zip_cnt</th>\n",
       "      <th>change_zip_cnt</th>\n",
       "      <th>pct_change</th>\n",
       "    </tr>\n",
       "    <tr>\n",
       "      <th>Zip</th>\n",
       "      <th></th>\n",
       "      <th></th>\n",
       "      <th></th>\n",
       "    </tr>\n",
       "  </thead>\n",
       "  <tbody>\n",
       "    <tr>\n",
       "      <th>11234</th>\n",
       "      <td>14643</td>\n",
       "      <td>3486</td>\n",
       "      <td>23.806597</td>\n",
       "    </tr>\n",
       "    <tr>\n",
       "      <th>11235</th>\n",
       "      <td>5031</td>\n",
       "      <td>1386</td>\n",
       "      <td>27.549195</td>\n",
       "    </tr>\n",
       "    <tr>\n",
       "      <th>11236</th>\n",
       "      <td>11371</td>\n",
       "      <td>2226</td>\n",
       "      <td>19.576115</td>\n",
       "    </tr>\n",
       "  </tbody>\n",
       "</table>\n",
       "</div>"
      ],
      "text/plain": [
       "       total_zip_cnt  change_zip_cnt  pct_change\n",
       "Zip                                             \n",
       "11234          14643            3486   23.806597\n",
       "11235           5031            1386   27.549195\n",
       "11236          11371            2226   19.576115"
      ]
     },
     "execution_count": 43,
     "metadata": {},
     "output_type": "execute_result"
    }
   ],
   "source": [
    "# re-create the compare DataFrame...\n",
    "df_zip_cmp = pd.DataFrame(index=series_tot_zipcnt.index)\n",
    "df_zip_cmp[\"total_zip_cnt\"] = series_tot_zipcnt\n",
    "df_zip_cmp[\"change_zip_cnt\"] = grpbyzip_own_change.size()\n",
    "\n",
    "\n",
    "# and, re-create percent change calculations...\n",
    "pct_change = (df_zip_cmp.change_zip_cnt * 100) / df_zip_cmp.total_zip_cnt\n",
    "pct_change.order(ascending=False, inplace=True)\n",
    "\n",
    "print(\"Try again: head() -> zips with top % values: \\n\")\n",
    "print(pct_change.head())\n",
    "\n",
    "print()\n",
    "print(\"Let's add the pct change Series as a column to the compare DataFrame\")\n",
    "df_zip_cmp[\"pct_change\"] = pct_change\n",
    "print(\"Spot check our well known 11234 zip -> looks good.\")\n",
    "df_zip_cmp.ix[11234:11236]"
   ]
  },
  {
   "cell_type": "markdown",
   "metadata": {},
   "source": [
    "## Quick stats..."
   ]
  },
  {
   "cell_type": "code",
   "execution_count": 44,
   "metadata": {
    "collapsed": false
   },
   "outputs": [
    {
     "data": {
      "text/html": [
       "<div style=\"max-height:1000px;max-width:1500px;overflow:auto;\">\n",
       "<table border=\"1\" class=\"dataframe\">\n",
       "  <thead>\n",
       "    <tr style=\"text-align: right;\">\n",
       "      <th></th>\n",
       "      <th>total_zip_cnt</th>\n",
       "      <th>change_zip_cnt</th>\n",
       "      <th>pct_change</th>\n",
       "    </tr>\n",
       "  </thead>\n",
       "  <tbody>\n",
       "    <tr>\n",
       "      <th>count</th>\n",
       "      <td>150.000000</td>\n",
       "      <td>150.000000</td>\n",
       "      <td>150.000000</td>\n",
       "    </tr>\n",
       "    <tr>\n",
       "      <th>mean</th>\n",
       "      <td>2843.846667</td>\n",
       "      <td>728.766667</td>\n",
       "      <td>25.851083</td>\n",
       "    </tr>\n",
       "    <tr>\n",
       "      <th>std</th>\n",
       "      <td>2577.084279</td>\n",
       "      <td>647.742392</td>\n",
       "      <td>3.678283</td>\n",
       "    </tr>\n",
       "    <tr>\n",
       "      <th>min</th>\n",
       "      <td>54.000000</td>\n",
       "      <td>12.000000</td>\n",
       "      <td>14.117647</td>\n",
       "    </tr>\n",
       "    <tr>\n",
       "      <th>25%</th>\n",
       "      <td>797.500000</td>\n",
       "      <td>202.750000</td>\n",
       "      <td>23.511590</td>\n",
       "    </tr>\n",
       "    <tr>\n",
       "      <th>50%</th>\n",
       "      <td>2251.500000</td>\n",
       "      <td>563.500000</td>\n",
       "      <td>25.913994</td>\n",
       "    </tr>\n",
       "    <tr>\n",
       "      <th>75%</th>\n",
       "      <td>4214.750000</td>\n",
       "      <td>1134.500000</td>\n",
       "      <td>27.729724</td>\n",
       "    </tr>\n",
       "    <tr>\n",
       "      <th>max</th>\n",
       "      <td>14643.000000</td>\n",
       "      <td>3486.000000</td>\n",
       "      <td>42.187500</td>\n",
       "    </tr>\n",
       "  </tbody>\n",
       "</table>\n",
       "</div>"
      ],
      "text/plain": [
       "       total_zip_cnt  change_zip_cnt  pct_change\n",
       "count     150.000000      150.000000  150.000000\n",
       "mean     2843.846667      728.766667   25.851083\n",
       "std      2577.084279      647.742392    3.678283\n",
       "min        54.000000       12.000000   14.117647\n",
       "25%       797.500000      202.750000   23.511590\n",
       "50%      2251.500000      563.500000   25.913994\n",
       "75%      4214.750000     1134.500000   27.729724\n",
       "max     14643.000000     3486.000000   42.187500"
      ]
     },
     "execution_count": 44,
     "metadata": {},
     "output_type": "execute_result"
    }
   ],
   "source": [
    "df_zip_cmp.describe()"
   ]
  },
  {
   "cell_type": "code",
   "execution_count": 45,
   "metadata": {
    "collapsed": false
   },
   "outputs": [
    {
     "data": {
      "image/png": "[encoded data removed]",
      "text/plain": [
       "<matplotlib.figure.Figure at 0x7fc95c6e9518>"
      ]
     },
     "metadata": {},
     "output_type": "display_data"
    }
   ],
   "source": [
    "fig, axes = plt.subplots(nrows=3, ncols=1)\n",
    "\n",
    "#fig.figsize=(100,100)\n",
    "\n",
    "df_zip_cmp.plot(ax=axes[0], y=[\"total_zip_cnt\"], \n",
    "                title=\"total properties count, per zip\")\n",
    "df_zip_cmp.plot(ax=axes[1], y=[\"change_zip_cnt\"], \n",
    "                title=\"count of changed ownership, per zip\", figsize=(12,10))\n",
    "df_zip_cmp.plot(ax=axes[2], y=[\"pct_change\"], \n",
    "                title=\"changed ownership percent change, per zip\")\n",
    "fig.tight_layout()"
   ]
  },
  {
   "cell_type": "markdown",
   "metadata": {},
   "source": [
    "## work-in-progress below...<br>work-in-progress below...<br>work-in-progress below..."
   ]
  },
  {
   "cell_type": "code",
   "execution_count": null,
   "metadata": {
    "collapsed": true
   },
   "outputs": [],
   "source": []
  },
  {
   "cell_type": "markdown",
   "metadata": {
    "collapsed": true
   },
   "source": [
    "---\n",
    "\n",
    "## ===> New Query:\n",
    "\n",
    "### Top 10 valued residential properties, NYC-wide?\n",
    "\n",
    "2010's #2 rises to the top in 2014, almost doubling in value. Facing the East River:<br>\n",
    "http://www.nytimes.com/2008/05/25/realestate/25deal1.html"
   ]
  },
  {
   "cell_type": "code",
   "execution_count": 46,
   "metadata": {
    "collapsed": false
   },
   "outputs": [
    {
     "name": "stdout",
     "output_type": "stream",
     "text": [
      "2010 top 10 values (all properties) city-wide\n",
      "\n",
      "       FullValueUX                 Owner         Street Address Tax Class\n",
      "98611  $13,200,000           USDAN, ADAM     161 EAST 73 STREET         1\n",
      "94452  $12,900,000  7 SUTTON SQUARE, LLC        7 SUTTON SQUARE         1\n",
      "68546  $12,200,000         JANN S WENNER      27 WEST 74 STREET         1\n",
      "31551  $12,200,000        SACKHEIM, CARL  689 WASHINGTON STREET         1\n",
      "41583  $11,600,000      859 BROADWAY LLC           859 BROADWAY         1\n",
      "\n",
      "\n",
      "2014 top 10 values (all properties) city-wide\n",
      "\n",
      "        FullValueUX                 Owner      Street Address Tax Class\n",
      "100511  $23,374,000  7 SUTTON SQUARE, LLC     7 SUTTON SQUARE         1\n",
      "103958  $19,055,000  126 EAST 66TH STREET  126 EAST 66 STREET         1\n",
      "102779  $15,822,000             CKLM, LLC     870 PARK AVENUE         1\n",
      "102776  $14,848,000     A. ALEXANDER LARI   75 EAST 77 STREET         1\n",
      "32610   $14,000,000      RESNICK, SCOTT N   293 WEST 4 STREET         1\n"
     ]
    }
   ],
   "source": [
    "print(\"2010 top 10 values (all properties) city-wide\\n\\n{}\".format(\n",
    "        df10res.sort(\"Full Value\", ascending=False)[:5][cols_to_print]))\n",
    "\n",
    "print(\"\\n\\n2014 top 10 values (all properties) city-wide\\n\\n{}\".format(\n",
    "        df14res.sort(\"Full Value\", ascending=False)[:5][cols_to_print]))"
   ]
  },
  {
   "cell_type": "markdown",
   "metadata": {
    "collapsed": true
   },
   "source": [
    "---\n",
    "## ===> New Query:\n",
    "### Who owns the most housing real estate?<br>Deutschland not just powerful at soccer.<br>However, 2014 numbers seems to indicate that banks finally cleared their recession inventory."
   ]
  },
  {
   "cell_type": "code",
   "execution_count": 47,
   "metadata": {
    "collapsed": false
   },
   "outputs": [
    {
     "name": "stdout",
     "output_type": "stream",
     "text": [
      "2010 top residential owners: \n",
      "                         2456\n",
      "DEUTSCHE BANK NATIONA     299\n",
      "NEW YORK CITY HOUSING     196\n",
      "U.S. BANK NATIONAL AS     113\n",
      "WELLS FARGO BANK, N.A      91\n",
      "HSBC BANK USA, NATION      72\n",
      "HOUSING PRESERVATION       66\n",
      "FEDERAL NATIONAL MORT      60\n",
      "SECRETARY OF HOUSING       56\n",
      "NYC PARTNERSHIP HOUSI      54\n",
      "\n",
      " **************************************** \n",
      "\n",
      "2014 top residential owners: \n",
      "                         1196\n",
      "NEW YORK CITY HOUSING     194\n",
      "OWNER / AGENT             152\n",
      "RESTORING URBAN NEIGH      50\n",
      "HOUSING PRESERVATION       48\n",
      "DEUTSCHE BANK NATIONA      47\n",
      "NYC HOUSING AUTHORITY      44\n",
      "NEHEMIAH HOUSING DEVE      34\n",
      "NYC PARTNERSHIP HOUSI      27\n",
      "CITY OF NEW YORK           26\n"
     ]
    }
   ],
   "source": [
    "print(\"2010 top residential owners: \\n{}\".format(df10res.Owner.value_counts().head(10).to_string()))\n",
    "print(\"\\n\", 40*\"*\", \"\\n\")\n",
    "print(\"2014 top residential owners: \\n{}\".format(df14res.Owner.value_counts().head(10).to_string()))"
   ]
  },
  {
   "cell_type": "markdown",
   "metadata": {
    "collapsed": true
   },
   "source": [
    "---\n",
    "## ===> New Query:\n",
    "\n",
    "### Characterize 2010 vs. 2014 difference in the count of properties in the datasets.<br>(e.g. are the new properties in 2014 concentrated in a particular geo/area?)\n",
    "\n",
    "*** Conclusion: it's a hipsters' zipster ***\n",
    "\n",
    "zip code 11249:<br>\n",
    "https://goo.gl/maps/E8bwJ<br>\n",
    "http://www.brooklynpaper.com/stories/34/23/wb_zipcodechange_2011_06_10_bk.html\n"
   ]
  },
  {
   "cell_type": "code",
   "execution_count": 48,
   "metadata": {
    "collapsed": false
   },
   "outputs": [
    {
     "name": "stdout",
     "output_type": "stream",
     "text": [
      "\n",
      "Zips in 2014, but not in 2010: \n",
      " {10112, 10119, 11241, 11242, 10123, 10129, 10162, 11249, 10103}\n",
      "\n",
      "Zips in 2010, but not in 2014: \n",
      " {11352, 11021}\n",
      "\n",
      "Number of new properties in the new 2014 zips: 5924\n",
      "\n",
      "\n",
      "\n",
      "Distribution of new 2015 properties: \n",
      "\n",
      "Zip\n",
      "11249    5783\n",
      "10112     110\n",
      "10129      17\n",
      "10103       6\n",
      "10119       3\n",
      "11242       2\n",
      "11241       1\n",
      "10162       1\n",
      "10123       1\n",
      "\n",
      "Zip 11249? It's zipster-land: https://goo.gl/maps/E8bwJ\n"
     ]
    }
   ],
   "source": [
    "zip10 = {int(xx) for xx in df10.Zip.value_counts().keys()}\n",
    "zip14 = {int(xx) for xx in df14.Zip.value_counts().keys()}\n",
    "\n",
    "zipdiff_in14 = zip14 - zip10\n",
    "zipdiff_in10 = zip10 - zip14\n",
    "print()\n",
    "print(\"Zips in 2014, but not in 2010: \\n\", zipdiff_in14)\n",
    "print()\n",
    "print(\"Zips in 2010, but not in 2014: \\n\", zipdiff_in10)\n",
    "print()\n",
    "print(\"Number of new properties in the new 2014 zips: {}\".format(\n",
    "        df14[df14.Zip.isin(zipdiff_in14)].shape[0]))\n",
    "\n",
    "print(\"\\n\\n\")\n",
    "df10zipgrp = df14[df14.Zip.isin(zipdiff_in14)].groupby(\"Zip\")\n",
    "print(\"Distribution of new 2015 properties: \\n\\n{}\\n\".format(\n",
    "        df10zipgrp.size().order(ascending=False).to_string()))\n",
    "\n",
    "print(\"Zip 11249? It's zipster-land: https://goo.gl/maps/E8bwJ\")\n",
    "\n",
    "# mem dealloc...\n",
    "del df10zipgrp\n",
    "del zipdiff_in10\n",
    "del zipdiff_in14"
   ]
  },
  {
   "cell_type": "markdown",
   "metadata": {
    "collapsed": true
   },
   "source": [
    "---\n",
    "## ===> New Query:\n",
    "\n",
    "###Learn about Pandas' DataFrame.unstack() feature.<br><br>Group dataframe by zip codes.<br>Then create square-ft buckets in 1000.ft increments.<br>[ (0-999), (1k-2k), (2k-3k), ... )<br>Then figure out mean, max, ... prop. values for the various sq.ft buckets in each zip code.\n",
    "\n",
    "***Note: this cell creates the (zip, sq.ft) groupings. The next cell uses them to do some queries.***"
   ]
  },
  {
   "cell_type": "code",
   "execution_count": 49,
   "metadata": {
    "collapsed": false,
    "scrolled": true
   },
   "outputs": [
    {
     "name": "stdout",
     "output_type": "stream",
     "text": [
      "****************************************\n",
      "***** Sq.Ft analysis for year 2010 *****\n",
      "\n",
      "\n",
      "Reminder: total number or properties in dataset: 1,060,512\n",
      "Unique Sq.Ft values: 18,708\n",
      "\n",
      "\n",
      "Drop unreasonably low/high square footage values (0, incorrect, unrepresentative)\n",
      "Explore quantiles (e.g. find first (> 500) and (< 12k) sqft) properties.\n",
      "...Looking for lower quantile value -> @ quant=0.1, sq.ft=0.0\n",
      "...Looking for lower quantile value -> @ quant=0.11, sq.ft=0.0\n",
      "...Looking for lower quantile value -> @ quant=0.12, sq.ft=0.0\n",
      "...Looking for lower quantile value -> @ quant=0.13, sq.ft=0.0\n",
      "...Looking for lower quantile value -> @ quant=0.14, sq.ft=0.0\n",
      "...Looking for lower quantile value -> @ quant=0.15, sq.ft=640.0\n",
      "-> Found lower quantile value: 0.16 -> sq.ft=640.0\n",
      "\n",
      "...Looking for upper quantile value -> @ quant=0.99, sq.ft=29587.80000000028\n",
      "...Looking for upper quantile value -> @ quant=0.98, sq.ft=20000.0\n",
      "...Looking for upper quantile value -> @ quant=0.97, sq.ft=15000.0\n",
      "...Looking for upper quantile value -> @ quant=0.96, sq.ft=12100.0\n",
      "...Looking for upper quantile value -> @ quant=0.95, sq.ft=10200.0\n",
      "-> Found upper quantile value: 0.94 -> sq.ft=10200.0\n",
      "\n",
      "Use the (0.16 -> 0.94) range. Create subset dataframe with just these rows\n",
      "\n",
      "Comparison of number of rows in full vs. f(sqft reduced) datasets\n",
      "Num rows: full: 1,060,512 vs. drop sq.ft tails: 827,537\n",
      "\n",
      "Add a column that classifies each property's sq.ftage into a more coarse per-1000 SqFt bucket.\n",
      "Overall dataset has 11 sq.ft/1000s buckets\n",
      "\n",
      "Visualize where these sq. ft buckets lie (see histogram at the bottom of the cell)\n",
      "\n",
      "And now, create some groups that contain the median/max assessed values\n",
      "for each per-zip, per-1000 sq.ft bucket. We'll use these groupings in the next cells.\n",
      "\n",
      "\n",
      "\n",
      "\n",
      "****************************************\n",
      "***** Sq.Ft analysis for year 2014 *****\n",
      "\n",
      "\n",
      "Reminder: total number or properties in dataset: 1,088,350\n",
      "Unique Sq.Ft values: 18,764\n",
      "\n",
      "\n",
      "Drop unreasonably low/high square footage values (0, incorrect, unrepresentative)\n",
      "Explore quantiles (e.g. find first (> 500) and (< 12k) sqft) properties.\n",
      "...Looking for lower quantile value -> @ quant=0.1, sq.ft=0.0\n",
      "...Looking for lower quantile value -> @ quant=0.11, sq.ft=0.0\n",
      "...Looking for lower quantile value -> @ quant=0.12, sq.ft=0.0\n",
      "...Looking for lower quantile value -> @ quant=0.13, sq.ft=0.0\n",
      "...Looking for lower quantile value -> @ quant=0.14, sq.ft=0.0\n",
      "...Looking for lower quantile value -> @ quant=0.15, sq.ft=0.0\n",
      "...Looking for lower quantile value -> @ quant=0.16, sq.ft=160.0\n",
      "...Looking for lower quantile value -> @ quant=0.17, sq.ft=861.0\n",
      "-> Found lower quantile value: 0.18 -> sq.ft=861.0\n",
      "\n",
      "...Looking for upper quantile value -> @ quant=0.99, sq.ft=29850.0\n",
      "...Looking for upper quantile value -> @ quant=0.98, sq.ft=20000.0\n",
      "...Looking for upper quantile value -> @ quant=0.97, sq.ft=15481.0\n",
      "...Looking for upper quantile value -> @ quant=0.96, sq.ft=12600.0\n",
      "...Looking for upper quantile value -> @ quant=0.95, sq.ft=10540.0\n",
      "-> Found upper quantile value: 0.94 -> sq.ft=10540.0\n",
      "\n",
      "Use the (0.18 -> 0.94) range. Create subset dataframe with just these rows\n",
      "\n",
      "Comparison of number of rows in full vs. f(sqft reduced) datasets\n",
      "Num rows: full: 1,088,350 vs. drop sq.ft tails: 827,165\n",
      "\n",
      "Add a column that classifies each property's sq.ftage into a more coarse per-1000 SqFt bucket.\n",
      "Overall dataset has 11 sq.ft/1000s buckets\n",
      "\n",
      "Visualize where these sq. ft buckets lie (see histogram at the bottom of the cell)\n",
      "\n",
      "And now, create some groups that contain the median/max assessed values\n",
      "for each per-zip, per-1000 sq.ft bucket. We'll use these groupings in the next cells.\n",
      "\n",
      "\n",
      "\n",
      "\n"
     ]
    },
    {
     "name": "stderr",
     "output_type": "stream",
     "text": [
      "/home/jds/.pyvenvs/liveresume/lib/python3.4/site-packages/IPython/kernel/__main__.py:54: SettingWithCopyWarning: \n",
      "A value is trying to be set on a copy of a slice from a DataFrame.\n",
      "Try using .loc[row_indexer,col_indexer] = value instead\n",
      "\n",
      "See the the caveats in the documentation: http://pandas.pydata.org/pandas-docs/stable/indexing.html#indexing-view-versus-copy\n"
     ]
    },
    {
     "data": {
      "image/png": "[encoded data removed]",
      "text/plain": [
       "<matplotlib.figure.Figure at 0x7fc95c700908>"
      ]
     },
     "metadata": {},
     "output_type": "display_data"
    },
    {
     "data": {
      "image/png": "[encoded data removed]",
      "text/plain": [
       "<matplotlib.figure.Figure at 0x7fc95c38a828>"
      ]
     },
     "metadata": {},
     "output_type": "display_data"
    }
   ],
   "source": [
    "for dfinfo in _subdfs():\n",
    "    print(\"*\"*40)\n",
    "    print(\"***** Sq.Ft analysis for year {} *****\".format(dfinfo.year))\n",
    "    print(\"\\n\")\n",
    "\n",
    "    df = dfinfo.dfsub\n",
    "    print(\"Reminder: total number or properties in dataset: {:,}\".format(df.shape[0]))\n",
    "    print(\"Unique Sq.Ft values: {:,}\".format(len(df.SquareFt.unique())))\n",
    "\n",
    "\n",
    "    ##### start of finding lower/upper bounds\n",
    "    print(\"\\n\")\n",
    "    print(\"Drop unreasonably low/high square footage values (0, incorrect, unrepresentative)\")\n",
    "    print(\"Explore quantiles (e.g. find first (> 500) and (< 12k) sqft) properties.\")\n",
    "    MIN_TARGET_SQFT, MAX_TARGET_SQFT = (500, 12000)\n",
    "    QUANTILE_DELTA_STEP = 0.01\n",
    "\n",
    "    # find min/lower bound quantile value \n",
    "    min_sq_ft = 0.10\n",
    "    current_sq_ft = df.SquareFt.quantile(min_sq_ft)\n",
    "    while current_sq_ft < MIN_TARGET_SQFT:\n",
    "        min_sq_ft += QUANTILE_DELTA_STEP\n",
    "        current_sq_ft = df.SquareFt.quantile(min_sq_ft)\n",
    "        print(\"...Looking for lower quantile value -> @ quant={:.2}, sq.ft={}\".format(\n",
    "            min_sq_ft-QUANTILE_DELTA_STEP, current_sq_ft))\n",
    "    print(\"-> Found lower quantile value: {:.2} -> sq.ft={}\\n\".format(\n",
    "        min_sq_ft, current_sq_ft))\n",
    "\n",
    "    # find max/upper bound quantile value \n",
    "    max_sq_ft = 0.99\n",
    "    current_sq_ft = df.SquareFt.quantile(max_sq_ft)\n",
    "    while current_sq_ft > MAX_TARGET_SQFT:\n",
    "        max_sq_ft -= QUANTILE_DELTA_STEP\n",
    "        current_sq_ft = df.SquareFt.quantile(max_sq_ft)\n",
    "        print(\"...Looking for upper quantile value -> @ quant={:.2}, sq.ft={}\".format(\n",
    "            max_sq_ft+QUANTILE_DELTA_STEP, current_sq_ft))\n",
    "    print(\"-> Found upper quantile value: {:.2} -> sq.ft={}\\n\".format(\n",
    "        max_sq_ft, current_sq_ft))\n",
    "\n",
    "    print(\"Use the ({:.2} -> {:.2}) range. Create subset dataframe with just these rows\".format(\n",
    "        min_sq_ft, max_sq_ft))\n",
    "    \n",
    "    df_sqft = df[(df.SquareFt >= df.SquareFt.quantile(min_sq_ft)) &\n",
    "                 (df.SquareFt <= df.SquareFt.quantile(max_sq_ft))]\n",
    "\n",
    "    print()\n",
    "    print(\"Comparison of number of rows in full vs. f(sqft reduced) datasets\")\n",
    "    print(\"Num rows: full: {:,} vs. drop sq.ft tails: {:,}\".format(\n",
    "        df.SquareFt.shape[0], df_sqft.SquareFt.shape[0]))\n",
    "\n",
    "\n",
    "    print()\n",
    "    print(\"Add a column that classifies each property's sq.ftage into a more coarse per-1000 SqFt bucket.\")\n",
    "    df_sqft[\"sf1000\"] = (df_sqft.SquareFt // 1000 * 1000)\n",
    "    print(\"Overall dataset has {} sq.ft/1000s buckets\".format(\n",
    "        len(df_sqft.sf1000.unique())))\n",
    "\n",
    "\n",
    "    print()\n",
    "    print(\"Visualize where these sq. ft buckets lie (see histogram at the bottom of the cell)\")\n",
    "    from matplotlib import pyplot as plt\n",
    "    fig = plt.figure()\n",
    "    #ax = df_sqft.sf1000.hist(bins=15)\n",
    "    ax = df_sqft.SquareFt.hist(bins=15)\n",
    "    ax.set_title(\"{} histogram distr for num of props per sq.ft buckets\".format(\n",
    "        dfinfo.year))\n",
    "    \n",
    "    ### yeah, finally get to learn about and use the \"unstack\"\n",
    "    ### see examples in subsequent cells\n",
    "    print()\n",
    "    print(\"And now, create some groups that contain the median/max assessed values\\n\"\n",
    "          \"for each per-zip, per-1000 sq.ft bucket. We'll use these groupings in the next cells.\")\n",
    "    dfgrp_sqf_median = df_sqft.groupby([\"Zip\", \"sf1000\"]).median()[[\"Full Value\"]].unstack(\"sf1000\")\n",
    "    dfgrp_sqf_max = df_sqft.groupby([\"Zip\", \"sf1000\"]).max()[[\"Full Value\"]].unstack(\"sf1000\")\n",
    "    \n",
    "    # save them in the global datasets info\n",
    "    datasets_info[dfinfo.year][\"dfgrp_sqf_median\"] = dfgrp_sqf_median\n",
    "    datasets_info[dfinfo.year][\"dfgrp_sqf_max\"] = dfgrp_sqf_max\n",
    "\n",
    "    \n",
    "    # indicate non-further use of references to large blocks of mem\n",
    "    del df\n",
    "    del df_sqft\n",
    "    del dfgrp_sqf_max\n",
    "    del dfgrp_sqf_median\n",
    "    \n",
    "    print(\"\\n\"*3)"
   ]
  },
  {
   "cell_type": "markdown",
   "metadata": {},
   "source": [
    "### Ok, now let's make use of the \"unstacked\" data;<br>Do some queries with the median and max property groupings per (zip, sq-ft) extracted above."
   ]
  },
  {
   "cell_type": "code",
   "execution_count": 50,
   "metadata": {
    "collapsed": false
   },
   "outputs": [],
   "source": [
    "# short cuts: 2010 max and mean groupby dataframes\n",
    "df10grp_sqf_max = datasets_info[2010][\"dfgrp_sqf_max\"]\n",
    "df10grp_sqf_median = datasets_info[2010][\"dfgrp_sqf_median\"]\n",
    "\n",
    "# 2014\n",
    "df14grp_sqf_max = datasets_info[2014][\"dfgrp_sqf_max\"]\n",
    "df14grp_sqf_median = datasets_info[2014][\"dfgrp_sqf_median\"]"
   ]
  },
  {
   "cell_type": "markdown",
   "metadata": {},
   "source": [
    "### What does the unstacked table look like?<br>Zip code per row, sq.ft buckets per column."
   ]
  },
  {
   "cell_type": "code",
   "execution_count": 51,
   "metadata": {
    "collapsed": false
   },
   "outputs": [
    {
     "data": {
      "text/html": [
       "<div style=\"max-height:1000px;max-width:1500px;overflow:auto;\">\n",
       "<table border=\"1\" class=\"dataframe\">\n",
       "  <thead>\n",
       "    <tr>\n",
       "      <th></th>\n",
       "      <th colspan=\"11\" halign=\"left\">Full Value</th>\n",
       "    </tr>\n",
       "    <tr>\n",
       "      <th>sf1000</th>\n",
       "      <th>0</th>\n",
       "      <th>1000</th>\n",
       "      <th>2000</th>\n",
       "      <th>3000</th>\n",
       "      <th>4000</th>\n",
       "      <th>5000</th>\n",
       "      <th>6000</th>\n",
       "      <th>7000</th>\n",
       "      <th>8000</th>\n",
       "      <th>9000</th>\n",
       "      <th>10000</th>\n",
       "    </tr>\n",
       "    <tr>\n",
       "      <th>Zip</th>\n",
       "      <th></th>\n",
       "      <th></th>\n",
       "      <th></th>\n",
       "      <th></th>\n",
       "      <th></th>\n",
       "      <th></th>\n",
       "      <th></th>\n",
       "      <th></th>\n",
       "      <th></th>\n",
       "      <th></th>\n",
       "      <th></th>\n",
       "    </tr>\n",
       "  </thead>\n",
       "  <tbody>\n",
       "    <tr>\n",
       "      <th>10001</th>\n",
       "      <td>5980000</td>\n",
       "      <td>12479000</td>\n",
       "      <td>27165000</td>\n",
       "      <td>28690000</td>\n",
       "      <td>47844000</td>\n",
       "      <td>66944000</td>\n",
       "      <td>63366000</td>\n",
       "      <td>124513000</td>\n",
       "      <td>52491000</td>\n",
       "      <td>67270000</td>\n",
       "      <td>67106000</td>\n",
       "    </tr>\n",
       "    <tr>\n",
       "      <th>10002</th>\n",
       "      <td>3589000</td>\n",
       "      <td>6194000</td>\n",
       "      <td>11419000</td>\n",
       "      <td>7956000</td>\n",
       "      <td>9040000</td>\n",
       "      <td>34895000</td>\n",
       "      <td>16111868</td>\n",
       "      <td>24881000</td>\n",
       "      <td>11620000</td>\n",
       "      <td>7258000</td>\n",
       "      <td>6228000</td>\n",
       "    </tr>\n",
       "    <tr>\n",
       "      <th>10003</th>\n",
       "      <td>6301000</td>\n",
       "      <td>14157000</td>\n",
       "      <td>36100000</td>\n",
       "      <td>18561000</td>\n",
       "      <td>22980000</td>\n",
       "      <td>29212000</td>\n",
       "      <td>39470000</td>\n",
       "      <td>34457000</td>\n",
       "      <td>25339000</td>\n",
       "      <td>99965000</td>\n",
       "      <td>29395000</td>\n",
       "    </tr>\n",
       "    <tr>\n",
       "      <th>10004</th>\n",
       "      <td>1208000</td>\n",
       "      <td>4491000</td>\n",
       "      <td>11450000</td>\n",
       "      <td>6356000</td>\n",
       "      <td>5318549</td>\n",
       "      <td>NaN</td>\n",
       "      <td>5222000</td>\n",
       "      <td>14335000</td>\n",
       "      <td>57470000</td>\n",
       "      <td>0</td>\n",
       "      <td>40369000</td>\n",
       "    </tr>\n",
       "    <tr>\n",
       "      <th>10005</th>\n",
       "      <td>2687000</td>\n",
       "      <td>14100000</td>\n",
       "      <td>25989000</td>\n",
       "      <td>13422000</td>\n",
       "      <td>30233000</td>\n",
       "      <td>NaN</td>\n",
       "      <td>48347000</td>\n",
       "      <td>19259000</td>\n",
       "      <td>36554000</td>\n",
       "      <td>NaN</td>\n",
       "      <td>18848000</td>\n",
       "    </tr>\n",
       "  </tbody>\n",
       "</table>\n",
       "</div>"
      ],
      "text/plain": [
       "       Full Value                                                              \\\n",
       "sf1000      0         1000      2000      3000      4000      5000      6000    \n",
       "Zip                                                                             \n",
       "10001     5980000  12479000  27165000  28690000  47844000  66944000  63366000   \n",
       "10002     3589000   6194000  11419000   7956000   9040000  34895000  16111868   \n",
       "10003     6301000  14157000  36100000  18561000  22980000  29212000  39470000   \n",
       "10004     1208000   4491000  11450000   6356000   5318549       NaN   5222000   \n",
       "10005     2687000  14100000  25989000  13422000  30233000       NaN  48347000   \n",
       "\n",
       "                                                 \n",
       "sf1000      7000      8000      9000      10000  \n",
       "Zip                                              \n",
       "10001   124513000  52491000  67270000  67106000  \n",
       "10002    24881000  11620000   7258000   6228000  \n",
       "10003    34457000  25339000  99965000  29395000  \n",
       "10004    14335000  57470000         0  40369000  \n",
       "10005    19259000  36554000       NaN  18848000  "
      ]
     },
     "execution_count": 51,
     "metadata": {},
     "output_type": "execute_result"
    }
   ],
   "source": [
    "### the applymap formatting does not play well with github's rendering; KISS\n",
    "#df14grp_sqf_max.head().applymap(\"${:,.0f}\".format)\n",
    "df14grp_sqf_max.head()"
   ]
  },
  {
   "cell_type": "markdown",
   "metadata": {
    "collapsed": true
   },
   "source": [
    "---\n",
    "## ===> New Query:\n",
    "### Given a range of zip codes, display values per 1000 square-feet buckets<br>(since it's indexed by zip, easy to compare values per zip code)"
   ]
  },
  {
   "cell_type": "code",
   "execution_count": 52,
   "metadata": {
    "collapsed": false
   },
   "outputs": [
    {
     "data": {
      "text/html": [
       "<div style=\"max-height:1000px;max-width:1500px;overflow:auto;\">\n",
       "<table border=\"1\" class=\"dataframe\">\n",
       "  <thead>\n",
       "    <tr>\n",
       "      <th></th>\n",
       "      <th colspan=\"11\" halign=\"left\">Full Value</th>\n",
       "    </tr>\n",
       "    <tr>\n",
       "      <th>sf1000</th>\n",
       "      <th>0</th>\n",
       "      <th>1000</th>\n",
       "      <th>2000</th>\n",
       "      <th>3000</th>\n",
       "      <th>4000</th>\n",
       "      <th>5000</th>\n",
       "      <th>6000</th>\n",
       "      <th>7000</th>\n",
       "      <th>8000</th>\n",
       "      <th>9000</th>\n",
       "      <th>10000</th>\n",
       "    </tr>\n",
       "  </thead>\n",
       "  <tbody>\n",
       "    <tr>\n",
       "      <th>max - 11215</th>\n",
       "      <td>1436000</td>\n",
       "      <td>4689000</td>\n",
       "      <td>4990000</td>\n",
       "      <td>6215000</td>\n",
       "      <td>4305000</td>\n",
       "      <td>6380000</td>\n",
       "      <td>7885000</td>\n",
       "      <td>7940000</td>\n",
       "      <td>6044000</td>\n",
       "      <td>7810000</td>\n",
       "      <td>7755000</td>\n",
       "    </tr>\n",
       "    <tr>\n",
       "      <th>max - 11216</th>\n",
       "      <td>667000</td>\n",
       "      <td>1452000</td>\n",
       "      <td>4473000</td>\n",
       "      <td>3224000</td>\n",
       "      <td>2599000</td>\n",
       "      <td>2252000</td>\n",
       "      <td>6028000</td>\n",
       "      <td>16311000</td>\n",
       "      <td>13138000</td>\n",
       "      <td>6532000</td>\n",
       "      <td>2793000</td>\n",
       "    </tr>\n",
       "    <tr>\n",
       "      <th>max - 11217</th>\n",
       "      <td>1711000</td>\n",
       "      <td>4097000</td>\n",
       "      <td>3649000</td>\n",
       "      <td>3306000</td>\n",
       "      <td>4394000</td>\n",
       "      <td>4721000</td>\n",
       "      <td>6126000</td>\n",
       "      <td>5711000</td>\n",
       "      <td>10598000</td>\n",
       "      <td>19155000</td>\n",
       "      <td>5394000</td>\n",
       "    </tr>\n",
       "    <tr>\n",
       "      <th>median - 11215</th>\n",
       "      <td>583500</td>\n",
       "      <td>1140000</td>\n",
       "      <td>1245000</td>\n",
       "      <td>1146500</td>\n",
       "      <td>636000</td>\n",
       "      <td>52933</td>\n",
       "      <td>547670</td>\n",
       "      <td>95589</td>\n",
       "      <td>94166</td>\n",
       "      <td>1658000</td>\n",
       "      <td>1095000</td>\n",
       "    </tr>\n",
       "    <tr>\n",
       "      <th>median - 11216</th>\n",
       "      <td>421000</td>\n",
       "      <td>513000</td>\n",
       "      <td>588000</td>\n",
       "      <td>640000</td>\n",
       "      <td>464000</td>\n",
       "      <td>559000</td>\n",
       "      <td>613868</td>\n",
       "      <td>774500</td>\n",
       "      <td>1040000</td>\n",
       "      <td>934000</td>\n",
       "      <td>882500</td>\n",
       "    </tr>\n",
       "    <tr>\n",
       "      <th>median - 11217</th>\n",
       "      <td>793000</td>\n",
       "      <td>1241000</td>\n",
       "      <td>1412500</td>\n",
       "      <td>351702</td>\n",
       "      <td>436452</td>\n",
       "      <td>439630</td>\n",
       "      <td>215000</td>\n",
       "      <td>903839</td>\n",
       "      <td>1049257</td>\n",
       "      <td>1018355</td>\n",
       "      <td>870000</td>\n",
       "    </tr>\n",
       "  </tbody>\n",
       "</table>\n",
       "</div>"
      ],
      "text/plain": [
       "               Full Value                                               \\\n",
       "sf1000              0        1000     2000     3000     4000     5000    \n",
       "max - 11215       1436000  4689000  4990000  6215000  4305000  6380000   \n",
       "max - 11216        667000  1452000  4473000  3224000  2599000  2252000   \n",
       "max - 11217       1711000  4097000  3649000  3306000  4394000  4721000   \n",
       "median - 11215     583500  1140000  1245000  1146500   636000    52933   \n",
       "median - 11216     421000   513000   588000   640000   464000   559000   \n",
       "median - 11217     793000  1241000  1412500   351702   436452   439630   \n",
       "\n",
       "                                                                \n",
       "sf1000            6000      7000      8000      9000     10000  \n",
       "max - 11215     7885000   7940000   6044000   7810000  7755000  \n",
       "max - 11216     6028000  16311000  13138000   6532000  2793000  \n",
       "max - 11217     6126000   5711000  10598000  19155000  5394000  \n",
       "median - 11215   547670     95589     94166   1658000  1095000  \n",
       "median - 11216   613868    774500   1040000    934000   882500  \n",
       "median - 11217   215000    903839   1049257   1018355   870000  "
      ]
     },
     "execution_count": 52,
     "metadata": {},
     "output_type": "execute_result"
    }
   ],
   "source": [
    "# since it's indexed by zip, easy to compare values per zip code\n",
    "\n",
    "## Park Slope: concat median and max rows\n",
    "ps_zips = list(range(11215, 11218))\n",
    "\n",
    "concat_indices = [\"{} - {}\".format(op, zip)\n",
    "                  for op in [\"max\", \"median\"] \n",
    "                  for zip in ps_zips]\n",
    "\n",
    "concat_df = pd.concat([df14grp_sqf_max.ix[ps_zips], df14grp_sqf_median.ix[ps_zips]])\n",
    "concat_df.index = concat_indices\n",
    "\n",
    "### the applymap formatting does not play well with github's rendering; KISS\n",
    "#concat_df.applymap(\"${:,.0f}\".format)\n",
    "concat_df"
   ]
  },
  {
   "cell_type": "code",
   "execution_count": 53,
   "metadata": {
    "collapsed": false
   },
   "outputs": [
    {
     "data": {
      "text/html": [
       "<div style=\"max-height:1000px;max-width:1500px;overflow:auto;\">\n",
       "<table border=\"1\" class=\"dataframe\">\n",
       "  <thead>\n",
       "    <tr>\n",
       "      <th></th>\n",
       "      <th colspan=\"11\" halign=\"left\">Full Value</th>\n",
       "    </tr>\n",
       "    <tr>\n",
       "      <th>sf1000</th>\n",
       "      <th>0</th>\n",
       "      <th>1000</th>\n",
       "      <th>2000</th>\n",
       "      <th>3000</th>\n",
       "      <th>4000</th>\n",
       "      <th>5000</th>\n",
       "      <th>6000</th>\n",
       "      <th>7000</th>\n",
       "      <th>8000</th>\n",
       "      <th>9000</th>\n",
       "      <th>10000</th>\n",
       "    </tr>\n",
       "    <tr>\n",
       "      <th>Zip</th>\n",
       "      <th></th>\n",
       "      <th></th>\n",
       "      <th></th>\n",
       "      <th></th>\n",
       "      <th></th>\n",
       "      <th></th>\n",
       "      <th></th>\n",
       "      <th></th>\n",
       "      <th></th>\n",
       "      <th></th>\n",
       "      <th></th>\n",
       "    </tr>\n",
       "  </thead>\n",
       "  <tbody>\n",
       "    <tr>\n",
       "      <th>10022</th>\n",
       "      <td>5780000</td>\n",
       "      <td>23374000</td>\n",
       "      <td>52506000</td>\n",
       "      <td>40649000</td>\n",
       "      <td>46363000</td>\n",
       "      <td>374000000</td>\n",
       "      <td>75398000</td>\n",
       "      <td>85931000</td>\n",
       "      <td>109290000</td>\n",
       "      <td>96058000</td>\n",
       "      <td>69261000</td>\n",
       "    </tr>\n",
       "    <tr>\n",
       "      <th>10014</th>\n",
       "      <td>8722000</td>\n",
       "      <td>12700000</td>\n",
       "      <td>16564000</td>\n",
       "      <td>14510000</td>\n",
       "      <td>16324000</td>\n",
       "      <td>49577000</td>\n",
       "      <td>21731000</td>\n",
       "      <td>14477000</td>\n",
       "      <td>87125000</td>\n",
       "      <td>19582687</td>\n",
       "      <td>17871000</td>\n",
       "    </tr>\n",
       "    <tr>\n",
       "      <th>11215</th>\n",
       "      <td>1436000</td>\n",
       "      <td>4689000</td>\n",
       "      <td>4990000</td>\n",
       "      <td>6215000</td>\n",
       "      <td>4305000</td>\n",
       "      <td>6380000</td>\n",
       "      <td>7885000</td>\n",
       "      <td>7940000</td>\n",
       "      <td>6044000</td>\n",
       "      <td>7810000</td>\n",
       "      <td>7755000</td>\n",
       "    </tr>\n",
       "    <tr>\n",
       "      <th>10022</th>\n",
       "      <td>1746000</td>\n",
       "      <td>2302000</td>\n",
       "      <td>2450000</td>\n",
       "      <td>3041000</td>\n",
       "      <td>2510500</td>\n",
       "      <td>5802000</td>\n",
       "      <td>214621</td>\n",
       "      <td>157793</td>\n",
       "      <td>15106500</td>\n",
       "      <td>156481</td>\n",
       "      <td>11459000</td>\n",
       "    </tr>\n",
       "    <tr>\n",
       "      <th>10014</th>\n",
       "      <td>3325000</td>\n",
       "      <td>3681000</td>\n",
       "      <td>2135000</td>\n",
       "      <td>2715000</td>\n",
       "      <td>3052000</td>\n",
       "      <td>3713500</td>\n",
       "      <td>1187076</td>\n",
       "      <td>5939000</td>\n",
       "      <td>3050000</td>\n",
       "      <td>112714</td>\n",
       "      <td>4279000</td>\n",
       "    </tr>\n",
       "    <tr>\n",
       "      <th>11215</th>\n",
       "      <td>583500</td>\n",
       "      <td>1140000</td>\n",
       "      <td>1245000</td>\n",
       "      <td>1146500</td>\n",
       "      <td>636000</td>\n",
       "      <td>52933</td>\n",
       "      <td>547670</td>\n",
       "      <td>95589</td>\n",
       "      <td>94166</td>\n",
       "      <td>1658000</td>\n",
       "      <td>1095000</td>\n",
       "    </tr>\n",
       "  </tbody>\n",
       "</table>\n",
       "</div>"
      ],
      "text/plain": [
       "       Full Value                                                     \\\n",
       "sf1000      0         1000      2000      3000      4000       5000    \n",
       "Zip                                                                    \n",
       "10022     5780000  23374000  52506000  40649000  46363000  374000000   \n",
       "10014     8722000  12700000  16564000  14510000  16324000   49577000   \n",
       "11215     1436000   4689000   4990000   6215000   4305000    6380000   \n",
       "10022     1746000   2302000   2450000   3041000   2510500    5802000   \n",
       "10014     3325000   3681000   2135000   2715000   3052000    3713500   \n",
       "11215      583500   1140000   1245000   1146500    636000      52933   \n",
       "\n",
       "                                                           \n",
       "sf1000     6000      7000       8000      9000      10000  \n",
       "Zip                                                        \n",
       "10022   75398000  85931000  109290000  96058000  69261000  \n",
       "10014   21731000  14477000   87125000  19582687  17871000  \n",
       "11215    7885000   7940000    6044000   7810000   7755000  \n",
       "10022     214621    157793   15106500    156481  11459000  \n",
       "10014    1187076   5939000    3050000    112714   4279000  \n",
       "11215     547670     95589      94166   1658000   1095000  "
      ]
     },
     "execution_count": 53,
     "metadata": {},
     "output_type": "execute_result"
    }
   ],
   "source": [
    "# specific zips - top\n",
    "zips = [10022, 10014, 11215]\n",
    "\n",
    "### the applymap formatting does not play well with github's rendering; KISS\n",
    "#pd.concat([df14grp_sqf_max.ix[zips], df14grp_sqf_median.ix[zips]]).applymap(\"${:,.0f}\".format)\n",
    "pd.concat([df14grp_sqf_max.ix[zips], df14grp_sqf_median.ix[zips]])"
   ]
  },
  {
   "cell_type": "code",
   "execution_count": 54,
   "metadata": {
    "collapsed": false
   },
   "outputs": [
    {
     "data": {
      "text/plain": [
       "<matplotlib.legend.Legend at 0x7fc9aae040b8>"
      ]
     },
     "execution_count": 54,
     "metadata": {},
     "output_type": "execute_result"
    },
    {
     "data": {
      "image/png": "[encoded data removed]",
      "text/plain": [
       "<matplotlib.figure.Figure at 0x7fc9ab0229b0>"
      ]
     },
     "metadata": {},
     "output_type": "display_data"
    }
   ],
   "source": [
    "# high std dev\n",
    "df14grp_sqf_max.apply(np.mean).plot(rot=90, label=\"mean\")\n",
    "df14grp_sqf_max.apply(np.median).plot(rot=90, label=\"median\")\n",
    "\n",
    "plt.legend(loc=\"best\")"
   ]
  },
  {
   "cell_type": "code",
   "execution_count": 55,
   "metadata": {
    "collapsed": false
   },
   "outputs": [
    {
     "name": "stdout",
     "output_type": "stream",
     "text": [
      "**************************************** \n",
      "\n",
      "'min' value (city-wide) for each Sq.Ft x 1000s bucket:\n",
      "            sf1000\n",
      "Full Value  0           $6,000\n",
      "            1000      $418,000\n",
      "            2000       $85,000\n",
      "            3000      $437,000\n",
      "            4000      $173,224\n",
      "            5000      $458,000\n",
      "            6000      $231,075\n",
      "            7000            $0\n",
      "            8000      $404,000\n",
      "            9000            $0\n",
      "            10000     $450,000\n",
      "dtype: object\n",
      "\n",
      "**************************************** \n",
      "\n",
      "'max' value (city-wide) for each Sq.Ft x 1000s bucket:\n",
      "            sf1000\n",
      "Full Value  0           $9,429,000\n",
      "            1000      $176,422,000\n",
      "            2000      $317,379,000\n",
      "            3000       $86,741,000\n",
      "            4000      $310,000,000\n",
      "            5000      $374,000,000\n",
      "            6000      $145,830,533\n",
      "            7000      $124,513,000\n",
      "            8000      $115,555,555\n",
      "            9000      $105,498,000\n",
      "            10000     $277,777,777\n",
      "dtype: object\n",
      "\n",
      "**************************************** \n",
      "\n",
      "'mean' value (city-wide) for each Sq.Ft x 1000s bucket:\n",
      "            sf1000\n",
      "Full Value  0          $1,218,488\n",
      "            1000       $7,425,766\n",
      "            2000       $9,214,190\n",
      "            3000       $5,401,879\n",
      "            4000       $9,037,829\n",
      "            5000       $9,343,169\n",
      "            6000       $9,590,245\n",
      "            7000       $8,251,184\n",
      "            8000      $10,051,163\n",
      "            9000      $11,084,640\n",
      "            10000     $12,710,007\n",
      "dtype: object\n",
      "\n",
      "**************************************** \n",
      "\n",
      "'median' value (city-wide) for each Sq.Ft x 1000s bucket:\n",
      "            sf1000\n",
      "Full Value  0           $684,000\n",
      "            1000      $1,418,000\n",
      "            2000      $2,151,000\n",
      "            3000      $2,245,000\n",
      "            4000      $3,071,000\n",
      "            5000      $3,056,000\n",
      "            6000      $3,059,000\n",
      "            7000      $3,516,898\n",
      "            8000      $3,458,000\n",
      "            9000      $4,359,000\n",
      "            10000     $4,417,000\n",
      "dtype: object\n",
      "\n",
      "**************************************** \n",
      "\n",
      "'std' value (city-wide) for each Sq.Ft x 1000s bucket:\n",
      "            sf1000\n",
      "Full Value  0          $1,736,620\n",
      "            1000      $22,457,317\n",
      "            2000      $27,780,258\n",
      "            3000      $10,221,722\n",
      "            4000      $26,449,906\n",
      "            5000      $30,048,117\n",
      "            6000      $19,278,994\n",
      "            7000      $16,715,716\n",
      "            8000      $18,395,849\n",
      "            9000      $19,488,335\n",
      "            10000     $27,209,144\n",
      "dtype: object\n",
      "\n"
     ]
    }
   ],
   "source": [
    "# let's apply various stats to each col (1000's sq.ft bucket)\n",
    "ops = (min, max, np.mean, np.median, np.std)\n",
    "\n",
    "for op in ops:\n",
    "    print(40*\"*\", \"\\n\\n'{}' value (city-wide) for each Sq.Ft x 1000s bucket:\\n{}\\n\".\\\n",
    "          format(op.__name__, df14grp_sqf_max.apply(op).map(\"${:,.0f}\".format)))"
   ]
  },
  {
   "cell_type": "code",
   "execution_count": 56,
   "metadata": {
    "collapsed": true
   },
   "outputs": [],
   "source": [
    "# done with sq.ft scenarios; some mem dealloc cleanup...\n",
    "del df10grp_sqf_max\n",
    "del df14grp_sqf_max\n",
    "del df10grp_sqf_median\n",
    "del df14grp_sqf_median\n",
    "\n",
    "# Del one more reference to sqft data, from the per-year master datasets.\n",
    "for dset in datasets_info.values():\n",
    "    del dset[\"dfgrp_sqf_median\"]\n",
    "    del dset[\"dfgrp_sqf_max\"]"
   ]
  },
  {
   "cell_type": "markdown",
   "metadata": {},
   "source": [
    "#  !!!! work-in-progress below !!!!<br>!!!! work-in-progress below !!!!<br>!!!! work-in-progress below !!!!<br>"
   ]
  },
  {
   "cell_type": "code",
   "execution_count": null,
   "metadata": {
    "collapsed": true
   },
   "outputs": [],
   "source": []
  },
  {
   "cell_type": "code",
   "execution_count": null,
   "metadata": {
    "collapsed": true
   },
   "outputs": [],
   "source": []
  },
  {
   "cell_type": "markdown",
   "metadata": {
    "collapsed": true
   },
   "source": [
    "---\n",
    "## ===> New Query:\n",
    "### Given a zip code, top valued residential properties in each of its blocks."
   ]
  },
  {
   "cell_type": "code",
   "execution_count": null,
   "metadata": {
    "collapsed": true
   },
   "outputs": [],
   "source": []
  },
  {
   "cell_type": "markdown",
   "metadata": {
    "collapsed": true
   },
   "source": [
    "---\n",
    "## ===> New Query:\n",
    "### Majority owners of residential properties. Zip ranges, city-wide. "
   ]
  },
  {
   "cell_type": "code",
   "execution_count": null,
   "metadata": {
    "collapsed": true
   },
   "outputs": [],
   "source": []
  },
  {
   "cell_type": "markdown",
   "metadata": {
    "collapsed": true
   },
   "source": [
    "---\n",
    "## ===> New Query:\n",
    "### Top valued properties in city, zip-range, blocks within a zip code? "
   ]
  },
  {
   "cell_type": "code",
   "execution_count": null,
   "metadata": {
    "collapsed": true
   },
   "outputs": [],
   "source": []
  },
  {
   "cell_type": "markdown",
   "metadata": {
    "collapsed": true
   },
   "source": [
    "---\n",
    "## ===> New Query:\n",
    "###Property counts: zips with most/least residential properties."
   ]
  },
  {
   "cell_type": "code",
   "execution_count": null,
   "metadata": {
    "collapsed": true
   },
   "outputs": [],
   "source": []
  },
  {
   "cell_type": "markdown",
   "metadata": {
    "collapsed": true
   },
   "source": [
    "---\n",
    "## ===> New Query:\n",
    "###2010 vs. 2014: are there some obvious relocation patterns?<br>(e.g. group of residents in one zip-code moved \"together\" to a new/same area?)"
   ]
  },
  {
   "cell_type": "code",
   "execution_count": null,
   "metadata": {
    "collapsed": true
   },
   "outputs": [],
   "source": []
  },
  {
   "cell_type": "code",
   "execution_count": 58,
   "metadata": {
    "collapsed": false
   },
   "outputs": [],
   "source": [
    "####################### In progress: potential queries...\n",
    "\n",
    "#df14_ixzb.ix[11231, 464].plot(x=\"SquareFt\", y=\"Full Value\", kind=\"scatter\")\n",
    "\n",
    "\n",
    "#df10_res_1123x_grp_zb.apply(lambda df: df.sort_index(by=\"Full Value\", ascending=False)[:2])[[\"FullValueUX\", \"Owner\", \"Street Address\"]]\n",
    "\n",
    "\n",
    "#hzb_grp[\"Full Value\"].mean().plot(rot=90, style=\"x\")\n",
    "\n",
    "#df10_sqft1000s.groupby([\"Zip\", \"SquareFt\"]).median()[[\"Full Value\"]].unstack(\"SquareFt\").ix[11231].plot(rot=90)\n",
    "#df10_sqft1000s.groupby([\"Zip\", \"SquareFt\"]).median()[[\"Full Value\"]].unstack(\"SquareFt\").ix[11231].index\n",
    "\n",
    "#df10_sqft1000s.groupby([\"Zip\", \"SquareFt\"]).median()[[\"Full Value\"]].unstack(\"SquareFt\")[11230:11235]\n"
   ]
  },
  {
   "cell_type": "code",
   "execution_count": null,
   "metadata": {
    "collapsed": true
   },
   "outputs": [],
   "source": []
  },
  {
   "cell_type": "markdown",
   "metadata": {
    "collapsed": true
   },
   "source": [
    "# python client for enigma.io API - for now it just provides \"export\" support"
   ]
  },
  {
   "cell_type": "code",
   "execution_count": 59,
   "metadata": {
    "collapsed": false
   },
   "outputs": [
    {
     "name": "stdout",
     "output_type": "stream",
     "text": [
      "Please set your env var \"ENV_ENIGMA_APIKEY\"\n"
     ]
    },
    {
     "ename": "SystemExit",
     "evalue": "1",
     "output_type": "error",
     "traceback": [
      "An exception has occurred, use %tb to see the full traceback.\n",
      "\u001b[1;31mSystemExit\u001b[0m\u001b[1;31m:\u001b[0m 1\n"
     ]
    },
    {
     "name": "stderr",
     "output_type": "stream",
     "text": [
      "To exit: use 'exit', 'quit', or Ctrl-D.\n"
     ]
    }
   ],
   "source": [
    "#!/usr/bin/env python\n",
    "\n",
    "###########\n",
    "##\n",
    "##  Invoke like this:\n",
    "##     ENV_ENIGMA_APIKEY=xyz ./enigma_client.py us.states.ny.cities.nyc.property.assessment-valuation.avroll.2010\n",
    "##     \n",
    "##     (Note: The \"export\" request will keep on polling the file's URL location until\n",
    "##            it becomes available, or until the max number of poll retries is reached.\n",
    "##            Therefore, it's normal to see a sequence of polling msgs indicating that\n",
    "##            the file was still not available.)\n",
    "##     \n",
    "##########\n",
    "\n",
    "\n",
    "import os\n",
    "import sys\n",
    "import time\n",
    "import argparse\n",
    "import requests\n",
    "from requests import RequestException\n",
    "\n",
    "ARGPARSER = argparse.ArgumentParser()\n",
    "ARGPARSER.add_argument(\"datapath\")\n",
    "ARGPARSER.add_argument(\"-o\", \"--outfname\", dest=\"outfname\", required=False)\n",
    "\n",
    "\n",
    "class EnigmaClient:\n",
    "    ENIG_RETCODE_SUCCESS = 0\n",
    "    ENIG_RETCODE_TIMEOUT = 1\n",
    "    ENIG_RETCODE_ERROR   = 2\n",
    "\n",
    "    _QUERY_TEMPLATE = \"https://api.enigma.io/v2/{op}/{key}/{datapath}/{params}\"\n",
    "    _EXPORTAPI_MAX_SECS_TIMEOUT = 120\n",
    "    _EXPORTAPI_POLL_SECS_INTERVAL = 3\n",
    "    _EXPORTAPI_CHUNK_SIZE = 1024 * 64\n",
    "\n",
    "    def __init__(self, apikey):\n",
    "        self.apikey = apikey\n",
    "\n",
    "\n",
    "    # To do: allow multiple, parallel exports\n",
    "    #        (e.g. concurrent.futures.ThreadPoolExecutor)\n",
    "    def parallel_exports(self, datapaths, parameters=None,\n",
    "                         max_secs_timeout=None, outfnames=None):\n",
    "        ...\n",
    "\n",
    "                \n",
    "    # Tables are exported as Gzipped CSV files. \n",
    "    # \n",
    "    # Exports of large tables may take some time, so exports are processed\n",
    "    # asynchronously.\n",
    "    # \n",
    "    # When the export API is called, an export is queued and the API immediately\n",
    "    # returns a URL pointing to the future location of the exported file. Users\n",
    "    # should poll the URL until the file becomes available.\n",
    "    # \n",
    "    # Note: this is a synchronous call. Caller waits (up to max_secs_timeout)\n",
    "    #       until data is made available by Enigma backend, and then downloaded.\n",
    "    #       Caller should check err_code if the export fails.\n",
    "    # \n",
    "    # Returns one of: ENIG_RETCODE_SUCCESS, ENIG_RETCODE_TIMEOUT, ENIG_RETCODE_ERROR\n",
    "    # \n",
    "    def export(self, datapath, parameters=None,\n",
    "               max_secs_timeout=None, outfname=None):\n",
    "\n",
    "        query_str = self._QUERY_TEMPLATE.format(op=\"export\", key=self.apikey,\n",
    "                                                datapath=datapath, params=\"\")\n",
    "        # make a query, which sends back the URL that we'll have to poll\n",
    "        # until it eventually responds back with the gzipped csv file.\n",
    "        resp = requests.get(query_str)\n",
    "        resp_json = resp.json()\n",
    "        export_url = resp_json[\"export_url\"]\n",
    "\n",
    "        if not outfname:\n",
    "            # derive it from the URL\n",
    "            outfname = export_url[export_url.strip(\"/\").rfind(\"/\")+1:]\n",
    "            if \"?\" in outfname:\n",
    "                outfname = outfname[:outfname.rfind(\"?\")]\n",
    "\n",
    "        return self._download_file(export_url, outfname)\n",
    "        \n",
    "    def _download_file(self, export_url, outfname):\n",
    "        timeout_secs_remaining = self._EXPORTAPI_MAX_SECS_TIMEOUT\n",
    "        poll_time_interval = self._EXPORTAPI_POLL_SECS_INTERVAL\n",
    "\n",
    "        completed = False\n",
    "        print(\"About to attempt downloading export URL: {}\".format(export_url))\n",
    "        while (not completed) and (timeout_secs_remaining > 0):\n",
    "            print(\"\\n***Retries timeout remaining: {} secs\".format(timeout_secs_remaining))\n",
    "            try:\n",
    "                resp = requests.get(export_url, stream=True)\n",
    "                if resp.ok is True:\n",
    "                    print(\"\\nFile ready - writing to local storage.\")\n",
    "                    with open(outfname, 'wb') as fout:\n",
    "                        for chunk in resp.iter_content(\n",
    "                                chunk_size=self._EXPORTAPI_CHUNK_SIZE): \n",
    "                            if chunk: # filter out keep-alive new chunks\n",
    "                                fout.write(chunk)\n",
    "                                fout.flush()\n",
    "                    completed = True\n",
    "                else:\n",
    "                    print(\"File not ready yet - still polling.\"\n",
    "                          \"\\n  Response status_code: {} - Reason: {}\".format(\n",
    "                        resp.status_code, resp.reason))\n",
    "            except Exception as exc:\n",
    "                print(\"exc: {}\".format(exc))\n",
    "            finally:\n",
    "                if not completed:\n",
    "                    time.sleep(poll_time_interval)\n",
    "                    timeout_secs_remaining -= poll_time_interval\n",
    "\n",
    "        if completed is True:\n",
    "            return self.ENIG_RETCODE_SUCCESS\n",
    "        elif timeout_secs_remaining < 0:\n",
    "            return self.ENIG_RETCODE_TIMEOUT\n",
    "        else:\n",
    "            return self.ENIG_RETCODE_ERROR\n",
    "\n",
    "        \n",
    "def main(apikey, args):\n",
    "    client = EnigmaClient(apikey)\n",
    "    client.export(args.datapath, outfname=args.outfname)\n",
    "\n",
    "\n",
    "if __name__ == \"__main__\":\n",
    "    apikey = os.getenv(\"ENV_ENIGMA_APIKEY\")\n",
    "    if not apikey:\n",
    "        print('Please set your env var \"ENV_ENIGMA_APIKEY\"')\n",
    "        sys.exit(1)\n",
    "    \n",
    "    main(apikey, ARGPARSER.parse_args())\n"
   ]
  }
 ],
 "metadata": {
  "kernelspec": {
   "display_name": "Python 3",
   "language": "python",
   "name": "python3"
  },
  "language_info": {
   "codemirror_mode": {
    "name": "ipython",
    "version": 3
   },
   "file_extension": ".py",
   "mimetype": "text/x-python",
   "name": "python",
   "nbconvert_exporter": "python",
   "pygments_lexer": "ipython3",
   "version": "3.4.3"
  }
 },
 "nbformat": 4,
 "nbformat_minor": 0
}
