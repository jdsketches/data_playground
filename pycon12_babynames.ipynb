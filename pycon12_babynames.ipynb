{
 "cells": [
  {
   "cell_type": "markdown",
   "metadata": {},
   "source": [
    "\n",
    "#Following along McKinney's Pycon presentation:<br>\"Data analysis in Python with Pandas\"\n",
    "\n",
    "##Exploring baby names dataset (baby names in US: 1880-2009) <br>and births dataset (number of births for those years).\n",
    "\n",
    "### Learning about...\n",
    "   <ul>\n",
    "   <li>reading from a csv file into a DataFrame\n",
    "   <li>exploring the schema\n",
    "   <li>indices, MultiIndex\n",
    "   <li>set indices for faster access\n",
    "   <li>groupby()\n",
    "   <li>rank()\n",
    "   <li>dataframe joins\n",
    "   <li>apply() funcs on cols\n",
    "   <li>plotting\n",
    "   </ul>\n",
    "###https://www.youtube.com/watch?v=w26x-z-BdWQ\n"
   ]
  },
  {
   "cell_type": "code",
   "execution_count": 1,
   "metadata": {
    "collapsed": true
   },
   "outputs": [],
   "source": [
    "\n",
    "%matplotlib inline\n",
    "\n",
    "import matplotlib.pyplot as plt\n",
    "from pandas import *\n",
    "\n",
    "set_option('max_columns', 20)\n",
    "set_option('max_rows', 10)\n",
    "\n",
    "names = read_csv(\"baby-names2.csv\")"
   ]
  },
  {
   "cell_type": "markdown",
   "metadata": {},
   "source": [
    "## Explore schema a little..."
   ]
  },
  {
   "cell_type": "code",
   "execution_count": 2,
   "metadata": {
    "collapsed": false
   },
   "outputs": [
    {
     "data": {
      "text/html": [
       "<div style=\"max-height:1000px;max-width:1500px;overflow:auto;\">\n",
       "<table border=\"1\" class=\"dataframe\">\n",
       "  <thead>\n",
       "    <tr style=\"text-align: right;\">\n",
       "      <th></th>\n",
       "      <th>year</th>\n",
       "      <th>name</th>\n",
       "      <th>prop</th>\n",
       "      <th>sex</th>\n",
       "      <th>soundex</th>\n",
       "    </tr>\n",
       "  </thead>\n",
       "  <tbody>\n",
       "    <tr>\n",
       "      <th>0</th>\n",
       "      <td>1880</td>\n",
       "      <td>John</td>\n",
       "      <td>0.081541</td>\n",
       "      <td>boy</td>\n",
       "      <td>J500</td>\n",
       "    </tr>\n",
       "    <tr>\n",
       "      <th>1</th>\n",
       "      <td>1880</td>\n",
       "      <td>William</td>\n",
       "      <td>0.080511</td>\n",
       "      <td>boy</td>\n",
       "      <td>W450</td>\n",
       "    </tr>\n",
       "    <tr>\n",
       "      <th>2</th>\n",
       "      <td>1880</td>\n",
       "      <td>James</td>\n",
       "      <td>0.050057</td>\n",
       "      <td>boy</td>\n",
       "      <td>J520</td>\n",
       "    </tr>\n",
       "    <tr>\n",
       "      <th>3</th>\n",
       "      <td>1880</td>\n",
       "      <td>Charles</td>\n",
       "      <td>0.045167</td>\n",
       "      <td>boy</td>\n",
       "      <td>C642</td>\n",
       "    </tr>\n",
       "    <tr>\n",
       "      <th>4</th>\n",
       "      <td>1880</td>\n",
       "      <td>George</td>\n",
       "      <td>0.043292</td>\n",
       "      <td>boy</td>\n",
       "      <td>G620</td>\n",
       "    </tr>\n",
       "  </tbody>\n",
       "</table>\n",
       "</div>"
      ],
      "text/plain": [
       "   year     name      prop  sex soundex\n",
       "0  1880     John  0.081541  boy    J500\n",
       "1  1880  William  0.080511  boy    W450\n",
       "2  1880    James  0.050057  boy    J520\n",
       "3  1880  Charles  0.045167  boy    C642\n",
       "4  1880   George  0.043292  boy    G620"
      ]
     },
     "execution_count": 2,
     "metadata": {},
     "output_type": "execute_result"
    }
   ],
   "source": [
    "names.head()"
   ]
  },
  {
   "cell_type": "code",
   "execution_count": 3,
   "metadata": {
    "collapsed": false
   },
   "outputs": [
    {
     "name": "stdout",
     "output_type": "stream",
     "text": [
      "<class 'pandas.core.frame.DataFrame'>\n",
      "Int64Index: 258000 entries, 0 to 257999\n",
      "Data columns (total 5 columns):\n",
      "year       258000 non-null int64\n",
      "name       258000 non-null object\n",
      "prop       258000 non-null float64\n",
      "sex        258000 non-null object\n",
      "soundex    258000 non-null object\n",
      "dtypes: float64(1), int64(1), object(3)\n",
      "memory usage: 11.8+ MB\n"
     ]
    }
   ],
   "source": [
    "names.info()"
   ]
  },
  {
   "cell_type": "code",
   "execution_count": 4,
   "metadata": {
    "collapsed": false
   },
   "outputs": [
    {
     "data": {
      "text/html": [
       "<div style=\"max-height:1000px;max-width:1500px;overflow:auto;\">\n",
       "<table border=\"1\" class=\"dataframe\">\n",
       "  <thead>\n",
       "    <tr style=\"text-align: right;\">\n",
       "      <th></th>\n",
       "      <th>year</th>\n",
       "      <th>name</th>\n",
       "      <th>prop</th>\n",
       "      <th>sex</th>\n",
       "      <th>soundex</th>\n",
       "    </tr>\n",
       "  </thead>\n",
       "  <tbody>\n",
       "    <tr>\n",
       "      <th>0</th>\n",
       "      <td>1880</td>\n",
       "      <td>John</td>\n",
       "      <td>0.081541</td>\n",
       "      <td>boy</td>\n",
       "      <td>J500</td>\n",
       "    </tr>\n",
       "    <tr>\n",
       "      <th>1</th>\n",
       "      <td>1880</td>\n",
       "      <td>William</td>\n",
       "      <td>0.080511</td>\n",
       "      <td>boy</td>\n",
       "      <td>W450</td>\n",
       "    </tr>\n",
       "    <tr>\n",
       "      <th>2</th>\n",
       "      <td>1880</td>\n",
       "      <td>James</td>\n",
       "      <td>0.050057</td>\n",
       "      <td>boy</td>\n",
       "      <td>J520</td>\n",
       "    </tr>\n",
       "    <tr>\n",
       "      <th>3</th>\n",
       "      <td>1880</td>\n",
       "      <td>Charles</td>\n",
       "      <td>0.045167</td>\n",
       "      <td>boy</td>\n",
       "      <td>C642</td>\n",
       "    </tr>\n",
       "    <tr>\n",
       "      <th>4</th>\n",
       "      <td>1880</td>\n",
       "      <td>George</td>\n",
       "      <td>0.043292</td>\n",
       "      <td>boy</td>\n",
       "      <td>G620</td>\n",
       "    </tr>\n",
       "    <tr>\n",
       "      <th>...</th>\n",
       "      <td>...</td>\n",
       "      <td>...</td>\n",
       "      <td>...</td>\n",
       "      <td>...</td>\n",
       "      <td>...</td>\n",
       "    </tr>\n",
       "    <tr>\n",
       "      <th>129995</th>\n",
       "      <td>1880</td>\n",
       "      <td>Emaline</td>\n",
       "      <td>0.000041</td>\n",
       "      <td>girl</td>\n",
       "      <td>E545</td>\n",
       "    </tr>\n",
       "    <tr>\n",
       "      <th>129996</th>\n",
       "      <td>1880</td>\n",
       "      <td>Ester</td>\n",
       "      <td>0.000041</td>\n",
       "      <td>girl</td>\n",
       "      <td>E236</td>\n",
       "    </tr>\n",
       "    <tr>\n",
       "      <th>129997</th>\n",
       "      <td>1880</td>\n",
       "      <td>Eulah</td>\n",
       "      <td>0.000041</td>\n",
       "      <td>girl</td>\n",
       "      <td>E400</td>\n",
       "    </tr>\n",
       "    <tr>\n",
       "      <th>129998</th>\n",
       "      <td>1880</td>\n",
       "      <td>Eulalie</td>\n",
       "      <td>0.000041</td>\n",
       "      <td>girl</td>\n",
       "      <td>E440</td>\n",
       "    </tr>\n",
       "    <tr>\n",
       "      <th>129999</th>\n",
       "      <td>1880</td>\n",
       "      <td>Euna</td>\n",
       "      <td>0.000041</td>\n",
       "      <td>girl</td>\n",
       "      <td>E500</td>\n",
       "    </tr>\n",
       "  </tbody>\n",
       "</table>\n",
       "<p>2000 rows × 5 columns</p>\n",
       "</div>"
      ],
      "text/plain": [
       "        year     name      prop   sex soundex\n",
       "0       1880     John  0.081541   boy    J500\n",
       "1       1880  William  0.080511   boy    W450\n",
       "2       1880    James  0.050057   boy    J520\n",
       "3       1880  Charles  0.045167   boy    C642\n",
       "4       1880   George  0.043292   boy    G620\n",
       "...      ...      ...       ...   ...     ...\n",
       "129995  1880  Emaline  0.000041  girl    E545\n",
       "129996  1880    Ester  0.000041  girl    E236\n",
       "129997  1880    Eulah  0.000041  girl    E400\n",
       "129998  1880  Eulalie  0.000041  girl    E440\n",
       "129999  1880     Euna  0.000041  girl    E500\n",
       "\n",
       "[2000 rows x 5 columns]"
      ]
     },
     "execution_count": 4,
     "metadata": {},
     "output_type": "execute_result"
    }
   ],
   "source": [
    "names[names.year == 1880]"
   ]
  },
  {
   "cell_type": "markdown",
   "metadata": {},
   "source": [
    "## Create sub-DataFrames for boys and girls (very 1880's type of partition).\n"
   ]
  },
  {
   "cell_type": "code",
   "execution_count": 5,
   "metadata": {
    "collapsed": false
   },
   "outputs": [
    {
     "data": {
      "text/plain": [
       "((129000, 5), (129000, 5))"
      ]
     },
     "execution_count": 5,
     "metadata": {},
     "output_type": "execute_result"
    }
   ],
   "source": [
    "\n",
    "boys = names[names.sex == \"boy\"]\n",
    "girls = names[names.sex == \"girl\"]\n",
    "\n",
    "boys.shape, girls.shape\n",
    "\n"
   ]
  },
  {
   "cell_type": "markdown",
   "metadata": {},
   "source": [
    "## Learn about groupby()"
   ]
  },
  {
   "cell_type": "code",
   "execution_count": 6,
   "metadata": {
    "collapsed": false
   },
   "outputs": [
    {
     "data": {
      "text/plain": [
       "year\n",
       "1880    1000\n",
       "1881    1000\n",
       "1882    1000\n",
       "1883    1000\n",
       "1884    1000\n",
       "        ... \n",
       "2004    1000\n",
       "2005    1000\n",
       "2006    1000\n",
       "2007    1000\n",
       "2008    1000\n",
       "dtype: int64"
      ]
     },
     "execution_count": 6,
     "metadata": {},
     "output_type": "execute_result"
    }
   ],
   "source": [
    "bg = boys.groupby('year')\n",
    "bg.size()\n"
   ]
  },
  {
   "cell_type": "markdown",
   "metadata": {},
   "source": [
    "## \"prop\" column: proportion of babies with a specific name, on a specific year"
   ]
  },
  {
   "cell_type": "code",
   "execution_count": 7,
   "metadata": {
    "collapsed": false
   },
   "outputs": [
    {
     "data": {
      "text/plain": [
       "name\n",
       "Kennard     0.000027\n",
       "Danniel     0.000027\n",
       "Deryl       0.000028\n",
       "Grayling    0.000028\n",
       "Michial     0.000028\n",
       "              ...   \n",
       "Charles     0.019521\n",
       "Robert      0.029625\n",
       "William     0.034182\n",
       "James       0.035465\n",
       "John        0.041082\n",
       "Name: prop, dtype: float64"
      ]
     },
     "execution_count": 7,
     "metadata": {},
     "output_type": "execute_result"
    }
   ],
   "source": [
    "# easy to operate other cols\n",
    "boys.groupby(\"name\")[\"prop\"].mean()\n",
    "boys.groupby(\"name\")[\"prop\"].mean().order()\n",
    "\n"
   ]
  },
  {
   "cell_type": "code",
   "execution_count": 8,
   "metadata": {
    "collapsed": false
   },
   "outputs": [
    {
     "data": {
      "text/plain": [
       "name        \n",
       "Aaden  count      1.000000\n",
       "       mean       0.000442\n",
       "       std             NaN\n",
       "       min        0.000442\n",
       "       25%        0.000442\n",
       "       50%        0.000442\n",
       "       75%        0.000442\n",
       "       max        0.000442\n",
       "Aarav  count      1.000000\n",
       "       mean       0.000101\n",
       "       std             NaN\n",
       "       min        0.000101\n",
       "       25%        0.000101\n",
       "       50%        0.000101\n",
       "       75%        0.000101\n",
       "       max        0.000101\n",
       "Aaron  count    129.000000\n",
       "       mean       0.002266\n",
       "       std        0.002545\n",
       "       min        0.000351\n",
       "dtype: float64"
      ]
     },
     "execution_count": 8,
     "metadata": {},
     "output_type": "execute_result"
    }
   ],
   "source": [
    "# describe(), a Series op, very useful, concise way to look at summary stats, for each group!\n",
    "\n",
    "result = boys.groupby(\"name\")[\"prop\"].describe()\n",
    "set_option(\"display.max_rows\", 50)\n",
    "result[:20]\n"
   ]
  },
  {
   "cell_type": "markdown",
   "metadata": {},
   "source": [
    "## Hierarchical indexing."
   ]
  },
  {
   "cell_type": "code",
   "execution_count": 9,
   "metadata": {
    "collapsed": false
   },
   "outputs": [
    {
     "data": {
      "text/plain": [
       "year  sex \n",
       "1880  boy     1000\n",
       "      girl    1000\n",
       "1881  boy     1000\n",
       "      girl    1000\n",
       "1882  boy     1000\n",
       "      girl    1000\n",
       "1883  boy     1000\n",
       "      girl    1000\n",
       "1884  boy     1000\n",
       "      girl    1000\n",
       "              ... \n",
       "2004  boy     1000\n",
       "      girl    1000\n",
       "2005  boy     1000\n",
       "      girl    1000\n",
       "2006  boy     1000\n",
       "      girl    1000\n",
       "2007  boy     1000\n",
       "      girl    1000\n",
       "2008  boy     1000\n",
       "      girl    1000\n",
       "dtype: int64"
      ]
     },
     "execution_count": 9,
     "metadata": {},
     "output_type": "execute_result"
    }
   ],
   "source": [
    "hgrp1 = names.groupby([\"year\", \"sex\"])\n",
    "\n",
    "set_option(\"display.max_rows\", 20)\n",
    "\n",
    "hgrp1.size()\n",
    "\n"
   ]
  },
  {
   "cell_type": "markdown",
   "metadata": {},
   "source": [
    "## Most popular boy name in 2000.\n"
   ]
  },
  {
   "cell_type": "code",
   "execution_count": 10,
   "metadata": {
    "collapsed": false
   },
   "outputs": [
    {
     "data": {
      "text/html": [
       "<div style=\"max-height:1000px;max-width:1500px;overflow:auto;\">\n",
       "<table border=\"1\" class=\"dataframe\">\n",
       "  <thead>\n",
       "    <tr style=\"text-align: right;\">\n",
       "      <th></th>\n",
       "      <th>year</th>\n",
       "      <th>name</th>\n",
       "      <th>prop</th>\n",
       "      <th>sex</th>\n",
       "      <th>soundex</th>\n",
       "    </tr>\n",
       "  </thead>\n",
       "  <tbody>\n",
       "    <tr>\n",
       "      <th>120000</th>\n",
       "      <td>2000</td>\n",
       "      <td>Jacob</td>\n",
       "      <td>0.016514</td>\n",
       "      <td>boy</td>\n",
       "      <td>J210</td>\n",
       "    </tr>\n",
       "    <tr>\n",
       "      <th>120001</th>\n",
       "      <td>2000</td>\n",
       "      <td>Michael</td>\n",
       "      <td>0.015346</td>\n",
       "      <td>boy</td>\n",
       "      <td>M240</td>\n",
       "    </tr>\n",
       "    <tr>\n",
       "      <th>120002</th>\n",
       "      <td>2000</td>\n",
       "      <td>Matthew</td>\n",
       "      <td>0.013695</td>\n",
       "      <td>boy</td>\n",
       "      <td>M300</td>\n",
       "    </tr>\n",
       "    <tr>\n",
       "      <th>120003</th>\n",
       "      <td>2000</td>\n",
       "      <td>Joshua</td>\n",
       "      <td>0.013194</td>\n",
       "      <td>boy</td>\n",
       "      <td>J200</td>\n",
       "    </tr>\n",
       "    <tr>\n",
       "      <th>120004</th>\n",
       "      <td>2000</td>\n",
       "      <td>Christopher</td>\n",
       "      <td>0.011990</td>\n",
       "      <td>boy</td>\n",
       "      <td>C623</td>\n",
       "    </tr>\n",
       "    <tr>\n",
       "      <th>120005</th>\n",
       "      <td>2000</td>\n",
       "      <td>Nicholas</td>\n",
       "      <td>0.011815</td>\n",
       "      <td>boy</td>\n",
       "      <td>N242</td>\n",
       "    </tr>\n",
       "    <tr>\n",
       "      <th>120006</th>\n",
       "      <td>2000</td>\n",
       "      <td>Andrew</td>\n",
       "      <td>0.011324</td>\n",
       "      <td>boy</td>\n",
       "      <td>A536</td>\n",
       "    </tr>\n",
       "    <tr>\n",
       "      <th>120007</th>\n",
       "      <td>2000</td>\n",
       "      <td>Joseph</td>\n",
       "      <td>0.010930</td>\n",
       "      <td>boy</td>\n",
       "      <td>J210</td>\n",
       "    </tr>\n",
       "    <tr>\n",
       "      <th>120008</th>\n",
       "      <td>2000</td>\n",
       "      <td>Daniel</td>\n",
       "      <td>0.010681</td>\n",
       "      <td>boy</td>\n",
       "      <td>D540</td>\n",
       "    </tr>\n",
       "    <tr>\n",
       "      <th>120009</th>\n",
       "      <td>2000</td>\n",
       "      <td>Tyler</td>\n",
       "      <td>0.010305</td>\n",
       "      <td>boy</td>\n",
       "      <td>T460</td>\n",
       "    </tr>\n",
       "  </tbody>\n",
       "</table>\n",
       "</div>"
      ],
      "text/plain": [
       "        year         name      prop  sex soundex\n",
       "120000  2000        Jacob  0.016514  boy    J210\n",
       "120001  2000      Michael  0.015346  boy    M240\n",
       "120002  2000      Matthew  0.013695  boy    M300\n",
       "120003  2000       Joshua  0.013194  boy    J200\n",
       "120004  2000  Christopher  0.011990  boy    C623\n",
       "120005  2000     Nicholas  0.011815  boy    N242\n",
       "120006  2000       Andrew  0.011324  boy    A536\n",
       "120007  2000       Joseph  0.010930  boy    J210\n",
       "120008  2000       Daniel  0.010681  boy    D540\n",
       "120009  2000        Tyler  0.010305  boy    T460"
      ]
     },
     "execution_count": 10,
     "metadata": {},
     "output_type": "execute_result"
    }
   ],
   "source": [
    "boys[boys.year == 2000].sort_index(by=\"prop\", ascending=False)[:10]"
   ]
  },
  {
   "cell_type": "code",
   "execution_count": 11,
   "metadata": {
    "collapsed": false
   },
   "outputs": [
    {
     "data": {
      "text/html": [
       "<div style=\"max-height:1000px;max-width:1500px;overflow:auto;\">\n",
       "<table border=\"1\" class=\"dataframe\">\n",
       "  <thead>\n",
       "    <tr style=\"text-align: right;\">\n",
       "      <th></th>\n",
       "      <th>year</th>\n",
       "      <th>name</th>\n",
       "      <th>prop</th>\n",
       "      <th>sex</th>\n",
       "      <th>soundex</th>\n",
       "    </tr>\n",
       "  </thead>\n",
       "  <tbody>\n",
       "    <tr>\n",
       "      <th>120000</th>\n",
       "      <td>2000</td>\n",
       "      <td>Jacob</td>\n",
       "      <td>0.016514</td>\n",
       "      <td>boy</td>\n",
       "      <td>J210</td>\n",
       "    </tr>\n",
       "    <tr>\n",
       "      <th>120001</th>\n",
       "      <td>2000</td>\n",
       "      <td>Michael</td>\n",
       "      <td>0.015346</td>\n",
       "      <td>boy</td>\n",
       "      <td>M240</td>\n",
       "    </tr>\n",
       "    <tr>\n",
       "      <th>120002</th>\n",
       "      <td>2000</td>\n",
       "      <td>Matthew</td>\n",
       "      <td>0.013695</td>\n",
       "      <td>boy</td>\n",
       "      <td>M300</td>\n",
       "    </tr>\n",
       "    <tr>\n",
       "      <th>120003</th>\n",
       "      <td>2000</td>\n",
       "      <td>Joshua</td>\n",
       "      <td>0.013194</td>\n",
       "      <td>boy</td>\n",
       "      <td>J200</td>\n",
       "    </tr>\n",
       "    <tr>\n",
       "      <th>120004</th>\n",
       "      <td>2000</td>\n",
       "      <td>Christopher</td>\n",
       "      <td>0.011990</td>\n",
       "      <td>boy</td>\n",
       "      <td>C623</td>\n",
       "    </tr>\n",
       "    <tr>\n",
       "      <th>120005</th>\n",
       "      <td>2000</td>\n",
       "      <td>Nicholas</td>\n",
       "      <td>0.011815</td>\n",
       "      <td>boy</td>\n",
       "      <td>N242</td>\n",
       "    </tr>\n",
       "    <tr>\n",
       "      <th>120006</th>\n",
       "      <td>2000</td>\n",
       "      <td>Andrew</td>\n",
       "      <td>0.011324</td>\n",
       "      <td>boy</td>\n",
       "      <td>A536</td>\n",
       "    </tr>\n",
       "    <tr>\n",
       "      <th>120007</th>\n",
       "      <td>2000</td>\n",
       "      <td>Joseph</td>\n",
       "      <td>0.010930</td>\n",
       "      <td>boy</td>\n",
       "      <td>J210</td>\n",
       "    </tr>\n",
       "    <tr>\n",
       "      <th>120008</th>\n",
       "      <td>2000</td>\n",
       "      <td>Daniel</td>\n",
       "      <td>0.010681</td>\n",
       "      <td>boy</td>\n",
       "      <td>D540</td>\n",
       "    </tr>\n",
       "    <tr>\n",
       "      <th>120009</th>\n",
       "      <td>2000</td>\n",
       "      <td>Tyler</td>\n",
       "      <td>0.010305</td>\n",
       "      <td>boy</td>\n",
       "      <td>T460</td>\n",
       "    </tr>\n",
       "  </tbody>\n",
       "</table>\n",
       "</div>"
      ],
      "text/plain": [
       "        year         name      prop  sex soundex\n",
       "120000  2000        Jacob  0.016514  boy    J210\n",
       "120001  2000      Michael  0.015346  boy    M240\n",
       "120002  2000      Matthew  0.013695  boy    M300\n",
       "120003  2000       Joshua  0.013194  boy    J200\n",
       "120004  2000  Christopher  0.011990  boy    C623\n",
       "120005  2000     Nicholas  0.011815  boy    N242\n",
       "120006  2000       Andrew  0.011324  boy    A536\n",
       "120007  2000       Joseph  0.010930  boy    J210\n",
       "120008  2000       Daniel  0.010681  boy    D540\n",
       "120009  2000        Tyler  0.010305  boy    T460"
      ]
     },
     "execution_count": 11,
     "metadata": {},
     "output_type": "execute_result"
    }
   ],
   "source": [
    "# jds note: df.sort_index() == df.sort()\n",
    "\n",
    "boys[boys.year == 2000].sort(\"prop\", ascending=False)[:10]"
   ]
  },
  {
   "cell_type": "code",
   "execution_count": 12,
   "metadata": {
    "collapsed": false
   },
   "outputs": [
    {
     "name": "stdout",
     "output_type": "stream",
     "text": [
      "120000\n"
     ]
    },
    {
     "data": {
      "text/plain": [
       "year           2000\n",
       "name          Jacob\n",
       "prop       0.016514\n",
       "sex             boy\n",
       "soundex        J210\n",
       "Name: 120000, dtype: object"
      ]
     },
     "execution_count": 12,
     "metadata": {},
     "output_type": "execute_result"
    }
   ],
   "source": [
    "# idx of row w/ max prop\n",
    "max_ix = boys[boys.year == 2000].prop.idxmax()\n",
    "print(max_ix)\n",
    "boys.ix[max_ix]\n",
    "\n"
   ]
  },
  {
   "cell_type": "code",
   "execution_count": 13,
   "metadata": {
    "collapsed": false
   },
   "outputs": [
    {
     "data": {
      "text/plain": [
       "year           2000\n",
       "name          Jacob\n",
       "prop       0.016514\n",
       "sex             boy\n",
       "soundex        J210\n",
       "Name: 120000, dtype: object"
      ]
     },
     "execution_count": 13,
     "metadata": {},
     "output_type": "execute_result"
    }
   ],
   "source": [
    "# let's make the max extraction more generic...\n",
    "\n",
    "def get_max_record(group):\n",
    "    return group.ix[group.prop.idxmax()]\n",
    "\n",
    "grp_2k = boys[boys.year == 2000]\n",
    "get_max_record(grp_2k)\n"
   ]
  },
  {
   "cell_type": "code",
   "execution_count": 14,
   "metadata": {
    "collapsed": false
   },
   "outputs": [
    {
     "data": {
      "text/plain": [
       "year           1880\n",
       "name           John\n",
       "prop       0.081541\n",
       "sex             boy\n",
       "soundex        J500\n",
       "Name: 0, dtype: object"
      ]
     },
     "execution_count": 14,
     "metadata": {},
     "output_type": "execute_result"
    }
   ],
   "source": [
    "# year which had the highest prop name (1880, 80% of boys were named John)\n",
    "get_max_record(boys)\n"
   ]
  },
  {
   "cell_type": "code",
   "execution_count": 15,
   "metadata": {
    "collapsed": true
   },
   "outputs": [],
   "source": [
    "# and, each year...\n",
    "for yr in set(boys.year):\n",
    "    get_max_record(boys[boys.year == yr])\n",
    "    \n"
   ]
  },
  {
   "cell_type": "code",
   "execution_count": 16,
   "metadata": {
    "collapsed": false
   },
   "outputs": [
    {
     "data": {
      "text/html": [
       "<div style=\"max-height:1000px;max-width:1500px;overflow:auto;\">\n",
       "<table border=\"1\" class=\"dataframe\">\n",
       "  <thead>\n",
       "    <tr style=\"text-align: right;\">\n",
       "      <th></th>\n",
       "      <th>year</th>\n",
       "      <th>name</th>\n",
       "      <th>prop</th>\n",
       "      <th>sex</th>\n",
       "      <th>soundex</th>\n",
       "    </tr>\n",
       "    <tr>\n",
       "      <th>year</th>\n",
       "      <th></th>\n",
       "      <th></th>\n",
       "      <th></th>\n",
       "      <th></th>\n",
       "      <th></th>\n",
       "    </tr>\n",
       "  </thead>\n",
       "  <tbody>\n",
       "    <tr>\n",
       "      <th>1880</th>\n",
       "      <td>1880</td>\n",
       "      <td>John</td>\n",
       "      <td>0.081541</td>\n",
       "      <td>boy</td>\n",
       "      <td>J500</td>\n",
       "    </tr>\n",
       "    <tr>\n",
       "      <th>1881</th>\n",
       "      <td>1881</td>\n",
       "      <td>John</td>\n",
       "      <td>0.080975</td>\n",
       "      <td>boy</td>\n",
       "      <td>J500</td>\n",
       "    </tr>\n",
       "    <tr>\n",
       "      <th>1882</th>\n",
       "      <td>1882</td>\n",
       "      <td>John</td>\n",
       "      <td>0.078314</td>\n",
       "      <td>boy</td>\n",
       "      <td>J500</td>\n",
       "    </tr>\n",
       "    <tr>\n",
       "      <th>1883</th>\n",
       "      <td>1883</td>\n",
       "      <td>John</td>\n",
       "      <td>0.079066</td>\n",
       "      <td>boy</td>\n",
       "      <td>J500</td>\n",
       "    </tr>\n",
       "    <tr>\n",
       "      <th>1884</th>\n",
       "      <td>1884</td>\n",
       "      <td>John</td>\n",
       "      <td>0.076476</td>\n",
       "      <td>boy</td>\n",
       "      <td>J500</td>\n",
       "    </tr>\n",
       "    <tr>\n",
       "      <th>1885</th>\n",
       "      <td>1885</td>\n",
       "      <td>John</td>\n",
       "      <td>0.075517</td>\n",
       "      <td>boy</td>\n",
       "      <td>J500</td>\n",
       "    </tr>\n",
       "    <tr>\n",
       "      <th>1886</th>\n",
       "      <td>1886</td>\n",
       "      <td>John</td>\n",
       "      <td>0.075820</td>\n",
       "      <td>boy</td>\n",
       "      <td>J500</td>\n",
       "    </tr>\n",
       "    <tr>\n",
       "      <th>1887</th>\n",
       "      <td>1887</td>\n",
       "      <td>John</td>\n",
       "      <td>0.074181</td>\n",
       "      <td>boy</td>\n",
       "      <td>J500</td>\n",
       "    </tr>\n",
       "    <tr>\n",
       "      <th>1888</th>\n",
       "      <td>1888</td>\n",
       "      <td>John</td>\n",
       "      <td>0.071186</td>\n",
       "      <td>boy</td>\n",
       "      <td>J500</td>\n",
       "    </tr>\n",
       "    <tr>\n",
       "      <th>1889</th>\n",
       "      <td>1889</td>\n",
       "      <td>John</td>\n",
       "      <td>0.071804</td>\n",
       "      <td>boy</td>\n",
       "      <td>J500</td>\n",
       "    </tr>\n",
       "    <tr>\n",
       "      <th>...</th>\n",
       "      <td>...</td>\n",
       "      <td>...</td>\n",
       "      <td>...</td>\n",
       "      <td>...</td>\n",
       "      <td>...</td>\n",
       "    </tr>\n",
       "    <tr>\n",
       "      <th>1999</th>\n",
       "      <td>1999</td>\n",
       "      <td>Jacob</td>\n",
       "      <td>0.017346</td>\n",
       "      <td>boy</td>\n",
       "      <td>J210</td>\n",
       "    </tr>\n",
       "    <tr>\n",
       "      <th>2000</th>\n",
       "      <td>2000</td>\n",
       "      <td>Jacob</td>\n",
       "      <td>0.016514</td>\n",
       "      <td>boy</td>\n",
       "      <td>J210</td>\n",
       "    </tr>\n",
       "    <tr>\n",
       "      <th>2001</th>\n",
       "      <td>2001</td>\n",
       "      <td>Jacob</td>\n",
       "      <td>0.015734</td>\n",
       "      <td>boy</td>\n",
       "      <td>J210</td>\n",
       "    </tr>\n",
       "    <tr>\n",
       "      <th>2002</th>\n",
       "      <td>2002</td>\n",
       "      <td>Jacob</td>\n",
       "      <td>0.014792</td>\n",
       "      <td>boy</td>\n",
       "      <td>J210</td>\n",
       "    </tr>\n",
       "    <tr>\n",
       "      <th>2003</th>\n",
       "      <td>2003</td>\n",
       "      <td>Jacob</td>\n",
       "      <td>0.014104</td>\n",
       "      <td>boy</td>\n",
       "      <td>J210</td>\n",
       "    </tr>\n",
       "    <tr>\n",
       "      <th>2004</th>\n",
       "      <td>2004</td>\n",
       "      <td>Jacob</td>\n",
       "      <td>0.013196</td>\n",
       "      <td>boy</td>\n",
       "      <td>J210</td>\n",
       "    </tr>\n",
       "    <tr>\n",
       "      <th>2005</th>\n",
       "      <td>2005</td>\n",
       "      <td>Jacob</td>\n",
       "      <td>0.012148</td>\n",
       "      <td>boy</td>\n",
       "      <td>J210</td>\n",
       "    </tr>\n",
       "    <tr>\n",
       "      <th>2006</th>\n",
       "      <td>2006</td>\n",
       "      <td>Jacob</td>\n",
       "      <td>0.011331</td>\n",
       "      <td>boy</td>\n",
       "      <td>J210</td>\n",
       "    </tr>\n",
       "    <tr>\n",
       "      <th>2007</th>\n",
       "      <td>2007</td>\n",
       "      <td>Jacob</td>\n",
       "      <td>0.010948</td>\n",
       "      <td>boy</td>\n",
       "      <td>J210</td>\n",
       "    </tr>\n",
       "    <tr>\n",
       "      <th>2008</th>\n",
       "      <td>2008</td>\n",
       "      <td>Jacob</td>\n",
       "      <td>0.010355</td>\n",
       "      <td>boy</td>\n",
       "      <td>J210</td>\n",
       "    </tr>\n",
       "  </tbody>\n",
       "</table>\n",
       "<p>129 rows × 5 columns</p>\n",
       "</div>"
      ],
      "text/plain": [
       "      year   name      prop  sex soundex\n",
       "year                                    \n",
       "1880  1880   John  0.081541  boy    J500\n",
       "1881  1881   John  0.080975  boy    J500\n",
       "1882  1882   John  0.078314  boy    J500\n",
       "1883  1883   John  0.079066  boy    J500\n",
       "1884  1884   John  0.076476  boy    J500\n",
       "1885  1885   John  0.075517  boy    J500\n",
       "1886  1886   John  0.075820  boy    J500\n",
       "1887  1887   John  0.074181  boy    J500\n",
       "1888  1888   John  0.071186  boy    J500\n",
       "1889  1889   John  0.071804  boy    J500\n",
       "...    ...    ...       ...  ...     ...\n",
       "1999  1999  Jacob  0.017346  boy    J210\n",
       "2000  2000  Jacob  0.016514  boy    J210\n",
       "2001  2001  Jacob  0.015734  boy    J210\n",
       "2002  2002  Jacob  0.014792  boy    J210\n",
       "2003  2003  Jacob  0.014104  boy    J210\n",
       "2004  2004  Jacob  0.013196  boy    J210\n",
       "2005  2005  Jacob  0.012148  boy    J210\n",
       "2006  2006  Jacob  0.011331  boy    J210\n",
       "2007  2007  Jacob  0.010948  boy    J210\n",
       "2008  2008  Jacob  0.010355  boy    J210\n",
       "\n",
       "[129 rows x 5 columns]"
      ]
     },
     "execution_count": 16,
     "metadata": {},
     "output_type": "execute_result"
    }
   ],
   "source": [
    "# or, much simpler...\n",
    "set_option(\"display.max_rows\", 20)\n",
    "result = boys.groupby(\"year\").apply(get_max_record)\n",
    "\n",
    "result"
   ]
  },
  {
   "cell_type": "code",
   "execution_count": 17,
   "metadata": {
    "collapsed": false
   },
   "outputs": [
    {
     "data": {
      "text/plain": [
       "<matplotlib.axes._subplots.AxesSubplot at 0x7fc124609ac8>"
      ]
     },
     "execution_count": 17,
     "metadata": {},
     "output_type": "execute_result"
    },
    {
     "data": {
      "image/png": "[encoded data removed]",
      "text/plain": [
       "<matplotlib.figure.Figure at 0x7fc1245f3588>"
      ]
     },
     "metadata": {},
     "output_type": "display_data"
    }
   ],
   "source": [
    "set_option(\"display.max_rows\", 12)\n",
    "\n",
    "# notice how the proportionality of most popular names goes down as time goes by\n",
    "result.prop\n",
    "result.prop.plot()\n",
    "\n",
    "\n"
   ]
  },
  {
   "cell_type": "code",
   "execution_count": 18,
   "metadata": {
    "collapsed": false
   },
   "outputs": [
    {
     "data": {
      "text/plain": [
       "<matplotlib.axes._subplots.AxesSubplot at 0x7fc1235e8828>"
      ]
     },
     "execution_count": 18,
     "metadata": {},
     "output_type": "execute_result"
    },
    {
     "data": {
      "image/png": "[encoded data removed]",
      "text/plain": [
       "<matplotlib.figure.Figure at 0x7fc1245f30b8>"
      ]
     },
     "metadata": {},
     "output_type": "display_data"
    }
   ],
   "source": [
    "# back to global boys dataset; remember, each year a name appears only once\n",
    "# (with its prop for that year)\n",
    "\n",
    "boys[:10]\n",
    "\n",
    "# how has Juan done...?\n",
    "boys[boys.name == 'Juan'].prop\n",
    "boys[boys.name == 'Juan'].prop.plot()\n"
   ]
  },
  {
   "cell_type": "markdown",
   "metadata": {},
   "source": [
    "## Learn about set_index()"
   ]
  },
  {
   "cell_type": "code",
   "execution_count": 19,
   "metadata": {
    "collapsed": false
   },
   "outputs": [
    {
     "data": {
      "text/plain": [
       "<matplotlib.axes._subplots.AxesSubplot at 0x7fc12356bcc0>"
      ]
     },
     "execution_count": 19,
     "metadata": {},
     "output_type": "execute_result"
    },
    {
     "data": {
      "image/png": "[encoded data removed]",
      "text/plain": [
       "<matplotlib.figure.Figure at 0x7fc12357a5f8>"
      ]
     },
     "metadata": {},
     "output_type": "display_data"
    }
   ],
   "source": [
    "# but the above can be slow w/ large datasets\n",
    "# better, faster way -> take cols of interest and make them an index\n",
    "\n",
    "ny_indexed_df = boys.set_index([\"name\", \"year\"])\n",
    "#yn_indexed_df = boys.set_index([\"year\", \"name\"])\n",
    "\n",
    "# now you can use them as indices...\n",
    "ny_indexed_df.ix[\"Juan\", 2002]\n",
    "ny_indexed_df.ix[\"Cassius\"].prop.plot()\n",
    "\n"
   ]
  },
  {
   "cell_type": "markdown",
   "metadata": {},
   "source": [
    "## Perform aggregate ops on columns..."
   ]
  },
  {
   "cell_type": "code",
   "execution_count": 20,
   "metadata": {
    "collapsed": false
   },
   "outputs": [
    {
     "data": {
      "text/plain": [
       "<matplotlib.axes._subplots.AxesSubplot at 0x7fc122cb3f98>"
      ]
     },
     "execution_count": 20,
     "metadata": {},
     "output_type": "execute_result"
    },
    {
     "data": {
      "image/png": "[encoded data removed]",
      "text/plain": [
       "<matplotlib.figure.Figure at 0x7fc122cba828>"
      ]
     },
     "metadata": {},
     "output_type": "display_data"
    }
   ],
   "source": [
    "set_option('display.max_rows', 10)\n",
    "\n",
    "boys[boys.year == 2008]\n",
    "\n",
    "# use prop as the index to sort (descending order)\n",
    "df = boys[boys.year == 2008].sort_index(by=\"prop\", ascending=False)\n",
    "\n",
    "# perform ops on cols\n",
    "# (in 2008, the top 1000 names represent the 79% of all boys' names)\n",
    "df.prop.cumsum()\n",
    "df.prop.cumsum().plot()\n"
   ]
  },
  {
   "cell_type": "code",
   "execution_count": 21,
   "metadata": {
    "collapsed": false
   },
   "outputs": [
    {
     "data": {
      "text/plain": [
       "<matplotlib.axes._subplots.AxesSubplot at 0x7fc122c06668>"
      ]
     },
     "execution_count": 21,
     "metadata": {},
     "output_type": "execute_result"
    },
    {
     "data": {
      "image/png": "[encoded data removed]",
      "text/plain": [
       "<matplotlib.figure.Figure at 0x7fc122c42a20>"
      ]
     },
     "metadata": {},
     "output_type": "display_data"
    }
   ],
   "source": [
    "# at what point does the cumsum reach 50%?\n",
    "df.prop.cumsum().searchsorted(0.5)  # 127\n",
    "df.prop.cumsum()[:130].plot()"
   ]
  },
  {
   "cell_type": "code",
   "execution_count": 22,
   "metadata": {
    "collapsed": false
   },
   "outputs": [
    {
     "data": {
      "text/plain": [
       "array([15])"
      ]
     },
     "execution_count": 22,
     "metadata": {},
     "output_type": "execute_result"
    }
   ],
   "source": [
    "# so, in 2008, it took 127 names to reach 50% of the names\n",
    "# how about in 1880... -> 15! (much more consolidated) (Hi John, I'm John)\n",
    "boys[boys.year == 1880].sort_index(by=\"prop\", ascending=False).prop.cumsum().searchsorted(0.5)"
   ]
  },
  {
   "cell_type": "markdown",
   "metadata": {},
   "source": [
    "## Plot: for each year, how many names represented 50% of all names?\n",
    "### (hint: as time's gone by, we've become more... special and unique)"
   ]
  },
  {
   "cell_type": "code",
   "execution_count": 23,
   "metadata": {
    "collapsed": false
   },
   "outputs": [
    {
     "data": {
      "text/plain": [
       "<matplotlib.legend.Legend at 0x7fc122c2cf28>"
      ]
     },
     "execution_count": 23,
     "metadata": {},
     "output_type": "execute_result"
    },
    {
     "data": {
      "image/png": "[encoded data removed]",
      "text/plain": [
       "<matplotlib.figure.Figure at 0x7fc122c4b1d0>"
      ]
     },
     "metadata": {},
     "output_type": "display_data"
    }
   ],
   "source": [
    "# make it a little util...\n",
    "\n",
    "def get_quantile_count(group, quantile=0.5):\n",
    "    return group.sort_index(by=\"prop\", ascending=False).prop.cumsum().searchsorted(quantile)[0]\n",
    "\n",
    "#for yr in range(1880, 2009):\n",
    "#    print(yr, get_quantile_count(boys[boys.year == yr]))\n",
    "\n",
    "\n",
    "# or, simpler...#\n",
    "#boys.groupby(\"year\").apply(get_quantile_count)\n",
    "boys.groupby(\"year\").apply(get_quantile_count, 0.5).plot(label=\"boys\")\n",
    "girls.groupby(\"year\").apply(get_quantile_count, quantile=0.5).plot(color=\"pink\", label=\"girls\")\n",
    "\n",
    "plt.legend(loc=\"best\")\n"
   ]
  },
  {
   "cell_type": "markdown",
   "metadata": {},
   "source": [
    "## Learning about rank()"
   ]
  },
  {
   "cell_type": "code",
   "execution_count": 24,
   "metadata": {
    "collapsed": false
   },
   "outputs": [
    {
     "data": {
      "text/html": [
       "<div style=\"max-height:1000px;max-width:1500px;overflow:auto;\">\n",
       "<table border=\"1\" class=\"dataframe\">\n",
       "  <thead>\n",
       "    <tr style=\"text-align: right;\">\n",
       "      <th></th>\n",
       "      <th>year</th>\n",
       "      <th>name</th>\n",
       "      <th>prop</th>\n",
       "      <th>sex</th>\n",
       "      <th>soundex</th>\n",
       "    </tr>\n",
       "  </thead>\n",
       "  <tbody>\n",
       "    <tr>\n",
       "      <th>1000.0</th>\n",
       "      <td>1881</td>\n",
       "      <td>John</td>\n",
       "      <td>0.080975</td>\n",
       "      <td>boy</td>\n",
       "      <td>J500</td>\n",
       "    </tr>\n",
       "    <tr>\n",
       "      <th>999.0</th>\n",
       "      <td>1880</td>\n",
       "      <td>Layton</td>\n",
       "      <td>0.000042</td>\n",
       "      <td>boy</td>\n",
       "      <td>L350</td>\n",
       "    </tr>\n",
       "    <tr>\n",
       "      <th>998.0</th>\n",
       "      <td>1880</td>\n",
       "      <td>Lawyer</td>\n",
       "      <td>0.000042</td>\n",
       "      <td>boy</td>\n",
       "      <td>L600</td>\n",
       "    </tr>\n",
       "    <tr>\n",
       "      <th>997.0</th>\n",
       "      <td>1880</td>\n",
       "      <td>Lavern</td>\n",
       "      <td>0.000042</td>\n",
       "      <td>boy</td>\n",
       "      <td>L165</td>\n",
       "    </tr>\n",
       "    <tr>\n",
       "      <th>996.0</th>\n",
       "      <td>1880</td>\n",
       "      <td>Knute</td>\n",
       "      <td>0.000042</td>\n",
       "      <td>boy</td>\n",
       "      <td>K530</td>\n",
       "    </tr>\n",
       "    <tr>\n",
       "      <th>...</th>\n",
       "      <td>...</td>\n",
       "      <td>...</td>\n",
       "      <td>...</td>\n",
       "      <td>...</td>\n",
       "      <td>...</td>\n",
       "    </tr>\n",
       "    <tr>\n",
       "      <th>7.5</th>\n",
       "      <td>NaN</td>\n",
       "      <td>NaN</td>\n",
       "      <td>NaN</td>\n",
       "      <td>NaN</td>\n",
       "      <td>NaN</td>\n",
       "    </tr>\n",
       "    <tr>\n",
       "      <th>2.5</th>\n",
       "      <td>NaN</td>\n",
       "      <td>NaN</td>\n",
       "      <td>NaN</td>\n",
       "      <td>NaN</td>\n",
       "      <td>NaN</td>\n",
       "    </tr>\n",
       "    <tr>\n",
       "      <th>2.5</th>\n",
       "      <td>NaN</td>\n",
       "      <td>NaN</td>\n",
       "      <td>NaN</td>\n",
       "      <td>NaN</td>\n",
       "      <td>NaN</td>\n",
       "    </tr>\n",
       "    <tr>\n",
       "      <th>2.5</th>\n",
       "      <td>NaN</td>\n",
       "      <td>NaN</td>\n",
       "      <td>NaN</td>\n",
       "      <td>NaN</td>\n",
       "      <td>NaN</td>\n",
       "    </tr>\n",
       "    <tr>\n",
       "      <th>2.5</th>\n",
       "      <td>NaN</td>\n",
       "      <td>NaN</td>\n",
       "      <td>NaN</td>\n",
       "      <td>NaN</td>\n",
       "      <td>NaN</td>\n",
       "    </tr>\n",
       "  </tbody>\n",
       "</table>\n",
       "<p>1000 rows × 5 columns</p>\n",
       "</div>"
      ],
      "text/plain": [
       "        year    name      prop  sex soundex\n",
       "1000.0  1881    John  0.080975  boy    J500\n",
       "999.0   1880  Layton  0.000042  boy    L350\n",
       "998.0   1880  Lawyer  0.000042  boy    L600\n",
       "997.0   1880  Lavern  0.000042  boy    L165\n",
       "996.0   1880   Knute  0.000042  boy    K530\n",
       "...      ...     ...       ...  ...     ...\n",
       "7.5      NaN     NaN       NaN  NaN     NaN\n",
       "2.5      NaN     NaN       NaN  NaN     NaN\n",
       "2.5      NaN     NaN       NaN  NaN     NaN\n",
       "2.5      NaN     NaN       NaN  NaN     NaN\n",
       "2.5      NaN     NaN       NaN  NaN     NaN\n",
       "\n",
       "[1000 rows x 5 columns]"
      ]
     },
     "execution_count": 24,
     "metadata": {},
     "output_type": "execute_result"
    }
   ],
   "source": [
    "# let's learn about ranks...\n",
    "\n",
    "# 1000 names...\n",
    "boys[boys.year == 2008]\n",
    "boys[boys.year == 2008].prop\n",
    "\n",
    "# rank them; if there are ties, share -> e.g. 2.5\n",
    "boys[boys.year == 2008].prop.rank()\n",
    "boys.ix[boys[boys.year == 2008].prop.rank()]\n",
    "\n",
    "# jds!!!!!!!!!!!!!!!!!  nvestigate...  !!!!!!!!!!!!!!!!\n",
    "\n"
   ]
  },
  {
   "cell_type": "code",
   "execution_count": 25,
   "metadata": {
    "collapsed": false
   },
   "outputs": [
    {
     "name": "stderr",
     "output_type": "stream",
     "text": [
      "/home/jds/.pyvenvs/liveresume/lib/python3.4/site-packages/IPython/kernel/__main__.py:3: SettingWithCopyWarning: \n",
      "A value is trying to be set on a copy of a slice from a DataFrame.\n",
      "Try using .loc[row_indexer,col_indexer] = value instead\n",
      "\n",
      "See the the caveats in the documentation: http://pandas.pydata.org/pandas-docs/stable/indexing.html#indexing-view-versus-copy\n",
      "  app.launch_new_instance()\n"
     ]
    },
    {
     "data": {
      "text/plain": [
       "<matplotlib.axes._subplots.AxesSubplot at 0x7fc122825518>"
      ]
     },
     "execution_count": 25,
     "metadata": {},
     "output_type": "execute_result"
    },
    {
     "data": {
      "image/png": "[encoded data removed]",
      "text/plain": [
       "<matplotlib.figure.Figure at 0x7fc122c8ddd8>"
      ]
     },
     "metadata": {},
     "output_type": "display_data"
    }
   ],
   "source": [
    "# select prop field out of groups...\n",
    "grouped = boys.groupby(\"year\").prop\n",
    "boys[\"year_ranked\"] = grouped.transform(Series.rank)\n",
    "\n",
    "idf = boys.set_index(\"name\", \"year\")\n",
    "idf.ix[\"Juan\"]\n",
    "idf.ix[\"Wesley\"].year_ranked.plot()\n",
    "\n",
    "# jds!!!!!!!!!!!!!!!!!  not quite right - investigate...  !!!!!!!!!!!!!!!!\n",
    "\n"
   ]
  },
  {
   "cell_type": "markdown",
   "metadata": {},
   "source": [
    "# Now, explore another dataset: births.csv.\n",
    "## (we'll be able to perform joins between names & births)"
   ]
  },
  {
   "cell_type": "code",
   "execution_count": 26,
   "metadata": {
    "collapsed": false
   },
   "outputs": [
    {
     "data": {
      "text/html": [
       "<div style=\"max-height:1000px;max-width:1500px;overflow:auto;\">\n",
       "<table border=\"1\" class=\"dataframe\">\n",
       "  <thead>\n",
       "    <tr style=\"text-align: right;\">\n",
       "      <th></th>\n",
       "      <th>year</th>\n",
       "      <th>sex</th>\n",
       "      <th>births</th>\n",
       "    </tr>\n",
       "  </thead>\n",
       "  <tbody>\n",
       "    <tr>\n",
       "      <th>0</th>\n",
       "      <td>1880</td>\n",
       "      <td>boy</td>\n",
       "      <td>118405</td>\n",
       "    </tr>\n",
       "    <tr>\n",
       "      <th>1</th>\n",
       "      <td>1881</td>\n",
       "      <td>boy</td>\n",
       "      <td>108290</td>\n",
       "    </tr>\n",
       "    <tr>\n",
       "      <th>2</th>\n",
       "      <td>1882</td>\n",
       "      <td>boy</td>\n",
       "      <td>122034</td>\n",
       "    </tr>\n",
       "    <tr>\n",
       "      <th>3</th>\n",
       "      <td>1883</td>\n",
       "      <td>boy</td>\n",
       "      <td>112487</td>\n",
       "    </tr>\n",
       "    <tr>\n",
       "      <th>4</th>\n",
       "      <td>1884</td>\n",
       "      <td>boy</td>\n",
       "      <td>122745</td>\n",
       "    </tr>\n",
       "    <tr>\n",
       "      <th>...</th>\n",
       "      <td>...</td>\n",
       "      <td>...</td>\n",
       "      <td>...</td>\n",
       "    </tr>\n",
       "    <tr>\n",
       "      <th>255</th>\n",
       "      <td>2005</td>\n",
       "      <td>girl</td>\n",
       "      <td>2024636</td>\n",
       "    </tr>\n",
       "    <tr>\n",
       "      <th>256</th>\n",
       "      <td>2006</td>\n",
       "      <td>girl</td>\n",
       "      <td>2084511</td>\n",
       "    </tr>\n",
       "    <tr>\n",
       "      <th>257</th>\n",
       "      <td>2007</td>\n",
       "      <td>girl</td>\n",
       "      <td>2109099</td>\n",
       "    </tr>\n",
       "    <tr>\n",
       "      <th>258</th>\n",
       "      <td>2008</td>\n",
       "      <td>girl</td>\n",
       "      <td>2072756</td>\n",
       "    </tr>\n",
       "    <tr>\n",
       "      <th>259</th>\n",
       "      <td>2009</td>\n",
       "      <td>girl</td>\n",
       "      <td>2001968</td>\n",
       "    </tr>\n",
       "  </tbody>\n",
       "</table>\n",
       "<p>260 rows × 3 columns</p>\n",
       "</div>"
      ],
      "text/plain": [
       "     year   sex   births\n",
       "0    1880   boy   118405\n",
       "1    1881   boy   108290\n",
       "2    1882   boy   122034\n",
       "3    1883   boy   112487\n",
       "4    1884   boy   122745\n",
       "..    ...   ...      ...\n",
       "255  2005  girl  2024636\n",
       "256  2006  girl  2084511\n",
       "257  2007  girl  2109099\n",
       "258  2008  girl  2072756\n",
       "259  2009  girl  2001968\n",
       "\n",
       "[260 rows x 3 columns]"
      ]
     },
     "execution_count": 26,
     "metadata": {},
     "output_type": "execute_result"
    }
   ],
   "source": [
    "births = read_csv(\"births.csv\")\n",
    "births\n"
   ]
  },
  {
   "cell_type": "code",
   "execution_count": 27,
   "metadata": {
    "collapsed": false
   },
   "outputs": [
    {
     "data": {
      "text/html": [
       "<div style=\"max-height:1000px;max-width:1500px;overflow:auto;\">\n",
       "<table border=\"1\" class=\"dataframe\">\n",
       "  <thead>\n",
       "    <tr style=\"text-align: right;\">\n",
       "      <th></th>\n",
       "      <th>year</th>\n",
       "      <th>name</th>\n",
       "      <th>prop</th>\n",
       "      <th>sex</th>\n",
       "      <th>soundex</th>\n",
       "      <th>births</th>\n",
       "    </tr>\n",
       "  </thead>\n",
       "  <tbody>\n",
       "    <tr>\n",
       "      <th>0</th>\n",
       "      <td>1880</td>\n",
       "      <td>John</td>\n",
       "      <td>0.081541</td>\n",
       "      <td>boy</td>\n",
       "      <td>J500</td>\n",
       "      <td>118405</td>\n",
       "    </tr>\n",
       "    <tr>\n",
       "      <th>1</th>\n",
       "      <td>1880</td>\n",
       "      <td>William</td>\n",
       "      <td>0.080511</td>\n",
       "      <td>boy</td>\n",
       "      <td>W450</td>\n",
       "      <td>118405</td>\n",
       "    </tr>\n",
       "    <tr>\n",
       "      <th>2</th>\n",
       "      <td>1880</td>\n",
       "      <td>James</td>\n",
       "      <td>0.050057</td>\n",
       "      <td>boy</td>\n",
       "      <td>J520</td>\n",
       "      <td>118405</td>\n",
       "    </tr>\n",
       "    <tr>\n",
       "      <th>3</th>\n",
       "      <td>1880</td>\n",
       "      <td>Charles</td>\n",
       "      <td>0.045167</td>\n",
       "      <td>boy</td>\n",
       "      <td>C642</td>\n",
       "      <td>118405</td>\n",
       "    </tr>\n",
       "    <tr>\n",
       "      <th>4</th>\n",
       "      <td>1880</td>\n",
       "      <td>George</td>\n",
       "      <td>0.043292</td>\n",
       "      <td>boy</td>\n",
       "      <td>G620</td>\n",
       "      <td>118405</td>\n",
       "    </tr>\n",
       "    <tr>\n",
       "      <th>...</th>\n",
       "      <td>...</td>\n",
       "      <td>...</td>\n",
       "      <td>...</td>\n",
       "      <td>...</td>\n",
       "      <td>...</td>\n",
       "      <td>...</td>\n",
       "    </tr>\n",
       "    <tr>\n",
       "      <th>257995</th>\n",
       "      <td>2008</td>\n",
       "      <td>Carleigh</td>\n",
       "      <td>0.000128</td>\n",
       "      <td>girl</td>\n",
       "      <td>C642</td>\n",
       "      <td>2072756</td>\n",
       "    </tr>\n",
       "    <tr>\n",
       "      <th>257996</th>\n",
       "      <td>2008</td>\n",
       "      <td>Iyana</td>\n",
       "      <td>0.000128</td>\n",
       "      <td>girl</td>\n",
       "      <td>I500</td>\n",
       "      <td>2072756</td>\n",
       "    </tr>\n",
       "    <tr>\n",
       "      <th>257997</th>\n",
       "      <td>2008</td>\n",
       "      <td>Kenley</td>\n",
       "      <td>0.000127</td>\n",
       "      <td>girl</td>\n",
       "      <td>K540</td>\n",
       "      <td>2072756</td>\n",
       "    </tr>\n",
       "    <tr>\n",
       "      <th>257998</th>\n",
       "      <td>2008</td>\n",
       "      <td>Sloane</td>\n",
       "      <td>0.000127</td>\n",
       "      <td>girl</td>\n",
       "      <td>S450</td>\n",
       "      <td>2072756</td>\n",
       "    </tr>\n",
       "    <tr>\n",
       "      <th>257999</th>\n",
       "      <td>2008</td>\n",
       "      <td>Elianna</td>\n",
       "      <td>0.000127</td>\n",
       "      <td>girl</td>\n",
       "      <td>E450</td>\n",
       "      <td>2072756</td>\n",
       "    </tr>\n",
       "  </tbody>\n",
       "</table>\n",
       "<p>258000 rows × 6 columns</p>\n",
       "</div>"
      ],
      "text/plain": [
       "        year      name      prop   sex soundex   births\n",
       "0       1880      John  0.081541   boy    J500   118405\n",
       "1       1880   William  0.080511   boy    W450   118405\n",
       "2       1880     James  0.050057   boy    J520   118405\n",
       "3       1880   Charles  0.045167   boy    C642   118405\n",
       "4       1880    George  0.043292   boy    G620   118405\n",
       "...      ...       ...       ...   ...     ...      ...\n",
       "257995  2008  Carleigh  0.000128  girl    C642  2072756\n",
       "257996  2008     Iyana  0.000128  girl    I500  2072756\n",
       "257997  2008    Kenley  0.000127  girl    K540  2072756\n",
       "257998  2008    Sloane  0.000127  girl    S450  2072756\n",
       "257999  2008   Elianna  0.000127  girl    E450  2072756\n",
       "\n",
       "[258000 rows x 6 columns]"
      ]
     },
     "execution_count": 27,
     "metadata": {},
     "output_type": "execute_result"
    }
   ],
   "source": [
    "# let's do some JOINs, which in pandas is done via merge\n",
    "\n",
    "# both tables, births and names have 2  common cols:  year and sex\n",
    "\n",
    "merged = merge(names, births, on=[\"year\", \"sex\"])\n",
    "\n",
    "merged"
   ]
  },
  {
   "cell_type": "code",
   "execution_count": 28,
   "metadata": {
    "collapsed": false
   },
   "outputs": [
    {
     "data": {
      "text/html": [
       "<div style=\"max-height:1000px;max-width:1500px;overflow:auto;\">\n",
       "<table border=\"1\" class=\"dataframe\">\n",
       "  <thead>\n",
       "    <tr style=\"text-align: right;\">\n",
       "      <th></th>\n",
       "      <th>year</th>\n",
       "      <th>name</th>\n",
       "      <th>prop</th>\n",
       "      <th>sex</th>\n",
       "      <th>soundex</th>\n",
       "      <th>births</th>\n",
       "      <th>persons</th>\n",
       "    </tr>\n",
       "  </thead>\n",
       "  <tbody>\n",
       "    <tr>\n",
       "      <th>0</th>\n",
       "      <td>1880</td>\n",
       "      <td>John</td>\n",
       "      <td>0.081541</td>\n",
       "      <td>boy</td>\n",
       "      <td>J500</td>\n",
       "      <td>118405</td>\n",
       "      <td>9654</td>\n",
       "    </tr>\n",
       "    <tr>\n",
       "      <th>1</th>\n",
       "      <td>1880</td>\n",
       "      <td>William</td>\n",
       "      <td>0.080511</td>\n",
       "      <td>boy</td>\n",
       "      <td>W450</td>\n",
       "      <td>118405</td>\n",
       "      <td>9532</td>\n",
       "    </tr>\n",
       "    <tr>\n",
       "      <th>2</th>\n",
       "      <td>1880</td>\n",
       "      <td>James</td>\n",
       "      <td>0.050057</td>\n",
       "      <td>boy</td>\n",
       "      <td>J520</td>\n",
       "      <td>118405</td>\n",
       "      <td>5926</td>\n",
       "    </tr>\n",
       "    <tr>\n",
       "      <th>3</th>\n",
       "      <td>1880</td>\n",
       "      <td>Charles</td>\n",
       "      <td>0.045167</td>\n",
       "      <td>boy</td>\n",
       "      <td>C642</td>\n",
       "      <td>118405</td>\n",
       "      <td>5347</td>\n",
       "    </tr>\n",
       "    <tr>\n",
       "      <th>4</th>\n",
       "      <td>1880</td>\n",
       "      <td>George</td>\n",
       "      <td>0.043292</td>\n",
       "      <td>boy</td>\n",
       "      <td>G620</td>\n",
       "      <td>118405</td>\n",
       "      <td>5125</td>\n",
       "    </tr>\n",
       "  </tbody>\n",
       "</table>\n",
       "</div>"
      ],
      "text/plain": [
       "   year     name      prop  sex soundex  births  persons\n",
       "0  1880     John  0.081541  boy    J500  118405     9654\n",
       "1  1880  William  0.080511  boy    W450  118405     9532\n",
       "2  1880    James  0.050057  boy    J520  118405     5926\n",
       "3  1880  Charles  0.045167  boy    C642  118405     5347\n",
       "4  1880   George  0.043292  boy    G620  118405     5125"
      ]
     },
     "execution_count": 28,
     "metadata": {},
     "output_type": "execute_result"
    }
   ],
   "source": [
    "\n",
    "# convert those props into actual numbers...\n",
    "merged['persons'] = np.floor(merged.prop * merged.births)\n",
    "merged.head()"
   ]
  },
  {
   "cell_type": "code",
   "execution_count": 29,
   "metadata": {
    "collapsed": false
   },
   "outputs": [
    {
     "data": {
      "text/plain": [
       "name     sex \n",
       "James    boy     5021269\n",
       "John     boy     5016124\n",
       "Robert   boy     4752198\n",
       "Michael  boy     4207352\n",
       "Mary     girl    4097626\n",
       "                  ...   \n",
       "Dema     girl          3\n",
       "Dollye   girl          3\n",
       "Crissie  girl          3\n",
       "Daisye   girl          3\n",
       "Alabama  girl          3\n",
       "Name: persons, dtype: float64"
      ]
     },
     "execution_count": 29,
     "metadata": {},
     "output_type": "execute_result"
    }
   ],
   "source": [
    "# and we can start plying with things...\n",
    "\n",
    "merged.groupby([\"name\", \"sex\"]).persons.sum()\n",
    "\n",
    "merged.groupby([\"name\", \"sex\"]).persons.sum().order(ascending=False)\n",
    "\n",
    "\n"
   ]
  },
  {
   "cell_type": "code",
   "execution_count": 30,
   "metadata": {
    "collapsed": false
   },
   "outputs": [
    {
     "data": {
      "text/plain": [
       "name     sex \n",
       "Aaden    boy        959\n",
       "Aaliyah  girl     39660\n",
       "Aarav    boy        219\n",
       "Aaron    boy     508034\n",
       "         girl      1365\n",
       "                  ...  \n",
       "Zola     girl      4847\n",
       "Zollie   boy         60\n",
       "Zona     girl      3218\n",
       "Zora     girl      4551\n",
       "Zula     girl      3578\n",
       "Name: persons, dtype: float64"
      ]
     },
     "execution_count": 30,
     "metadata": {},
     "output_type": "execute_result"
    }
   ],
   "source": [
    "merged.groupby([\"name\", \"sex\"]).persons.sum()\n",
    "\n"
   ]
  },
  {
   "cell_type": "code",
   "execution_count": 31,
   "metadata": {
    "collapsed": false
   },
   "outputs": [
    {
     "data": {
      "text/plain": [
       "year  name   \n",
       "1880  John       9654\n",
       "      William    9532\n",
       "      James      5926\n",
       "      Charles    5347\n",
       "      George     5125\n",
       "                 ... \n",
       "2008  Kolten      195\n",
       "      Damari      193\n",
       "      Hugh        193\n",
       "      Jensen      193\n",
       "      Yurem       193\n",
       "Name: persons, dtype: float64"
      ]
     },
     "execution_count": 31,
     "metadata": {},
     "output_type": "execute_result"
    }
   ],
   "source": [
    "\n",
    "\n",
    "mboys = merge(boys, births, on=[\"year\", \"sex\"])\n",
    "mboys[\"persons\"] = np.floor(mboys.prop * mboys.births)\n",
    "persons = mboys.set_index([\"year\", \"name\"]).persons\n",
    "\n",
    "# it's a Series (w/ a hierarchical index)\n",
    "persons"
   ]
  },
  {
   "cell_type": "code",
   "execution_count": 32,
   "metadata": {
    "collapsed": false
   },
   "outputs": [
    {
     "data": {
      "text/plain": [
       "<matplotlib.axes._subplots.AxesSubplot at 0x7fc122852e48>"
      ]
     },
     "execution_count": 32,
     "metadata": {},
     "output_type": "execute_result"
    },
    {
     "data": {
      "image/png": "[encoded data removed]",
      "text/plain": [
       "<matplotlib.figure.Figure at 0x7fc1224e6d68>"
      ]
     },
     "metadata": {},
     "output_type": "display_data"
    }
   ],
   "source": [
    "\n",
    "persons.ix[:, \"Christopher\"]\n",
    "persons.ix[:, \"Christopher\"].plot(kind=\"bar\")\n",
    "persons.ix[:, \"Christopher\"].plot(kind=\"bar\", rot=90)\n",
    "\n",
    "\n"
   ]
  },
  {
   "cell_type": "code",
   "execution_count": 33,
   "metadata": {
    "collapsed": false
   },
   "outputs": [
    {
     "data": {
      "text/html": [
       "<div style=\"max-height:1000px;max-width:1500px;overflow:auto;\">\n",
       "<table border=\"1\" class=\"dataframe\">\n",
       "  <thead>\n",
       "    <tr style=\"text-align: right;\">\n",
       "      <th>name</th>\n",
       "      <th>Aaden</th>\n",
       "      <th>Aarav</th>\n",
       "      <th>Aaron</th>\n",
       "      <th>Ab</th>\n",
       "      <th>Abb</th>\n",
       "      <th>Abbie</th>\n",
       "      <th>Abbott</th>\n",
       "      <th>Abdiel</th>\n",
       "      <th>Abdul</th>\n",
       "      <th>Abdullah</th>\n",
       "      <th>...</th>\n",
       "      <th>Zeb</th>\n",
       "      <th>Zebulon</th>\n",
       "      <th>Zechariah</th>\n",
       "      <th>Zed</th>\n",
       "      <th>Zeke</th>\n",
       "      <th>Zenas</th>\n",
       "      <th>Zeno</th>\n",
       "      <th>Zigmund</th>\n",
       "      <th>Zion</th>\n",
       "      <th>Zollie</th>\n",
       "    </tr>\n",
       "    <tr>\n",
       "      <th>year</th>\n",
       "      <th></th>\n",
       "      <th></th>\n",
       "      <th></th>\n",
       "      <th></th>\n",
       "      <th></th>\n",
       "      <th></th>\n",
       "      <th></th>\n",
       "      <th></th>\n",
       "      <th></th>\n",
       "      <th></th>\n",
       "      <th></th>\n",
       "      <th></th>\n",
       "      <th></th>\n",
       "      <th></th>\n",
       "      <th></th>\n",
       "      <th></th>\n",
       "      <th></th>\n",
       "      <th></th>\n",
       "      <th></th>\n",
       "      <th></th>\n",
       "      <th></th>\n",
       "    </tr>\n",
       "  </thead>\n",
       "  <tbody>\n",
       "    <tr>\n",
       "      <th>1880</th>\n",
       "      <td>NaN</td>\n",
       "      <td>NaN</td>\n",
       "      <td>101</td>\n",
       "      <td>4</td>\n",
       "      <td>NaN</td>\n",
       "      <td>NaN</td>\n",
       "      <td>4</td>\n",
       "      <td>NaN</td>\n",
       "      <td>NaN</td>\n",
       "      <td>NaN</td>\n",
       "      <td>...</td>\n",
       "      <td>9</td>\n",
       "      <td>NaN</td>\n",
       "      <td>NaN</td>\n",
       "      <td>NaN</td>\n",
       "      <td>6</td>\n",
       "      <td>NaN</td>\n",
       "      <td>NaN</td>\n",
       "      <td>NaN</td>\n",
       "      <td>NaN</td>\n",
       "      <td>NaN</td>\n",
       "    </tr>\n",
       "    <tr>\n",
       "      <th>1881</th>\n",
       "      <td>NaN</td>\n",
       "      <td>NaN</td>\n",
       "      <td>93</td>\n",
       "      <td>4</td>\n",
       "      <td>NaN</td>\n",
       "      <td>NaN</td>\n",
       "      <td>NaN</td>\n",
       "      <td>NaN</td>\n",
       "      <td>NaN</td>\n",
       "      <td>NaN</td>\n",
       "      <td>...</td>\n",
       "      <td>9</td>\n",
       "      <td>NaN</td>\n",
       "      <td>NaN</td>\n",
       "      <td>NaN</td>\n",
       "      <td>NaN</td>\n",
       "      <td>NaN</td>\n",
       "      <td>NaN</td>\n",
       "      <td>NaN</td>\n",
       "      <td>NaN</td>\n",
       "      <td>NaN</td>\n",
       "    </tr>\n",
       "    <tr>\n",
       "      <th>1882</th>\n",
       "      <td>NaN</td>\n",
       "      <td>NaN</td>\n",
       "      <td>85</td>\n",
       "      <td>5</td>\n",
       "      <td>NaN</td>\n",
       "      <td>NaN</td>\n",
       "      <td>NaN</td>\n",
       "      <td>NaN</td>\n",
       "      <td>NaN</td>\n",
       "      <td>NaN</td>\n",
       "      <td>...</td>\n",
       "      <td>10</td>\n",
       "      <td>NaN</td>\n",
       "      <td>NaN</td>\n",
       "      <td>NaN</td>\n",
       "      <td>NaN</td>\n",
       "      <td>NaN</td>\n",
       "      <td>NaN</td>\n",
       "      <td>NaN</td>\n",
       "      <td>NaN</td>\n",
       "      <td>NaN</td>\n",
       "    </tr>\n",
       "    <tr>\n",
       "      <th>1883</th>\n",
       "      <td>NaN</td>\n",
       "      <td>NaN</td>\n",
       "      <td>104</td>\n",
       "      <td>NaN</td>\n",
       "      <td>NaN</td>\n",
       "      <td>NaN</td>\n",
       "      <td>NaN</td>\n",
       "      <td>NaN</td>\n",
       "      <td>NaN</td>\n",
       "      <td>NaN</td>\n",
       "      <td>...</td>\n",
       "      <td>13</td>\n",
       "      <td>NaN</td>\n",
       "      <td>NaN</td>\n",
       "      <td>NaN</td>\n",
       "      <td>5</td>\n",
       "      <td>NaN</td>\n",
       "      <td>5</td>\n",
       "      <td>NaN</td>\n",
       "      <td>NaN</td>\n",
       "      <td>NaN</td>\n",
       "    </tr>\n",
       "    <tr>\n",
       "      <th>1884</th>\n",
       "      <td>NaN</td>\n",
       "      <td>NaN</td>\n",
       "      <td>96</td>\n",
       "      <td>NaN</td>\n",
       "      <td>5</td>\n",
       "      <td>NaN</td>\n",
       "      <td>NaN</td>\n",
       "      <td>NaN</td>\n",
       "      <td>NaN</td>\n",
       "      <td>NaN</td>\n",
       "      <td>...</td>\n",
       "      <td>11</td>\n",
       "      <td>NaN</td>\n",
       "      <td>NaN</td>\n",
       "      <td>NaN</td>\n",
       "      <td>NaN</td>\n",
       "      <td>NaN</td>\n",
       "      <td>NaN</td>\n",
       "      <td>NaN</td>\n",
       "      <td>NaN</td>\n",
       "      <td>6</td>\n",
       "    </tr>\n",
       "    <tr>\n",
       "      <th>...</th>\n",
       "      <td>...</td>\n",
       "      <td>...</td>\n",
       "      <td>...</td>\n",
       "      <td>...</td>\n",
       "      <td>...</td>\n",
       "      <td>...</td>\n",
       "      <td>...</td>\n",
       "      <td>...</td>\n",
       "      <td>...</td>\n",
       "      <td>...</td>\n",
       "      <td>...</td>\n",
       "      <td>...</td>\n",
       "      <td>...</td>\n",
       "      <td>...</td>\n",
       "      <td>...</td>\n",
       "      <td>...</td>\n",
       "      <td>...</td>\n",
       "      <td>...</td>\n",
       "      <td>...</td>\n",
       "      <td>...</td>\n",
       "      <td>...</td>\n",
       "    </tr>\n",
       "    <tr>\n",
       "      <th>2004</th>\n",
       "      <td>NaN</td>\n",
       "      <td>NaN</td>\n",
       "      <td>8378</td>\n",
       "      <td>NaN</td>\n",
       "      <td>NaN</td>\n",
       "      <td>NaN</td>\n",
       "      <td>NaN</td>\n",
       "      <td>NaN</td>\n",
       "      <td>NaN</td>\n",
       "      <td>191</td>\n",
       "      <td>...</td>\n",
       "      <td>NaN</td>\n",
       "      <td>NaN</td>\n",
       "      <td>307</td>\n",
       "      <td>NaN</td>\n",
       "      <td>NaN</td>\n",
       "      <td>NaN</td>\n",
       "      <td>NaN</td>\n",
       "      <td>NaN</td>\n",
       "      <td>1006</td>\n",
       "      <td>NaN</td>\n",
       "    </tr>\n",
       "    <tr>\n",
       "      <th>2005</th>\n",
       "      <td>NaN</td>\n",
       "      <td>NaN</td>\n",
       "      <td>7785</td>\n",
       "      <td>NaN</td>\n",
       "      <td>NaN</td>\n",
       "      <td>NaN</td>\n",
       "      <td>NaN</td>\n",
       "      <td>NaN</td>\n",
       "      <td>NaN</td>\n",
       "      <td>205</td>\n",
       "      <td>...</td>\n",
       "      <td>NaN</td>\n",
       "      <td>NaN</td>\n",
       "      <td>337</td>\n",
       "      <td>NaN</td>\n",
       "      <td>NaN</td>\n",
       "      <td>NaN</td>\n",
       "      <td>NaN</td>\n",
       "      <td>NaN</td>\n",
       "      <td>1114</td>\n",
       "      <td>NaN</td>\n",
       "    </tr>\n",
       "    <tr>\n",
       "      <th>2006</th>\n",
       "      <td>NaN</td>\n",
       "      <td>NaN</td>\n",
       "      <td>8272</td>\n",
       "      <td>NaN</td>\n",
       "      <td>NaN</td>\n",
       "      <td>NaN</td>\n",
       "      <td>NaN</td>\n",
       "      <td>NaN</td>\n",
       "      <td>NaN</td>\n",
       "      <td>218</td>\n",
       "      <td>...</td>\n",
       "      <td>NaN</td>\n",
       "      <td>NaN</td>\n",
       "      <td>334</td>\n",
       "      <td>NaN</td>\n",
       "      <td>NaN</td>\n",
       "      <td>NaN</td>\n",
       "      <td>NaN</td>\n",
       "      <td>NaN</td>\n",
       "      <td>1294</td>\n",
       "      <td>NaN</td>\n",
       "    </tr>\n",
       "    <tr>\n",
       "      <th>2007</th>\n",
       "      <td>NaN</td>\n",
       "      <td>NaN</td>\n",
       "      <td>8893</td>\n",
       "      <td>NaN</td>\n",
       "      <td>NaN</td>\n",
       "      <td>NaN</td>\n",
       "      <td>NaN</td>\n",
       "      <td>NaN</td>\n",
       "      <td>NaN</td>\n",
       "      <td>225</td>\n",
       "      <td>...</td>\n",
       "      <td>NaN</td>\n",
       "      <td>NaN</td>\n",
       "      <td>357</td>\n",
       "      <td>NaN</td>\n",
       "      <td>NaN</td>\n",
       "      <td>NaN</td>\n",
       "      <td>NaN</td>\n",
       "      <td>NaN</td>\n",
       "      <td>1545</td>\n",
       "      <td>NaN</td>\n",
       "    </tr>\n",
       "    <tr>\n",
       "      <th>2008</th>\n",
       "      <td>959</td>\n",
       "      <td>219</td>\n",
       "      <td>8496</td>\n",
       "      <td>NaN</td>\n",
       "      <td>NaN</td>\n",
       "      <td>NaN</td>\n",
       "      <td>NaN</td>\n",
       "      <td>199</td>\n",
       "      <td>NaN</td>\n",
       "      <td>210</td>\n",
       "      <td>...</td>\n",
       "      <td>NaN</td>\n",
       "      <td>NaN</td>\n",
       "      <td>364</td>\n",
       "      <td>NaN</td>\n",
       "      <td>NaN</td>\n",
       "      <td>NaN</td>\n",
       "      <td>NaN</td>\n",
       "      <td>NaN</td>\n",
       "      <td>1586</td>\n",
       "      <td>NaN</td>\n",
       "    </tr>\n",
       "  </tbody>\n",
       "</table>\n",
       "<p>129 rows × 3437 columns</p>\n",
       "</div>"
      ],
      "text/plain": [
       "name  Aaden  Aarav  Aaron  Ab  Abb  Abbie  Abbott  Abdiel  Abdul  Abdullah  \\\n",
       "year                                                                         \n",
       "1880    NaN    NaN    101   4  NaN    NaN       4     NaN    NaN       NaN   \n",
       "1881    NaN    NaN     93   4  NaN    NaN     NaN     NaN    NaN       NaN   \n",
       "1882    NaN    NaN     85   5  NaN    NaN     NaN     NaN    NaN       NaN   \n",
       "1883    NaN    NaN    104 NaN  NaN    NaN     NaN     NaN    NaN       NaN   \n",
       "1884    NaN    NaN     96 NaN    5    NaN     NaN     NaN    NaN       NaN   \n",
       "...     ...    ...    ...  ..  ...    ...     ...     ...    ...       ...   \n",
       "2004    NaN    NaN   8378 NaN  NaN    NaN     NaN     NaN    NaN       191   \n",
       "2005    NaN    NaN   7785 NaN  NaN    NaN     NaN     NaN    NaN       205   \n",
       "2006    NaN    NaN   8272 NaN  NaN    NaN     NaN     NaN    NaN       218   \n",
       "2007    NaN    NaN   8893 NaN  NaN    NaN     NaN     NaN    NaN       225   \n",
       "2008    959    219   8496 NaN  NaN    NaN     NaN     199    NaN       210   \n",
       "\n",
       "name   ...    Zeb  Zebulon  Zechariah  Zed  Zeke  Zenas  Zeno  Zigmund  Zion  \\\n",
       "year   ...                                                                     \n",
       "1880   ...      9      NaN        NaN  NaN     6    NaN   NaN      NaN   NaN   \n",
       "1881   ...      9      NaN        NaN  NaN   NaN    NaN   NaN      NaN   NaN   \n",
       "1882   ...     10      NaN        NaN  NaN   NaN    NaN   NaN      NaN   NaN   \n",
       "1883   ...     13      NaN        NaN  NaN     5    NaN     5      NaN   NaN   \n",
       "1884   ...     11      NaN        NaN  NaN   NaN    NaN   NaN      NaN   NaN   \n",
       "...    ...    ...      ...        ...  ...   ...    ...   ...      ...   ...   \n",
       "2004   ...    NaN      NaN        307  NaN   NaN    NaN   NaN      NaN  1006   \n",
       "2005   ...    NaN      NaN        337  NaN   NaN    NaN   NaN      NaN  1114   \n",
       "2006   ...    NaN      NaN        334  NaN   NaN    NaN   NaN      NaN  1294   \n",
       "2007   ...    NaN      NaN        357  NaN   NaN    NaN   NaN      NaN  1545   \n",
       "2008   ...    NaN      NaN        364  NaN   NaN    NaN   NaN      NaN  1586   \n",
       "\n",
       "name  Zollie  \n",
       "year          \n",
       "1880     NaN  \n",
       "1881     NaN  \n",
       "1882     NaN  \n",
       "1883     NaN  \n",
       "1884       6  \n",
       "...      ...  \n",
       "2004     NaN  \n",
       "2005     NaN  \n",
       "2006     NaN  \n",
       "2007     NaN  \n",
       "2008     NaN  \n",
       "\n",
       "[129 rows x 3437 columns]"
      ]
     },
     "execution_count": 33,
     "metadata": {},
     "output_type": "execute_result"
    }
   ],
   "source": [
    "\n",
    "# reminder, persons is a Series (w/ a hierarchical index)\n",
    "# but you can also think of it as a 2D frame\n",
    "# -> unstack it...\n",
    "pname = persons.unstack(\"name\")\n",
    "# or...\n",
    "# persons.unstack(\"year\")\n",
    "pname"
   ]
  },
  {
   "cell_type": "code",
   "execution_count": 34,
   "metadata": {
    "collapsed": false
   },
   "outputs": [
    {
     "data": {
      "text/html": [
       "<div style=\"max-height:1000px;max-width:1500px;overflow:auto;\">\n",
       "<table border=\"1\" class=\"dataframe\">\n",
       "  <thead>\n",
       "    <tr style=\"text-align: right;\">\n",
       "      <th>name</th>\n",
       "      <th>Juan</th>\n",
       "      <th>Jose</th>\n",
       "      <th>Martin</th>\n",
       "    </tr>\n",
       "    <tr>\n",
       "      <th>year</th>\n",
       "      <th></th>\n",
       "      <th></th>\n",
       "      <th></th>\n",
       "    </tr>\n",
       "  </thead>\n",
       "  <tbody>\n",
       "    <tr>\n",
       "      <th>1880</th>\n",
       "      <td>38</td>\n",
       "      <td>83</td>\n",
       "      <td>356</td>\n",
       "    </tr>\n",
       "    <tr>\n",
       "      <th>1881</th>\n",
       "      <td>45</td>\n",
       "      <td>76</td>\n",
       "      <td>327</td>\n",
       "    </tr>\n",
       "    <tr>\n",
       "      <th>1882</th>\n",
       "      <td>39</td>\n",
       "      <td>94</td>\n",
       "      <td>386</td>\n",
       "    </tr>\n",
       "    <tr>\n",
       "      <th>1883</th>\n",
       "      <td>49</td>\n",
       "      <td>74</td>\n",
       "      <td>376</td>\n",
       "    </tr>\n",
       "    <tr>\n",
       "      <th>1884</th>\n",
       "      <td>55</td>\n",
       "      <td>111</td>\n",
       "      <td>385</td>\n",
       "    </tr>\n",
       "    <tr>\n",
       "      <th>...</th>\n",
       "      <td>...</td>\n",
       "      <td>...</td>\n",
       "      <td>...</td>\n",
       "    </tr>\n",
       "    <tr>\n",
       "      <th>2004</th>\n",
       "      <td>8119</td>\n",
       "      <td>12169</td>\n",
       "      <td>1854</td>\n",
       "    </tr>\n",
       "    <tr>\n",
       "      <th>2005</th>\n",
       "      <td>8214</td>\n",
       "      <td>12043</td>\n",
       "      <td>1825</td>\n",
       "    </tr>\n",
       "    <tr>\n",
       "      <th>2006</th>\n",
       "      <td>7926</td>\n",
       "      <td>11577</td>\n",
       "      <td>1930</td>\n",
       "    </tr>\n",
       "    <tr>\n",
       "      <th>2007</th>\n",
       "      <td>7407</td>\n",
       "      <td>11243</td>\n",
       "      <td>1873</td>\n",
       "    </tr>\n",
       "    <tr>\n",
       "      <th>2008</th>\n",
       "      <td>7010</td>\n",
       "      <td>9792</td>\n",
       "      <td>1694</td>\n",
       "    </tr>\n",
       "  </tbody>\n",
       "</table>\n",
       "<p>129 rows × 3 columns</p>\n",
       "</div>"
      ],
      "text/plain": [
       "name  Juan   Jose  Martin\n",
       "year                     \n",
       "1880    38     83     356\n",
       "1881    45     76     327\n",
       "1882    39     94     386\n",
       "1883    49     74     376\n",
       "1884    55    111     385\n",
       "...    ...    ...     ...\n",
       "2004  8119  12169    1854\n",
       "2005  8214  12043    1825\n",
       "2006  7926  11577    1930\n",
       "2007  7407  11243    1873\n",
       "2008  7010   9792    1694\n",
       "\n",
       "[129 rows x 3 columns]"
      ]
     },
     "execution_count": 34,
     "metadata": {},
     "output_type": "execute_result"
    }
   ],
   "source": [
    "pname[[\"Juan\", \"Jose\", \"Martin\"]]\n"
   ]
  },
  {
   "cell_type": "code",
   "execution_count": 35,
   "metadata": {
    "collapsed": false
   },
   "outputs": [
    {
     "data": {
      "text/plain": [
       "<matplotlib.axes._subplots.AxesSubplot at 0x7fc122b57f28>"
      ]
     },
     "execution_count": 35,
     "metadata": {},
     "output_type": "execute_result"
    },
    {
     "data": {
      "image/png": "[encoded data removed]",
      "text/plain": [
       "<matplotlib.figure.Figure at 0x7fc1224805f8>"
      ]
     },
     "metadata": {},
     "output_type": "display_data"
    }
   ],
   "source": [
    "pname[[\"Juan\", \"Jose\", \"Martin\"]].plot()\n",
    "\n",
    "\n"
   ]
  },
  {
   "cell_type": "code",
   "execution_count": null,
   "metadata": {
    "collapsed": true
   },
   "outputs": [],
   "source": []
  }
 ],
 "metadata": {
  "kernelspec": {
   "display_name": "Python 3",
   "language": "python",
   "name": "python3"
  },
  "language_info": {
   "codemirror_mode": {
    "name": "ipython",
    "version": 3
   },
   "file_extension": ".py",
   "mimetype": "text/x-python",
   "name": "python",
   "nbconvert_exporter": "python",
   "pygments_lexer": "ipython3",
   "version": "3.4.3"
  }
 },
 "nbformat": 4,
 "nbformat_minor": 0
}
