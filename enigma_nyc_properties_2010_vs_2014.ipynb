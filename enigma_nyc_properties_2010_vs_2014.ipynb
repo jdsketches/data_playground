{
 "cells": [
  {
   "cell_type": "markdown",
   "metadata": {},
   "source": [
    "# Learning Pandas using Enigma.io's API and datasets."
   ]
  },
  {
   "cell_type": "markdown",
   "metadata": {},
   "source": [
    "\n",
    "##This notebook uses Pandas to explore a dataset exported from Enigma.io.<br>It serves 2 goals:\n",
    "\n",
    "### 1. Learn Pandas: apply the concepts learned in these Pandas tutorials, to a random dataset:\n",
    "  - Wes McKinney's \"Data analysis in Python with pandas.\"  (https://youtu.be/w26x-z-BdWQ)\n",
    "  - Greg Reda's \"Translating SQL to pandas. And back.\" (https://youtu.be/1uVWjdAbgBg)\n",
    "  - Sarah Guido \"Hands-on Data Analysis with Python.\" (https://youtu.be/L4Hbv4ugUWk)\n",
    "\n",
    "### 2. Become familiar with some of Enigma.io's content, services, tools:\n",
    "\n",
    "- Its website, currently available datasets, typical schema & metadata of the datasets, Enigma API, etc.\n"
   ]
  },
  {
   "cell_type": "markdown",
   "metadata": {},
   "source": [
    "##Note about the datasets:\n",
    "Ideally I'd use different classes of datasets: that overlap through some columns, but that also augment each other.\n",
    "\n",
    "Putting datasets from separate origins on a common \"Enigma\" plane, and providing \"normalized\" access and tools (exploratory, analytical, predictive) is what makes Enigma particularly interesting.\n",
    "\n",
    "But at this point my main objective is to learn Pandas, and therefore baby Pandas steps. Start with datasets that provide information about NYC property assessments (2010, 2012, 2014).\n",
    "\n",
    "---"
   ]
  },
  {
   "cell_type": "markdown",
   "metadata": {},
   "source": [
    "##Some of the work that follows:\n",
    "\n",
    "- Downloaded the datasets from Enigma, using an initial version of a Python client which provides support for the \"export\" API.\n",
    "- Initial exploration of the dataset: memory, number of rows, schema, some content cleanup, etc.\n",
    "- Columns: renaming to make them easier to read, dropping some, adding \"synthetic\" ones, etc.\n",
    "- Performed a series of \"nosy\" queries. Examples:\n",
    "  * highest/lowest valued properties per zip code; in my block, etc.\n",
    "  * who owns the most real estate (hint: Deutschland not just powerful at soccer).\n",
    "  * zips with most properties valued around $1M? $5M (hint: Park Slopers doing well, but can't keep up)"
   ]
  },
  {
   "cell_type": "code",
   "execution_count": 21,
   "metadata": {
    "collapsed": true
   },
   "outputs": [],
   "source": [
    "%matplotlib inline\n",
    "import pandas as pd\n",
    "import numpy as np"
   ]
  },
  {
   "cell_type": "markdown",
   "metadata": {},
   "source": [
    "\n",
    "\n",
    "## Download the datasets making use of enigma.io API."
   ]
  },
  {
   "cell_type": "markdown",
   "metadata": {},
   "source": [
    "Go to last cell in this notebook, which shows an initial version of a Python client to enigma.io.<br>To download the datasets, the module containing the client would be invoked like this...\n",
    "\n",
    "     ENV_ENIGMA_APIKEY=xyz ./enigma_client.py us.states.ny.cities.nyc.property.assessment-valuation.avroll.2010\n",
    "     ENV_ENIGMA_APIKEY=xyz ./enigma_client.py us.states.ny.cities.nyc.property.assessment-valuation.avroll.2012\n",
    "     ENV_ENIGMA_APIKEY=xyz ./enigma_client.py us.states.ny.cities.nyc.property.assessment-valuation.avroll.2014"
   ]
  },
  {
   "cell_type": "markdown",
   "metadata": {},
   "source": [
    "## These will be our datasets: NYC property assessments from 2010, 2012 and 2014."
   ]
  },
  {
   "cell_type": "code",
   "execution_count": 22,
   "metadata": {
    "collapsed": false
   },
   "outputs": [],
   "source": [
    "import os\n",
    "from collections import defaultdict\n",
    "\n",
    "#### leave out 2012 for now (too much memory for my humble laptop)\n",
    "# datasets_years = (2010, 2012, 2014)\n",
    "# dataset_csv_files = [\"nyc.prop_assess_2010.csv\",\n",
    "#                      \"nyc.prop_assess_2012.csv\",\n",
    "#                      \"nyc.prop_assess_2014.csv\",]\n",
    "datasets_years = (2010, 2014)\n",
    "data_dirname = \"./data/nyc_property_assessments\"\n",
    "dataset_csv_files = [\"nyc.prop_assess_2010.csv\",\n",
    "                     \"nyc.prop_assess_2014.csv\"]\n",
    "\n",
    "# Use a dict to store info for each dataset (the dict's keys are the years)\n",
    "# (dataset csv filename, dataframe handle, etc.)\n",
    "datasets_info = defaultdict(dict)\n",
    "\n",
    "# for now the only info for each dataset is its csv fname\n",
    "# more info will be added.\n",
    "for dataset_keyname, fname in zip(datasets_years, dataset_csv_files):\n",
    "    datasets_info[dataset_keyname][\"csv_file\"] = os.path.join(data_dirname, fname)"
   ]
  },
  {
   "cell_type": "markdown",
   "metadata": {},
   "source": [
    "## Get an initial idea of what we have. File sizes & number of rows."
   ]
  },
  {
   "cell_type": "code",
   "execution_count": 23,
   "metadata": {
    "collapsed": false
   },
   "outputs": [
    {
     "name": "stdout",
     "output_type": "stream",
     "text": [
      "Info for file ./data/nyc_property_assessments/nyc.prop_assess_2010.csv:\n",
      "   Number of rows: 1060513\n",
      "   File size:      185,122,823\n",
      "\n",
      "Info for file ./data/nyc_property_assessments/nyc.prop_assess_2014.csv:\n",
      "   Number of rows: 1088351\n",
      "   File size:      164,461,696\n",
      "\n"
     ]
    }
   ],
   "source": [
    "import os\n",
    "\n",
    "for dset in datasets_info.values():\n",
    "    fname = dset[\"csv_file\"]\n",
    "    wc_info = !wc -l $fname\n",
    "    print(\"Info for file {}:\".format(fname))\n",
    "    print(\"   Number of rows: {}\".format(wc_info[0].split()[0]))\n",
    "    print(\"   File size:      {:,}\".format(os.stat(fname).st_size))\n",
    "    print()"
   ]
  },
  {
   "cell_type": "markdown",
   "metadata": {},
   "source": [
    "## Read the datasets into Pandas DataFrames."
   ]
  },
  {
   "cell_type": "code",
   "execution_count": 24,
   "metadata": {
    "collapsed": false
   },
   "outputs": [
    {
     "name": "stdout",
     "output_type": "stream",
     "text": [
      "CPU times: user 20.1 s, sys: 14.4 s, total: 34.6 s\n",
      "Wall time: 54.5 s\n"
     ]
    }
   ],
   "source": [
    "%%time\n",
    "# Some cols generating warnings during the read (mixed dtypes). Be specific.\n",
    "for dset_key in datasets_info.keys():\n",
    "    dset = datasets_info[dset_key]\n",
    "    dset[\"df\"] = pd.read_csv(dset[\"csv_file\"], dtype={\"bble\": object, \"easement\": object})"
   ]
  },
  {
   "cell_type": "markdown",
   "metadata": {},
   "source": [
    "## Some schema exploration..."
   ]
  },
  {
   "cell_type": "markdown",
   "metadata": {},
   "source": [
    "***\n",
    "\n",
    "### <<< <a id=\"cols_start\">START OF COLUMNS PROCESSING</a> >>>\n",
    "\n",
    "### The cells that follow operate on the dataframes' columns<br>(renaming, dropping some, adding new ones, \"cleaning\" cols of dtype \"string\", etc.). \n",
    "\n",
    "To skip to the last of these cells, search for [\"END OF COLUMNS PROCESSING\"](#cols_end).\n",
    "\n",
    "*** Note: *** these adjustments to the columns is the result of the intial work done in a previous notebook; it contains comments about why I perform these add/del/modifications - \"enigma_nyc_properties_2010.ipynb\")."
   ]
  },
  {
   "cell_type": "code",
   "execution_count": 25,
   "metadata": {
    "collapsed": false
   },
   "outputs": [],
   "source": [
    "# we'll be using each dataset's dataframe handle (df) frequently\n",
    "# Provide a small util func/generator to return back each dataset's (year, df)\n",
    "from collections import namedtuple\n",
    "DFInfo = namedtuple('DFInfo', ['year', 'df'])\n",
    "def _dfs():\n",
    "    for dset_year in datasets_info.keys():\n",
    "        dfi = DFInfo(dset_year, datasets_info[dset_year][\"df\"])\n",
    "        yield dfi"
   ]
  },
  {
   "cell_type": "markdown",
   "metadata": {},
   "source": [
    "### What are the dataframe's columns?"
   ]
  },
  {
   "cell_type": "code",
   "execution_count": 26,
   "metadata": {
    "collapsed": false
   },
   "outputs": [
    {
     "name": "stdout",
     "output_type": "stream",
     "text": [
      "\n",
      "\n",
      "Dataset 2010 columns...\n",
      "avland    avland2   avtot     avtot2    bble      blddepth  \n",
      "bldfront  bldgcl    block     borough   easement  excd1     excd2     \n",
      "exland    exland2   exmptcl   ext       extot     extot2    fullval   \n",
      "lot       ltdepth   ltfront   owner     period    serialid  staddr    \n",
      "stories   taxclass  valtype   year      zip       \n",
      "\n",
      "\n",
      "Dataset 2014 columns...\n",
      "avland    avland2   avtot     avtot2    b         bble      \n",
      "blddepth  bldfront  bldgcl    block     easement  excd1     excd2     \n",
      "exland    exland2   exmptcl   ext       extot     extot2    fullval   \n",
      "lot       ltdepth   ltfront   owner     period    serialid  staddr    \n",
      "stories   taxclass  valtype   year      zip       \n"
     ]
    }
   ],
   "source": [
    "# Column names not that visually clear; make them easier to read...\n",
    "def prettify_colnames(columns, cols_per_row=7):\n",
    "    cols = sorted(columns)\n",
    "    colsize = 2 + max(len(colname) for colname in cols)\n",
    "    outstr = \"\"\n",
    "    for ix, colname in enumerate(cols):\n",
    "        outstr += \"{newline}{cn:{sz}}\".format(\n",
    "            newline=\"\" if (ix+1) % cols_per_row else \"\\n\", cn=colname, sz=colsize)\n",
    "    return outstr\n",
    "\n",
    "for dfi in _dfs():\n",
    "    print(\"\\n\\nDataset {} columns...\\n{}\".format(dfi.year, prettify_colnames(dfi.df.columns)))"
   ]
  },
  {
   "cell_type": "markdown",
   "metadata": {},
   "source": [
    "## What do these column headers mean!? Kind of cryptic names...\n",
    "\n",
    "### Navigate enigma.io website. <br>You can click on \"Description\" for any table/dataset.<br>A modal window pops up.<br> You can choose to \"export\" the column descriptions as a file.\n",
    "\n",
    "Downloaded it, unzipped it. It contains 2 files...\n",
    "\n",
    "     table-info.csv\n",
    "     column-info.csv     "
   ]
  },
  {
   "cell_type": "markdown",
   "metadata": {},
   "source": [
    "### Read the column-info.csv file."
   ]
  },
  {
   "cell_type": "code",
   "execution_count": 27,
   "metadata": {
    "collapsed": false
   },
   "outputs": [],
   "source": [
    "## 2012 out for now...\n",
    "#columns_csv_files = [\"2010-column-info.csv\", \"2010-column-info.csv\", ]\n",
    "columns_csv_files = [\"2010-column-info.csv\", \"2014-column-info.csv\"]\n",
    "\n",
    "for dataset_keyname, fname in zip(datasets_years, columns_csv_files):\n",
    "    fname = os.path.join(data_dirname, fname)\n",
    "    datasets_info[dataset_keyname][\"cols_csv_file\"] = fname\n",
    "    datasets_info[dataset_keyname][\"cols_df\"] = pd.read_csv(fname)"
   ]
  },
  {
   "cell_type": "markdown",
   "metadata": {},
   "source": [
    "### Get some info about the columns.<br>Make sure schemas/cols across years contain the same columns we'll use later."
   ]
  },
  {
   "cell_type": "code",
   "execution_count": 28,
   "metadata": {
    "collapsed": false
   },
   "outputs": [
    {
     "name": "stdout",
     "output_type": "stream",
     "text": [
      "\n",
      "\n",
      "===========> Cols for year: 2010\n",
      "<class 'pandas.core.frame.DataFrame'>\n",
      "Int64Index: 32 entries, 0 to 31\n",
      "Data columns (total 4 columns):\n",
      "Column Name           32 non-null object\n",
      "Column Description    32 non-null object\n",
      "Column API ID         32 non-null object\n",
      "Column Type           32 non-null object\n",
      "dtypes: object(4)\n",
      "memory usage: 1.2+ KB\n",
      "\n",
      "\n",
      "===========> Cols for year: 2014\n",
      "<class 'pandas.core.frame.DataFrame'>\n",
      "Int64Index: 32 entries, 0 to 31\n",
      "Data columns (total 4 columns):\n",
      "Column Name           32 non-null object\n",
      "Column Description    32 non-null object\n",
      "Column API ID         32 non-null object\n",
      "Column Type           32 non-null object\n",
      "dtypes: object(4)\n",
      "memory usage: 1.2+ KB\n"
     ]
    }
   ],
   "source": [
    "for ds_key in datasets_info:\n",
    "    print(\"\\n\\n===========> Cols for year: {}\".format(ds_key))\n",
    "    datasets_info[ds_key][\"cols_df\"].info()"
   ]
  },
  {
   "cell_type": "markdown",
   "metadata": {},
   "source": [
    "### All ok if the various datasets contain the same columns except for the renaming of (\"borough\" <=> \"b\")."
   ]
  },
  {
   "cell_type": "code",
   "execution_count": 29,
   "metadata": {
    "collapsed": false
   },
   "outputs": [],
   "source": [
    "# Stop if columns are not what we expect.\n",
    "reference_set = {col for col in datasets_info[2014][\"cols_df\"][\"Column API ID\"]}\n",
    "\n",
    "for dset_key in datasets_info:\n",
    "    diff = reference_set ^ {col for col in datasets_info[dset_key][\"cols_df\"][\"Column API ID\"]}\n",
    "    assert len(diff - {'b', 'borough'}) == 0"
   ]
  },
  {
   "cell_type": "markdown",
   "metadata": {},
   "source": [
    "### Select what seems like a useful subset of the 32 columns.<br> We'll use this col subset for our data exploration."
   ]
  },
  {
   "cell_type": "code",
   "execution_count": 30,
   "metadata": {
    "collapsed": false
   },
   "outputs": [],
   "source": [
    "# these columns seem interesting \n",
    "# (owner, street name & number, value, lot front/depth in ft., num of stories, ...)\n",
    "colnames = [\"owner\",\n",
    "            \"fullval\",\n",
    "            \"zip\",\n",
    "            \"block\",\n",
    "            \"staddr\",\n",
    "            \"ltfront\",\n",
    "            \"ltdepth\",\n",
    "            \"stories\",\n",
    "            \"taxclass\",\n",
    "            \"easement\"]\n",
    "\n",
    "# index the descr table by the cryptic API name (use 2014 colnames table as a ref.).\n",
    "cidx = datasets_info[2014][\"cols_df\"].set_index(\"Column API ID\")\n",
    "\n",
    "# map the cryptic dataset colnames to more user-friendly names\n",
    "# (preserve the col order listed above)\n",
    "from collections import OrderedDict\n",
    "cols_subset = OrderedDict()\n",
    "for cn in colnames:\n",
    "    cols_subset[cn] = cidx.ix[cn][\"Column Name\"].strip()"
   ]
  },
  {
   "cell_type": "markdown",
   "metadata": {},
   "source": [
    "##Rename columns of interest.<br>Drop all others.<br>Reindex the (reduced + renamed) columns<br>(display in order shown in colnames list above)."
   ]
  },
  {
   "cell_type": "code",
   "execution_count": 31,
   "metadata": {
    "collapsed": true
   },
   "outputs": [],
   "source": [
    "def drop_some_cols(df, cols_subset):\n",
    "    all_cols = set(df.columns)\n",
    "    df_cols_reduced = df.drop(all_cols - set(cols_subset), axis=1)\n",
    "    return df_cols_reduced\n",
    "\n",
    "def rename_some_cols(df, cols_subset):\n",
    "    df_renamed = df.rename(columns = cols_subset)\n",
    "    return df_renamed\n",
    "\n",
    "def reindex_cols(df, ordered_cols):\n",
    "    df_reindexed = df.reindex_axis(ordered_cols, axis=1)\n",
    "    return df_reindexed\n",
    "\n",
    "for dfinfo in _dfs():\n",
    "    df_subset = drop_some_cols(dfinfo.df, cols_subset.keys())\n",
    "    df_subset = rename_some_cols(df_subset, cols_subset)\n",
    "    # remember that cols_subset is an OrderedDict (already in the order we want)\n",
    "    df_subset = reindex_cols(df_subset, cols_subset.values())\n",
    "    \n",
    "    datasets_info[dfinfo.year][\"dfsub\"] = df_subset\n",
    "\n",
    "# don't accumulate unneeded large objects\n",
    "del df_subset"
   ]
  },
  {
   "cell_type": "code",
   "execution_count": 32,
   "metadata": {
    "collapsed": true
   },
   "outputs": [],
   "source": [
    "# repeat utility func to make it easeier to get at subset df handle.\n",
    "DFInfo = namedtuple('DFInfo', ['year', 'dfsub'])\n",
    "def _subdfs():\n",
    "    for dset_year in datasets_info.keys():\n",
    "        dfi = DFInfo(dset_year, datasets_info[dset_year][\"dfsub\"])\n",
    "        yield dfi"
   ]
  },
  {
   "cell_type": "markdown",
   "metadata": {},
   "source": [
    "## Facilitate operating on some \"string\" columns (owner, address)."
   ]
  },
  {
   "cell_type": "code",
   "execution_count": 33,
   "metadata": {
    "collapsed": false
   },
   "outputs": [],
   "source": [
    "normalize_str_colnames = [\"Owner\", \"Street Address\"]\n",
    "\n",
    "def strip_and_upper(s):\n",
    "     return s.strip().upper()\n",
    "\n",
    "for dfinfo in _subdfs():\n",
    "    for colname in normalize_str_colnames:\n",
    "        dfinfo.dfsub[colname].fillna(\"\", inplace=True)\n",
    "        dfinfo.dfsub[colname] = dfinfo.dfsub[colname].map(strip_and_upper)"
   ]
  },
  {
   "cell_type": "markdown",
   "metadata": {},
   "source": [
    "## Let's create a column that displays the \"Full Value\" column in a human-friendly format.\n"
   ]
  },
  {
   "cell_type": "code",
   "execution_count": 34,
   "metadata": {
    "collapsed": false
   },
   "outputs": [],
   "source": [
    "for dfinfo in _subdfs():\n",
    "    dfinfo.dfsub[\"FullValueUX\"] = dfinfo.dfsub[\"Full Value\"].map(\"${:,.0f}\".format)"
   ]
  },
  {
   "cell_type": "code",
   "execution_count": 35,
   "metadata": {
    "collapsed": true
   },
   "outputs": [],
   "source": [
    "# Let's put the new (long-named) columns in a list so that\n",
    "# we don't have to type them every time...\n",
    "cols_to_show = list(cidx.ix[cols_subset.keys()][\"Column Name\"])\n",
    "\n",
    "# and insert the formatted FullValueUX as a leading col \n",
    "# (put unformatted as last one - don't drop it - we need it for float ops)\n",
    "cols_to_show[1:2] = [\"FullValueUX\"]\n",
    "cols_to_show.append(\"Full Value\")"
   ]
  },
  {
   "cell_type": "markdown",
   "metadata": {},
   "source": [
    "## Add synthetic total square footage column."
   ]
  },
  {
   "cell_type": "code",
   "execution_count": 36,
   "metadata": {
    "collapsed": true
   },
   "outputs": [],
   "source": [
    "for dfinfo in _subdfs():\n",
    "    dfinfo.dfsub[\"SquareFt\"] = np.round(dfinfo.dfsub[\"Lot Frontage\"] * dfinfo.dfsub[\"Lot Depth\"])\n",
    "cols_to_show.append(\"SquareFt\")"
   ]
  },
  {
   "cell_type": "markdown",
   "metadata": {},
   "source": [
    "##Create an arbitrary definition of what a \"residential house\" is.\n",
    "\n",
    "###Used to make queries that apply more to residential than commercial properties.\n",
    "\n",
    "<ol>\n",
    "   <li> Cap the square footage to <= 3000 </li>\n",
    "   <li> Cap the property's num of stories to <= 3 </li>\n",
    "   <li> Tax Class == 1</li>\n",
    "</ol>\n"
   ]
  },
  {
   "cell_type": "markdown",
   "metadata": {},
   "source": [
    "##Add synthetic \"residential\" column (True, False)."
   ]
  },
  {
   "cell_type": "code",
   "execution_count": 37,
   "metadata": {
    "collapsed": true
   },
   "outputs": [],
   "source": [
    "for dfinfo in _subdfs():\n",
    "    dfinfo.dfsub[\"Residential\"] = ((dfinfo.dfsub.SquareFt <= 3000) & \n",
    "                                   (dfinfo.dfsub.Stories <= 3) & \n",
    "                                   (dfinfo.dfsub[\"Tax Class\"] == \"1\"))\n",
    "    \n",
    "cols_to_show.append(\"Residential\")"
   ]
  },
  {
   "cell_type": "markdown",
   "metadata": {
    "collapsed": true
   },
   "source": [
    "***\n",
    "\n",
    "### <<< <a id=\"cols_end\">END OF COLUMNS PROCESSING</a> >>>\n",
    "\n",
    "*** or, jump back to the [Start of Columns Processing](#cols_start) ***\n",
    "\n",
    "***"
   ]
  },
  {
   "cell_type": "markdown",
   "metadata": {
    "collapsed": true
   },
   "source": [
    "##  Schema cleanup done for now.<br>Start some data exploration and queries."
   ]
  },
  {
   "cell_type": "markdown",
   "metadata": {
    "collapsed": true
   },
   "source": [
    "### DataFrames info:\n",
    "* most cells populated\n",
    "* easements mostly null, which makes sense\n",
    "* around 100MBytes per DF"
   ]
  },
  {
   "cell_type": "code",
   "execution_count": 38,
   "metadata": {
    "collapsed": false
   },
   "outputs": [
    {
     "name": "stdout",
     "output_type": "stream",
     "text": [
      "\n",
      "\n",
      "========> DataFrame info for year 2010\n",
      "<class 'pandas.core.frame.DataFrame'>\n",
      "Int64Index: 1060512 entries, 0 to 1060511\n",
      "Data columns (total 13 columns):\n",
      "Owner             1060512 non-null object\n",
      "Full Value        1060512 non-null float64\n",
      "Zip               1030018 non-null float64\n",
      "Block             1060512 non-null int64\n",
      "Street Address    1060512 non-null object\n",
      "Lot Frontage      1060512 non-null int64\n",
      "Lot Depth         1060512 non-null int64\n",
      "Stories           1003082 non-null float64\n",
      "Tax Class         1060512 non-null object\n",
      "Easement          4615 non-null object\n",
      "FullValueUX       1060512 non-null object\n",
      "SquareFt          1060512 non-null int64\n",
      "Residential       1060512 non-null bool\n",
      "dtypes: bool(1), float64(3), int64(4), object(5)\n",
      "memory usage: 106.2+ MB\n",
      "\n",
      "\n",
      "========> DataFrame info for year 2014\n",
      "<class 'pandas.core.frame.DataFrame'>\n",
      "Int64Index: 1088350 entries, 0 to 1088349\n",
      "Data columns (total 13 columns):\n",
      "Owner             1088350 non-null object\n",
      "Full Value        1088350 non-null int64\n",
      "Zip               1060293 non-null float64\n",
      "Block             1088350 non-null int64\n",
      "Street Address    1088350 non-null object\n",
      "Lot Frontage      1088350 non-null int64\n",
      "Lot Depth         1088350 non-null int64\n",
      "Stories           1032390 non-null float64\n",
      "Tax Class         1088350 non-null object\n",
      "Easement          4603 non-null object\n",
      "FullValueUX       1088350 non-null object\n",
      "SquareFt          1088350 non-null int64\n",
      "Residential       1088350 non-null bool\n",
      "dtypes: bool(1), float64(2), int64(5), object(5)\n",
      "memory usage: 109.0+ MB\n"
     ]
    }
   ],
   "source": [
    "for dfinfo in _subdfs():\n",
    "    print(\"\\n\\n========> DataFrame info for year {}\".format(dfinfo.year))\n",
    "    dfinfo.dfsub.info()"
   ]
  },
  {
   "cell_type": "code",
   "execution_count": 39,
   "metadata": {
    "collapsed": true
   },
   "outputs": [],
   "source": [
    "# ok, let's create shortcuts for the dataframes we'll use (subset of cleaned-up cols)\n",
    "df10 = datasets_info[2010][\"dfsub\"]\n",
    "df14 = datasets_info[2014][\"dfsub\"]\n",
    "\n",
    "# also create dataframe shortcuts for residential-only properties.\n",
    "df10res = df10[df10.Residential]\n",
    "df14res = df14[df14.Residential]"
   ]
  },
  {
   "cell_type": "markdown",
   "metadata": {},
   "source": [
    "# Start of queries section.\n",
    "\n",
    "##Each query will be preceded by a \"New Query\" header."
   ]
  },
  {
   "cell_type": "markdown",
   "metadata": {
    "collapsed": true
   },
   "source": [
    "---\n",
    "## ===> New Query:\n",
    "\n",
    "### Let's get a visual idea of where in the spectrum of zip-codes lie high-valued houses.<br>Scatter plot of zip codes with residential houses with values greater than 1M, 5M.\n",
    "*** (plenty of Park Slope in the 1M range, but can't keep up...)***"
   ]
  },
  {
   "cell_type": "code",
   "execution_count": 40,
   "metadata": {
    "collapsed": false
   },
   "outputs": [
    {
     "name": "stdout",
     "output_type": "stream",
     "text": [
      "\n",
      "\n",
      "2014: zip codes with most (count) houses > $1M: Park Slope area\n",
      "\n",
      "11215    3468\n",
      "11217    1639\n",
      "11231    1295\n",
      "11238    1025\n",
      "11201     914\n",
      "\n",
      "\n",
      "2014: zip codes with most (count) houses > $5M: 10014/West Village area\n",
      "\n",
      "10014    315\n",
      "10011    131\n",
      "10065     53\n",
      "10024     49\n",
      "10128     46\n"
     ]
    },
    {
     "data": {
      "image/png": "[encoded data removed]",
      "text/plain": [
       "<matplotlib.figure.Figure at 0x7fe067118320>"
      ]
     },
     "metadata": {},
     "output_type": "display_data"
    }
   ],
   "source": [
    "from matplotlib import pyplot as plt\n",
    "\n",
    "# plot a figure containing 2x2 subplots (2010/14 x $1m/$5M)\n",
    "fig, ((ax10_1M, ax10_5M), (ax14_1M, ax14_5M)) = plt.subplots(2, 2)\n",
    "\n",
    "# 2010 subplots\n",
    "df10res[df10res[\"Full Value\"] >= 1e6].plot(\n",
    "    ax=ax10_1M, y=\"Full Value\", x=\"Zip\", kind=\"scatter\", title=\"2010 1M\", rot=90)\n",
    "df10res[df10res[\"Full Value\"] >= 5e6].plot(\n",
    "    ax=ax10_5M, y=\"Full Value\", x=\"Zip\", kind=\"scatter\", title=\"2010 5M\", rot=90)\n",
    "\n",
    "# 2014 subplots\n",
    "df14res[df14res[\"Full Value\"] >= 1e6].plot(\n",
    "    ax=ax14_1M, y=\"Full Value\", x=\"Zip\", kind=\"scatter\", title=\"2014 1M\", rot=90)\n",
    "df14res[df14res[\"Full Value\"] >= 5e6].plot(\n",
    "    ax=ax14_5M, y=\"Full Value\", x=\"Zip\", kind=\"scatter\", title=\"2014 5M\", rot=90)\n",
    "\n",
    "### Print sample tabular info.\n",
    "# Houses > $1M; count how many in each zip code\n",
    "print(\"\\n\\n2014: zip codes with most (count) houses > $1M: Park Slope area\\n\\n{}\".format(\n",
    "    df10res[df10res[\"Full Value\"] >= 1e6].Zip.value_counts().head(5).to_string()))\n",
    "\n",
    "# Houses > $5M; count how many in each zip code\n",
    "print(\"\\n\\n2014: zip codes with most (count) houses > $5M: 10014/West Village area\\n\\n{}\".format(\n",
    "    df14res[df14res[\"Full Value\"] >= 5e6].Zip.value_counts().head(5).to_string()))\n"
   ]
  },
  {
   "cell_type": "markdown",
   "metadata": {},
   "source": [
    "## ===> New Query:\n",
    "\n",
    "### Let's test the \"Residential\" column that we added. \n",
    "\n",
    "Which properties are listed in a particular zip code with/without the Residential filter applied?\n",
    "\n",
    "The \"all properties\" listing is topped by the shipping port in Red Hook and other government properties with Tax Class = 4.<br>The \"residential\" listings are topped along residential Clinton, Kane and Tompkins streets, right next the Synagogue :)\n",
    "\n",
    "### From results in the cell below: good enough.<br>This will allow us to do \"residential\" only type of queries."
   ]
  },
  {
   "cell_type": "code",
   "execution_count": 41,
   "metadata": {
    "collapsed": false
   },
   "outputs": [
    {
     "name": "stdout",
     "output_type": "stream",
     "text": [
      "2010 top 10 values (all properties) in zip=11231\n",
      "\n",
      "         FullValueUX                  Owner       Street Address Tax Class\n",
      "264568  $100,200,000     DEPT RE-CITY OF NY   118 CONOVER STREET         4\n",
      "265587   $42,600,000  ONE BEARD STREET, LLC      21 BEARD STREET         4\n",
      "260478   $30,600,000     BOARD OF EDUCATION     610 HENRY STREET         4\n",
      "263476   $21,500,000     BOARD OF EDUCATION   242 CARROLL STREET         4\n",
      "265586   $20,685,000       640 COLUMBIA LLC  640 COLUMBIA STREET         4\n",
      "265591   $13,460,000  GOWANUS INDUSTRIAL PA  685 COLUMBIA STREET         4\n",
      "265588   $13,371,600  THOR 280 RICHARDS STR  280 RICHARDS STREET         4\n",
      "265044   $13,100,000    183 LORRAINE STREET  183 LORRAINE STREET         4\n",
      "\n",
      "\n",
      "2010 top 10 values (residential only) in zip=11231\n",
      "\n",
      "       FullValueUX                Owner      Street Address Tax Class\n",
      "257693  $3,610,000  FORMAN, ELIZABETH A     249 KANE STREET         1\n",
      "258481  $3,600,000   SHARON E HUMPHREYS   36 TOMPKINS PLACE         1\n",
      "258517  $3,430,000        ADAIR JAMES R   23 TOMPKINS PLACE         1\n",
      "258514  $3,370,000          MICHAEL FAY   31 TOMPKINS PLACE         1\n",
      "258816  $3,290,000           PITT, ERIC  286 DE GRAW STREET         1\n",
      "257699  $3,230,000           JAMES BODE     235 KANE STREET         1\n",
      "260218  $3,200,000    PIPITONE DOMINICK          75 2 PLACE         1\n",
      "257697  $3,200,000  SHELANSKI MICHAEL L     241 KANE STREET         1\n"
     ]
    }
   ],
   "source": [
    "# Choose 11231 (Red Hook/Gowanus,/Carroll Gardens area in Brooklyn).\n",
    "df10_11231 = df10[df10.Zip == 11231].sort(\"Full Value\", ascending=False)\n",
    "df14_11231 = df14[df14.Zip == 11231].sort(\"Full Value\", ascending=False)\n",
    "\n",
    "cols_to_print = [\"FullValueUX\", \"Owner\", \"Street Address\", \"Tax Class\"]\n",
    "\n",
    "print(\"2010 top 10 values (all properties) in zip=11231\\n\\n{}\".format(\n",
    "        df10_11231[:8][cols_to_print].to_string()))\n",
    "print(\"\\n\\n2010 top 10 values (residential only) in zip=11231\\n\\n{}\".format(\n",
    "        df10_11231[df10_11231.Residential==True][:8][cols_to_print].to_string()))\n",
    "\n",
    "\n",
    "# let's inform engine that it can garb.collect dataframes we won't use anymore\n",
    "del df10_11231\n",
    "del df14_11231"
   ]
  },
  {
   "cell_type": "markdown",
   "metadata": {
    "collapsed": true
   },
   "source": [
    "---\n",
    "\n",
    "## ===> New Query:\n",
    "\n",
    "### Top 10 values for residential properties NYC-wide?\n",
    "\n",
    "2010's #2 rises to the top in 2014, almost doubling in value. Facing the East River:<br>\n",
    "http://www.nytimes.com/2008/05/25/realestate/25deal1.html"
   ]
  },
  {
   "cell_type": "code",
   "execution_count": 42,
   "metadata": {
    "collapsed": false
   },
   "outputs": [
    {
     "name": "stdout",
     "output_type": "stream",
     "text": [
      "2010 top 10 values (all properties) city-wide\n",
      "\n",
      "       FullValueUX                 Owner         Street Address Tax Class\n",
      "98611  $13,200,000           USDAN, ADAM     161 EAST 73 STREET         1\n",
      "94452  $12,900,000  7 SUTTON SQUARE, LLC        7 SUTTON SQUARE         1\n",
      "68546  $12,200,000         JANN S WENNER      27 WEST 74 STREET         1\n",
      "31551  $12,200,000        SACKHEIM, CARL  689 WASHINGTON STREET         1\n",
      "41583  $11,600,000      859 BROADWAY LLC           859 BROADWAY         1\n",
      "\n",
      "\n",
      "2014 top 10 values (all properties) city-wide\n",
      "\n",
      "        FullValueUX                 Owner      Street Address Tax Class\n",
      "100511  $23,374,000  7 SUTTON SQUARE, LLC     7 SUTTON SQUARE         1\n",
      "103958  $19,055,000  126 EAST 66TH STREET  126 EAST 66 STREET         1\n",
      "102779  $15,822,000             CKLM, LLC     870 PARK AVENUE         1\n",
      "102776  $14,848,000     A. ALEXANDER LARI   75 EAST 77 STREET         1\n",
      "32610   $14,000,000      RESNICK, SCOTT N   293 WEST 4 STREET         1\n"
     ]
    }
   ],
   "source": [
    "print(\"2010 top 10 values (all properties) city-wide\\n\\n{}\".format(\n",
    "        df10res.sort(\"Full Value\", ascending=False)[:5][cols_to_print]))\n",
    "\n",
    "print(\"\\n\\n2014 top 10 values (all properties) city-wide\\n\\n{}\".format(\n",
    "        df14res.sort(\"Full Value\", ascending=False)[:5][cols_to_print]))"
   ]
  },
  {
   "cell_type": "code",
   "execution_count": null,
   "metadata": {
    "collapsed": true
   },
   "outputs": [],
   "source": []
  },
  {
   "cell_type": "code",
   "execution_count": null,
   "metadata": {
    "collapsed": true
   },
   "outputs": [],
   "source": []
  },
  {
   "cell_type": "markdown",
   "metadata": {},
   "source": [
    "#  !!!! work-in-progress below !!!!<br>!!!! work-in-progress below !!!!<br>!!!! work-in-progress below !!!!<br>"
   ]
  },
  {
   "cell_type": "code",
   "execution_count": null,
   "metadata": {
    "collapsed": true
   },
   "outputs": [],
   "source": []
  },
  {
   "cell_type": "markdown",
   "metadata": {
    "collapsed": true
   },
   "source": [
    "---\n",
    "## ===> New Query:"
   ]
  },
  {
   "cell_type": "code",
   "execution_count": null,
   "metadata": {
    "collapsed": true
   },
   "outputs": [],
   "source": []
  },
  {
   "cell_type": "code",
   "execution_count": null,
   "metadata": {
    "collapsed": true
   },
   "outputs": [],
   "source": []
  },
  {
   "cell_type": "code",
   "execution_count": 43,
   "metadata": {
    "collapsed": false
   },
   "outputs": [],
   "source": [
    "#df14_ixzb.ix[11231, 464].plot(x=\"SquareFt\", y=\"Full Value\", kind=\"scatter\")"
   ]
  },
  {
   "cell_type": "code",
   "execution_count": 44,
   "metadata": {
    "collapsed": false
   },
   "outputs": [],
   "source": [
    "\n",
    "#df10_res_1123x_grp_zb.apply(lambda df: df.sort_index(by=\"Full Value\", ascending=False)[:2])[[\"FullValueUX\", \"Owner\", \"Street Address\"]]\n",
    "\n"
   ]
  },
  {
   "cell_type": "code",
   "execution_count": 45,
   "metadata": {
    "collapsed": false
   },
   "outputs": [],
   "source": [
    "#hzb_grp[\"Full Value\"].mean().plot(rot=90, style=\"x\")"
   ]
  },
  {
   "cell_type": "code",
   "execution_count": null,
   "metadata": {
    "collapsed": true
   },
   "outputs": [],
   "source": []
  },
  {
   "cell_type": "code",
   "execution_count": 46,
   "metadata": {
    "collapsed": false
   },
   "outputs": [],
   "source": [
    "#df10_sqft1000s.groupby([\"Zip\", \"SquareFt\"]).median()[[\"Full Value\"]].unstack(\"SquareFt\").ix[11231].plot(rot=90)\n",
    "#df10_sqft1000s.groupby([\"Zip\", \"SquareFt\"]).median()[[\"Full Value\"]].unstack(\"SquareFt\").ix[11231].index"
   ]
  },
  {
   "cell_type": "code",
   "execution_count": null,
   "metadata": {
    "collapsed": true
   },
   "outputs": [],
   "source": []
  },
  {
   "cell_type": "code",
   "execution_count": 47,
   "metadata": {
    "collapsed": false
   },
   "outputs": [],
   "source": [
    "#df10_sqft1000s.groupby([\"Zip\", \"SquareFt\"]).median()[[\"Full Value\"]].unstack(\"SquareFt\")[11230:11235]"
   ]
  },
  {
   "cell_type": "code",
   "execution_count": null,
   "metadata": {
    "collapsed": true
   },
   "outputs": [],
   "source": []
  },
  {
   "cell_type": "code",
   "execution_count": 48,
   "metadata": {
    "collapsed": false
   },
   "outputs": [
    {
     "name": "stdout",
     "output_type": "stream",
     "text": [
      "{\n",
      "  \"stdin_port\": 40774,\n",
      "  \"control_port\": 50707,\n",
      "  \"signature_scheme\": \"hmac-sha256\",\n",
      "  \"ip\": \"127.0.0.1\",\n",
      "  \"key\": \"63e471ba-f63d-49cf-981c-b37e4f570bd8\",\n",
      "  \"shell_port\": 36330,\n",
      "  \"transport\": \"tcp\",\n",
      "  \"hb_port\": 51971,\n",
      "  \"iopub_port\": 36519\n",
      "}\n",
      "\n",
      "Paste the above JSON into a file, and connect with:\n",
      "    $> ipython <app> --existing <file>\n",
      "or, if you are local, you can connect with just:\n",
      "    $> ipython <app> --existing kernel-ae806196-73f7-4720-bd18-ab956990f6f2.json \n",
      "or even just:\n",
      "    $> ipython <app> --existing \n",
      "if this is the most recent IPython session you have started.\n"
     ]
    }
   ],
   "source": [
    "%connect_info"
   ]
  },
  {
   "cell_type": "code",
   "execution_count": 49,
   "metadata": {
    "collapsed": false
   },
   "outputs": [
    {
     "ename": "AssertionError",
     "evalue": "",
     "output_type": "error",
     "traceback": [
      "\u001b[1;31m---------------------------------------------------------------------------\u001b[0m",
      "\u001b[1;31mAssertionError\u001b[0m                            Traceback (most recent call last)",
      "\u001b[1;32m<ipython-input-49-c3692cd9d0fb>\u001b[0m in \u001b[0;36m<module>\u001b[1;34m()\u001b[0m\n\u001b[0;32m      1\u001b[0m \u001b[1;31m# when running all cells: the bucket stops here\u001b[0m\u001b[1;33m\u001b[0m\u001b[1;33m\u001b[0m\u001b[0m\n\u001b[0;32m      2\u001b[0m \u001b[1;33m\u001b[0m\u001b[0m\n\u001b[1;32m----> 3\u001b[1;33m \u001b[1;32massert\u001b[0m \u001b[1;32mFalse\u001b[0m\u001b[1;33m\u001b[0m\u001b[0m\n\u001b[0m",
      "\u001b[1;31mAssertionError\u001b[0m: "
     ]
    }
   ],
   "source": [
    "# when running all cells: the bucket stops here\n",
    "\n",
    "assert False"
   ]
  },
  {
   "cell_type": "code",
   "execution_count": null,
   "metadata": {
    "collapsed": true
   },
   "outputs": [],
   "source": []
  },
  {
   "cell_type": "code",
   "execution_count": null,
   "metadata": {
    "collapsed": true
   },
   "outputs": [],
   "source": []
  },
  {
   "cell_type": "markdown",
   "metadata": {
    "collapsed": true
   },
   "source": [
    "# python client for enigma.io API - for now it just provides \"export\" support"
   ]
  },
  {
   "cell_type": "code",
   "execution_count": null,
   "metadata": {
    "collapsed": false
   },
   "outputs": [],
   "source": [
    "#!/usr/bin/env python\n",
    "\n",
    "###########\n",
    "##\n",
    "##  Invoke like this:\n",
    "##     ENV_ENIGMA_APIKEY=xyz ./enigma_client.py us.states.ny.cities.nyc.property.assessment-valuation.avroll.2010\n",
    "##     \n",
    "##     (Note: The \"export\" request will keep on polling the file's URL location until\n",
    "##            it becomes available, or until the max number of poll retries is reached.\n",
    "##            Therefore, it's normal to see a sequence of polling msgs indicating that\n",
    "##            the file was still not available.)\n",
    "##     \n",
    "##########\n",
    "\n",
    "\n",
    "import os\n",
    "import sys\n",
    "import time\n",
    "import argparse\n",
    "import requests\n",
    "from requests import RequestException\n",
    "\n",
    "ARGPARSER = argparse.ArgumentParser()\n",
    "ARGPARSER.add_argument(\"datapath\")\n",
    "ARGPARSER.add_argument(\"-o\", \"--outfname\", dest=\"outfname\", required=False)\n",
    "\n",
    "\n",
    "class EnigmaClient:\n",
    "    ENIG_RETCODE_SUCCESS = 0\n",
    "    ENIG_RETCODE_TIMEOUT = 1\n",
    "    ENIG_RETCODE_ERROR   = 2\n",
    "\n",
    "    _QUERY_TEMPLATE = \"https://api.enigma.io/v2/{op}/{key}/{datapath}/{params}\"\n",
    "    _EXPORTAPI_MAX_SECS_TIMEOUT = 120\n",
    "    _EXPORTAPI_POLL_SECS_INTERVAL = 3\n",
    "    _EXPORTAPI_CHUNK_SIZE = 1024 * 64\n",
    "\n",
    "    def __init__(self, apikey):\n",
    "        self.apikey = apikey\n",
    "\n",
    "\n",
    "    # Tables are exported as Gzipped CSV files. \n",
    "    # \n",
    "    # Exports of large tables may take some time, so exports are processed\n",
    "    # asynchronously.\n",
    "    # \n",
    "    # When the export API is called, an export is queued and the API immediately\n",
    "    # returns a URL pointing to the future location of the exported file. Users\n",
    "    # should poll the URL until the file becomes available.\n",
    "    # \n",
    "    # Note: this is a synchronous call. Caller waits (up to max_secs_timeout)\n",
    "    #       until data is made available by Enigma backend, and then downloaded.\n",
    "    #       Caller should check err_code if the export fails.\n",
    "    # \n",
    "    # Returns one of: ENIG_RETCODE_SUCCESS, ENIG_RETCODE_TIMEOUT, ENIG_RETCODE_ERROR\n",
    "    # \n",
    "    def export(self, datapath, parameters=None,\n",
    "               max_secs_timeout=None, outfname=None):\n",
    "\n",
    "        query_str = self._QUERY_TEMPLATE.format(op=\"export\", key=self.apikey,\n",
    "                                                datapath=datapath, params=\"\")\n",
    "        # make a query, which sends back the URL that we'll have to poll\n",
    "        # until it eventually responds back with the gzipped csv file.\n",
    "        resp = requests.get(query_str)\n",
    "        resp_json = resp.json()\n",
    "        export_url = resp_json[\"export_url\"]\n",
    "\n",
    "        if not outfname:\n",
    "            # derive it from the URL\n",
    "            outfname = export_url[export_url.strip(\"/\").rfind(\"/\")+1:]\n",
    "            if \"?\" in outfname:\n",
    "                outfname = outfname[:outfname.rfind(\"?\")]\n",
    "\n",
    "        return self._download_file(export_url, outfname)\n",
    "        \n",
    "    def _download_file(self, export_url, outfname):\n",
    "        timeout_secs_remaining = self._EXPORTAPI_MAX_SECS_TIMEOUT\n",
    "        poll_time_interval = self._EXPORTAPI_POLL_SECS_INTERVAL\n",
    "\n",
    "        completed = False\n",
    "        print(\"About to attempt downloading export URL: {}\".format(export_url))\n",
    "        while (not completed) and (timeout_secs_remaining > 0):\n",
    "            print(\"\\n***Retries timeout remaining: {} secs\".format(timeout_secs_remaining))\n",
    "            try:\n",
    "                resp = requests.get(export_url, stream=True)\n",
    "                if resp.ok is True:\n",
    "                    print(\"\\nFile ready - writing to local storage.\")\n",
    "                    with open(outfname, 'wb') as fout:\n",
    "                        for chunk in resp.iter_content(\n",
    "                                chunk_size=self._EXPORTAPI_CHUNK_SIZE): \n",
    "                            if chunk: # filter out keep-alive new chunks\n",
    "                                fout.write(chunk)\n",
    "                                fout.flush()\n",
    "                    completed = True\n",
    "                else:\n",
    "                    print(\"File not ready yet - still polling.\"\n",
    "                          \"\\n  Response status_code: {} - Reason: {}\".format(\n",
    "                        resp.status_code, resp.reason))\n",
    "            except Exception as exc:\n",
    "                print(\"exc: {}\".format(exc))\n",
    "            finally:\n",
    "                if not completed:\n",
    "                    time.sleep(poll_time_interval)\n",
    "                    timeout_secs_remaining -= poll_time_interval\n",
    "\n",
    "        if completed is True:\n",
    "            return self.ENIG_RETCODE_SUCCESS\n",
    "        elif timeout_secs_remaining < 0:\n",
    "            return self.ENIG_RETCODE_TIMEOUT\n",
    "        else:\n",
    "            return self.ENIG_RETCODE_ERROR\n",
    "\n",
    "        \n",
    "def main(apikey, args):\n",
    "    client = EnigmaClient(apikey)\n",
    "    client.export(args.datapath, outfname=args.outfname)\n",
    "\n",
    "\n",
    "if __name__ == \"__main__\":\n",
    "    apikey = os.getenv(\"ENV_ENIGMA_APIKEY\")\n",
    "    if not apikey:\n",
    "        print('Please set your env var \"ENV_ENIGMA_APIKEY\"')\n",
    "        sys.exit(1)\n",
    "    \n",
    "    main(apikey, ARGPARSER.parse_args())\n"
   ]
  }
 ],
 "metadata": {
  "kernelspec": {
   "display_name": "Python 3",
   "language": "python",
   "name": "python3"
  },
  "language_info": {
   "codemirror_mode": {
    "name": "ipython",
    "version": 3
   },
   "file_extension": ".py",
   "mimetype": "text/x-python",
   "name": "python",
   "nbconvert_exporter": "python",
   "pygments_lexer": "ipython3",
   "version": "3.4.3"
  }
 },
 "nbformat": 4,
 "nbformat_minor": 0
}
